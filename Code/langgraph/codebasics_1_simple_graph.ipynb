{
 "cells": [
  {
   "cell_type": "code",
   "id": "initial_id",
   "metadata": {
    "collapsed": true,
    "ExecuteTime": {
     "end_time": "2025-06-20T15:25:09.823816Z",
     "start_time": "2025-06-20T15:25:09.799525Z"
    }
   },
   "source": [
    "from typing import TypedDict\n",
    "\n",
    "class PortfolioState(TypedDict):\n",
    "    amount_usd: float\n",
    "    total_usd: float\n",
    "    total_inr: float"
   ],
   "outputs": [],
   "execution_count": 1
  },
  {
   "metadata": {
    "ExecuteTime": {
     "end_time": "2025-06-20T15:28:00.175357Z",
     "start_time": "2025-06-20T15:28:00.145584Z"
    }
   },
   "cell_type": "code",
   "source": [
    "def calc_total(state: PortfolioState) -> PortfolioState:\n",
    "    state['total_usd'] = state['amount_usd'] * 1.08\n",
    "    return state\n",
    "\n",
    "def convert_to_inr(state: PortfolioState) -> PortfolioState:\n",
    "    state['total_inr'] = state['total_usd'] * 85\n",
    "    return state"
   ],
   "id": "fb6c068a9692d49",
   "outputs": [],
   "execution_count": 2
  },
  {
   "metadata": {
    "ExecuteTime": {
     "end_time": "2025-06-20T15:31:26.092778Z",
     "start_time": "2025-06-20T15:31:22.442966Z"
    }
   },
   "cell_type": "code",
   "source": [
    "from langgraph.graph import StateGraph, START, END\n",
    "\n",
    "builder = StateGraph(PortfolioState)\n",
    "\n",
    "builder.add_node(\"calc_total_node\", calc_total)\n",
    "builder.add_node(\"convert_to_inr_node\", convert_to_inr)\n",
    "\n",
    "builder.add_edge(START, \"calc_total_node\")\n",
    "builder.add_edge(\"calc_total_node\", \"convert_to_inr_node\")\n",
    "builder.add_edge(\"convert_to_inr_node\", END)\n",
    "\n",
    "graph = builder.compile()"
   ],
   "id": "fe6ef5ec34adff8e",
   "outputs": [],
   "execution_count": 3
  },
  {
   "metadata": {
    "ExecuteTime": {
     "end_time": "2025-06-20T15:33:17.863273Z",
     "start_time": "2025-06-20T15:33:17.775568Z"
    }
   },
   "cell_type": "code",
   "source": [
    "from IPython.display import Image, display\n",
    "\n",
    "display(Image(graph.get_graph().draw_mermaid_png()))"
   ],
   "id": "cd3f4e361799482a",
   "outputs": [
    {
     "data": {
      "image/png": "[encoded data removed]",
      "text/plain": [
       "<IPython.core.display.Image object>"
      ]
     },
     "metadata": {},
     "output_type": "display_data"
    }
   ],
   "execution_count": 6
  },
  {
   "metadata": {
    "ExecuteTime": {
     "end_time": "2025-06-20T15:33:39.454466Z",
     "start_time": "2025-06-20T15:33:39.395404Z"
    }
   },
   "cell_type": "code",
   "source": "graph.invoke({\"amount_usd\": 100000})",
   "id": "e4ea9083e897378b",
   "outputs": [
    {
     "data": {
      "text/plain": [
       "{'amount_usd': 100000, 'total_usd': 108000.0, 'total_inr': 9180000.0}"
      ]
     },
     "execution_count": 7,
     "metadata": {},
     "output_type": "execute_result"
    }
   ],
   "execution_count": 7
  }
 ],
 "metadata": {
  "kernelspec": {
   "display_name": "Python 3",
   "language": "python",
   "name": "python3"
  },
  "language_info": {
   "codemirror_mode": {
    "name": "ipython",
    "version": 2
   },
   "file_extension": ".py",
   "mimetype": "text/x-python",
   "name": "python",
   "nbconvert_exporter": "python",
   "pygments_lexer": "ipython2",
   "version": "2.7.6"
  }
 },
 "nbformat": 4,
 "nbformat_minor": 5
}
