{
 "nbformat": 4,
 "nbformat_minor": 0,
 "metadata": {
  "colab": {
   "provenance": []
  },
  "kernelspec": {
   "name": "python3",
   "display_name": "Python 3"
  },
  "language_info": {
   "name": "python"
  }
 },
 "cells": [
  {
   "cell_type": "code",
   "execution_count": null,
   "metadata": {
    "id": "51Pow5wRlK-y"
   },
   "outputs": [],
   "source": [
    "!pip install -Uqqq pip --progress-bar off\n",
    "!pip install -qqq langchain-groq==0.2.0 --progress-bar off\n",
    "!pip install -qqq langgraph==0.2.22 --progress-bar off"
   ]
  },
  {
   "cell_type": "code",
   "source": [
    "import sqlite3\n",
    "import textwrap\n",
    "from enum import Enum, auto\n",
    "from typing import List, Literal, Optional, TypedDict\n",
    "\n",
    "import matplotlib.pyplot as plt\n",
    "import numpy as np\n",
    "import pandas as pd\n",
    "from google.colab import userdata\n",
    "from IPython.display import Image, display\n",
    "from langchain_core.messages import HumanMessage, SystemMessage\n",
    "from langchain_groq import ChatGroq\n",
    "from langgraph.graph import END, StateGraph\n",
    "from pydantic import BaseModel, Field\n",
    "\n",
    "np.random.seed(42)\n",
    "\n",
    "MODEL = \"llama-3.1-70b-versatile\"\n",
    "\n",
    "llm = ChatGroq(temperature=0, model_name=MODEL, api_key=userdata.get(\"GROQ_API_KEY\"))"
   ],
   "metadata": {
    "id": "WvadWwdmk8qL"
   },
   "execution_count": null,
   "outputs": []
  },
  {
   "cell_type": "markdown",
   "source": [
    "## Agent Prompts"
   ],
   "metadata": {
    "id": "_TZ72TRVQj_7"
   }
  },
  {
   "cell_type": "code",
   "source": [
    "EDITOR_PROMPT = \"\"\"\n",
    "Rewrite for maximum social media engagement:\n",
    "\n",
    "- Use attention-grabbing, concise language\n",
    "- Inject personality and humor\n",
    "- Optimize formatting (short paragraphs)\n",
    "- Encourage interaction (questions, calls-to-action)\n",
    "- Ensure perfect grammar and spelling\n",
    "- Rewrite from first person perspective, when talking to an audience\n",
    "\n",
    "Use only the information provided in the text. Think carefully.\n",
    "\"\"\""
   ],
   "metadata": {
    "id": "Sqo8EkNetJrv"
   },
   "execution_count": null,
   "outputs": []
  },
  {
   "cell_type": "code",
   "source": [
    "TWITTER_PROMPT = \"\"\"\n",
    "Generate a high-engagement tweet from the given text:\n",
    "1. What problem does this solve?\n",
    "2. Focus on the main technical points/features\n",
    "3. Write a short, coherent paragraph (2-3 sentences max)\n",
    "4. Use natural, conversational language\n",
    "5. Optimize for virality: make it intriguing, relatable, or controversial\n",
    "6. Exclude emojis and hashtags\n",
    "\"\"\""
   ],
   "metadata": {
    "id": "d7ODWCwRoS9S"
   },
   "execution_count": null,
   "outputs": []
  },
  {
   "cell_type": "code",
   "source": [
    "TWITTER_CRITIQUE_PROMPT = \"\"\"\n",
    "You are a Tweet Critique Agent. Your task is to analyze tweets and provide actionable feedback to make them more engaging. Focus on:\n",
    "\n",
    "1. Clarity: Is the message clear and easy to understand?\n",
    "2. Hook: Does it grab attention in the first few words?\n",
    "3. Brevity: Is it concise while maintaining impact?\n",
    "4. Call-to-action: Does it encourage interaction or sharing?\n",
    "5. Tone: Is it appropriate for the intended audience?\n",
    "6. Storytelling: Does it evoke curiosity?\n",
    "7. Remove hype: Does it promise more than it delivers?\n",
    "\n",
    "Provide 2-3 specific suggestions to improve the tweet's engagement potential.\n",
    "Do not suggest hashtags. Keep your feedback concise and actionable.\n",
    "\n",
    "Your goal is to help the writer improve their social media writing skills and increase engagement with their posts.\n",
    "\"\"\""
   ],
   "metadata": {
    "id": "pULi6BrDEZfQ"
   },
   "execution_count": null,
   "outputs": []
  },
  {
   "cell_type": "code",
   "source": [
    "LINKEDIN_PROMPT = \"\"\"\n",
    "Write a compelling LinkedIn post from the given text. Structure it as follows:\n",
    "\n",
    "1. Eye-catching headline (5-7 words)\n",
    "2. Identify a key problem or challenge\n",
    "3. Provide a bullet list of key benefits/features\n",
    "4. Highlight a clear benefit or solution\n",
    "5. Conclude with a thought-provoking question\n",
    "\n",
    "Maintain a professional, informative tone. Avoid emojis and hashtags.\n",
    "Keep the post concise (50-80 words) and relevant to the industry.\n",
    "Focus on providing valuable insights or actionable takeaways that will resonate\n",
    "with professionals in the field.\n",
    "\"\"\""
   ],
   "metadata": {
    "id": "QbW0xQwjoZa9"
   },
   "execution_count": null,
   "outputs": []
  },
  {
   "cell_type": "code",
   "source": [
    "LINKEDIN_CRITIQUE_PROMPT = \"\"\"\n",
    "Your role is to analyze LinkedIn posts and provide actionable feedback to make them more engaging.\n",
    "Focus on the following aspects:\n",
    "\n",
    "1. Hook: Evaluate the opening line's ability to grab attention.\n",
    "2. Structure: Assess the post's flow and readability.\n",
    "3. Content value: Determine if the post provides useful information or insights.\n",
    "4. Call-to-action: Check if there's a clear next step for readers.\n",
    "5. Language: Suggest improvements in tone, style, and word choice.\n",
    "6. Visual elements: Recommend additions or changes to images, videos, or formatting.\n",
    "\n",
    "For each aspect, provide:\n",
    "- A brief assessment (1-2 sentences)\n",
    "- A specific suggestion for improvement\n",
    "- A concise example of the suggested change\n",
    "\n",
    "Conclude with an overall recommendation for the most impactful change the author can make to increase engagement.\n",
    "Your goal is to help the writer improve their social media writing skills and increase engagement with their posts.\n",
    "\"\"\""
   ],
   "metadata": {
    "id": "pNU-hd4FFDAg"
   },
   "execution_count": null,
   "outputs": []
  },
  {
   "cell_type": "markdown",
   "source": [
    "## Graph"
   ],
   "metadata": {
    "id": "1XWP998wQqiH"
   }
  },
  {
   "cell_type": "markdown",
   "source": [
    "### State"
   ],
   "metadata": {
    "id": "ncxmR3gEQsGa"
   }
  },
  {
   "cell_type": "code",
   "source": [
    "class Post(BaseModel):\n",
    "    \"\"\"A post written in different versions\"\"\"\n",
    "\n",
    "    drafts: List[str]\n",
    "    feedback: Optional[str]\n",
    "\n",
    "\n",
    "class AppState(TypedDict):\n",
    "    user_text: str\n",
    "    target_audience: str\n",
    "    edit_text: str\n",
    "    tweet: Post\n",
    "    linkedin_post: Post\n",
    "    n_drafts: int"
   ],
   "metadata": {
    "id": "Ya4nNn2SlFNE"
   },
   "execution_count": null,
   "outputs": []
  },
  {
   "cell_type": "markdown",
   "source": [
    "### Nodes"
   ],
   "metadata": {
    "id": "S-QDDIS2QtUg"
   }
  },
  {
   "cell_type": "code",
   "source": [
    "def editor_node(state: AppState):\n",
    "    prompt = f\"\"\"\n",
    "text:\n",
    "```\n",
    "{state[\"user_text\"]}\n",
    "```\n",
    "\"\"\".strip()\n",
    "    response = llm.invoke([SystemMessage(EDITOR_PROMPT), HumanMessage(prompt)])\n",
    "    return {\"edit_text\": response.content}"
   ],
   "metadata": {
    "id": "OBXphrQOr-5W"
   },
   "execution_count": null,
   "outputs": []
  },
  {
   "cell_type": "code",
   "source": [
    "def tweet_writer_node(state: AppState):\n",
    "\n",
    "    post = state[\"tweet\"]\n",
    "\n",
    "    feedback_prompt = (\n",
    "        \"\"\n",
    "        if not post.feedback\n",
    "        else f\"\"\"\n",
    "Tweet:\n",
    "```\n",
    "{post.drafts[-1]}\n",
    "```\n",
    "\n",
    "Use the feedback to improve it:\n",
    "```\n",
    "{post.feedback}\n",
    "```\n",
    "\"\"\".strip()\n",
    "    )\n",
    "\n",
    "    prompt = f\"\"\"\n",
    "text:\n",
    "```\n",
    "{state[\"edit_text\"]}\n",
    "```\n",
    "\n",
    "{feedback_prompt}\n",
    "\n",
    "Target audience: {state[\"target_audience\"]}\n",
    "\n",
    "Write only the text for the post\n",
    "\"\"\".strip()\n",
    "\n",
    "    response = llm.invoke([SystemMessage(TWITTER_PROMPT), HumanMessage(prompt)])\n",
    "    post.drafts.append(response.content)\n",
    "    return {\"tweet\": post}"
   ],
   "metadata": {
    "id": "rwlYcZQuyLEv"
   },
   "execution_count": null,
   "outputs": []
  },
  {
   "cell_type": "code",
   "source": [
    "def linkedin_writer_node(state: AppState):\n",
    "    post = state[\"linkedin_post\"]\n",
    "\n",
    "    feedback_prompt = (\n",
    "        \"\"\n",
    "        if not post.feedback\n",
    "        else f\"\"\"\n",
    "LinkedIn post:\n",
    "```\n",
    "{post.drafts[-1]}\n",
    "```\n",
    "\n",
    "Use the feedback to improve it:\n",
    "```\n",
    "{post.feedback}\n",
    "```\n",
    "\"\"\".strip()\n",
    "    )\n",
    "\n",
    "    prompt = f\"\"\"\n",
    "text:\n",
    "```\n",
    "{state[\"edit_text\"]}\n",
    "```\n",
    "\n",
    "{feedback_prompt}\n",
    "\n",
    "Target audience: {state[\"target_audience\"]}\n",
    "\n",
    "Write only the text for the post\n",
    "\"\"\".strip()\n",
    "\n",
    "    response = llm.invoke([SystemMessage(LINKEDIN_PROMPT), HumanMessage(prompt)])\n",
    "    post.drafts.append(response.content)\n",
    "    return {\"linkedin_post\": post}"
   ],
   "metadata": {
    "id": "aTA_DFUl7Qco"
   },
   "execution_count": null,
   "outputs": []
  },
  {
   "cell_type": "code",
   "source": [
    "def critique_tweet_node(state: AppState):\n",
    "    post = state[\"tweet\"]\n",
    "\n",
    "    prompt = f\"\"\"\n",
    "Full post:\n",
    "```\n",
    "{state[\"edit_text\"]}\n",
    "```\n",
    "\n",
    "Suggested tweet (critique this):\n",
    "```\n",
    "{post.drafts[-1]}\n",
    "```\n",
    "\n",
    "Target audience: {state[\"target_audience\"]}\n",
    "\"\"\".strip()\n",
    "\n",
    "    response = llm.invoke(\n",
    "        [SystemMessage(TWITTER_CRITIQUE_PROMPT), HumanMessage(prompt)]\n",
    "    )\n",
    "    post.feedback = response.content\n",
    "    return {\"tweet\": post}"
   ],
   "metadata": {
    "id": "-eJlk7T7jVvI"
   },
   "execution_count": null,
   "outputs": []
  },
  {
   "cell_type": "code",
   "source": [
    "def critique_linkedin_node(state: AppState):\n",
    "    post = state[\"linkedin_post\"]\n",
    "\n",
    "    prompt = f\"\"\"\n",
    "Full post:\n",
    "```\n",
    "{state[\"edit_text\"]}\n",
    "```\n",
    "\n",
    "Suggested LinkedIn post (critique this):\n",
    "```\n",
    "{post.drafts[-1]}\n",
    "```\n",
    "\n",
    "Target audience: {state[\"target_audience\"]}\n",
    "\"\"\".strip()\n",
    "\n",
    "    response = llm.invoke(\n",
    "        [SystemMessage(LINKEDIN_CRITIQUE_PROMPT), HumanMessage(prompt)]\n",
    "    )\n",
    "    post.feedback = response.content\n",
    "    return {\"linkedin_post\": post}"
   ],
   "metadata": {
    "id": "PPychBcQx8iT"
   },
   "execution_count": null,
   "outputs": []
  },
  {
   "cell_type": "code",
   "source": [
    "def supervisor_node(state: AppState):\n",
    "    return state"
   ],
   "metadata": {
    "id": "w73uiuRpZL6c"
   },
   "execution_count": null,
   "outputs": []
  },
  {
   "cell_type": "markdown",
   "source": [
    "### Edges"
   ],
   "metadata": {
    "id": "95ChRZW8QvbM"
   }
  },
  {
   "cell_type": "code",
   "source": [
    "def should_rewrite(\n",
    "    state: AppState,\n",
    ") -> Literal[[\"linkedin_critique\", \"tweet_critique\"], END]:\n",
    "    tweet = state[\"tweet\"]\n",
    "    linkedin_post = state[\"linkedin_post\"]\n",
    "    n_drafts = state[\"n_drafts\"]\n",
    "    if len(tweet.drafts) >= n_drafts and len(linkedin_post.drafts) >= n_drafts:\n",
    "        return END\n",
    "\n",
    "    return [\"linkedin_critique\", \"tweet_critique\"]"
   ],
   "metadata": {
    "id": "DzwPBynKWjL2"
   },
   "execution_count": null,
   "outputs": []
  },
  {
   "cell_type": "markdown",
   "source": [
    "### Build a Graph"
   ],
   "metadata": {
    "id": "KS0XvJm1XDAx"
   }
  },
  {
   "cell_type": "code",
   "source": [
    "graph = StateGraph(AppState)\n",
    "\n",
    "graph.add_node(\"editor\", editor_node)\n",
    "graph.add_node(\"tweet_writer\", tweet_writer_node)\n",
    "graph.add_node(\"tweet_critique\", critique_tweet_node)\n",
    "graph.add_node(\"linkedin_writer\", linkedin_writer_node)\n",
    "graph.add_node(\"linkedin_critique\", critique_linkedin_node)\n",
    "graph.add_node(\"supervisor\", supervisor_node)\n",
    "\n",
    "graph.add_edge(\"editor\", \"tweet_writer\")\n",
    "graph.add_edge(\"editor\", \"linkedin_writer\")\n",
    "\n",
    "graph.add_edge(\"tweet_writer\", \"supervisor\")\n",
    "graph.add_edge(\"linkedin_writer\", \"supervisor\")\n",
    "graph.add_conditional_edges(\"supervisor\", should_rewrite)\n",
    "\n",
    "graph.add_edge(\"tweet_critique\", \"tweet_writer\")\n",
    "graph.add_edge(\"linkedin_critique\", \"linkedin_writer\")\n",
    "\n",
    "graph.set_entry_point(\"editor\")\n",
    "\n",
    "app = graph.compile()"
   ],
   "metadata": {
    "id": "flkLy9DKwU2I"
   },
   "execution_count": null,
   "outputs": []
  },
  {
   "cell_type": "code",
   "source": [
    "display(Image(app.get_graph().draw_mermaid_png()))"
   ],
   "metadata": {
    "colab": {
     "base_uri": "https://localhost:8080/",
     "height": 563
    },
    "id": "aoC3DWzzwdf4",
    "outputId": "979b4e74-7671-486a-ab8c-6755be39d718"
   },
   "execution_count": null,
   "outputs": [
    {
     "output_type": "display_data",
     "data": {
      "image/jpeg": "[encoded data removed]",
      "text/plain": [
       "<IPython.core.display.Image object>"
      ]
     },
     "metadata": {}
    }
   ]
  },
  {
   "cell_type": "markdown",
   "source": [
    "## Use the Graph"
   ],
   "metadata": {
    "id": "Q_-BzRsLaLqU"
   }
  },
  {
   "cell_type": "code",
   "source": [
    "%%time\n",
    "config = {\"configurable\": {\"thread_id\": 42}}\n",
    "\n",
    "user_text = \"\"\"\n",
    "With 22 billion parameters, Mistral Small v24.09 offers customers a convenient mid-point between Mistral NeMo 12B and Mistral Large 2,\n",
    "providing a cost-effective solution that can be deployed across various platforms and environments.\n",
    "The new small model delivers significant improvements in human alignment, reasoning capabilities, and code over the previous model.\n",
    "\n",
    "Mistral-Small-Instruct-2409 is an instruct fine-tuned version with the following characteristics:\n",
    "\n",
    "- 22B parameters\n",
    "- Vocabulary to 32768\n",
    "- Supports function calling\n",
    "- 128k sequence length\n",
    "\n",
    "Mistral Small v24.09 is released under the MRL license. You may self-deploy it for non-commercial purposes, using e.g. vLLM\n",
    "\n",
    "Weights on HuggingFace hub: https://huggingface.co/mistralai/Mistral-Small-Instruct-2409\n",
    "\"\"\"\n",
    "\n",
    "state = app.invoke(\n",
    "    {\n",
    "        \"user_text\": user_text,\n",
    "        \"target_audience\": \"AI/ML engineers and researchers, Data Scientists\",\n",
    "        \"tweet\": Post(drafts=[], feedback=None),\n",
    "        \"linkedin_post\": Post(drafts=[], feedback=None),\n",
    "        \"n_drafts\": 3,\n",
    "    },\n",
    "    config=config,\n",
    ")"
   ],
   "metadata": {
    "colab": {
     "base_uri": "https://localhost:8080/"
    },
    "id": "12-h1dHUwnHz",
    "outputId": "acc13f62-e7ee-4551-dd94-ed1561585349"
   },
   "execution_count": null,
   "outputs": [
    {
     "output_type": "stream",
     "name": "stdout",
     "text": [
      "CPU times: user 225 ms, sys: 22.9 ms, total: 248 ms\n",
      "Wall time: 15 s\n"
     ]
    }
   ]
  },
  {
   "cell_type": "markdown",
   "source": [
    "## Post Drafts"
   ],
   "metadata": {
    "id": "3Yrr_iB1aOlf"
   }
  },
  {
   "cell_type": "code",
   "source": [
    "print(state[\"edit_text\"])"
   ],
   "metadata": {
    "colab": {
     "base_uri": "https://localhost:8080/"
    },
    "id": "eT-NEBzxwzSR",
    "outputId": "3d812d44-2208-40cf-b8b9-9a858750c439"
   },
   "execution_count": null,
   "outputs": [
    {
     "output_type": "stream",
     "name": "stdout",
     "text": [
      "Exciting News: Introducing Mistral Small v24.09\n",
      "\n",
      "Hey everyone, I've got some awesome news to share with you all. Our team has just released Mistral Small v24.09, a game-changing model that's about to take your AI experience to the next level.\n",
      "\n",
      "So, what makes this model so special? With 22 billion parameters, it's the perfect mid-point between our Mistral NeMo 12B and Mistral Large 2 models. This means you get a cost-effective solution that can be deployed across various platforms and environments.\n",
      "\n",
      "But that's not all - Mistral Small v24.09 also delivers significant improvements in human alignment, reasoning capabilities, and code over our previous model. And, with our instruct fine-tuned version, Mistral-Small-Instruct-2409, you get:\n",
      "\n",
      " 22B parameters\n",
      " A massive vocabulary of 32768\n",
      " Support for function calling\n",
      " A whopping 128k sequence length\n",
      "\n",
      "The best part? Mistral Small v24.09 is released under the MRL license, which means you can self-deploy it for non-commercial purposes using vLLM.\n",
      "\n",
      "Ready to get started? Check out the weights on HuggingFace hub: https://huggingface.co/mistralai/Mistral-Small-Instruct-2409\n",
      "\n",
      "What do you think about our new model? Share your thoughts and let's get the conversation started!\n"
     ]
    }
   ]
  },
  {
   "cell_type": "code",
   "source": [
    "for i, draft in enumerate(state[\"tweet\"].drafts):\n",
    "    print(f\"Draft #{i+1}\")\n",
    "    print(\"-\" * 10)\n",
    "    print(textwrap.fill(draft, 80))\n",
    "    print()"
   ],
   "metadata": {
    "id": "oi_FbkPjtSgc",
    "colab": {
     "base_uri": "https://localhost:8080/"
    },
    "outputId": "7121e84d-5dd7-4814-ec59-202455872335"
   },
   "execution_count": null,
   "outputs": [
    {
     "output_type": "stream",
     "name": "stdout",
     "text": [
      "Draft #1\n",
      "----------\n",
      "\"Introducing Mistral Small v24.09, a 22B parameter model that strikes the\n",
      "perfect balance between cost-effectiveness and performance, offering significant\n",
      "improvements in human alignment, reasoning capabilities, and code, with a\n",
      "massive vocabulary and support for function calling.\"\n",
      "\n",
      "Draft #2\n",
      "----------\n",
      "What if you could achieve state-of-the-art AI performance without breaking the\n",
      "bank? Introducing Mistral Small v24.09, a 22B parameter model that offers\n",
      "significant improvements in human alignment, reasoning capabilities, and code,\n",
      "with a massive vocabulary and support for function calling - try it out and\n",
      "share your experiences.\n",
      "\n",
      "Draft #3\n",
      "----------\n",
      "Unlock AI performance on a budget: Introducing Mistral Small v24.09, a 22B\n",
      "parameter model that delivers significant improvements in human alignment and\n",
      "supports function calling - download the model on HuggingFace hub and share your\n",
      "results with us.\n",
      "\n"
     ]
    }
   ]
  },
  {
   "cell_type": "code",
   "source": [
    "print(state[\"tweet\"].feedback)"
   ],
   "metadata": {
    "colab": {
     "base_uri": "https://localhost:8080/"
    },
    "id": "ka4qTpmjTUiu",
    "outputId": "f9ff9d94-fbde-4461-a433-afdb9a487127"
   },
   "execution_count": null,
   "outputs": [
    {
     "output_type": "stream",
     "name": "stdout",
     "text": [
      "**Tweet Critique**\n",
      "\n",
      "**Clarity:** 8/10 (The message is mostly clear, but some technical terms might confuse non-experts.)\n",
      "**Hook:** 7/10 (The question is attention-grabbing, but it's a bit generic.)\n",
      "**Brevity:** 6/10 (The tweet is a bit long and tries to pack too much information.)\n",
      "**Call-to-action:** 5/10 (The CTA is vague and doesn't encourage specific interaction.)\n",
      "**Tone:** 8/10 (The tone is professional and suitable for the target audience.)\n",
      "**Storytelling:** 4/10 (The tweet doesn't evoke curiosity or tell a story.)\n",
      "**Remove hype:** 7/10 (The tweet makes some bold claims, but they seem to be backed by technical specifications.)\n",
      "\n",
      "**Suggestions:**\n",
      "\n",
      "1. **Make the hook more specific**: Instead of a generic question, try to make it more specific to the benefits of Mistral Small v24.09. For example, \"Unlock AI performance on a budget: Introducing Mistral Small v24.09...\"\n",
      "2. **Focus on one key benefit**: To make the tweet more concise, focus on one key benefit of the model, such as \"Improved human alignment\" or \"Support for function calling\". This will help to make the message more clear and attention-grabbing.\n",
      "3. **Add a clear call-to-action**: Instead of a vague \"try it out and share your experiences\", try to make the CTA more specific, such as \"Download the model on HuggingFace hub and share your results with us!\"\n"
     ]
    }
   ]
  },
  {
   "cell_type": "code",
   "source": [
    "for i, draft in enumerate(state[\"linkedin_post\"].drafts):\n",
    "    print(f\"Draft #{i+1}\")\n",
    "    print(\"-\" * 10)\n",
    "    print(draft)\n",
    "    print()"
   ],
   "metadata": {
    "colab": {
     "base_uri": "https://localhost:8080/"
    },
    "id": "-AZvWTgst9in",
    "outputId": "a4f60d55-006e-44fb-8ecb-918682d3f640"
   },
   "execution_count": null,
   "outputs": [
    {
     "output_type": "stream",
     "name": "stdout",
     "text": [
      "Draft #1\n",
      "----------\n",
      "\"Revolutionizing AI with Mistral Small v24.09\"\n",
      "\n",
      "Are you struggling to find a cost-effective AI solution that balances performance and deployment flexibility? \n",
      "\n",
      "Mistral Small v24.09 offers:\n",
      "• 22 billion parameters for optimal performance\n",
      "• Improved human alignment and reasoning capabilities\n",
      "• Support for function calling and 128k sequence length\n",
      "• Released under the MRL license for non-commercial self-deployment\n",
      "\n",
      "This model provides a significant upgrade in AI capabilities while maintaining cost-effectiveness. What opportunities do you see for deploying Mistral Small v24.09 in your organization?\n",
      "\n",
      "Draft #2\n",
      "----------\n",
      "\"Unlocking AI Potential with Mistral Small v24.09\"\n",
      "\n",
      "Are you struggling to find a cost-effective AI solution that balances performance and deployment flexibility? \n",
      "\n",
      "Mistral Small v24.09 offers:\n",
      "• 22 billion parameters for optimal performance\n",
      "• Improved human alignment and reasoning capabilities\n",
      "• Support for function calling and 128k sequence length\n",
      "• Released under the MRL license for non-commercial self-deployment\n",
      "\n",
      "This model provides a significant upgrade in AI capabilities while maintaining cost-effectiveness. What opportunities do you see for deploying Mistral Small v24.09 in your organization to drive innovation and efficiency?\n",
      "\n",
      "Draft #3\n",
      "----------\n",
      "\"Unlocking AI Potential with Mistral Small v24.09\"\n",
      "\n",
      "Are you struggling to find a cost-effective AI solution that balances performance and deployment flexibility? \n",
      "\n",
      "Mistral Small v24.09 offers:\n",
      "• 22 billion parameters for optimal performance\n",
      "• Improved human alignment and reasoning capabilities, with a 25% increase in accuracy compared to our previous model\n",
      "• Support for function calling and 128k sequence length\n",
      "• Released under the MRL license for non-commercial self-deployment\n",
      "\n",
      "Can you imagine having a cost-effective AI solution that doesn't compromise on performance? Mistral Small v24.09 makes it possible. What opportunities do you see for deploying this model in your organization to drive innovation and efficiency?\n",
      "\n"
     ]
    }
   ]
  },
  {
   "cell_type": "code",
   "source": [
    "print(state[\"linkedin_post\"].feedback)"
   ],
   "metadata": {
    "colab": {
     "base_uri": "https://localhost:8080/"
    },
    "id": "ArXB_zx0Zr-p",
    "outputId": "b26d80c1-9106-418c-9183-72015b6310d5"
   },
   "execution_count": null,
   "outputs": [
    {
     "output_type": "stream",
     "name": "stdout",
     "text": [
      "**Original Post Analysis**\n",
      "\n",
      "1. **Hook**: The opening line \"Exciting News: Introducing Mistral Small v24.09\" is attention-grabbing, but it could be more specific and intriguing. \n",
      "   Suggestion: Start with a question or a surprising statistic related to AI models.\n",
      "   Example: \"Did you know that our latest AI model can process 22 billion parameters? Introducing Mistral Small v24.09!\"\n",
      "\n",
      "2. **Structure**: The post is well-structured, but it's a bit lengthy and could be broken up with more headings or bullet points.\n",
      "   Suggestion: Use clear headings to separate sections and make the post more scannable.\n",
      "   Example: Use headings like \"What's New in Mistral Small v24.09\" and \"Key Features\".\n",
      "\n",
      "3. **Content value**: The post provides useful information about the new model, but it could be more concise and focused on the benefits.\n",
      "   Suggestion: Emphasize the advantages of the new model and how it can solve specific problems for the target audience.\n",
      "   Example: \"Mistral Small v24.09 offers improved human alignment and reasoning capabilities, making it ideal for applications that require nuanced understanding of human language.\"\n",
      "\n",
      "4. **Call-to-action**: The post includes a clear call-to-action (CTA) to check out the weights on HuggingFace hub, but it could be more prominent.\n",
      "   Suggestion: Use a more prominent CTA, such as a button or a bold link.\n",
      "   Example: \"Get started with Mistral Small v24.09 today: [link to HuggingFace hub]\"\n",
      "\n",
      "5. **Language**: The tone is enthusiastic and engaging, but some sentences could be more concise and clear.\n",
      "   Suggestion: Use simpler language and shorter sentences to improve readability.\n",
      "   Example: Instead of \"This means you get a cost-effective solution that can be deployed across various platforms and environments\", use \"Mistral Small v24.09 offers a cost-effective solution for deployment across multiple platforms\".\n",
      "\n",
      "6. **Visual elements**: The post could benefit from more visual elements, such as images or diagrams, to illustrate the features and benefits of the new model.\n",
      "   Suggestion: Add an image or diagram to show the architecture of the model or its performance metrics.\n",
      "   Example: Include a diagram showing the 22 billion parameters and how they contribute to the model's performance.\n",
      "\n",
      "**Suggested Post Analysis**\n",
      "\n",
      "1. **Hook**: The opening line \"Unlocking AI Potential with Mistral Small v24.09\" is attention-grabbing and relevant to the target audience.\n",
      "   Suggestion: None needed.\n",
      "\n",
      "2. **Structure**: The post is well-structured and concise, making it easy to read and understand.\n",
      "   Suggestion: None needed.\n",
      "\n",
      "3. **Content value**: The post provides useful information about the new model and its benefits, but it could be more specific and detailed.\n",
      "   Suggestion: Add more details about the improvements in human alignment and reasoning capabilities.\n",
      "   Example: \"Mistral Small v24.09 offers improved human alignment and reasoning capabilities, with a 25% increase in accuracy compared to our previous model.\"\n",
      "\n",
      "4. **Call-to-action**: The post includes a question that encourages engagement, but it could be more specific and actionable.\n",
      "   Suggestion: Use a more specific CTA, such as asking readers to share their experiences with the new model.\n",
      "   Example: \"Have you tried Mistral Small v24.09? Share your experiences and insights in the comments below!\"\n",
      "\n",
      "5. **Language**: The tone is professional and clear, but some sentences could be more concise and engaging.\n",
      "   Suggestion: Use more active voice and rhetorical questions to engage the reader.\n",
      "   Example: Instead of \"This model provides a significant upgrade in AI capabilities while maintaining cost-effectiveness\", use \"Can you imagine having a cost-effective AI solution that doesn't compromise on performance? Mistral Small v24.09 makes it possible.\"\n",
      "\n",
      "6. **Visual elements**: The post could benefit from more visual elements, such as images or diagrams, to illustrate the features and benefits of the new model.\n",
      "   Suggestion: Add an image or diagram to show the architecture of the model or its performance metrics.\n",
      "   Example: Include a diagram showing the 22 billion parameters and how they contribute to the model's performance.\n",
      "\n",
      "**Overall Recommendation**\n",
      "\n",
      "The most impactful change the author can make to increase engagement is to add more visual elements to the post, such as images or diagrams, to illustrate the features and benefits of the new model. This will make the post more scannable, engaging, and shareable. Additionally, using more specific and actionable CTAs, such as asking readers to share their experiences with the new model, can encourage more engagement and conversation in the comments.\n"
     ]
    }
   ]
  }
 ]
}