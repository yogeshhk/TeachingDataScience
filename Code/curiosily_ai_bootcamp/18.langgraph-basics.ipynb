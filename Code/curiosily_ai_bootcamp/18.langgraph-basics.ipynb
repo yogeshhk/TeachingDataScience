{
 "nbformat": 4,
 "nbformat_minor": 0,
 "metadata": {
  "colab": {
   "provenance": []
  },
  "kernelspec": {
   "name": "python3",
   "display_name": "Python 3"
  },
  "language_info": {
   "name": "python"
  }
 },
 "cells": [
  {
   "cell_type": "code",
   "execution_count": null,
   "metadata": {
    "id": "TT_sLhpoqXaf"
   },
   "outputs": [],
   "source": [
    "!pip install -Uqqq pip --progress-bar off\n",
    "!pip install -qqq langchain-groq==0.1.9 --progress-bar off\n",
    "!pip install -qqq langgraph==0.2.4 --progress-bar off"
   ]
  },
  {
   "cell_type": "code",
   "source": [
    "import os\n",
    "import sqlite3\n",
    "from dataclasses import dataclass\n",
    "from datetime import date\n",
    "from enum import Enum, auto\n",
    "from typing import Annotated, List, Literal, Optional, Set, TypedDict\n",
    "\n",
    "from google.colab import userdata\n",
    "from IPython.display import Image, display\n",
    "from langchain_core.messages import HumanMessage, SystemMessage\n",
    "from langchain_core.prompts import PromptTemplate\n",
    "from langchain_core.pydantic_v1 import BaseModel, Field\n",
    "from langchain_core.tools import tool\n",
    "from langchain_groq import ChatGroq\n",
    "from langgraph.checkpoint.memory import MemorySaver\n",
    "from langgraph.graph import END, StateGraph\n",
    "from langgraph.graph.message import add_messages\n",
    "from langgraph.prebuilt import ToolNode\n",
    "\n",
    "MODEL = \"llama3-groq-70b-8192-tool-use-preview\"\n",
    "\n",
    "llm = ChatGroq(temperature=0, model_name=MODEL, api_key=userdata.get(\"GROQ_API_KEY\"))"
   ],
   "metadata": {
    "id": "Aj8xGG_EwNOk"
   },
   "execution_count": null,
   "outputs": []
  },
  {
   "cell_type": "markdown",
   "source": [
    "## Habit Tracker"
   ],
   "metadata": {
    "id": "nqbCIAcypuoE"
   }
  },
  {
   "cell_type": "code",
   "source": [
    "DB_NAME = \"habit_tracker.db\"\n",
    "\n",
    "\n",
    "class DayOfWeek(Enum):\n",
    "    MONDAY = auto()\n",
    "    TUESDAY = auto()\n",
    "    WEDNESDAY = auto()\n",
    "    THURSDAY = auto()\n",
    "    FRIDAY = auto()\n",
    "    SATURDAY = auto()\n",
    "    SUNDAY = auto()\n",
    "\n",
    "\n",
    "@dataclass\n",
    "class Habit:\n",
    "    id: int\n",
    "    name: str\n",
    "    repeat_frequency: Set[DayOfWeek]\n",
    "    tags: List[str]\n",
    "\n",
    "\n",
    "@dataclass\n",
    "class DailyHabitEntry:\n",
    "    id: int\n",
    "    name: str\n",
    "    tags: List[str]\n",
    "    is_completed: bool\n",
    "\n",
    "\n",
    "def get_connection():\n",
    "    return sqlite3.connect(DB_NAME)\n",
    "\n",
    "\n",
    "def create_tables():\n",
    "    with get_connection() as conn:\n",
    "        cursor = conn.cursor()\n",
    "        cursor.execute(\n",
    "            \"\"\"\n",
    "            CREATE TABLE IF NOT EXISTS habits (\n",
    "                id INTEGER PRIMARY KEY AUTOINCREMENT,\n",
    "                name TEXT NOT NULL,\n",
    "                repeat_frequency TEXT NOT NULL,\n",
    "                tags TEXT NOT NULL\n",
    "            )\n",
    "        \"\"\"\n",
    "        )\n",
    "        cursor.execute(\n",
    "            \"\"\"\n",
    "            CREATE TABLE IF NOT EXISTS completions (\n",
    "                habit_id INTEGER,\n",
    "                completion_date TEXT,\n",
    "                PRIMARY KEY (habit_id, completion_date),\n",
    "                FOREIGN KEY (habit_id) REFERENCES habits (id)\n",
    "            )\n",
    "        \"\"\"\n",
    "        )\n",
    "        conn.commit()\n",
    "\n",
    "\n",
    "def list_habits() -> List[Habit]:\n",
    "    with get_connection() as conn:\n",
    "        cursor = conn.cursor()\n",
    "        cursor.execute(\"SELECT * FROM habits\")\n",
    "        return [\n",
    "            Habit(\n",
    "                id,\n",
    "                name,\n",
    "                {DayOfWeek[day] for day in freq.split(\",\")},\n",
    "                tags.split(\",\"),\n",
    "            )\n",
    "            for id, name, freq, tags in cursor.fetchall()\n",
    "        ]\n",
    "\n",
    "\n",
    "def habits_for_date(date: date) -> List[DailyHabitEntry]:\n",
    "    weekday = DayOfWeek(date.weekday() + 1).name\n",
    "    with get_connection() as conn:\n",
    "        cursor = conn.cursor()\n",
    "        cursor.execute(\n",
    "            \"\"\"\n",
    "            SELECT h.id, h.name, h.tags, c.completion_date IS NOT NULL as completed\n",
    "            FROM habits h\n",
    "            LEFT JOIN completions c ON h.id = c.habit_id AND c.completion_date = ?\n",
    "            WHERE instr(h.repeat_frequency, ?) > 0\n",
    "        \"\"\",\n",
    "            (date.isoformat(), weekday),\n",
    "        )\n",
    "        return [\n",
    "            DailyHabitEntry(id, name, tags.split(\",\"), bool(completed))\n",
    "            for id, name, tags, completed in cursor.fetchall()\n",
    "        ]\n",
    "\n",
    "\n",
    "def complete_habit(habit_id: int, completion_date: date):\n",
    "    with get_connection() as conn:\n",
    "        cursor = conn.cursor()\n",
    "        cursor.execute(\n",
    "            \"\"\"\n",
    "            INSERT OR REPLACE INTO completions (habit_id, completion_date)\n",
    "            VALUES (?, ?)\n",
    "        \"\"\",\n",
    "            (habit_id, completion_date.isoformat()),\n",
    "        )\n",
    "        conn.commit()\n",
    "\n",
    "\n",
    "def add_habit(name: str, repeat_frequency: Set[DayOfWeek], tags: List[str] = []) -> int:\n",
    "    with get_connection() as conn:\n",
    "        cursor = conn.cursor()\n",
    "        cursor.execute(\n",
    "            \"\"\"\n",
    "            INSERT INTO habits (name, repeat_frequency, tags)\n",
    "            VALUES (?, ?, ?)\n",
    "        \"\"\",\n",
    "            (name, \",\".join(day.name for day in repeat_frequency), \",\".join(tags)),\n",
    "        )\n",
    "        conn.commit()\n",
    "        return cursor.lastrowid\n",
    "\n",
    "\n",
    "def show_habits_for_date(date: date):\n",
    "    print(f\"Habits for {date}:\")\n",
    "    for entry in habits_for_date(date):\n",
    "        status = \"Completed\" if entry.is_completed else \"Not completed\"\n",
    "        print(f\"- {entry.name} (ID: {entry.id}): {status}\")\n",
    "        print(f\"  Tags: {', '.join(entry.tags)}\")\n",
    "\n",
    "\n",
    "create_tables()"
   ],
   "metadata": {
    "id": "eqC9CyQo_-ls"
   },
   "execution_count": null,
   "outputs": []
  },
  {
   "cell_type": "code",
   "source": [
    "add_habit(\"Feed the llamas\", {DayOfWeek.SATURDAY, DayOfWeek.SUNDAY}, [\"diet\"])\n",
    "add_habit(\n",
    "    \"Hit the gym\",\n",
    "    {DayOfWeek.MONDAY, DayOfWeek.WEDNESDAY, DayOfWeek.FRIDAY},\n",
    "    [\"exercise\", \"fitness\"],\n",
    ")"
   ],
   "metadata": {
    "colab": {
     "base_uri": "https://localhost:8080/"
    },
    "id": "Sgvs5qBlPbuX",
    "outputId": "fdbbbaee-def8-4a59-b080-4760eb724cb4"
   },
   "execution_count": null,
   "outputs": [
    {
     "output_type": "execute_result",
     "data": {
      "text/plain": [
       "2"
      ]
     },
     "metadata": {},
     "execution_count": 4
    }
   ]
  },
  {
   "cell_type": "code",
   "source": [
    "list_habits()"
   ],
   "metadata": {
    "colab": {
     "base_uri": "https://localhost:8080/"
    },
    "id": "6hqpho6ua2ae",
    "outputId": "ef92ef67-a95a-4886-b7f8-6912da8b4786"
   },
   "execution_count": null,
   "outputs": [
    {
     "output_type": "execute_result",
     "data": {
      "text/plain": [
       "[Habit(id=1, name='Feed the llamas', repeat_frequency={<DayOfWeek.SATURDAY: 6>, <DayOfWeek.SUNDAY: 7>}, tags=['diet']),\n",
       " Habit(id=2, name='Hit the gym', repeat_frequency={<DayOfWeek.MONDAY: 1>, <DayOfWeek.FRIDAY: 5>, <DayOfWeek.WEDNESDAY: 3>}, tags=['exercise', 'fitness'])]"
      ]
     },
     "metadata": {},
     "execution_count": 5
    }
   ]
  },
  {
   "cell_type": "markdown",
   "source": [
    "## Tools"
   ],
   "metadata": {
    "id": "HlFTV9iUpsYa"
   }
  },
  {
   "cell_type": "code",
   "source": [
    "class CompleteHabitParams(BaseModel):\n",
    "    habit_id: int = Field(description=\"Id (number) of the habit e.g. 2\")\n",
    "    day: int = Field(description=\"Day of the month (1-31) e.g. 18\")\n",
    "    month: int = Field(description=\"Month of the year (1-12) e.g. 3\")\n",
    "    year: int = Field(description=\"Year for which to complete the habit e.g. 2024\")\n",
    "\n",
    "\n",
    "@tool(args_schema=CompleteHabitParams)\n",
    "def complete_habit_tool(habit_id: int, day: int, month: int, year: int):\n",
    "    \"\"\"Completes a habit for a specific date\"\"\"\n",
    "    completion_date = date(year, month, day)\n",
    "    complete_habit(habit_id, completion_date)\n",
    "\n",
    "\n",
    "class HabitsForDateParams(BaseModel):\n",
    "    day: int = Field(description=\"Day of the month (1-31) e.g. 18\")\n",
    "    month: int = Field(description=\"Month of the year (1-12) e.g. 3\")\n",
    "    year: int = Field(description=\"Year for which to complete the habit e.g. 2024\")\n",
    "\n",
    "\n",
    "@tool(args_schema=HabitsForDateParams)\n",
    "def habits_for_date_tool(day: int, month: int, year: int):\n",
    "    \"\"\"Returns a list of habits for a given date\"\"\"\n",
    "    return habits_for_date(date(year, month, day))\n",
    "\n",
    "\n",
    "class AddHabitParams(BaseModel):\n",
    "    name: str = Field(description=\"Name of the habit\")\n",
    "    repeat_frequency: Set[DayOfWeek] = Field(\n",
    "        description=\"Which days of the week the habit should repeat\"\n",
    "    )\n",
    "    tags: Optional[List[str]] = Field(\n",
    "        description=\"Optional list of tags for this habit\"\n",
    "    )\n",
    "\n",
    "\n",
    "@tool(args_schema=AddHabitParams)\n",
    "def add_habit_tool(\n",
    "    name: str, repeat_frequency: Set[DayOfWeek], tags: List[str] = []\n",
    ") -> int:\n",
    "    \"\"\"Adds a new habit with specific repeat frequency. Returns the ID of the habit.\"\"\"\n",
    "    return add_habit(name, repeat_frequency, tags)"
   ],
   "metadata": {
    "id": "UBPrIIx_dnJ8"
   },
   "execution_count": null,
   "outputs": []
  },
  {
   "cell_type": "code",
   "source": [
    "tools = [complete_habit_tool, habits_for_date_tool, add_habit_tool]\n",
    "llm = llm.bind_tools(tools)"
   ],
   "metadata": {
    "id": "CbWPSzdmLUpG"
   },
   "execution_count": null,
   "outputs": []
  },
  {
   "cell_type": "markdown",
   "source": [
    "## Build the Graph"
   ],
   "metadata": {
    "id": "0IM_QrD7rRDM"
   }
  },
  {
   "cell_type": "markdown",
   "source": [
    "## State"
   ],
   "metadata": {
    "id": "6BBgQ5cArS5i"
   }
  },
  {
   "cell_type": "code",
   "source": [
    "class AppState(TypedDict):\n",
    "    messages: Annotated[list, add_messages]\n",
    "    habits: List[Habit]"
   ],
   "metadata": {
    "id": "jdv1LiyDqFJ-"
   },
   "execution_count": null,
   "outputs": []
  },
  {
   "cell_type": "markdown",
   "source": [
    "### Nodes"
   ],
   "metadata": {
    "id": "KBqUf7WrrUXW"
   }
  },
  {
   "cell_type": "code",
   "source": [
    "SYSTEM_TEMPLATE = PromptTemplate.from_template(\n",
    "    \"\"\"Current habits\n",
    "{habits}\n",
    "\"\"\"\n",
    ")\n",
    "\n",
    "\n",
    "def update_habits(state: AppState):\n",
    "    return {\"habits\": list_habits()}\n",
    "\n",
    "\n",
    "def call_model(state: AppState):\n",
    "    messages = state[\"messages\"]\n",
    "    first_message = messages[0]\n",
    "    system_message = SystemMessage(SYSTEM_TEMPLATE.format(habits=state[\"habits\"]))\n",
    "    if first_message.type == \"system\":\n",
    "        messages[0] = system_message\n",
    "    else:\n",
    "        messages.insert(0, system_message)\n",
    "    response = llm.invoke(messages)\n",
    "    return {\"messages\": [response]}\n",
    "\n",
    "\n",
    "tool_node = ToolNode(tools)"
   ],
   "metadata": {
    "id": "gargdh3SdrEf"
   },
   "execution_count": null,
   "outputs": []
  },
  {
   "cell_type": "markdown",
   "source": [
    "## Edges"
   ],
   "metadata": {
    "id": "OK5OZ69DJfxz"
   }
  },
  {
   "cell_type": "code",
   "source": [
    "def should_continue(state: AppState) -> Literal[\"tools\", END]:\n",
    "    messages = state[\"messages\"]\n",
    "    last_message = messages[-1]\n",
    "    if last_message.tool_calls:\n",
    "        return \"tools\"\n",
    "    return END"
   ],
   "metadata": {
    "id": "nA2IBAs1Jg2v"
   },
   "execution_count": null,
   "outputs": []
  },
  {
   "cell_type": "markdown",
   "source": [
    "### Graph"
   ],
   "metadata": {
    "id": "-eeD2W1DtHE6"
   }
  },
  {
   "cell_type": "code",
   "source": [
    "graph = StateGraph(AppState)\n",
    "\n",
    "# nodes of the graph\n",
    "graph.add_node(\"update_habits\", update_habits)\n",
    "graph.add_node(\"agent\", call_model)\n",
    "graph.add_node(\"tools\", tool_node)\n",
    "\n",
    "# edges between nodes\n",
    "graph.add_edge(\"update_habits\", \"agent\")\n",
    "graph.add_conditional_edges(\"agent\", should_continue)\n",
    "graph.add_edge(\"tools\", \"update_habits\")\n",
    "\n",
    "# start node of the graph\n",
    "graph.set_entry_point(\"update_habits\")"
   ],
   "metadata": {
    "id": "ENYse6ymdueN"
   },
   "execution_count": null,
   "outputs": []
  },
  {
   "cell_type": "code",
   "source": [
    "graph.nodes"
   ],
   "metadata": {
    "colab": {
     "base_uri": "https://localhost:8080/"
    },
    "id": "CfrH4h2m3uJE",
    "outputId": "e514049b-7ef9-4aa3-e6ee-539ee758d74e"
   },
   "execution_count": null,
   "outputs": [
    {
     "output_type": "execute_result",
     "data": {
      "text/plain": [
       "{'update_habits': StateNodeSpec(runnable=update_habits(recurse=True), metadata=None, input=<class '__main__.AppState'>, retry_policy=None),\n",
       " 'agent': StateNodeSpec(runnable=agent(recurse=True), metadata=None, input=<class '__main__.AppState'>, retry_policy=None),\n",
       " 'tools': StateNodeSpec(runnable=tools(recurse=True, tools_by_name={'complete_habit_tool': StructuredTool(name='complete_habit_tool', description='Completes a habit for a specific date', args_schema=<class '__main__.CompleteHabitParams'>, func=<function complete_habit_tool at 0x7947ce8b24d0>), 'habits_for_date_tool': StructuredTool(name='habits_for_date_tool', description='Returns a list of habits for a given date', args_schema=<class '__main__.HabitsForDateParams'>, func=<function habits_for_date_tool at 0x7947ce8b2a70>), 'add_habit_tool': StructuredTool(name='add_habit_tool', description='Adds a new habit with specific repeat frequency. Returns the ID of the habit.', args_schema=<class '__main__.AddHabitParams'>, func=<function add_habit_tool at 0x7947ce8b2cb0>)}, handle_tool_errors=True), metadata=None, input=<class '__main__.AppState'>, retry_policy=None)}"
      ]
     },
     "metadata": {},
     "execution_count": 11
    }
   ]
  },
  {
   "cell_type": "code",
   "source": [
    "graph.edges"
   ],
   "metadata": {
    "colab": {
     "base_uri": "https://localhost:8080/"
    },
    "id": "iQGQMuwO4hU1",
    "outputId": "d809fd1f-4e97-4607-8962-fd71f801ae02"
   },
   "execution_count": null,
   "outputs": [
    {
     "output_type": "execute_result",
     "data": {
      "text/plain": [
       "{('__start__', 'update_habits'),\n",
       " ('tools', 'update_habits'),\n",
       " ('update_habits', 'agent')}"
      ]
     },
     "metadata": {},
     "execution_count": 12
    }
   ]
  },
  {
   "cell_type": "code",
   "source": [
    "graph.channels"
   ],
   "metadata": {
    "colab": {
     "base_uri": "https://localhost:8080/"
    },
    "id": "-xgnCykJ40J5",
    "outputId": "38ca2ebf-9621-49d4-a935-55c06d3a8af9"
   },
   "execution_count": null,
   "outputs": [
    {
     "output_type": "execute_result",
     "data": {
      "text/plain": [
       "{'messages': <langgraph.channels.binop.BinaryOperatorAggregate at 0x7947ce89fa60>,\n",
       " 'habits': <langgraph.channels.last_value.LastValue at 0x7947ce89f8b0>}"
      ]
     },
     "metadata": {},
     "execution_count": 13
    }
   ]
  },
  {
   "cell_type": "markdown",
   "source": [
    "### Compilation"
   ],
   "metadata": {
    "id": "TodYR7hdtNqd"
   }
  },
  {
   "cell_type": "code",
   "source": [
    "checkpointer = MemorySaver()\n",
    "app = graph.compile(checkpointer=checkpointer)"
   ],
   "metadata": {
    "id": "OAatzQOjd8hY"
   },
   "execution_count": null,
   "outputs": []
  },
  {
   "cell_type": "code",
   "source": [
    "display(Image(app.get_graph().draw_mermaid_png()))"
   ],
   "metadata": {
    "colab": {
     "base_uri": "https://localhost:8080/",
     "height": 320
    },
    "id": "UWOeqN7kPlgB",
    "outputId": "cda703aa-9902-4652-93df-d1862f9fd78e"
   },
   "execution_count": null,
   "outputs": [
    {
     "output_type": "display_data",
     "data": {
      "image/jpeg": "[encoded data removed]",
      "text/plain": [
       "<IPython.core.display.Image object>"
      ]
     },
     "metadata": {}
    }
   ]
  },
  {
   "cell_type": "markdown",
   "source": [
    "## Chat with the Graph"
   ],
   "metadata": {
    "id": "3occi3pstU0r"
   }
  },
  {
   "cell_type": "code",
   "source": [
    "config = {\"configurable\": {\"thread_id\": 42}}\n",
    "\n",
    "state = app.invoke(\n",
    "    {\"messages\": [HumanMessage(content=\"Complete the workout for August 14th 2024\")]},\n",
    "    config=config,\n",
    ")"
   ],
   "metadata": {
    "id": "WW9N4QBcIOGB"
   },
   "execution_count": null,
   "outputs": []
  },
  {
   "cell_type": "code",
   "source": [
    "state[\"habits\"]"
   ],
   "metadata": {
    "colab": {
     "base_uri": "https://localhost:8080/"
    },
    "id": "kBKSyHSQwVnW",
    "outputId": "82e90362-f1fc-4c02-f370-1c397a176775"
   },
   "execution_count": null,
   "outputs": [
    {
     "output_type": "execute_result",
     "data": {
      "text/plain": [
       "[Habit(id=1, name='Feed the llamas', repeat_frequency={<DayOfWeek.SATURDAY: 6>, <DayOfWeek.SUNDAY: 7>}, tags=['diet']),\n",
       " Habit(id=2, name='Hit the gym', repeat_frequency={<DayOfWeek.MONDAY: 1>, <DayOfWeek.FRIDAY: 5>, <DayOfWeek.WEDNESDAY: 3>}, tags=['exercise', 'fitness'])]"
      ]
     },
     "metadata": {},
     "execution_count": 17
    }
   ]
  },
  {
   "cell_type": "code",
   "source": [
    "for m in state[\"messages\"]:\n",
    "    m.pretty_print()"
   ],
   "metadata": {
    "colab": {
     "base_uri": "https://localhost:8080/"
    },
    "id": "RPcDpJmvwApE",
    "outputId": "bb9af1c7-30d4-4bb8-c3d5-db7daff1cc62"
   },
   "execution_count": null,
   "outputs": [
    {
     "output_type": "stream",
     "name": "stdout",
     "text": [
      "================================\u001b[1m System Message \u001b[0m================================\n",
      "\n",
      "Current habits\n",
      "[Habit(id=1, name='Feed the llamas', repeat_frequency={<DayOfWeek.SATURDAY: 6>, <DayOfWeek.SUNDAY: 7>}, tags=['diet']), Habit(id=2, name='Hit the gym', repeat_frequency={<DayOfWeek.MONDAY: 1>, <DayOfWeek.FRIDAY: 5>, <DayOfWeek.WEDNESDAY: 3>}, tags=['exercise', 'fitness'])]\n",
      "\n",
      "================================\u001b[1m Human Message \u001b[0m=================================\n",
      "\n",
      "Complete the workout for August 14th 2024\n",
      "==================================\u001b[1m Ai Message \u001b[0m==================================\n",
      "Tool Calls:\n",
      "  complete_habit_tool (call_kkbq)\n",
      " Call ID: call_kkbq\n",
      "  Args:\n",
      "    habit_id: 2\n",
      "    day: 14\n",
      "    month: 8\n",
      "    year: 2024\n",
      "=================================\u001b[1m Tool Message \u001b[0m=================================\n",
      "Name: complete_habit_tool\n",
      "\n",
      "null\n",
      "==================================\u001b[1m Ai Message \u001b[0m==================================\n",
      "\n",
      "The workout for August 14th, 2024 has been completed.\n"
     ]
    }
   ]
  },
  {
   "cell_type": "code",
   "source": [
    "show_habits_for_date(date(2024, 8, 14))"
   ],
   "metadata": {
    "colab": {
     "base_uri": "https://localhost:8080/"
    },
    "id": "ic8GVcYXwh0z",
    "outputId": "0838c455-1233-4cdc-d16a-578dec21828f"
   },
   "execution_count": null,
   "outputs": [
    {
     "output_type": "stream",
     "name": "stdout",
     "text": [
      "Habits for 2024-08-14:\n",
      "- Hit the gym (ID: 2): Completed\n",
      "  Tags: exercise, fitness\n"
     ]
    }
   ]
  },
  {
   "cell_type": "code",
   "source": [
    "print(state[\"messages\"][-1].content)"
   ],
   "metadata": {
    "colab": {
     "base_uri": "https://localhost:8080/"
    },
    "id": "M3QR9RyLeBKt",
    "outputId": "29c486f1-93a9-4d1d-c8c9-b6c76858b1ea"
   },
   "execution_count": null,
   "outputs": [
    {
     "output_type": "stream",
     "name": "stdout",
     "text": [
      "The workout for August 14th, 2024 has been completed.\n"
     ]
    }
   ]
  },
  {
   "cell_type": "code",
   "source": [
    "show_habits_for_date(date(2024, 8, 14))"
   ],
   "metadata": {
    "colab": {
     "base_uri": "https://localhost:8080/"
    },
    "id": "Pc0Mff0Op2xa",
    "outputId": "a3ad1820-7234-471e-c06c-ab74322dca6c"
   },
   "execution_count": null,
   "outputs": [
    {
     "output_type": "stream",
     "name": "stdout",
     "text": [
      "Habits for 2024-08-14:\n",
      "- Hit the gym (ID: 2): Completed\n",
      "  Tags: exercise, fitness\n"
     ]
    }
   ]
  },
  {
   "cell_type": "code",
   "source": [
    "state = app.invoke(\n",
    "    {\n",
    "        \"messages\": [\n",
    "            HumanMessage(\n",
    "                content=\"Add a new habit for Reading a book every weekday #learning\"\n",
    "            )\n",
    "        ]\n",
    "    },\n",
    "    config=config,\n",
    ")"
   ],
   "metadata": {
    "id": "tlVeXWrgIbhv"
   },
   "execution_count": null,
   "outputs": []
  },
  {
   "cell_type": "code",
   "source": [
    "for m in state[\"messages\"]:\n",
    "    m.pretty_print()"
   ],
   "metadata": {
    "colab": {
     "base_uri": "https://localhost:8080/"
    },
    "id": "zZyMkh4wwyg8",
    "outputId": "34dead37-4727-4622-f657-a4c3ae0c5405"
   },
   "execution_count": null,
   "outputs": [
    {
     "output_type": "stream",
     "name": "stdout",
     "text": [
      "================================\u001b[1m System Message \u001b[0m================================\n",
      "\n",
      "Current habits\n",
      "[Habit(id=1, name='Feed the llamas', repeat_frequency={<DayOfWeek.SATURDAY: 6>, <DayOfWeek.SUNDAY: 7>}, tags=['diet']), Habit(id=2, name='Hit the gym', repeat_frequency={<DayOfWeek.MONDAY: 1>, <DayOfWeek.FRIDAY: 5>, <DayOfWeek.WEDNESDAY: 3>}, tags=['exercise', 'fitness']), Habit(id=3, name='Reading a book', repeat_frequency={<DayOfWeek.WEDNESDAY: 3>, <DayOfWeek.FRIDAY: 5>, <DayOfWeek.THURSDAY: 4>, <DayOfWeek.MONDAY: 1>, <DayOfWeek.TUESDAY: 2>}, tags=['learning'])]\n",
      "\n",
      "================================\u001b[1m Human Message \u001b[0m=================================\n",
      "\n",
      "Complete the workout for August 14th 2024\n",
      "==================================\u001b[1m Ai Message \u001b[0m==================================\n",
      "Tool Calls:\n",
      "  complete_habit_tool (call_kkbq)\n",
      " Call ID: call_kkbq\n",
      "  Args:\n",
      "    habit_id: 2\n",
      "    day: 14\n",
      "    month: 8\n",
      "    year: 2024\n",
      "=================================\u001b[1m Tool Message \u001b[0m=================================\n",
      "Name: complete_habit_tool\n",
      "\n",
      "null\n",
      "==================================\u001b[1m Ai Message \u001b[0m==================================\n",
      "\n",
      "The workout for August 14th, 2024 has been completed.\n",
      "================================\u001b[1m Human Message \u001b[0m=================================\n",
      "\n",
      "Add a new habit for Reading a book every weekday #learning\n",
      "==================================\u001b[1m Ai Message \u001b[0m==================================\n",
      "Tool Calls:\n",
      "  add_habit_tool (call_q87j)\n",
      " Call ID: call_q87j\n",
      "  Args:\n",
      "    name: Reading a book\n",
      "    repeat_frequency: [1, 2, 3, 4, 5]\n",
      "    tags: ['learning']\n",
      "=================================\u001b[1m Tool Message \u001b[0m=================================\n",
      "Name: add_habit_tool\n",
      "\n",
      "3\n",
      "==================================\u001b[1m Ai Message \u001b[0m==================================\n",
      "\n",
      "The new habit for Reading a book every weekday has been added successfully.\n"
     ]
    }
   ]
  },
  {
   "cell_type": "code",
   "source": [
    "list_habits()"
   ],
   "metadata": {
    "colab": {
     "base_uri": "https://localhost:8080/"
    },
    "id": "Kfh7J2oXJ6KZ",
    "outputId": "eed7e3aa-01de-463c-edfb-1c1eb2a690f2"
   },
   "execution_count": null,
   "outputs": [
    {
     "output_type": "execute_result",
     "data": {
      "text/plain": [
       "[Habit(id=1, name='Feed the llamas', repeat_frequency={<DayOfWeek.SATURDAY: 6>, <DayOfWeek.SUNDAY: 7>}, tags=['diet']),\n",
       " Habit(id=2, name='Hit the gym', repeat_frequency={<DayOfWeek.MONDAY: 1>, <DayOfWeek.FRIDAY: 5>, <DayOfWeek.WEDNESDAY: 3>}, tags=['exercise', 'fitness']),\n",
       " Habit(id=3, name='Reading a book', repeat_frequency={<DayOfWeek.WEDNESDAY: 3>, <DayOfWeek.FRIDAY: 5>, <DayOfWeek.THURSDAY: 4>, <DayOfWeek.MONDAY: 1>, <DayOfWeek.TUESDAY: 2>}, tags=['learning'])]"
      ]
     },
     "metadata": {},
     "execution_count": 24
    }
   ]
  },
  {
   "cell_type": "code",
   "source": [
    "state = app.invoke(\n",
    "    {\n",
    "        \"messages\": [\n",
    "            HumanMessage(content=\"Show the scheduled habits for 14 August 2024\")\n",
    "        ]\n",
    "    },\n",
    "    config=config,\n",
    ")"
   ],
   "metadata": {
    "id": "sA4sBC6teg7-"
   },
   "execution_count": null,
   "outputs": []
  },
  {
   "cell_type": "code",
   "source": [
    "print(state[\"messages\"][-1].content)"
   ],
   "metadata": {
    "colab": {
     "base_uri": "https://localhost:8080/"
    },
    "id": "K0gMEMaxetF0",
    "outputId": "ac96d1d4-72e6-447a-ecfb-548b96c91ef5"
   },
   "execution_count": null,
   "outputs": [
    {
     "output_type": "stream",
     "name": "stdout",
     "text": [
      "The scheduled habits for August 14th, 2024 are:\n",
      "1. Hit the gym (Completed)\n",
      "2. Reading a book (Not Completed)\n"
     ]
    }
   ]
  },
  {
   "cell_type": "code",
   "source": [
    "show_habits_for_date(date(2024, 8, 14))"
   ],
   "metadata": {
    "colab": {
     "base_uri": "https://localhost:8080/"
    },
    "id": "qCvDUzY4tF2-",
    "outputId": "c23ca252-79bf-4765-d87a-8c5e0eb13dd6"
   },
   "execution_count": null,
   "outputs": [
    {
     "output_type": "stream",
     "name": "stdout",
     "text": [
      "Habits for 2024-08-14:\n",
      "- Hit the gym (ID: 2): Completed\n",
      "  Tags: exercise, fitness\n",
      "- Reading a book (ID: 3): Not completed\n",
      "  Tags: learning\n"
     ]
    }
   ]
  }
 ]
}