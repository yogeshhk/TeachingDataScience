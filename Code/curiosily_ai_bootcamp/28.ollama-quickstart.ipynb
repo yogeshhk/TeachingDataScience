{
 "cells": [
  {
   "cell_type": "markdown",
   "id": "08d17968",
   "metadata": {},
   "source": [
    "# Local AI with Ollama\n",
    "\n",
    "This notebook requires a running Ollama instance. Learn how to install it https://ollama.com/download.\n",
    "\n",
    "Read the complete tutorial: http://mlexpert.io/academy/v1/ai-systems-engineering/local-ai-quickstart\n"
   ]
  },
  {
   "cell_type": "code",
   "execution_count": null,
   "id": "20387741",
   "metadata": {},
   "outputs": [],
   "source": [
    "%pip install ollama"
   ]
  },
  {
   "cell_type": "code",
   "execution_count": 4,
   "id": "1f2e3871",
   "metadata": {},
   "outputs": [],
   "source": [
    "from ollama import ChatResponse, chat"
   ]
  },
  {
   "cell_type": "code",
   "execution_count": null,
   "id": "11901796",
   "metadata": {},
   "outputs": [],
   "source": [
    "response: ChatResponse = chat(\n",
    "    model=\"qwen3:4b\",\n",
    "    messages=[\n",
    "        {\n",
    "            \"role\": \"user\",\n",
    "            \"content\": \"Explain what a Large Language Model is in one sentence.\",\n",
    "        },\n",
    "    ],\n",
    "    think=False,\n",
    ")"
   ]
  },
  {
   "cell_type": "code",
   "execution_count": null,
   "id": "2a3c08e2",
   "metadata": {},
   "outputs": [
    {
     "name": "stdout",
     "output_type": "stream",
     "text": [
      "A Large Language Model is a type of artificial intelligence system that has been trained on vast amounts of text data to understand and generate human-like text.\n"
     ]
    }
   ],
   "source": [
    "print(response.message.content)"
   ]
  }
 ],
 "metadata": {
  "kernelspec": {
   "display_name": "mlexpert",
   "language": "python",
   "name": "python3"
  },
  "language_info": {
   "codemirror_mode": {
    "name": "ipython",
    "version": 3
   },
   "file_extension": ".py",
   "mimetype": "text/x-python",
   "name": "python",
   "nbconvert_exporter": "python",
   "pygments_lexer": "ipython3",
   "version": "3.12.4"
  }
 },
 "nbformat": 4,
 "nbformat_minor": 5
}
