{
 "cells": [
  {
   "cell_type": "code",
   "execution_count": null,
   "metadata": {},
   "outputs": [],
   "source": [
    "!pip install -Uqqq pip --progress-bar off\n",
    "!pip install -qqq ollama==0.5.1 --progress-bar off"
   ]
  },
  {
   "cell_type": "code",
   "execution_count": 3,
   "metadata": {},
   "outputs": [],
   "source": [
    "!gdown -qqq 1DhAkbU-a8k8wx5ckoJHzfOLNtKc0sU9_ -O data/"
   ]
  },
  {
   "cell_type": "code",
   "execution_count": null,
   "metadata": {
    "id": "Xq2wtKRZoGxA"
   },
   "outputs": [],
   "source": [
    "import textwrap\n",
    "from enum import Enum\n",
    "from pathlib import Path\n",
    "\n",
    "import ollama\n",
    "from ollama import GenerateResponse\n",
    "\n",
    "MODEL = \"deepseek-r1:8b\"\n",
    "TEMPERATURE = 0.6\n",
    "TOP_P = 0.95\n",
    "CONTEXT_WINDOW = 8192\n",
    "\n",
    "nvidia_earnings = Path(\"data/nvidia-april-25.md\").read_text()"
   ]
  },
  {
   "cell_type": "code",
   "execution_count": 2,
   "metadata": {},
   "outputs": [
    {
     "name": "stdout",
     "output_type": "stream",
     "text": [
      "NVIDIA Announces Financial Results for First Quarter Fiscal 2026\n",
      "\n",
      "- Revenue of $44.1 billion, up 12% from Q4 and up 69% from a year ago\n",
      "- Data Center revenue of $39.1 billion, up 10% from Q4 and up 73% from a year ago\n",
      "\n",
      "NVIDIA (NASDAQ: NVDA) today reported revenue for the first quarter ended April 27, 2025, of $44.1 billion, up 12% from the previous quarter and up 69% from a year ago.\n",
      "\n",
      "On April 9, 2025, NVIDIA was informed by the U.S. government that a license is required for exports of its H20 products into the China market. As a result of these new requirements, NVIDIA incurred a $4.5 billion charge in the first quarter of fiscal 2026 associated with H20 excess inventory and purchase obligations as the demand for H20 diminished. Sales of H20 products were $4.6 billion for the first quarter of fiscal 2026 prior to the new export licensing requirements. NVIDIA was unable to ship an additional $2.5 billion of H20 revenue in the first quarter.\n",
      "\n",
      "For the quarter, GAAP and non-GAAP gross mar\n"
     ]
    }
   ],
   "source": [
    "print(nvidia_earnings[:1000])"
   ]
  },
  {
   "cell_type": "markdown",
   "metadata": {},
   "source": [
    "## Ollama Setup\n"
   ]
  },
  {
   "cell_type": "code",
   "execution_count": 3,
   "metadata": {
    "id": "RSjNx8sTbSzc"
   },
   "outputs": [],
   "source": [
    "class ResponseFormat(Enum):\n",
    "    JSON = \"json_object\"\n",
    "    TEXT = \"text\"\n",
    "\n",
    "\n",
    "def call_model(\n",
    "    prompt: str,\n",
    "    allow_thinking: bool = True,\n",
    "    response_format: ResponseFormat = ResponseFormat.TEXT,\n",
    ") -> GenerateResponse:\n",
    "    return ollama.generate(\n",
    "        model=MODEL,\n",
    "        prompt=prompt,\n",
    "        keep_alive=\"1h\",\n",
    "        think=allow_thinking,\n",
    "        format=\"\" if response_format == ResponseFormat.TEXT else \"json\",\n",
    "        options={\n",
    "            \"temperature\": TEMPERATURE,\n",
    "            \"top_p\": TOP_P,\n",
    "            \"num_ctx\": CONTEXT_WINDOW,\n",
    "        },\n",
    "    )"
   ]
  },
  {
   "cell_type": "code",
   "execution_count": 4,
   "metadata": {},
   "outputs": [
    {
     "name": "stdout",
     "output_type": "stream",
     "text": [
      "CPU times: user 4.76 ms, sys: 14 ms, total: 18.7 ms\n",
      "Wall time: 17.6 s\n"
     ]
    }
   ],
   "source": [
    "%%time\n",
    "response = call_model(\"Hello\")"
   ]
  },
  {
   "cell_type": "code",
   "execution_count": 5,
   "metadata": {},
   "outputs": [],
   "source": [
    "def print_text(text: str):\n",
    "    text = [textwrap.fill(line, width=100) for line in text.split(\"\\n\")]\n",
    "    print(\"\\n\".join(text))"
   ]
  },
  {
   "cell_type": "code",
   "execution_count": 6,
   "metadata": {},
   "outputs": [
    {
     "name": "stdout",
     "output_type": "stream",
     "text": [
      "Okay, the user just said “Hello” with a simple lowercase. Hmm, seems like they're initiating a\n",
      "casual conversation or testing how I respond to basic greetings.\n",
      "\n",
      "First impression: this is probably an opening move - maybe they're unsure what to ask yet, or\n",
      "checking if I'm awake/online. The tone feels neutral but friendly since it's not formal “Greetings”\n",
      "or anything aggressive.\n",
      "\n",
      "Given the minimal input, my response should be warm and open-ended to encourage them to share more.\n",
      "No need for deep analysis here unless they follow up with complex questions later.\n",
      "\n",
      "I'll match their casual tone while keeping it helpful - using a smile emoji feels appropriate since\n",
      "text lacks vocal tones. The invitation (“What can I help you with?”) leaves the door wide open\n",
      "without being pushy.\n",
      "\n",
      "Potential scenarios:\n",
      "- They might be lonely and just wants someone to talk\n",
      "- Could be a developer testing API response\n",
      "- Might have accidentally triggered chatbot\n",
      "\n",
      "Since they didn't specify gender or name, keeping it neutral is best. The ball's in their court now\n",
      "- if they want small talk or real help, this reply accommodates both.\n",
      "\n"
     ]
    }
   ],
   "source": [
    "print_text(response.thinking)"
   ]
  },
  {
   "cell_type": "code",
   "execution_count": 7,
   "metadata": {},
   "outputs": [
    {
     "name": "stdout",
     "output_type": "stream",
     "text": [
      "Hello! 😊 How can I assist you today?\n"
     ]
    }
   ],
   "source": [
    "print_text(response.response)"
   ]
  },
  {
   "cell_type": "markdown",
   "metadata": {},
   "source": [
    "### Enable/Disable Thinking\n"
   ]
  },
  {
   "cell_type": "code",
   "execution_count": 8,
   "metadata": {},
   "outputs": [
    {
     "name": "stdout",
     "output_type": "stream",
     "text": [
      "CPU times: user 4.55 ms, sys: 7.77 ms, total: 12.3 ms\n",
      "Wall time: 2.17 s\n"
     ]
    }
   ],
   "source": [
    "%%time\n",
    "response = call_model(\"Hello\", allow_thinking=False)"
   ]
  },
  {
   "cell_type": "code",
   "execution_count": 9,
   "metadata": {},
   "outputs": [
    {
     "name": "stdout",
     "output_type": "stream",
     "text": [
      "None\n"
     ]
    }
   ],
   "source": [
    "print(response.thinking)"
   ]
  },
  {
   "cell_type": "code",
   "execution_count": 10,
   "metadata": {},
   "outputs": [
    {
     "name": "stdout",
     "output_type": "stream",
     "text": [
      "Hello! 👋 How are you today? Nice to meet you. I'm an AI assistant here to help answer your\n",
      "questions, provide information, or just chat if you'd like. Let me know what's on your mind!\n"
     ]
    }
   ],
   "source": [
    "print_text(response.response)"
   ]
  },
  {
   "cell_type": "markdown",
   "metadata": {},
   "source": [
    "## Document Analysis\n"
   ]
  },
  {
   "cell_type": "code",
   "execution_count": 11,
   "metadata": {},
   "outputs": [],
   "source": [
    "PROMPT = textwrap.dedent(\"\"\"\n",
    "You're an expert financial analyst. You're analyzing financial reports and earnings calls.\n",
    "\n",
    "Your goal is to accurately answer questions about the document using the information provided in the text.\n",
    "\n",
    "<instructions>\n",
    "- Carefully consider the complete content of the document\n",
    "- If the answer is not explicitly stated, always state that the information is not available in the document\n",
    "- Provide answers in a concise and clear manner\n",
    "- Give contextual information when necessary, but avoid unnecessary details\n",
    "</instructions>\n",
    "\n",
    "<output_format\n",
    "Always reply with a Markdown that contains properly formatted elements - headings, lists, tables etc.\n",
    "</output_format>\n",
    "\n",
    "<text>\n",
    "{document}\n",
    "</text>\n",
    "\n",
    "<question>\n",
    "{question}\n",
    "</question>\n",
    "\n",
    "Answer the question in Markdown format based on the document above. If the answer is not available, state that the information is not available in the document.\n",
    "\n",
    "Your answer:\n",
    "\"\"\").strip()"
   ]
  },
  {
   "cell_type": "markdown",
   "metadata": {},
   "source": [
    "### Summarization\n"
   ]
  },
  {
   "cell_type": "code",
   "execution_count": 12,
   "metadata": {},
   "outputs": [],
   "source": [
    "question = \"Provide a concise summary of the earnings call, including key financial metrics and any significant developments mentioned.\"\n",
    "prompt = PROMPT.format(document=nvidia_earnings, question=question)"
   ]
  },
  {
   "cell_type": "code",
   "execution_count": 13,
   "metadata": {},
   "outputs": [
    {
     "name": "stdout",
     "output_type": "stream",
     "text": [
      "CPU times: user 6.32 ms, sys: 36.9 ms, total: 43.2 ms\n",
      "Wall time: 1min 38s\n"
     ]
    }
   ],
   "source": [
    "%%time\n",
    "response = call_model(prompt)"
   ]
  },
  {
   "cell_type": "code",
   "execution_count": 14,
   "metadata": {},
   "outputs": [
    {
     "name": "stdout",
     "output_type": "stream",
     "text": [
      "Hmm, the user wants me to provide a concise summary of an NVIDIA earnings call including key\n",
      "financial metrics and significant developments. They've provided extensive financial data from their\n",
      "reports, so I need to carefully analyze this information to extract what's most important.\n",
      "\n",
      "Looking at this document, it contains detailed financial results for NVIDIA's first quarter of\n",
      "fiscal 2026. The revenue was $44.1 billion, which is a 12% increase from the previous quarter and a\n",
      "69% increase year-over-year. Data Center revenue specifically was $39.1 billion with similar growth\n",
      "patterns.\n",
      "\n",
      "There were some significant developments mentioned - particularly regarding export controls for H20\n",
      "products to China, resulting in a $4.5 billion charge due to excess inventory and purchase\n",
      "obligations. This seems like an important point that explains why some of the previous quarter's\n",
      "revenue wasn't realized this time around.\n",
      "\n",
      "The company also discussed their outlook for the second quarter with expected revenue of $45.0\n",
      "billion plus or minus 2%, which reflects a loss of about $8.0 billion in H20 revenue due to export\n",
      "controls.\n",
      "\n",
      "Other key developments include:\n",
      "- The introduction of Blackwell NVL72 AI supercomputer\n",
      "- Various partnerships and collaborations (with HUMAIN, G42, Oracle, etc.)\n",
      "- New product announcements (GeForce RTX 5070/60, Stargate UAE)\n",
      "- Information about stock-based compensation and other non-GAAP adjustments\n",
      "\n",
      "I should organize my response to highlight these key metrics first - revenue, gross margin, EPS -\n",
      "then provide context on the H20 charges, followed by major product announcements. I'll avoid\n",
      "overwhelming details but make sure to include all significant developments mentioned in the\n",
      "document.\n",
      "\n",
      "The user is likely looking for a clear executive summary that captures both the financial\n",
      "performance and strategic direction of NVIDIA during this earnings call period. They probably want\n",
      "to understand how these metrics compare to expectations, what challenges the company faced (like the\n",
      "export controls), and the major product advancements they're making.\n",
      "\n"
     ]
    }
   ],
   "source": [
    "print_text(response.thinking)"
   ]
  },
  {
   "cell_type": "code",
   "execution_count": 15,
   "metadata": {},
   "outputs": [
    {
     "name": "stdout",
     "output_type": "stream",
     "text": [
      "**Earnings Call Summary: NVIDIA Q1 Fiscal 2026**\n",
      "\n",
      "NVIDIA reported strong first-quarter financial results for fiscal year 2026, driven by continued\n",
      "growth in its Data Center segment. Key highlights include:\n",
      "\n",
      "- **Revenue**: $44.1 billion (Q1 FY26), representing a 12% quarter-over-quarter increase and a\n",
      "significant 69% year-over-year jump.\n",
      "- **Data Center Revenue**: $39.1 billion, the largest growth driver for this quarter.\n",
      "\n",
      "The company also incurred a substantial charge ($4.5B) related to H20 products due to new U.S.\n",
      "export controls limiting sales into China. This impacted revenue projections and margins but was\n",
      "addressed in the non-GAAP metrics provided.\n",
      "\n",
      "Notable developments discussed include:\n",
      "- The launch of the **Blackwell NVL72 AI supercomputer**, positioned as a key infrastructure for\n",
      "agentic AI.\n",
      "- Major partnerships such as with **HUMAIN** (Saudi Arabia), G42, Oracle, and SoftBank Group to\n",
      "advance AI computing globally.\n",
      "- Expansion into new markets via projects like **Stargate UAE** in Abu Dhabi and plans to\n",
      "collaborate with Foxconn on an AI factory supercomputer.\n",
      "\n",
      "NVIDIA's outlook for Q2 FY26 anticipates revenue around $45 billion, reflecting adjustments due to\n",
      "H20 limitations. The company remains focused on scaling its AI infrastructure capabilities through\n",
      "innovation and partnerships.\n"
     ]
    }
   ],
   "source": [
    "print_text(response.response)"
   ]
  },
  {
   "cell_type": "markdown",
   "metadata": {},
   "source": [
    "**Earnings Call Summary: NVIDIA Q1 Fiscal 2026**\n",
    "\n",
    "NVIDIA reported strong first-quarter financial results for fiscal year 2026, driven by continued\n",
    "growth in its Data Center segment. Key highlights include:\n",
    "\n",
    "- **Revenue**: $44.1 billion (Q1 FY26), representing a 12% quarter-over-quarter increase and a\n",
    "  significant 69% year-over-year jump.\n",
    "- **Data Center Revenue**: $39.1 billion, the largest growth driver for this quarter.\n",
    "\n",
    "The company also incurred a substantial charge ($4.5B) related to H20 products due to new U.S.\n",
    "export controls limiting sales into China. This impacted revenue projections and margins but was\n",
    "addressed in the non-GAAP metrics provided.\n",
    "\n",
    "Notable developments discussed include:\n",
    "\n",
    "- The launch of the **Blackwell NVL72 AI supercomputer**, positioned as a key infrastructure for\n",
    "  agentic AI.\n",
    "- Major partnerships such as with **HUMAIN** (Saudi Arabia), G42, Oracle, and SoftBank Group to\n",
    "  advance AI computing globally.\n",
    "- Expansion into new markets via projects like **Stargate UAE** in Abu Dhabi and plans to\n",
    "  collaborate with Foxconn on an AI factory supercomputer.\n",
    "\n",
    "NVIDIA's outlook for Q2 FY26 anticipates revenue around $45 billion, reflecting adjustments due to\n",
    "H20 limitations. The company remains focused on scaling its AI infrastructure capabilities through\n",
    "innovation and partnerships.\n"
   ]
  },
  {
   "cell_type": "markdown",
   "metadata": {},
   "source": [
    "### P&L Analysis\n"
   ]
  },
  {
   "cell_type": "code",
   "execution_count": 17,
   "metadata": {},
   "outputs": [
    {
     "name": "stdout",
     "output_type": "stream",
     "text": [
      "CPU times: user 5.27 ms, sys: 25.5 ms, total: 30.7 ms\n",
      "Wall time: 48.5 s\n"
     ]
    }
   ],
   "source": [
    "%%time\n",
    "\n",
    "question = \"\"\"\n",
    "Extract P&L summary for the Q1 Fiscal 2026 (GAAP):\n",
    "\n",
    "- Revenue\n",
    "- Gross Margin\n",
    "- Operating Income\n",
    "- Net Income\n",
    "- Dilluted Earnings Per Share (EPS)\n",
    "\"\"\"\n",
    "prompt = PROMPT.format(document=nvidia_earnings, question=question)\n",
    "response = call_model(prompt)"
   ]
  },
  {
   "cell_type": "code",
   "execution_count": 18,
   "metadata": {},
   "outputs": [
    {
     "name": "stdout",
     "output_type": "stream",
     "text": [
      "Okay, let's tackle this query step by step. The user wants a P&L summary for Q1 Fiscal 2026 under\n",
      "GAAP, specifically focusing on Revenue, Gross Margin, Operating Income, Net Income, and Diluted EPS.\n",
      "\n",
      "First, I'll scan through the provided text to find all relevant financial figures in GAAP terms.\n",
      "\n",
      "The earnings press release gives some key numbers: Revenue is $44.1 billion (or $44,062 million). It\n",
      "mentions a 12% quarter-over-quarter increase and a 69% year-over-year growth from the prior year's\n",
      "Q1.\n",
      "\n",
      "Next, Gross Margin comes up as 60.5%. However, there's also mention of excluding charges related to\n",
      "H20 products, which affects this number. But since we're focusing on GAAP, I'll stick with the\n",
      "reported figure here.\n",
      "\n",
      "For Operating Income, the press release states $21,638 million for Q1 FY26 under GAAP.\n",
      "\n",
      "Net Income is clearly stated as $18,775 million in the GAAP section of the income statement table\n",
      "provided later.\n",
      "\n",
      "Diluted EPS (Diluted earnings per share) appears twice: once at 0.76% change from previous quarter\n",
      "and another time with a direct value of $0.76 (after adjustment). The original number before\n",
      "adjustments is also mentioned as $0.81, but the user asked for GAAP figures only - so I'll use that.\n",
      "\n",
      "Now cross-referencing these numbers in different parts of the document to ensure consistency:\n",
      "\n",
      "The income statement table confirms Revenue at $44,062 million (matches press release). It shows Net\n",
      "Income as $18,775 and Diluted EPS as $0.76 for GAAP - consistent with what I found earlier.\n",
      "\n",
      "Gross Margin appears again in the outlook section, though slightly different due to adjustments from\n",
      "H20 charges. But since we're reporting GAAP figures, that won't affect our answer.\n",
      "\n",
      "Everything checks out consistently across both the press release and financial tables under GAAP.\n",
      "\n"
     ]
    }
   ],
   "source": [
    "print_text(response.thinking)"
   ]
  },
  {
   "cell_type": "code",
   "execution_count": 20,
   "metadata": {},
   "outputs": [
    {
     "name": "stdout",
     "output_type": "stream",
     "text": [
      "## P&L Summary for Q1 Fiscal 2026 (GAAP)\n",
      "\n",
      "Based on the provided document:\n",
      "\n",
      "| Metric                           | Amount      |\n",
      "| :------------------------------- | :---------- |\n",
      "| **Revenue**                        | $44,062 million |\n",
      "| **Gross Margin**                   | 60.5%        |\n",
      "| **Operating Income**               | $21,638 million |\n",
      "| **Net Income**                      | $18,775 million |\n",
      "| **Diluted Earnings Per Share (EPS)** | $0.76        |\n",
      "\n",
      "This information is explicitly stated in the earnings call transcript and financial tables provided\n",
      "within the document.\n"
     ]
    }
   ],
   "source": [
    "print_text(response.response)"
   ]
  },
  {
   "cell_type": "markdown",
   "metadata": {},
   "source": [
    "## P&L Summary for Q1 Fiscal 2026 (GAAP)\n",
    "\n",
    "Based on the provided document:\n",
    "\n",
    "| Metric                               | Amount          |\n",
    "| :----------------------------------- | :-------------- |\n",
    "| **Revenue**                          | $44,062 million |\n",
    "| **Gross Margin**                     | 60.5%           |\n",
    "| **Operating Income**                 | $21,638 million |\n",
    "| **Net Income**                       | $18,775 million |\n",
    "| **Diluted Earnings Per Share (EPS)** | $0.76           |\n",
    "\n",
    "This information is explicitly stated in the earnings call transcript and financial tables provided\n",
    "within the document.\n"
   ]
  },
  {
   "cell_type": "markdown",
   "metadata": {},
   "source": [
    "True values:\n",
    "\n",
    "NVIDIA's Q1 Fiscal 2026 P&L (GAAP), figures are for the quarter ended April 27, 2025:\n",
    "\n",
    "1.  **Revenue:** $44.1 billion\n",
    "2.  **GAAP Gross Margin:** 60.5%\n",
    "3.  **GAAP Operating Income:** $21.6 billion\n",
    "4.  **GAAP Net Income:** $18.8 billion\n",
    "5.  **GAAP Diluted Earnings Per Share (EPS):** $0.76\n"
   ]
  },
  {
   "cell_type": "markdown",
   "metadata": {},
   "source": [
    "## Balance Sheet\n"
   ]
  },
  {
   "cell_type": "code",
   "execution_count": 25,
   "metadata": {},
   "outputs": [
    {
     "name": "stdout",
     "output_type": "stream",
     "text": [
      "CPU times: user 6.09 ms, sys: 14.9 ms, total: 21 ms\n",
      "Wall time: 38.4 s\n"
     ]
    }
   ],
   "source": [
    "%%time\n",
    "\n",
    "question = \"\"\"\n",
    "Extract information about the Balance Sheet for the Q1 Fiscal 2026 (GAAP):\n",
    "\n",
    "- Cash, cash equivalents and marketable securities\n",
    "- Inventories\n",
    "- Accounts receivable, net\n",
    "- Total Liabilities\n",
    "- Total Shareholders' Equity\n",
    "\"\"\"\n",
    "prompt = PROMPT.format(document=nvidia_earnings, question=question)\n",
    "response = call_model(prompt)"
   ]
  },
  {
   "cell_type": "code",
   "execution_count": 26,
   "metadata": {},
   "outputs": [
    {
     "name": "stdout",
     "output_type": "stream",
     "text": [
      "Okay, let's tackle this query as a financial analyst would. The user wants specific balance sheet\n",
      "figures for NVIDIA's Q1 Fiscal 2026 under GAAP.\n",
      "\n",
      "First, I need to carefully scan the provided text for relevant financial data. Looking at the\n",
      "Condensed Consolidated Balance Sheets section labeled \"April 27, 2025\" – this is clearly Q1 FY26\n",
      "since dates match April 27 being recent and January 26 representing prior year comparison.\n",
      "\n",
      "For Cash: The GAAP line shows $53,691 million at the end of period (April 27, 2025), which I'll\n",
      "confirm matches the \"Cash and cash equivalents\" amount in the Statement of Cash Flows.\n",
      "\n",
      "Inventories are straightforward – they're listed as current assets with a GAAP value of $11,333\n",
      "million on April 27.\n",
      "\n",
      "Accounts receivable appears twice: In the Balance Sheet it's netted at $22,132 mil, and in the\n",
      "reconciliation table showing pre-split comparability. Both confirm consistency.\n",
      "\n",
      "Total Liabilities require summing current ($41,408) + long-term ($5,964) but wait – actually the\n",
      "simplified liability line directly shows Total liabilities as $41,411 million according to GAAP for\n",
      "April 27 date.\n",
      "\n",
      "Shareholders' equity is explicitly given at $83,843 million.\n",
      "\n",
      "The user seems focused on basic balance sheet components without needing detailed explanation unless\n",
      "asked. They're likely comparing financial metrics across periods or verifying data accuracy –\n",
      "possibly an investor analyzing quarterly trends.\n",
      "\n"
     ]
    }
   ],
   "source": [
    "print_text(response.thinking)"
   ]
  },
  {
   "cell_type": "code",
   "execution_count": 27,
   "metadata": {},
   "outputs": [
    {
     "name": "stdout",
     "output_type": "stream",
     "text": [
      "# NVIDIA Q1 Fiscal 2026 Balance Sheet (GAAP)\n",
      "\n",
      "Based on the provided text:\n",
      "\n",
      "## Assets\n",
      "\n",
      "- **Cash, cash equivalents and marketable securities:** $53,691 million\n",
      "- **Inventories:** $11,333 million\n",
      "- **Accounts receivable, net:** $22,132 million\n",
      "\n",
      "## Liabilities & Shareholders' Equity\n",
      "\n",
      "- **Total liabilities:** $41,411 million (includes all current and long-term liabilities)\n",
      "- **Shareholders' equity:** $83,843 million\n"
     ]
    }
   ],
   "source": [
    "print_text(response.response)"
   ]
  },
  {
   "cell_type": "markdown",
   "metadata": {},
   "source": [
    "# NVIDIA Q1 Fiscal 2026 Balance Sheet (GAAP)\n",
    "\n",
    "Based on the provided text:\n",
    "\n",
    "## Assets\n",
    "\n",
    "- **Cash, cash equivalents and marketable securities:** $53,691 million\n",
    "- **Inventories:** $11,333 million\n",
    "- **Accounts receivable, net:** $22,132 million\n",
    "\n",
    "## Liabilities & Shareholders' Equity\n",
    "\n",
    "- **Total liabilities:** $41,411 million (includes all current and long-term liabilities)\n",
    "- **Shareholders' equity:** $83,843 million\n"
   ]
  },
  {
   "cell_type": "markdown",
   "metadata": {},
   "source": [
    "True values:\n",
    "\n",
    "1.  **Cash, cash equivalents and marketable securities:** $53,691 million\n",
    "2.  **Inventories:** $11,333 million\n",
    "3.  **Accounts receivable, net:** $22,132 million\n",
    "4.  **Total Liabilities:** $41,411 million\n",
    "5.  **Total Shareholders' Equity:** $83,843 million\n"
   ]
  },
  {
   "cell_type": "markdown",
   "metadata": {},
   "source": [
    "## Cashflow Statement\n"
   ]
  },
  {
   "cell_type": "code",
   "execution_count": 22,
   "metadata": {},
   "outputs": [
    {
     "name": "stdout",
     "output_type": "stream",
     "text": [
      "CPU times: user 4.83 ms, sys: 32 ms, total: 36.9 ms\n",
      "Wall time: 55.9 s\n"
     ]
    }
   ],
   "source": [
    "%%time\n",
    "\n",
    "question = \"\"\"\n",
    "Extract information about the Cashflow Statement for the Q1 Fiscal 2026 (GAAP):\n",
    "\n",
    "- Net cash provided by operating activities\n",
    "- Free cash flow\n",
    "- Purchases of property and equipment\n",
    "- Payments related to purchases of common stock\n",
    "- Cash and cash equivalents at end of period\n",
    "\"\"\"\n",
    "prompt = PROMPT.format(document=nvidia_earnings, question=question)\n",
    "response = call_model(prompt)"
   ]
  },
  {
   "cell_type": "code",
   "execution_count": 23,
   "metadata": {},
   "outputs": [
    {
     "name": "stdout",
     "output_type": "stream",
     "text": [
      "Hmm, the user wants me to extract specific financial data from NVIDIA's Q1 FY2026 cash flow\n",
      "statement (GAAP). They're asking for net cash provided by operating activities, free cash flow,\n",
      "purchases of property and equipment, common stock repurchases, and ending cash equivalents. Let me\n",
      "carefully review the document.\n",
      "\n",
      "Looking at the GAAP Cash Flows From Operating Activities section in their condensed income\n",
      "statements, I see that Net cash provided by operating activities is clearly stated as $27,414\n",
      "million for Q1 FY2026 (ended April 27, 2025). The beginning balance of cash and cash equivalents was\n",
      "also available at the start of the period.\n",
      "\n",
      "For free cash flow, it's calculated in a reconciliation section. I need to find that specific\n",
      "calculation. Yes, there's a table showing Free cash flow calculations under GAAP net cash provided\n",
      "by operating activities minus purchases related to property and equipment and intangible assets plus\n",
      "principal payments on those assets. That comes out to $26,135 million.\n",
      "\n",
      "The document also includes the reconciliation of GAAP to non-GAAP measures where it shows Net cash\n",
      "used in investing activities includes \"Purchase related to property and equipment and intangible\n",
      "assets\" at ($1,227) million for Q1 FY2026. This should be what they're asking about as purchases.\n",
      "\n",
      "For common stock repurchases, I see that Cash flows from financing activities include \"Payments\n",
      "related to repurchases of common stock\" which was ($14,095) million in GAAP terms (meaning net cash\n",
      "used).\n",
      "\n",
      "And the ending cash and cash equivalents for Q1 FY2026 is clearly stated as $15,234 million.\n",
      "\n",
      "I should present these findings in a clear table format with proper headings and all the requested\n",
      "metrics. I'll make sure to include both the absolute numbers and any percentage changes where\n",
      "applicable from the document.\n",
      "\n"
     ]
    }
   ],
   "source": [
    "print_text(response.thinking)"
   ]
  },
  {
   "cell_type": "code",
   "execution_count": 24,
   "metadata": {},
   "outputs": [
    {
     "name": "stdout",
     "output_type": "stream",
     "text": [
      "Based on the provided text:\n",
      "\n",
      "**GAAP Cash Flow Statement for Q1 Fiscal 2026**\n",
      "\n",
      "| Metric                                      | Amount (in millions) |\n",
      "| -------------------------------------------- | --------------------:|\n",
      "| Net cash provided by operating activities    | $27,414               |\n",
      "| Free cash flow                                | $26,135              |\n",
      "| Purchase related to property and equipment   | ($1,227)             |\n",
      "| Payments related to repurchases of common stock | ($14,095)            |\n",
      "| Cash and cash equivalents at end of period  | $15,234              |\n",
      "\n",
      "**Note:** The table shows the GAAP figures. Percentages are not provided in the document for these\n",
      "specific metrics.\n"
     ]
    }
   ],
   "source": [
    "print_text(response.response)"
   ]
  },
  {
   "cell_type": "markdown",
   "metadata": {},
   "source": [
    "Based on the provided text:\n",
    "\n",
    "**GAAP Cash Flow Statement for Q1 Fiscal 2026**\n",
    "\n",
    "| Metric                                          | Amount (in millions) |\n",
    "| ----------------------------------------------- | -------------------: |\n",
    "| Net cash provided by operating activities       |              $27,414 |\n",
    "| Free cash flow                                  |              $26,135 |\n",
    "| Purchase related to property and equipment      |             ($1,227) |\n",
    "| Payments related to repurchases of common stock |            ($14,095) |\n",
    "| Cash and cash equivalents at end of period      |              $15,234 |\n",
    "\n",
    "**Note:** The table shows the GAAP figures. Percentages are not provided in the document for these\n",
    "specific metrics.\n"
   ]
  },
  {
   "cell_type": "markdown",
   "metadata": {},
   "source": [
    "True values:\n",
    "\n",
    "1.  **Net cash provided by operating activities:** $27,414 million\n",
    "2.  **Free Cash Flow (FCF):** $26,135 million\n",
    "3.  **Purchase related to property and equipment and intangible assets (Capital Expenditures):** $1,227 million\n",
    "4.  **Payments related to repurchases of common stock:** $14,095 million\\*\\*\n",
    "5.  **Cash and cash equivalents at end of period:** $15,234 million\n"
   ]
  },
  {
   "cell_type": "markdown",
   "metadata": {},
   "source": [
    "## References\n",
    "\n",
    "- [DeepSeek-R1-0528: How to Run Locally](https://docs.unsloth.ai/basics/deepseek-r1-0528-how-to-run-locally)\n"
   ]
  }
 ],
 "metadata": {
  "colab": {
   "provenance": [],
   "toc_visible": true
  },
  "kernelspec": {
   "display_name": "mlexpert",
   "language": "python",
   "name": "python3"
  },
  "language_info": {
   "codemirror_mode": {
    "name": "ipython",
    "version": 3
   },
   "file_extension": ".py",
   "mimetype": "text/x-python",
   "name": "python",
   "nbconvert_exporter": "python",
   "pygments_lexer": "ipython3",
   "version": "3.12.4"
  }
 },
 "nbformat": 4,
 "nbformat_minor": 0
}
