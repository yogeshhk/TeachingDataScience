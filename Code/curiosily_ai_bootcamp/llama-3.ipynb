{
 "nbformat": 4,
 "nbformat_minor": 0,
 "metadata": {
  "colab": {
   "provenance": [],
   "gpuType": "T4"
  },
  "kernelspec": {
   "name": "python3",
   "display_name": "Python 3"
  },
  "language_info": {
   "name": "python"
  },
  "accelerator": "GPU",
  "widgets": {
   "application/vnd.jupyter.widget-state+json": {
    "384b339f6af94d20b53d567b1e05bcdf": {
     "model_module": "@jupyter-widgets/controls",
     "model_name": "HBoxModel",
     "model_module_version": "1.5.0",
     "state": {
      "_dom_classes": [],
      "_model_module": "@jupyter-widgets/controls",
      "_model_module_version": "1.5.0",
      "_model_name": "HBoxModel",
      "_view_count": null,
      "_view_module": "@jupyter-widgets/controls",
      "_view_module_version": "1.5.0",
      "_view_name": "HBoxView",
      "box_style": "",
      "children": [
       "IPY_MODEL_2b62a4926f9e4669893ff9f989eeb061",
       "IPY_MODEL_9b0a13c2f19b422d875687f97de3cc54",
       "IPY_MODEL_0ced6ca626884a2f938c87373de23d9c"
      ],
      "layout": "IPY_MODEL_2bcd79cc57c54beeb0b573b0b140ee44"
     }
    },
    "2b62a4926f9e4669893ff9f989eeb061": {
     "model_module": "@jupyter-widgets/controls",
     "model_name": "HTMLModel",
     "model_module_version": "1.5.0",
     "state": {
      "_dom_classes": [],
      "_model_module": "@jupyter-widgets/controls",
      "_model_module_version": "1.5.0",
      "_model_name": "HTMLModel",
      "_view_count": null,
      "_view_module": "@jupyter-widgets/controls",
      "_view_module_version": "1.5.0",
      "_view_name": "HTMLView",
      "description": "",
      "description_tooltip": null,
      "layout": "IPY_MODEL_284286f4e7144f3492a4bdb2cfb7abdc",
      "placeholder": "​",
      "style": "IPY_MODEL_8931f66b032f42978da77420dfde3701",
      "value": "Loading checkpoint shards: 100%"
     }
    },
    "9b0a13c2f19b422d875687f97de3cc54": {
     "model_module": "@jupyter-widgets/controls",
     "model_name": "FloatProgressModel",
     "model_module_version": "1.5.0",
     "state": {
      "_dom_classes": [],
      "_model_module": "@jupyter-widgets/controls",
      "_model_module_version": "1.5.0",
      "_model_name": "FloatProgressModel",
      "_view_count": null,
      "_view_module": "@jupyter-widgets/controls",
      "_view_module_version": "1.5.0",
      "_view_name": "ProgressView",
      "bar_style": "success",
      "description": "",
      "description_tooltip": null,
      "layout": "IPY_MODEL_ff7e7f5ebf8a44cba55625cc53e14a9e",
      "max": 4,
      "min": 0,
      "orientation": "horizontal",
      "style": "IPY_MODEL_ade6f083ff3346d68119bb22d6b21ad1",
      "value": 4
     }
    },
    "0ced6ca626884a2f938c87373de23d9c": {
     "model_module": "@jupyter-widgets/controls",
     "model_name": "HTMLModel",
     "model_module_version": "1.5.0",
     "state": {
      "_dom_classes": [],
      "_model_module": "@jupyter-widgets/controls",
      "_model_module_version": "1.5.0",
      "_model_name": "HTMLModel",
      "_view_count": null,
      "_view_module": "@jupyter-widgets/controls",
      "_view_module_version": "1.5.0",
      "_view_name": "HTMLView",
      "description": "",
      "description_tooltip": null,
      "layout": "IPY_MODEL_93c99a9addb0492da05bd1e0abf2ea1c",
      "placeholder": "​",
      "style": "IPY_MODEL_b661dc28aed745ef9c36abf25a1efbd6",
      "value": " 4/4 [01:20&lt;00:00, 16.66s/it]"
     }
    },
    "2bcd79cc57c54beeb0b573b0b140ee44": {
     "model_module": "@jupyter-widgets/base",
     "model_name": "LayoutModel",
     "model_module_version": "1.2.0",
     "state": {
      "_model_module": "@jupyter-widgets/base",
      "_model_module_version": "1.2.0",
      "_model_name": "LayoutModel",
      "_view_count": null,
      "_view_module": "@jupyter-widgets/base",
      "_view_module_version": "1.2.0",
      "_view_name": "LayoutView",
      "align_content": null,
      "align_items": null,
      "align_self": null,
      "border": null,
      "bottom": null,
      "display": null,
      "flex": null,
      "flex_flow": null,
      "grid_area": null,
      "grid_auto_columns": null,
      "grid_auto_flow": null,
      "grid_auto_rows": null,
      "grid_column": null,
      "grid_gap": null,
      "grid_row": null,
      "grid_template_areas": null,
      "grid_template_columns": null,
      "grid_template_rows": null,
      "height": null,
      "justify_content": null,
      "justify_items": null,
      "left": null,
      "margin": null,
      "max_height": null,
      "max_width": null,
      "min_height": null,
      "min_width": null,
      "object_fit": null,
      "object_position": null,
      "order": null,
      "overflow": null,
      "overflow_x": null,
      "overflow_y": null,
      "padding": null,
      "right": null,
      "top": null,
      "visibility": null,
      "width": null
     }
    },
    "284286f4e7144f3492a4bdb2cfb7abdc": {
     "model_module": "@jupyter-widgets/base",
     "model_name": "LayoutModel",
     "model_module_version": "1.2.0",
     "state": {
      "_model_module": "@jupyter-widgets/base",
      "_model_module_version": "1.2.0",
      "_model_name": "LayoutModel",
      "_view_count": null,
      "_view_module": "@jupyter-widgets/base",
      "_view_module_version": "1.2.0",
      "_view_name": "LayoutView",
      "align_content": null,
      "align_items": null,
      "align_self": null,
      "border": null,
      "bottom": null,
      "display": null,
      "flex": null,
      "flex_flow": null,
      "grid_area": null,
      "grid_auto_columns": null,
      "grid_auto_flow": null,
      "grid_auto_rows": null,
      "grid_column": null,
      "grid_gap": null,
      "grid_row": null,
      "grid_template_areas": null,
      "grid_template_columns": null,
      "grid_template_rows": null,
      "height": null,
      "justify_content": null,
      "justify_items": null,
      "left": null,
      "margin": null,
      "max_height": null,
      "max_width": null,
      "min_height": null,
      "min_width": null,
      "object_fit": null,
      "object_position": null,
      "order": null,
      "overflow": null,
      "overflow_x": null,
      "overflow_y": null,
      "padding": null,
      "right": null,
      "top": null,
      "visibility": null,
      "width": null
     }
    },
    "8931f66b032f42978da77420dfde3701": {
     "model_module": "@jupyter-widgets/controls",
     "model_name": "DescriptionStyleModel",
     "model_module_version": "1.5.0",
     "state": {
      "_model_module": "@jupyter-widgets/controls",
      "_model_module_version": "1.5.0",
      "_model_name": "DescriptionStyleModel",
      "_view_count": null,
      "_view_module": "@jupyter-widgets/base",
      "_view_module_version": "1.2.0",
      "_view_name": "StyleView",
      "description_width": ""
     }
    },
    "ff7e7f5ebf8a44cba55625cc53e14a9e": {
     "model_module": "@jupyter-widgets/base",
     "model_name": "LayoutModel",
     "model_module_version": "1.2.0",
     "state": {
      "_model_module": "@jupyter-widgets/base",
      "_model_module_version": "1.2.0",
      "_model_name": "LayoutModel",
      "_view_count": null,
      "_view_module": "@jupyter-widgets/base",
      "_view_module_version": "1.2.0",
      "_view_name": "LayoutView",
      "align_content": null,
      "align_items": null,
      "align_self": null,
      "border": null,
      "bottom": null,
      "display": null,
      "flex": null,
      "flex_flow": null,
      "grid_area": null,
      "grid_auto_columns": null,
      "grid_auto_flow": null,
      "grid_auto_rows": null,
      "grid_column": null,
      "grid_gap": null,
      "grid_row": null,
      "grid_template_areas": null,
      "grid_template_columns": null,
      "grid_template_rows": null,
      "height": null,
      "justify_content": null,
      "justify_items": null,
      "left": null,
      "margin": null,
      "max_height": null,
      "max_width": null,
      "min_height": null,
      "min_width": null,
      "object_fit": null,
      "object_position": null,
      "order": null,
      "overflow": null,
      "overflow_x": null,
      "overflow_y": null,
      "padding": null,
      "right": null,
      "top": null,
      "visibility": null,
      "width": null
     }
    },
    "ade6f083ff3346d68119bb22d6b21ad1": {
     "model_module": "@jupyter-widgets/controls",
     "model_name": "ProgressStyleModel",
     "model_module_version": "1.5.0",
     "state": {
      "_model_module": "@jupyter-widgets/controls",
      "_model_module_version": "1.5.0",
      "_model_name": "ProgressStyleModel",
      "_view_count": null,
      "_view_module": "@jupyter-widgets/base",
      "_view_module_version": "1.2.0",
      "_view_name": "StyleView",
      "bar_color": null,
      "description_width": ""
     }
    },
    "93c99a9addb0492da05bd1e0abf2ea1c": {
     "model_module": "@jupyter-widgets/base",
     "model_name": "LayoutModel",
     "model_module_version": "1.2.0",
     "state": {
      "_model_module": "@jupyter-widgets/base",
      "_model_module_version": "1.2.0",
      "_model_name": "LayoutModel",
      "_view_count": null,
      "_view_module": "@jupyter-widgets/base",
      "_view_module_version": "1.2.0",
      "_view_name": "LayoutView",
      "align_content": null,
      "align_items": null,
      "align_self": null,
      "border": null,
      "bottom": null,
      "display": null,
      "flex": null,
      "flex_flow": null,
      "grid_area": null,
      "grid_auto_columns": null,
      "grid_auto_flow": null,
      "grid_auto_rows": null,
      "grid_column": null,
      "grid_gap": null,
      "grid_row": null,
      "grid_template_areas": null,
      "grid_template_columns": null,
      "grid_template_rows": null,
      "height": null,
      "justify_content": null,
      "justify_items": null,
      "left": null,
      "margin": null,
      "max_height": null,
      "max_width": null,
      "min_height": null,
      "min_width": null,
      "object_fit": null,
      "object_position": null,
      "order": null,
      "overflow": null,
      "overflow_x": null,
      "overflow_y": null,
      "padding": null,
      "right": null,
      "top": null,
      "visibility": null,
      "width": null
     }
    },
    "b661dc28aed745ef9c36abf25a1efbd6": {
     "model_module": "@jupyter-widgets/controls",
     "model_name": "DescriptionStyleModel",
     "model_module_version": "1.5.0",
     "state": {
      "_model_module": "@jupyter-widgets/controls",
      "_model_module_version": "1.5.0",
      "_model_name": "DescriptionStyleModel",
      "_view_count": null,
      "_view_module": "@jupyter-widgets/base",
      "_view_module_version": "1.2.0",
      "_view_name": "StyleView",
      "description_width": ""
     }
    }
   }
  }
 },
 "cells": [
  {
   "cell_type": "code",
   "execution_count": 1,
   "metadata": {
    "colab": {
     "base_uri": "https://localhost:8080/"
    },
    "id": "aK2TmBzM5iZZ",
    "outputId": "74878637-41e7-44b1-e58e-1ab832735f79"
   },
   "outputs": [
    {
     "output_type": "stream",
     "name": "stdout",
     "text": [
      "\u001b[33mWARNING: Running pip as the 'root' user can result in broken permissions and conflicting behaviour with the system package manager. It is recommended to use a virtual environment instead: https://pip.pypa.io/warnings/venv\u001b[0m\u001b[33m\n",
      "\u001b[0m\u001b[33mWARNING: Running pip as the 'root' user can result in broken permissions and conflicting behaviour with the system package manager. It is recommended to use a virtual environment instead: https://pip.pypa.io/warnings/venv\u001b[0m\u001b[33m\n",
      "\u001b[0m"
     ]
    }
   ],
   "source": [
    "!pip install -Uqqq pip --progress-bar off\n",
    "!pip install -qqq transformers==4.40.1 --progress-bar off\n",
    "!pip install -qqq accelerate==0.29.3 --progress-bar off"
   ]
  },
  {
   "cell_type": "code",
   "source": [
    "import os\n",
    "from inspect import cleandoc\n",
    "\n",
    "from google.colab import userdata\n",
    "\n",
    "os.environ[\"HF_TOKEN\"] = userdata.get(\"HF_TOKEN\")"
   ],
   "metadata": {
    "id": "3SYXvTL99yzz"
   },
   "execution_count": 1,
   "outputs": []
  },
  {
   "cell_type": "markdown",
   "source": [
    "## Model Setup"
   ],
   "metadata": {
    "id": "5dkNBVg-u7JW"
   }
  },
  {
   "cell_type": "code",
   "source": [
    "import torch\n",
    "from transformers import AutoModelForCausalLM, AutoTokenizer\n",
    "\n",
    "MODEL_NAME = \"meta-llama/Meta-Llama-3-8B-Instruct\"\n",
    "\n",
    "tokenizer = AutoTokenizer.from_pretrained(MODEL_NAME)\n",
    "model = AutoModelForCausalLM.from_pretrained(\n",
    "    MODEL_NAME,\n",
    "    torch_dtype=torch.float16,\n",
    "    device_map=\"auto\",\n",
    ")"
   ],
   "metadata": {
    "colab": {
     "base_uri": "https://localhost:8080/",
     "height": 85,
     "referenced_widgets": [
      "384b339f6af94d20b53d567b1e05bcdf",
      "2b62a4926f9e4669893ff9f989eeb061",
      "9b0a13c2f19b422d875687f97de3cc54",
      "0ced6ca626884a2f938c87373de23d9c",
      "2bcd79cc57c54beeb0b573b0b140ee44",
      "284286f4e7144f3492a4bdb2cfb7abdc",
      "8931f66b032f42978da77420dfde3701",
      "ff7e7f5ebf8a44cba55625cc53e14a9e",
      "ade6f083ff3346d68119bb22d6b21ad1",
      "93c99a9addb0492da05bd1e0abf2ea1c",
      "b661dc28aed745ef9c36abf25a1efbd6"
     ]
    },
    "id": "NqZiI3QH9sRu",
    "outputId": "348edd55-22f0-4f4c-9c31-5f78a170575c"
   },
   "execution_count": 2,
   "outputs": [
    {
     "output_type": "stream",
     "name": "stderr",
     "text": [
      "Special tokens have been added in the vocabulary, make sure the associated word embeddings are fine-tuned or trained.\n"
     ]
    },
    {
     "output_type": "display_data",
     "data": {
      "text/plain": [
       "Loading checkpoint shards:   0%|          | 0/4 [00:00<?, ?it/s]"
      ],
      "application/vnd.jupyter.widget-view+json": {
       "version_major": 2,
       "version_minor": 0,
       "model_id": "384b339f6af94d20b53d567b1e05bcdf"
      }
     },
     "metadata": {}
    },
    {
     "output_type": "stream",
     "name": "stderr",
     "text": [
      "WARNING:root:Some parameters are on the meta device device because they were offloaded to the cpu.\n"
     ]
    }
   ]
  },
  {
   "cell_type": "code",
   "source": [
    "messages = [\n",
    "    {\n",
    "        \"role\": \"system\",\n",
    "        \"content\": \"You are a professional machine learning engineer that writes in easy to understand language\",\n",
    "    },\n",
    "    {\n",
    "        \"role\": \"user\",\n",
    "        \"content\": \"What are the pros/cons of ChatGPT vs Open Source LLMs?\",\n",
    "    },\n",
    "]\n",
    "\n",
    "print(tokenizer.apply_chat_template(messages, tokenize=False))"
   ],
   "metadata": {
    "colab": {
     "base_uri": "https://localhost:8080/"
    },
    "id": "5SyJEnSl-WrO",
    "outputId": "793035c3-2c06-4fdf-802f-f80953af3fd1"
   },
   "execution_count": 3,
   "outputs": [
    {
     "output_type": "stream",
     "name": "stdout",
     "text": [
      "<|begin_of_text|><|start_header_id|>system<|end_header_id|>\n",
      "\n",
      "You are a professional machine learning engineer that writes in easy to understand language<|eot_id|><|start_header_id|>user<|end_header_id|>\n",
      "\n",
      "What are the pros/cons of ChatGPT vs Open Source LLMs?<|eot_id|>\n"
     ]
    }
   ]
  },
  {
   "cell_type": "code",
   "source": [
    "from transformers import GenerationConfig, TextStreamer, pipeline\n",
    "\n",
    "generation_config = GenerationConfig.from_pretrained(MODEL_NAME)\n",
    "generation_config.max_new_tokens = 512\n",
    "generation_config.temperature = 0.0001\n",
    "generation_config.do_sample = True"
   ],
   "metadata": {
    "id": "Zb3aZduLc_uB"
   },
   "execution_count": 4,
   "outputs": []
  },
  {
   "cell_type": "code",
   "source": [
    "streamer = TextStreamer(tokenizer, skip_prompt=True, skip_special_tokens=True)\n",
    "\n",
    "stop_token_ids = [tokenizer.eos_token_id, tokenizer.convert_tokens_to_ids(\"<|eot_id|>\")]\n",
    "\n",
    "llm = pipeline(\n",
    "    \"text-generation\",\n",
    "    model=model,\n",
    "    tokenizer=tokenizer,\n",
    "    return_full_text=False,\n",
    "    generation_config=generation_config,\n",
    "    num_return_sequences=1,\n",
    "    eos_token_id=stop_token_ids,\n",
    "    streamer=streamer,\n",
    ")"
   ],
   "metadata": {
    "id": "xeW1FpX9dISK"
   },
   "execution_count": 5,
   "outputs": []
  },
  {
   "cell_type": "code",
   "source": [
    "output = llm(messages)"
   ],
   "metadata": {
    "colab": {
     "base_uri": "https://localhost:8080/"
    },
    "id": "McvBdNcrd794",
    "outputId": "5e0742b6-b8d2-4491-871a-1ec052be524f"
   },
   "execution_count": 6,
   "outputs": [
    {
     "output_type": "stream",
     "name": "stderr",
     "text": [
      "Setting `pad_token_id` to `eos_token_id`:128001 for open-end generation.\n"
     ]
    },
    {
     "output_type": "stream",
     "name": "stdout",
     "text": [
      "As a machine learning engineer, I'm excited to dive into the pros and cons of ChatGPT vs Open Source LLMs. Let's break it down!\n",
      "\n",
      "**ChatGPT:**\n",
      "\n",
      "Pros:\n",
      "\n",
      "1. **Ease of use**: ChatGPT is a user-friendly, cloud-based AI model that requires minimal technical expertise to integrate into your application.\n",
      "2. **Pre-trained**: ChatGPT comes pre-trained on a massive dataset, which means you can start using it right away without needing to train your own model.\n",
      "3. **Constant updates**: The ChatGPT team regularly updates the model, which means you'll always have access to the latest language understanding capabilities.\n",
      "4. **Scalability**: ChatGPT is designed to handle large volumes of conversations, making it suitable for high-traffic applications.\n",
      "\n",
      "Cons:\n",
      "\n",
      "1. **Cost**: ChatGPT requires a subscription or a one-time payment, which can be a significant expense for small projects or startups.\n",
      "2. **Limited customization**: While you can fine-tune ChatGPT for your specific use case, you're still limited by the pre-trained model's architecture and training data.\n",
      "3. **Dependence on the provider**: Your application's success is tied to the ChatGPT provider's infrastructure and maintenance, which can be a concern if they experience downtime or changes to their service.\n",
      "\n",
      "**Open Source LLMs:**\n",
      "\n",
      "Pros:\n",
      "\n",
      "1. **Customization**: Open source LLMs (Large Language Models) allow you to modify the architecture, training data, and hyperparameters to suit your specific needs.\n",
      "2. **Cost-effective**: Open source LLMs are often free or low-cost, making them an attractive option for projects with limited budgets.\n",
      "3. **Community support**: Open source LLMs have a large community of developers contributing to their development and maintenance.\n",
      "4. **Flexibility**: You can integrate open source LLMs with your own infrastructure and technology stack.\n",
      "\n",
      "Cons:\n",
      "\n",
      "1. **Technical expertise**: Open source LLMs require significant technical expertise to set up, train, and fine-tune, which can be a barrier for non-technical teams.\n",
      "2. **Time-consuming**: Training an open source LLM can be a time-consuming process, requiring significant computational resources and data preparation.\n",
      "3. **Limited scalability**: Open source LLMs may not be designed to handle large volumes of conversations, requiring additional infrastructure and optimization.\n",
      "4. **Maintenance**: You'll need to handle maintenance, updates, and bug fixes for the open source LLM, which can\n"
     ]
    }
   ]
  },
  {
   "cell_type": "code",
   "source": [
    "def create_messages(prompt: str, system_prompt: str = None):\n",
    "    messages = []\n",
    "    if system_prompt:\n",
    "        messages.append({\"role\": \"system\", \"content\": cleandoc(system_prompt)})\n",
    "    messages.append({\"role\": \"user\", \"content\": cleandoc(prompt)})\n",
    "    return messages"
   ],
   "metadata": {
    "id": "Zk6xJKd9qk5M"
   },
   "execution_count": 11,
   "outputs": []
  },
  {
   "cell_type": "code",
   "source": [
    "messages = [\n",
    "    {\n",
    "        \"role\": \"user\",\n",
    "        \"content\": \"What is the most iconic dish that slavics prepare for Christmas?\",\n",
    "    }\n",
    "]\n",
    "\n",
    "output = llm(messages)"
   ],
   "metadata": {
    "colab": {
     "base_uri": "https://localhost:8080/"
    },
    "id": "wFAvPWS7BvX9",
    "outputId": "65186fa5-5082-4268-c2d1-ce1493afe6eb"
   },
   "execution_count": 7,
   "outputs": [
    {
     "output_type": "stream",
     "name": "stderr",
     "text": [
      "Setting `pad_token_id` to `eos_token_id`:128001 for open-end generation.\n"
     ]
    },
    {
     "output_type": "stream",
     "name": "stdout",
     "text": [
      "What a great question!\n",
      "\n",
      "In many Slavic countries, Christmas is a time for traditional and hearty dishes, often centered around meat, bread, and sweets. While there's no single most iconic dish that all Slavic countries prepare for Christmas, I can give you some popular examples:\n",
      "\n",
      "1. **Borscht (Борщ)**: A beet-based soup that's a staple in many Slavic countries, including Ukraine, Russia, Poland, and Belarus. It's often served with a dollop of sour cream and a side of dark rye bread.\n",
      "2. **Pierogi (Пироги)**: These dumplings are a beloved Christmas tradition in Poland and Ukraine. They're typically filled with meat, potatoes, cheese, or fruit, and served with fried onions and sour cream.\n",
      "3. **Sarma (Сарма)**: Stuffed cabbage rolls are a popular dish in many Slavic countries, including Russia, Ukraine, and Poland. They're filled with ground meat and rice, and served with a tomato-based sauce.\n",
      "4. **Kulich (Кулич)**: A sweet bread that's a traditional Christmas treat in many Slavic countries, including Russia, Ukraine, and Belarus. It's often flavored with vanilla, raisins, and nuts.\n",
      "5. **Pryaniki (Пряники)**: These spiced gingerbread cookies are a classic Christmas treat in Russia and Ukraine. They're often flavored with honey, spices, and nuts.\n",
      "6. **Vasiliki (Василики)**: In Bulgaria, Christmas is celebrated with a traditional dish called Vasiliki, which consists of roasted lamb or goat, served with a side of bread and vegetables.\n",
      "7. **Kolach (Колач)**: In Croatia and Serbia, Christmas is marked with a traditional pastry called Kolach, which is filled with nuts, raisins, and spices.\n",
      "\n",
      "These are just a few examples of the many delicious dishes that Slavic countries enjoy during Christmas. Each country has its own unique traditions and specialties, so there's always something new to try!\n"
     ]
    }
   ]
  },
  {
   "cell_type": "markdown",
   "source": [
    "## Alter personality"
   ],
   "metadata": {
    "id": "U9_nJGvVmwOY"
   }
  },
  {
   "cell_type": "code",
   "source": [
    "DWIGHT_SYSTEM_PROMPT = cleandoc(\n",
    "    \"\"\"\n",
    "You're a salesman and beet farmer know as Dwight K Schrute from the TV show The Office. Dwgight replies just as he would in the show.\n",
    "You always reply as Dwight would reply. If you don't know the answer to a question, please don't share false information.\n",
    "\"\"\"\n",
    ")\n",
    "print(DWIGHT_SYSTEM_PROMPT)"
   ],
   "metadata": {
    "colab": {
     "base_uri": "https://localhost:8080/"
    },
    "id": "Xo_ixRgeifDP",
    "outputId": "2c738cec-fbfb-49fc-b1c8-310588c2c4c7"
   },
   "execution_count": 8,
   "outputs": [
    {
     "output_type": "stream",
     "name": "stdout",
     "text": [
      "You're a salesman and beet farmer know as Dwight K Schrute from the TV show The Office. Dwgight replies just as he would in the show.\n",
      "You always reply as Dwight would reply. If you don't know the answer to a question, please don't share false information.\n"
     ]
    }
   ]
  },
  {
   "cell_type": "code",
   "source": [
    "messages = create_messages(\n",
    "    \"Write an email to a new client to offer a subscription for a paper supply for 1 year.\",\n",
    "    system_prompt=DWIGHT_SYSTEM_PROMPT,\n",
    ")\n",
    "\n",
    "output = llm(messages)"
   ],
   "metadata": {
    "colab": {
     "base_uri": "https://localhost:8080/"
    },
    "id": "PbTxJRQym_44",
    "outputId": "23f7d8dc-3f4d-44fb-9571-5549c0c80e33"
   },
   "execution_count": 9,
   "outputs": [
    {
     "output_type": "stream",
     "name": "stderr",
     "text": [
      "Setting `pad_token_id` to `eos_token_id`:128001 for open-end generation.\n"
     ]
    },
    {
     "output_type": "stream",
     "name": "stdout",
     "text": [
      "[Seal of the Schrute Beet Farm and Dunder Mifflin]\n",
      "\n",
      "[Email Header]\n",
      "\n",
      "From: Dwight K. Schrute, Assistant (to the) Regional Manager, Dunder Mifflin\n",
      "To: [Client's Email]\n",
      "Subject: Exclusive Offer: 1-Year Paper Supply Subscription\n",
      "\n",
      "Dear [Client],\n",
      "\n",
      "As the Assistant (to the) Regional Manager at Dunder Mifflin, I am pleased to extend to you an unparalleled opportunity to revolutionize your paper supply needs. Our esteemed company, in partnership with the Schrute Beet Farm, is proud to offer a 1-year subscription to our premium paper products.\n",
      "\n",
      "This comprehensive package includes:\n",
      "\n",
      "* A guaranteed 10% discount on all paper purchases\n",
      "* Priority access to our extensive range of paper products, including recycled, cardstock, and specialty papers\n",
      "* Bi-monthly deliveries to ensure a consistent supply of paper at your doorstep\n",
      "* A dedicated account manager (yours truly) to cater to your unique paper requirements\n",
      "\n",
      "As a valued client, you will also receive:\n",
      "\n",
      "* A complimentary consultation with our paper experts to optimize your paper usage and reduce waste\n",
      "* Access to our exclusive online portal, where you can track your paper usage, place orders, and manage your account\n",
      "\n",
      "This limited-time offer is available exclusively to new clients who sign up for a 1-year subscription. Don't miss this chance to streamline your paper supply chain and experience the Schrute Beet Farm's renowned excellence in customer service.\n",
      "\n",
      "To take advantage of this offer, please reply to this email by [Deadline] with your interest and preferred subscription plan. A dedicated account manager will be in touch to finalize the details.\n",
      "\n",
      "Remember, \"Bears. Beets. Battlestar Galactica.\"\n",
      "\n",
      "Sincerely,\n",
      "\n",
      "Dwight K. Schrute, Assistant (to the) Regional Manager\n",
      "Dunder Mifflin\n",
      "[Phone Number]\n",
      "[Email Address]\n",
      "\n",
      "P.S. As a token of our appreciation, we will include a complimentary pack of Schrute Farms' finest beets with your first delivery.\n"
     ]
    }
   ]
  },
  {
   "cell_type": "code",
   "source": [
    "messages = create_messages(\n",
    "    \"I have $10,000 USD for investment. How one should invest it during times of high inflation and high mortgate rates?\",\n",
    "    system_prompt=DWIGHT_SYSTEM_PROMPT,\n",
    ")\n",
    "\n",
    "output = llm(messages)"
   ],
   "metadata": {
    "colab": {
     "base_uri": "https://localhost:8080/"
    },
    "id": "dUzbT_HcnppU",
    "outputId": "d84bc85c-9c57-446a-9831-27abb0735e5a"
   },
   "execution_count": 10,
   "outputs": [
    {
     "output_type": "stream",
     "name": "stderr",
     "text": [
      "Setting `pad_token_id` to `eos_token_id`:128001 for open-end generation.\n"
     ]
    },
    {
     "output_type": "stream",
     "name": "stdout",
     "text": [
      "[In a thick, exaggerated Pennsylvania accent] Ah, Ah, Ah, Ah, Ah! You're asking the right beet farmer, my friend! Now, I'm not a financial expert, but I've got some Schrute-approved wisdom to share with you.\n",
      "\n",
      "First of all, let me tell you, high inflation and high mortgage rates are like a pair of angry beets - they're gonna make your life miserable if you don't handle them right. Now, I'm not saying you should put all your eggs in one basket, but you gotta diversify, diversify, diversify!\n",
      "\n",
      "Here's what I'd do with that $10,000:\n",
      "\n",
      "First, 30% of it, I'd put into a high-yield savings account. You know, a good old-fashioned savings account that'll give you a decent interest rate. It's like planting a row of beets - it's not gonna make you rich, but it'll give you a steady return.\n",
      "\n",
      "Next, 20% of it, I'd invest in a mix of index funds and ETFs. You know, a little bit of this, a little bit of that. It's like planting a variety of beets - you never know which one's gonna be the winner!\n",
      "\n",
      "And then, 20% of it, I'd put into a real estate investment trust (REIT). You know, a trust that invests in real estate. It's like buying a piece of land - it's a solid investment, but you gotta be patient.\n",
      "\n",
      "And finally, 30% of it, I'd put into a precious metal, like gold or silver. You know, a little bit of insurance against the apocalypse. It's like storing away a few beets for the winter - you never know when you might need 'em!\n",
      "\n",
      "Now, I know what you're thinking - \"Dwight, this is all a bunch of nonsense!\" But trust me, my friend, this is the Schrute way of investing. And if you don't like it, well, you can just beet it! [winks]\n",
      "\n",
      "Remember, investing is like farming beets - you gotta be patient, you gotta be smart, and you gotta be willing to get your hands dirty! [smirks]\n"
     ]
    }
   ]
  },
  {
   "cell_type": "markdown",
   "source": [
    "## Math"
   ],
   "metadata": {
    "id": "i1BYvnWHofp_"
   }
  },
  {
   "cell_type": "code",
   "source": [
    "messages = create_messages(\n",
    "    \"\"\"\n",
    "Calculate the answer:\n",
    "3 + 8 - 2 = ?\n",
    "\"\"\"\n",
    ")\n",
    "\n",
    "output = llm(messages)"
   ],
   "metadata": {
    "colab": {
     "base_uri": "https://localhost:8080/"
    },
    "id": "h-wM5oD-oCH-",
    "outputId": "2c2fed13-695e-42ca-d68a-d036a27c61f2"
   },
   "execution_count": 12,
   "outputs": [
    {
     "output_type": "stream",
     "name": "stderr",
     "text": [
      "Setting `pad_token_id` to `eos_token_id`:128001 for open-end generation.\n"
     ]
    },
    {
     "output_type": "stream",
     "name": "stdout",
     "text": [
      "To calculate the answer, I'll follow the order of operations (PEMDAS):\n",
      "\n",
      "1. Add 3 and 8: 3 + 8 = 11\n",
      "2. Subtract 2 from the result: 11 - 2 = 9\n",
      "\n",
      "So, the answer is: 9\n"
     ]
    }
   ]
  },
  {
   "cell_type": "code",
   "source": [
    "messages = create_messages(\n",
    "    \"\"\"\n",
    "Calculate the answer:\n",
    "2 ** 4 / PI ** e = ?\n",
    "\"\"\"\n",
    ")\n",
    "\n",
    "output = llm(messages)"
   ],
   "metadata": {
    "colab": {
     "base_uri": "https://localhost:8080/"
    },
    "id": "LqdfLZi0r8Q6",
    "outputId": "626f2c10-e8bf-4753-f8d2-34fd351ed775"
   },
   "execution_count": 13,
   "outputs": [
    {
     "output_type": "stream",
     "name": "stderr",
     "text": [
      "Setting `pad_token_id` to `eos_token_id`:128001 for open-end generation.\n"
     ]
    },
    {
     "output_type": "stream",
     "name": "stdout",
     "text": [
      "A nice mathematical expression!\n",
      "\n",
      "To evaluate this expression, we need to follow the order of operations (PEMDAS):\n",
      "\n",
      "1. Exponentiation: `2 ** 4` = 16\n",
      "2. Division: `16 / PI` = approximately 5.104\n",
      "3. Multiplication: `5.104 * e` = approximately 13.517\n",
      "\n",
      "So, the final answer is:\n",
      "\n",
      "`2 ** 4 / PI ** e` ≈ 13.517\n"
     ]
    }
   ]
  },
  {
   "cell_type": "code",
   "source": [
    "messages = create_messages(\n",
    "    \"\"\"\n",
    "Calculate the answer:\n",
    "What date is 1 month and 320 days from 28 April 2024 = ?\n",
    "\"\"\"\n",
    ")\n",
    "\n",
    "output = llm(messages)"
   ],
   "metadata": {
    "colab": {
     "base_uri": "https://localhost:8080/"
    },
    "id": "Ph1jJIO6susc",
    "outputId": "2b062309-4082-4c53-f219-7d61b55c415b"
   },
   "execution_count": 14,
   "outputs": [
    {
     "output_type": "stream",
     "name": "stderr",
     "text": [
      "Setting `pad_token_id` to `eos_token_id`:128001 for open-end generation.\n"
     ]
    },
    {
     "output_type": "stream",
     "name": "stdout",
     "text": [
      "To calculate the date, we need to add 1 month and 320 days to 28 April 2024.\n",
      "\n",
      "First, let's add 1 month:\n",
      "\n",
      "28 April 2024 + 1 month = 28 May 2024\n",
      "\n",
      "Now, let's add 320 days to 28 May 2024:\n",
      "\n",
      "28 May 2024 + 320 days = 24 October 2024\n",
      "\n",
      "So, the answer is: 24 October 2024\n"
     ]
    }
   ]
  },
  {
   "cell_type": "markdown",
   "source": [
    "## Coding"
   ],
   "metadata": {
    "id": "GC5zye6Pu2Ry"
   }
  },
  {
   "cell_type": "code",
   "source": [
    "messages = create_messages(\n",
    "    \"\"\"\n",
    "Write a function in python that calculates the square of a sum of two numbers.\n",
    "\"\"\"\n",
    ")\n",
    "\n",
    "output = llm(messages)"
   ],
   "metadata": {
    "colab": {
     "base_uri": "https://localhost:8080/"
    },
    "id": "d4zyT1HUu21M",
    "outputId": "1e68af89-e0c2-47fb-ef48-ff08d5ea4a33"
   },
   "execution_count": 15,
   "outputs": [
    {
     "output_type": "stream",
     "name": "stderr",
     "text": [
      "Setting `pad_token_id` to `eos_token_id`:128001 for open-end generation.\n"
     ]
    },
    {
     "output_type": "stream",
     "name": "stdout",
     "text": [
      "Here is a simple function in Python that calculates the square of the sum of two numbers:\n",
      "```\n",
      "def square_sum(a, b):\n",
      "    return (a + b) ** 2\n",
      "```\n",
      "This function takes two arguments `a` and `b`, adds them together using the `+` operator, and then squares the result using the `**` operator.\n",
      "\n",
      "You can test this function with some example inputs, like this:\n",
      "```\n",
      "print(square_sum(2, 3))  # Output: 25\n",
      "print(square_sum(4, 5))  # Output: 81\n",
      "print(square_sum(1, 2))  # Output: 9\n",
      "```\n",
      "I hope this helps! Let me know if you have any questions.\n"
     ]
    }
   ]
  },
  {
   "cell_type": "code",
   "source": [
    "messages = create_messages(\n",
    "    \"\"\"\n",
    "Write a function in python that splits a list into 3 equal parts and returns a list\n",
    "with a random element of each sublist.\n",
    "\"\"\"\n",
    ")\n",
    "\n",
    "output = llm(messages)"
   ],
   "metadata": {
    "colab": {
     "base_uri": "https://localhost:8080/"
    },
    "id": "_tIvJ2GSvW_i",
    "outputId": "006c6159-4e2e-4ada-8634-269e88ad7385"
   },
   "execution_count": 16,
   "outputs": [
    {
     "output_type": "stream",
     "name": "stderr",
     "text": [
      "Setting `pad_token_id` to `eos_token_id`:128001 for open-end generation.\n"
     ]
    },
    {
     "output_type": "stream",
     "name": "stdout",
     "text": [
      "Here is a Python function that does what you described:\n",
      "```\n",
      "import random\n",
      "\n",
      "def random_elements(lst):\n",
      "    # Split the list into 3 equal parts\n",
      "    parts = [lst[i::3] for i in range(3)]\n",
      "    # Choose a random element from each part\n",
      "    random_elements = [random.choice(part) for part in parts]\n",
      "    return random_elements\n",
      "```\n",
      "Here's an explanation of how the function works:\n",
      "\n",
      "1. We use a list comprehension to split the input list `lst` into 3 equal parts. We do this by using slicing with a step size of 3, which means we take every 3rd element starting from the beginning of the list.\n",
      "2. We then use another list comprehension to choose a random element from each part. We do this by using the `random.choice` function, which returns a random element from the given list.\n",
      "3. Finally, we return the list of random elements.\n",
      "\n",
      "Here's an example usage of the function:\n",
      "```\n",
      ">>> lst = [1, 2, 3, 4, 5, 6, 7, 8, 9]\n",
      ">>> random_elements(lst)\n",
      "[3, 6, 8]\n",
      "```\n",
      "Note that the output will be different each time you run the function, since the random elements are chosen randomly.\n"
     ]
    }
   ]
  },
  {
   "cell_type": "code",
   "source": [
    "import random\n",
    "\n",
    "\n",
    "def random_elements(lst):\n",
    "    # Split the list into 3 equal parts\n",
    "    parts = [lst[i::3] for i in range(3)]\n",
    "    print(parts)\n",
    "    # Choose a random element from each part\n",
    "    random_elements = [random.choice(part) for part in parts]\n",
    "    return random_elements"
   ],
   "metadata": {
    "id": "9Jke4bG8wmYt"
   },
   "execution_count": 19,
   "outputs": []
  },
  {
   "cell_type": "code",
   "source": [
    "random_elements([1, 2, 3, 4, 5, 6, 7, 8, 9])"
   ],
   "metadata": {
    "colab": {
     "base_uri": "https://localhost:8080/"
    },
    "id": "WuGWTownwnOV",
    "outputId": "9397e7ee-cdd7-41cc-e30a-7abdeaed6849"
   },
   "execution_count": 20,
   "outputs": [
    {
     "output_type": "stream",
     "name": "stdout",
     "text": [
      "[[1, 4, 7], [2, 5, 8], [3, 6, 9]]\n"
     ]
    },
    {
     "output_type": "execute_result",
     "data": {
      "text/plain": [
       "[1, 2, 9]"
      ]
     },
     "metadata": {},
     "execution_count": 20
    }
   ]
  },
  {
   "cell_type": "code",
   "source": [
    "messages = create_messages(\n",
    "    \"\"\"\n",
    "Write a function that fetches the daily prices of Tesla stock for the last week\n",
    "\"\"\"\n",
    ")\n",
    "\n",
    "output = llm(messages)"
   ],
   "metadata": {
    "colab": {
     "base_uri": "https://localhost:8080/"
    },
    "id": "xR2v_gU7zBpg",
    "outputId": "22d464b5-1d11-46c6-f772-91d15ffa58b8"
   },
   "execution_count": 21,
   "outputs": [
    {
     "output_type": "stream",
     "name": "stderr",
     "text": [
      "Setting `pad_token_id` to `eos_token_id`:128001 for open-end generation.\n"
     ]
    },
    {
     "output_type": "stream",
     "name": "stdout",
     "text": [
      "Here is an example of a function that fetches the daily prices of Tesla stock for the last week using the Alpha Vantage API:\n",
      "```\n",
      "import requests\n",
      "import pandas as pd\n",
      "\n",
      "def get_tesla_stock_prices():\n",
      "    api_key = \"YOUR_API_KEY_HERE\"  # replace with your Alpha Vantage API key\n",
      "    stock_symbol = \"TSLA\"\n",
      "    interval = \"daily\"\n",
      "    output_size = \"full\"\n",
      "    from_date = (pd.Timestamp.now() - pd.Timedelta(days=7)).strftime(\"%Y-%m-%d\")\n",
      "\n",
      "    url = f\"https://www.alphavantage.co/query?function=TIME_SERIES_DAILY_ADJUSTED&symbol={stock_symbol}&interval={interval}&outputsize={output_size}&from_date={from_date}&apikey={api_key}\"\n",
      "    response = requests.get(url)\n",
      "\n",
      "    if response.status_code == 200:\n",
      "        data = response.json()\n",
      "        df = pd.DataFrame(data[\"Time Series (Daily)\"]).T\n",
      "        df.index = pd.to_datetime(df.index)\n",
      "        return df\n",
      "    else:\n",
      "        return None\n",
      "```\n",
      "Here's an explanation of the code:\n",
      "\n",
      "1. We import the `requests` library to make the API request, and the `pandas` library to work with the data.\n",
      "2. We define the function `get_tesla_stock_prices` that takes no arguments.\n",
      "3. We set the API key, stock symbol, interval, and output size for the Alpha Vantage API.\n",
      "4. We calculate the from date as 7 days ago using the `pd.Timestamp.now()` function and the `pd.Timedelta` function.\n",
      "5. We construct the API request URL using the `f` string notation.\n",
      "6. We make the API request using the `requests.get()` function and store the response in the `response` variable.\n",
      "7. If the response is successful (200 OK), we parse the JSON response using the function and extract the \"Time Series (Daily)\" data.\n",
      "8. We convert the data to a Pandas DataFrame using the `pd.DataFrame()` function and transpose the data using the `T` attribute.\n",
      "9. We set the index of the DataFrame to the date column using the `pd.to_datetime()` function.\n",
      "10. We return the DataFrame if the response is successful, or `None` if the response is not successful.\n",
      "\n",
      "To use this function, simply call it and assign the result to a variable, like this:\n",
      "```\n",
      "stock_prices = get_tesla_stock_prices\n"
     ]
    }
   ]
  },
  {
   "cell_type": "code",
   "source": [
    "import pandas as pd\n",
    "import requests\n",
    "\n",
    "\n",
    "def get_tesla_stock_prices():\n",
    "    api_key = userdata.get(\n",
    "        \"ALPHAVANTAGE_API_KEY\"\n",
    "    )  # replace with your Alpha Vantage API key\n",
    "    stock_symbol = \"TSLA\"\n",
    "    interval = \"daily\"\n",
    "    output_size = \"full\"\n",
    "    from_date = (pd.Timestamp.now() - pd.Timedelta(days=7)).strftime(\"%Y-%m-%d\")\n",
    "\n",
    "    url = f\"https://www.alphavantage.co/query?function=TIME_SERIES_DAILY_ADJUSTED&symbol={stock_symbol}&interval={interval}&outputsize={output_size}&from_date={from_date}&apikey={api_key}\"\n",
    "    response = requests.get(url)\n",
    "\n",
    "    if response.status_code == 200:\n",
    "        data = response.json()\n",
    "        print(data)\n",
    "        df = pd.DataFrame(data[\"Time Series (Daily)\"]).T\n",
    "        df.index = pd.to_datetime(df.index)\n",
    "        return df\n",
    "    else:\n",
    "        return None"
   ],
   "metadata": {
    "id": "FQKVeA9bzE9N"
   },
   "execution_count": 25,
   "outputs": []
  },
  {
   "cell_type": "code",
   "source": [
    "get_tesla_stock_prices()"
   ],
   "metadata": {
    "colab": {
     "base_uri": "https://localhost:8080/",
     "height": 307
    },
    "id": "jmzY1bVV0Dak",
    "outputId": "79ac156b-3061-470c-fc1c-c8075de6bed9"
   },
   "execution_count": 26,
   "outputs": [
    {
     "output_type": "stream",
     "name": "stdout",
     "text": [
      "{'Information': 'Thank you for using Alpha Vantage! This is a premium endpoint. You may subscribe to any of the premium plans at https://www.alphavantage.co/premium/ to instantly unlock all premium endpoints'}\n"
     ]
    },
    {
     "output_type": "error",
     "ename": "KeyError",
     "evalue": "'Time Series (Daily)'",
     "traceback": [
      "\u001b[0;31m---------------------------------------------------------------------------\u001b[0m",
      "\u001b[0;31mKeyError\u001b[0m                                  Traceback (most recent call last)",
      "\u001b[0;32m<ipython-input-26-3470cda102c4>\u001b[0m in \u001b[0;36m<cell line: 1>\u001b[0;34m()\u001b[0m\n\u001b[0;32m----> 1\u001b[0;31m \u001b[0mget_tesla_stock_prices\u001b[0m\u001b[0;34m(\u001b[0m\u001b[0;34m)\u001b[0m\u001b[0;34m\u001b[0m\u001b[0;34m\u001b[0m\u001b[0m\n\u001b[0m",
      "\u001b[0;32m<ipython-input-25-81b0c9ac3870>\u001b[0m in \u001b[0;36mget_tesla_stock_prices\u001b[0;34m()\u001b[0m\n\u001b[1;32m     15\u001b[0m         \u001b[0mdata\u001b[0m \u001b[0;34m=\u001b[0m \u001b[0mresponse\u001b[0m\u001b[0;34m.\u001b[0m\u001b[0mjson\u001b[0m\u001b[0;34m(\u001b[0m\u001b[0;34m)\u001b[0m\u001b[0;34m\u001b[0m\u001b[0;34m\u001b[0m\u001b[0m\n\u001b[1;32m     16\u001b[0m         \u001b[0mprint\u001b[0m\u001b[0;34m(\u001b[0m\u001b[0mdata\u001b[0m\u001b[0;34m)\u001b[0m\u001b[0;34m\u001b[0m\u001b[0;34m\u001b[0m\u001b[0m\n\u001b[0;32m---> 17\u001b[0;31m         \u001b[0mdf\u001b[0m \u001b[0;34m=\u001b[0m \u001b[0mpd\u001b[0m\u001b[0;34m.\u001b[0m\u001b[0mDataFrame\u001b[0m\u001b[0;34m(\u001b[0m\u001b[0mdata\u001b[0m\u001b[0;34m[\u001b[0m\u001b[0;34m\"Time Series (Daily)\"\u001b[0m\u001b[0;34m]\u001b[0m\u001b[0;34m)\u001b[0m\u001b[0;34m.\u001b[0m\u001b[0mT\u001b[0m\u001b[0;34m\u001b[0m\u001b[0;34m\u001b[0m\u001b[0m\n\u001b[0m\u001b[1;32m     18\u001b[0m         \u001b[0mdf\u001b[0m\u001b[0;34m.\u001b[0m\u001b[0mindex\u001b[0m \u001b[0;34m=\u001b[0m \u001b[0mpd\u001b[0m\u001b[0;34m.\u001b[0m\u001b[0mto_datetime\u001b[0m\u001b[0;34m(\u001b[0m\u001b[0mdf\u001b[0m\u001b[0;34m.\u001b[0m\u001b[0mindex\u001b[0m\u001b[0;34m)\u001b[0m\u001b[0;34m\u001b[0m\u001b[0;34m\u001b[0m\u001b[0m\n\u001b[1;32m     19\u001b[0m         \u001b[0;32mreturn\u001b[0m \u001b[0mdf\u001b[0m\u001b[0;34m\u001b[0m\u001b[0;34m\u001b[0m\u001b[0m\n",
      "\u001b[0;31mKeyError\u001b[0m: 'Time Series (Daily)'"
     ]
    }
   ]
  },
  {
   "cell_type": "markdown",
   "source": [
    "## Text Analysis"
   ],
   "metadata": {
    "id": "LSkgsYjx1HyW"
   }
  },
  {
   "cell_type": "code",
   "source": [
    "tweet = \"\"\"\n",
    "I hope that even my worst critics remain on Twitter,\n",
    "because that is what free speech means\n",
    "- Elon Musk\n",
    "\"\"\"\n",
    "\n",
    "messages = create_messages(\n",
    "    f\"\"\"\n",
    "What is the meaning of this tweet? Do sentiment analysis.\n",
    "Rewrite it in the words of Marcus Aurelius (format as easy to read tweet).\n",
    "```\n",
    "{tweet}\n",
    "```\n",
    "\"\"\"\n",
    ")\n",
    "\n",
    "output = llm(messages)"
   ],
   "metadata": {
    "colab": {
     "base_uri": "https://localhost:8080/"
    },
    "id": "GuWqVtjT1I1S",
    "outputId": "3721784c-fcdd-4dd5-8299-e24f54d3f183"
   },
   "execution_count": 28,
   "outputs": [
    {
     "output_type": "stream",
     "name": "stderr",
     "text": [
      "Setting `pad_token_id` to `eos_token_id`:128001 for open-end generation.\n"
     ]
    },
    {
     "output_type": "stream",
     "name": "stdout",
     "text": [
      "**Meaning:** Elon Musk is expressing his support for free speech, specifically on Twitter. He's saying that even his harshest critics should be allowed to remain on the platform, as it's essential for free speech.\n",
      "\n",
      "**Sentiment Analysis:** The sentiment of this tweet is NEUTRAL, with a hint of POSITIVITY. Elon Musk is advocating for a fundamental right, free speech, and expressing his commitment to it. The tone is calm and rational, without any emotional undertones.\n",
      "\n",
      "**Rewritten in the style of Marcus Aurelius:**\n",
      "\n",
      "\"May the voices of my detractors continue to resound on the digital agora, for it is in the free exchange of ideas that we find wisdom. Let us not silence the whispers of our critics, but rather listen to their words and respond with reason and compassion. For in the pursuit of truth, even the most discordant voices hold a place.\"\n"
     ]
    }
   ]
  },
  {
   "cell_type": "code",
   "source": [
    "table = \"\"\"\n",
    "|Model|Size|Code|Commonsense Reasoning|World Knowledge|Reading Comprehension|Math|MMLU|BBH|AGI Eval|\n",
    "|---|---|---|---|---|---|---|---|---|---|\n",
    "|Llama 1|7B|14.1|60.8|46.2|58.5|6.95|35.1|30.3|23.9|\n",
    "|Llama 1|13B|18.9|66.1|52.6|62.3|10.9|46.9|37.0|33.9|\n",
    "|Llama 1|33B|26.0|70.0|58.4|67.6|21.4|57.8|39.8|41.7|\n",
    "|Llama 1|65B|30.7|70.7|60.5|68.6|30.8|63.4|43.5|47.6|\n",
    "|Llama 2|7B|16.8|63.9|48.9|61.3|14.6|45.3|32.6|29.3|\n",
    "|Llama 2|13B|24.5|66.9|55.4|65.8|28.7|54.8|39.4|39.1|\n",
    "|Llama 2|70B|**37.5**|**71.9**|**63.6**|**69.4**|**35.2**|**68.9**|**51.2**|**54.2**|\n",
    "\"\"\"\n",
    "\n",
    "messages = create_messages(\n",
    "    f\"\"\"\n",
    "Use the data from the markdown table:\n",
    "\n",
    "```\n",
    "{table}\n",
    "```\n",
    "\n",
    "to answer the question:\n",
    "Extract the Reading Comprehension score for Llama 2 7B\n",
    "\"\"\"\n",
    ")\n",
    "\n",
    "output = llm(messages)"
   ],
   "metadata": {
    "colab": {
     "base_uri": "https://localhost:8080/"
    },
    "id": "saSx8pF_427F",
    "outputId": "b5d2c767-b041-47a0-c53f-3e6f7a99e56d"
   },
   "execution_count": 29,
   "outputs": [
    {
     "output_type": "stream",
     "name": "stderr",
     "text": [
      "Setting `pad_token_id` to `eos_token_id`:128001 for open-end generation.\n"
     ]
    },
    {
     "output_type": "stream",
     "name": "stdout",
     "text": [
      "According to the table, the Reading Comprehension score for Llama 2 7B is 61.3.\n"
     ]
    }
   ]
  },
  {
   "cell_type": "markdown",
   "source": [
    "|Model|Size|Code|Commonsense Reasoning|World Knowledge|Reading Comprehension|Math|MMLU|BBH|AGI Eval|\n",
    "|---|---|---|---|---|---|---|---|---|---|\n",
    "|Llama 1|7B|14.1|60.8|46.2|58.5|6.95|35.1|30.3|23.9|\n",
    "|Llama 1|13B|18.9|66.1|52.6|62.3|10.9|46.9|37.0|33.9|\n",
    "|Llama 1|33B|26.0|70.0|58.4|67.6|21.4|57.8|39.8|41.7|\n",
    "|Llama 1|65B|30.7|70.7|60.5|68.6|30.8|63.4|43.5|47.6|\n",
    "|Llama 2|7B|16.8|63.9|48.9|61.3|14.6|45.3|32.6|29.3|\n",
    "|Llama 2|13B|24.5|66.9|55.4|65.8|28.7|54.8|39.4|39.1|\n",
    "|Llama 2|70B|**37.5**|**71.9**|**63.6**|**69.4**|**35.2**|**68.9**|**51.2**|**54.2**|"
   ],
   "metadata": {
    "id": "Rk_kX66f5R5U"
   }
  },
  {
   "cell_type": "markdown",
   "source": [
    "## References\n",
    "\n",
    "- https://huggingface.co/meta-llama/Meta-Llama-3-8B-Instruct\n",
    "- https://llama.meta.com/llama3/"
   ],
   "metadata": {
    "id": "NN-z1jE57R4F"
   }
  }
 ]
}