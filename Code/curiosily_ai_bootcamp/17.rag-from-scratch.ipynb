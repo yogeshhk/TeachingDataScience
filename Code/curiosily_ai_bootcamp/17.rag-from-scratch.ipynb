{
 "nbformat": 4,
 "nbformat_minor": 0,
 "metadata": {
  "colab": {
   "provenance": []
  },
  "kernelspec": {
   "name": "python3",
   "display_name": "Python 3"
  },
  "language_info": {
   "name": "python"
  },
  "widgets": {
   "application/vnd.jupyter.widget-state+json": {
    "6a08a185a48c400caea6529078436117": {
     "model_module": "@jupyter-widgets/controls",
     "model_name": "HBoxModel",
     "model_module_version": "1.5.0",
     "state": {
      "_dom_classes": [],
      "_model_module": "@jupyter-widgets/controls",
      "_model_module_version": "1.5.0",
      "_model_name": "HBoxModel",
      "_view_count": null,
      "_view_module": "@jupyter-widgets/controls",
      "_view_module_version": "1.5.0",
      "_view_name": "HBoxView",
      "box_style": "",
      "children": [
       "IPY_MODEL_41f14888dbbf40a099e03ea3cc951660",
       "IPY_MODEL_ad9541c5d67c4aaea5ae8b5c0c2f249f",
       "IPY_MODEL_1293c51abca7465db546b04c966f2161"
      ],
      "layout": "IPY_MODEL_0126a7df2a8744e7a161d1ddc216a4b4"
     }
    },
    "41f14888dbbf40a099e03ea3cc951660": {
     "model_module": "@jupyter-widgets/controls",
     "model_name": "HTMLModel",
     "model_module_version": "1.5.0",
     "state": {
      "_dom_classes": [],
      "_model_module": "@jupyter-widgets/controls",
      "_model_module_version": "1.5.0",
      "_model_name": "HTMLModel",
      "_view_count": null,
      "_view_module": "@jupyter-widgets/controls",
      "_view_module_version": "1.5.0",
      "_view_name": "HTMLView",
      "description": "",
      "description_tooltip": null,
      "layout": "IPY_MODEL_c6bb90fd51b94a929baa7bd9127a9b6a",
      "placeholder": "​",
      "style": "IPY_MODEL_04a6af938093464d8d38ffda74b43ec5",
      "value": "Fetching 5 files: 100%"
     }
    },
    "ad9541c5d67c4aaea5ae8b5c0c2f249f": {
     "model_module": "@jupyter-widgets/controls",
     "model_name": "FloatProgressModel",
     "model_module_version": "1.5.0",
     "state": {
      "_dom_classes": [],
      "_model_module": "@jupyter-widgets/controls",
      "_model_module_version": "1.5.0",
      "_model_name": "FloatProgressModel",
      "_view_count": null,
      "_view_module": "@jupyter-widgets/controls",
      "_view_module_version": "1.5.0",
      "_view_name": "ProgressView",
      "bar_style": "success",
      "description": "",
      "description_tooltip": null,
      "layout": "IPY_MODEL_7aaa47f004d74f14b3a47dd70a657276",
      "max": 5,
      "min": 0,
      "orientation": "horizontal",
      "style": "IPY_MODEL_717e4c8b4fd6460c8b7fec5b24ad54c6",
      "value": 5
     }
    },
    "1293c51abca7465db546b04c966f2161": {
     "model_module": "@jupyter-widgets/controls",
     "model_name": "HTMLModel",
     "model_module_version": "1.5.0",
     "state": {
      "_dom_classes": [],
      "_model_module": "@jupyter-widgets/controls",
      "_model_module_version": "1.5.0",
      "_model_name": "HTMLModel",
      "_view_count": null,
      "_view_module": "@jupyter-widgets/controls",
      "_view_module_version": "1.5.0",
      "_view_name": "HTMLView",
      "description": "",
      "description_tooltip": null,
      "layout": "IPY_MODEL_5e8ea1b906814639908203500847e101",
      "placeholder": "​",
      "style": "IPY_MODEL_ac0599ab81094a6b914766bb98c1f9e0",
      "value": " 5/5 [00:01&lt;00:00,  1.51it/s]"
     }
    },
    "0126a7df2a8744e7a161d1ddc216a4b4": {
     "model_module": "@jupyter-widgets/base",
     "model_name": "LayoutModel",
     "model_module_version": "1.2.0",
     "state": {
      "_model_module": "@jupyter-widgets/base",
      "_model_module_version": "1.2.0",
      "_model_name": "LayoutModel",
      "_view_count": null,
      "_view_module": "@jupyter-widgets/base",
      "_view_module_version": "1.2.0",
      "_view_name": "LayoutView",
      "align_content": null,
      "align_items": null,
      "align_self": null,
      "border": null,
      "bottom": null,
      "display": null,
      "flex": null,
      "flex_flow": null,
      "grid_area": null,
      "grid_auto_columns": null,
      "grid_auto_flow": null,
      "grid_auto_rows": null,
      "grid_column": null,
      "grid_gap": null,
      "grid_row": null,
      "grid_template_areas": null,
      "grid_template_columns": null,
      "grid_template_rows": null,
      "height": null,
      "justify_content": null,
      "justify_items": null,
      "left": null,
      "margin": null,
      "max_height": null,
      "max_width": null,
      "min_height": null,
      "min_width": null,
      "object_fit": null,
      "object_position": null,
      "order": null,
      "overflow": null,
      "overflow_x": null,
      "overflow_y": null,
      "padding": null,
      "right": null,
      "top": null,
      "visibility": null,
      "width": null
     }
    },
    "c6bb90fd51b94a929baa7bd9127a9b6a": {
     "model_module": "@jupyter-widgets/base",
     "model_name": "LayoutModel",
     "model_module_version": "1.2.0",
     "state": {
      "_model_module": "@jupyter-widgets/base",
      "_model_module_version": "1.2.0",
      "_model_name": "LayoutModel",
      "_view_count": null,
      "_view_module": "@jupyter-widgets/base",
      "_view_module_version": "1.2.0",
      "_view_name": "LayoutView",
      "align_content": null,
      "align_items": null,
      "align_self": null,
      "border": null,
      "bottom": null,
      "display": null,
      "flex": null,
      "flex_flow": null,
      "grid_area": null,
      "grid_auto_columns": null,
      "grid_auto_flow": null,
      "grid_auto_rows": null,
      "grid_column": null,
      "grid_gap": null,
      "grid_row": null,
      "grid_template_areas": null,
      "grid_template_columns": null,
      "grid_template_rows": null,
      "height": null,
      "justify_content": null,
      "justify_items": null,
      "left": null,
      "margin": null,
      "max_height": null,
      "max_width": null,
      "min_height": null,
      "min_width": null,
      "object_fit": null,
      "object_position": null,
      "order": null,
      "overflow": null,
      "overflow_x": null,
      "overflow_y": null,
      "padding": null,
      "right": null,
      "top": null,
      "visibility": null,
      "width": null
     }
    },
    "04a6af938093464d8d38ffda74b43ec5": {
     "model_module": "@jupyter-widgets/controls",
     "model_name": "DescriptionStyleModel",
     "model_module_version": "1.5.0",
     "state": {
      "_model_module": "@jupyter-widgets/controls",
      "_model_module_version": "1.5.0",
      "_model_name": "DescriptionStyleModel",
      "_view_count": null,
      "_view_module": "@jupyter-widgets/base",
      "_view_module_version": "1.2.0",
      "_view_name": "StyleView",
      "description_width": ""
     }
    },
    "7aaa47f004d74f14b3a47dd70a657276": {
     "model_module": "@jupyter-widgets/base",
     "model_name": "LayoutModel",
     "model_module_version": "1.2.0",
     "state": {
      "_model_module": "@jupyter-widgets/base",
      "_model_module_version": "1.2.0",
      "_model_name": "LayoutModel",
      "_view_count": null,
      "_view_module": "@jupyter-widgets/base",
      "_view_module_version": "1.2.0",
      "_view_name": "LayoutView",
      "align_content": null,
      "align_items": null,
      "align_self": null,
      "border": null,
      "bottom": null,
      "display": null,
      "flex": null,
      "flex_flow": null,
      "grid_area": null,
      "grid_auto_columns": null,
      "grid_auto_flow": null,
      "grid_auto_rows": null,
      "grid_column": null,
      "grid_gap": null,
      "grid_row": null,
      "grid_template_areas": null,
      "grid_template_columns": null,
      "grid_template_rows": null,
      "height": null,
      "justify_content": null,
      "justify_items": null,
      "left": null,
      "margin": null,
      "max_height": null,
      "max_width": null,
      "min_height": null,
      "min_width": null,
      "object_fit": null,
      "object_position": null,
      "order": null,
      "overflow": null,
      "overflow_x": null,
      "overflow_y": null,
      "padding": null,
      "right": null,
      "top": null,
      "visibility": null,
      "width": null
     }
    },
    "717e4c8b4fd6460c8b7fec5b24ad54c6": {
     "model_module": "@jupyter-widgets/controls",
     "model_name": "ProgressStyleModel",
     "model_module_version": "1.5.0",
     "state": {
      "_model_module": "@jupyter-widgets/controls",
      "_model_module_version": "1.5.0",
      "_model_name": "ProgressStyleModel",
      "_view_count": null,
      "_view_module": "@jupyter-widgets/base",
      "_view_module_version": "1.2.0",
      "_view_name": "StyleView",
      "bar_color": null,
      "description_width": ""
     }
    },
    "5e8ea1b906814639908203500847e101": {
     "model_module": "@jupyter-widgets/base",
     "model_name": "LayoutModel",
     "model_module_version": "1.2.0",
     "state": {
      "_model_module": "@jupyter-widgets/base",
      "_model_module_version": "1.2.0",
      "_model_name": "LayoutModel",
      "_view_count": null,
      "_view_module": "@jupyter-widgets/base",
      "_view_module_version": "1.2.0",
      "_view_name": "LayoutView",
      "align_content": null,
      "align_items": null,
      "align_self": null,
      "border": null,
      "bottom": null,
      "display": null,
      "flex": null,
      "flex_flow": null,
      "grid_area": null,
      "grid_auto_columns": null,
      "grid_auto_flow": null,
      "grid_auto_rows": null,
      "grid_column": null,
      "grid_gap": null,
      "grid_row": null,
      "grid_template_areas": null,
      "grid_template_columns": null,
      "grid_template_rows": null,
      "height": null,
      "justify_content": null,
      "justify_items": null,
      "left": null,
      "margin": null,
      "max_height": null,
      "max_width": null,
      "min_height": null,
      "min_width": null,
      "object_fit": null,
      "object_position": null,
      "order": null,
      "overflow": null,
      "overflow_x": null,
      "overflow_y": null,
      "padding": null,
      "right": null,
      "top": null,
      "visibility": null,
      "width": null
     }
    },
    "ac0599ab81094a6b914766bb98c1f9e0": {
     "model_module": "@jupyter-widgets/controls",
     "model_name": "DescriptionStyleModel",
     "model_module_version": "1.5.0",
     "state": {
      "_model_module": "@jupyter-widgets/controls",
      "_model_module_version": "1.5.0",
      "_model_name": "DescriptionStyleModel",
      "_view_count": null,
      "_view_module": "@jupyter-widgets/base",
      "_view_module_version": "1.2.0",
      "_view_name": "StyleView",
      "description_width": ""
     }
    },
    "a8a889523cb04bbeabd1cfc1dc9200ba": {
     "model_module": "@jupyter-widgets/controls",
     "model_name": "HBoxModel",
     "model_module_version": "1.5.0",
     "state": {
      "_dom_classes": [],
      "_model_module": "@jupyter-widgets/controls",
      "_model_module_version": "1.5.0",
      "_model_name": "HBoxModel",
      "_view_count": null,
      "_view_module": "@jupyter-widgets/controls",
      "_view_module_version": "1.5.0",
      "_view_name": "HBoxView",
      "box_style": "",
      "children": [
       "IPY_MODEL_6613f37e15104eea9c5f45ea564f9050",
       "IPY_MODEL_d2893864e2d245ba920f1aa0c466aa76",
       "IPY_MODEL_de89fc372f8a4f5192bc4b5ce6f2c82e"
      ],
      "layout": "IPY_MODEL_160b2d7524784f53851c1727dc4bf6aa"
     }
    },
    "6613f37e15104eea9c5f45ea564f9050": {
     "model_module": "@jupyter-widgets/controls",
     "model_name": "HTMLModel",
     "model_module_version": "1.5.0",
     "state": {
      "_dom_classes": [],
      "_model_module": "@jupyter-widgets/controls",
      "_model_module_version": "1.5.0",
      "_model_name": "HTMLModel",
      "_view_count": null,
      "_view_module": "@jupyter-widgets/controls",
      "_view_module_version": "1.5.0",
      "_view_name": "HTMLView",
      "description": "",
      "description_tooltip": null,
      "layout": "IPY_MODEL_12b69e9902ff4d8281449b3cc9cd39b4",
      "placeholder": "​",
      "style": "IPY_MODEL_5174116b802f452cb6ad9694225375db",
      "value": "config.json: 100%"
     }
    },
    "d2893864e2d245ba920f1aa0c466aa76": {
     "model_module": "@jupyter-widgets/controls",
     "model_name": "FloatProgressModel",
     "model_module_version": "1.5.0",
     "state": {
      "_dom_classes": [],
      "_model_module": "@jupyter-widgets/controls",
      "_model_module_version": "1.5.0",
      "_model_name": "FloatProgressModel",
      "_view_count": null,
      "_view_module": "@jupyter-widgets/controls",
      "_view_module_version": "1.5.0",
      "_view_name": "ProgressView",
      "bar_style": "success",
      "description": "",
      "description_tooltip": null,
      "layout": "IPY_MODEL_6fd2ab4cdbf7490183136ed1226a92b5",
      "max": 706,
      "min": 0,
      "orientation": "horizontal",
      "style": "IPY_MODEL_c66a574e6a9e45afa66ccc512ed77018",
      "value": 706
     }
    },
    "de89fc372f8a4f5192bc4b5ce6f2c82e": {
     "model_module": "@jupyter-widgets/controls",
     "model_name": "HTMLModel",
     "model_module_version": "1.5.0",
     "state": {
      "_dom_classes": [],
      "_model_module": "@jupyter-widgets/controls",
      "_model_module_version": "1.5.0",
      "_model_name": "HTMLModel",
      "_view_count": null,
      "_view_module": "@jupyter-widgets/controls",
      "_view_module_version": "1.5.0",
      "_view_name": "HTMLView",
      "description": "",
      "description_tooltip": null,
      "layout": "IPY_MODEL_f8cfaa1158654611bc8136d9b674bfd2",
      "placeholder": "​",
      "style": "IPY_MODEL_36e7bb25fa1b4096967fbad7ee88b5ce",
      "value": " 706/706 [00:00&lt;00:00, 2.73kB/s]"
     }
    },
    "160b2d7524784f53851c1727dc4bf6aa": {
     "model_module": "@jupyter-widgets/base",
     "model_name": "LayoutModel",
     "model_module_version": "1.2.0",
     "state": {
      "_model_module": "@jupyter-widgets/base",
      "_model_module_version": "1.2.0",
      "_model_name": "LayoutModel",
      "_view_count": null,
      "_view_module": "@jupyter-widgets/base",
      "_view_module_version": "1.2.0",
      "_view_name": "LayoutView",
      "align_content": null,
      "align_items": null,
      "align_self": null,
      "border": null,
      "bottom": null,
      "display": null,
      "flex": null,
      "flex_flow": null,
      "grid_area": null,
      "grid_auto_columns": null,
      "grid_auto_flow": null,
      "grid_auto_rows": null,
      "grid_column": null,
      "grid_gap": null,
      "grid_row": null,
      "grid_template_areas": null,
      "grid_template_columns": null,
      "grid_template_rows": null,
      "height": null,
      "justify_content": null,
      "justify_items": null,
      "left": null,
      "margin": null,
      "max_height": null,
      "max_width": null,
      "min_height": null,
      "min_width": null,
      "object_fit": null,
      "object_position": null,
      "order": null,
      "overflow": null,
      "overflow_x": null,
      "overflow_y": null,
      "padding": null,
      "right": null,
      "top": null,
      "visibility": null,
      "width": null
     }
    },
    "12b69e9902ff4d8281449b3cc9cd39b4": {
     "model_module": "@jupyter-widgets/base",
     "model_name": "LayoutModel",
     "model_module_version": "1.2.0",
     "state": {
      "_model_module": "@jupyter-widgets/base",
      "_model_module_version": "1.2.0",
      "_model_name": "LayoutModel",
      "_view_count": null,
      "_view_module": "@jupyter-widgets/base",
      "_view_module_version": "1.2.0",
      "_view_name": "LayoutView",
      "align_content": null,
      "align_items": null,
      "align_self": null,
      "border": null,
      "bottom": null,
      "display": null,
      "flex": null,
      "flex_flow": null,
      "grid_area": null,
      "grid_auto_columns": null,
      "grid_auto_flow": null,
      "grid_auto_rows": null,
      "grid_column": null,
      "grid_gap": null,
      "grid_row": null,
      "grid_template_areas": null,
      "grid_template_columns": null,
      "grid_template_rows": null,
      "height": null,
      "justify_content": null,
      "justify_items": null,
      "left": null,
      "margin": null,
      "max_height": null,
      "max_width": null,
      "min_height": null,
      "min_width": null,
      "object_fit": null,
      "object_position": null,
      "order": null,
      "overflow": null,
      "overflow_x": null,
      "overflow_y": null,
      "padding": null,
      "right": null,
      "top": null,
      "visibility": null,
      "width": null
     }
    },
    "5174116b802f452cb6ad9694225375db": {
     "model_module": "@jupyter-widgets/controls",
     "model_name": "DescriptionStyleModel",
     "model_module_version": "1.5.0",
     "state": {
      "_model_module": "@jupyter-widgets/controls",
      "_model_module_version": "1.5.0",
      "_model_name": "DescriptionStyleModel",
      "_view_count": null,
      "_view_module": "@jupyter-widgets/base",
      "_view_module_version": "1.2.0",
      "_view_name": "StyleView",
      "description_width": ""
     }
    },
    "6fd2ab4cdbf7490183136ed1226a92b5": {
     "model_module": "@jupyter-widgets/base",
     "model_name": "LayoutModel",
     "model_module_version": "1.2.0",
     "state": {
      "_model_module": "@jupyter-widgets/base",
      "_model_module_version": "1.2.0",
      "_model_name": "LayoutModel",
      "_view_count": null,
      "_view_module": "@jupyter-widgets/base",
      "_view_module_version": "1.2.0",
      "_view_name": "LayoutView",
      "align_content": null,
      "align_items": null,
      "align_self": null,
      "border": null,
      "bottom": null,
      "display": null,
      "flex": null,
      "flex_flow": null,
      "grid_area": null,
      "grid_auto_columns": null,
      "grid_auto_flow": null,
      "grid_auto_rows": null,
      "grid_column": null,
      "grid_gap": null,
      "grid_row": null,
      "grid_template_areas": null,
      "grid_template_columns": null,
      "grid_template_rows": null,
      "height": null,
      "justify_content": null,
      "justify_items": null,
      "left": null,
      "margin": null,
      "max_height": null,
      "max_width": null,
      "min_height": null,
      "min_width": null,
      "object_fit": null,
      "object_position": null,
      "order": null,
      "overflow": null,
      "overflow_x": null,
      "overflow_y": null,
      "padding": null,
      "right": null,
      "top": null,
      "visibility": null,
      "width": null
     }
    },
    "c66a574e6a9e45afa66ccc512ed77018": {
     "model_module": "@jupyter-widgets/controls",
     "model_name": "ProgressStyleModel",
     "model_module_version": "1.5.0",
     "state": {
      "_model_module": "@jupyter-widgets/controls",
      "_model_module_version": "1.5.0",
      "_model_name": "ProgressStyleModel",
      "_view_count": null,
      "_view_module": "@jupyter-widgets/base",
      "_view_module_version": "1.2.0",
      "_view_name": "StyleView",
      "bar_color": null,
      "description_width": ""
     }
    },
    "f8cfaa1158654611bc8136d9b674bfd2": {
     "model_module": "@jupyter-widgets/base",
     "model_name": "LayoutModel",
     "model_module_version": "1.2.0",
     "state": {
      "_model_module": "@jupyter-widgets/base",
      "_model_module_version": "1.2.0",
      "_model_name": "LayoutModel",
      "_view_count": null,
      "_view_module": "@jupyter-widgets/base",
      "_view_module_version": "1.2.0",
      "_view_name": "LayoutView",
      "align_content": null,
      "align_items": null,
      "align_self": null,
      "border": null,
      "bottom": null,
      "display": null,
      "flex": null,
      "flex_flow": null,
      "grid_area": null,
      "grid_auto_columns": null,
      "grid_auto_flow": null,
      "grid_auto_rows": null,
      "grid_column": null,
      "grid_gap": null,
      "grid_row": null,
      "grid_template_areas": null,
      "grid_template_columns": null,
      "grid_template_rows": null,
      "height": null,
      "justify_content": null,
      "justify_items": null,
      "left": null,
      "margin": null,
      "max_height": null,
      "max_width": null,
      "min_height": null,
      "min_width": null,
      "object_fit": null,
      "object_position": null,
      "order": null,
      "overflow": null,
      "overflow_x": null,
      "overflow_y": null,
      "padding": null,
      "right": null,
      "top": null,
      "visibility": null,
      "width": null
     }
    },
    "36e7bb25fa1b4096967fbad7ee88b5ce": {
     "model_module": "@jupyter-widgets/controls",
     "model_name": "DescriptionStyleModel",
     "model_module_version": "1.5.0",
     "state": {
      "_model_module": "@jupyter-widgets/controls",
      "_model_module_version": "1.5.0",
      "_model_name": "DescriptionStyleModel",
      "_view_count": null,
      "_view_module": "@jupyter-widgets/base",
      "_view_module_version": "1.2.0",
      "_view_name": "StyleView",
      "description_width": ""
     }
    },
    "067ba1baa2854ed69d34aaa76a251dea": {
     "model_module": "@jupyter-widgets/controls",
     "model_name": "HBoxModel",
     "model_module_version": "1.5.0",
     "state": {
      "_dom_classes": [],
      "_model_module": "@jupyter-widgets/controls",
      "_model_module_version": "1.5.0",
      "_model_name": "HBoxModel",
      "_view_count": null,
      "_view_module": "@jupyter-widgets/controls",
      "_view_module_version": "1.5.0",
      "_view_name": "HBoxView",
      "box_style": "",
      "children": [
       "IPY_MODEL_9f2b997151fb4f96975d39d6cfc66e75",
       "IPY_MODEL_d83c95214bb04a8fa9c48ce600d14e5c",
       "IPY_MODEL_acc205f70bbf4f4894b6da31d6844d93"
      ],
      "layout": "IPY_MODEL_d89fa552eead473cbb20966db6d8cf77"
     }
    },
    "9f2b997151fb4f96975d39d6cfc66e75": {
     "model_module": "@jupyter-widgets/controls",
     "model_name": "HTMLModel",
     "model_module_version": "1.5.0",
     "state": {
      "_dom_classes": [],
      "_model_module": "@jupyter-widgets/controls",
      "_model_module_version": "1.5.0",
      "_model_name": "HTMLModel",
      "_view_count": null,
      "_view_module": "@jupyter-widgets/controls",
      "_view_module_version": "1.5.0",
      "_view_name": "HTMLView",
      "description": "",
      "description_tooltip": null,
      "layout": "IPY_MODEL_b8ae8dfb03fe41e78e5bca1cbb02f65e",
      "placeholder": "​",
      "style": "IPY_MODEL_e5846ec1703a464f854f4b6c25901f55",
      "value": "special_tokens_map.json: 100%"
     }
    },
    "d83c95214bb04a8fa9c48ce600d14e5c": {
     "model_module": "@jupyter-widgets/controls",
     "model_name": "FloatProgressModel",
     "model_module_version": "1.5.0",
     "state": {
      "_dom_classes": [],
      "_model_module": "@jupyter-widgets/controls",
      "_model_module_version": "1.5.0",
      "_model_name": "FloatProgressModel",
      "_view_count": null,
      "_view_module": "@jupyter-widgets/controls",
      "_view_module_version": "1.5.0",
      "_view_name": "ProgressView",
      "bar_style": "success",
      "description": "",
      "description_tooltip": null,
      "layout": "IPY_MODEL_09a29e019c514a85a06980348d3934c8",
      "max": 695,
      "min": 0,
      "orientation": "horizontal",
      "style": "IPY_MODEL_a006ae0b688d44ff8ad8528e7f97c966",
      "value": 695
     }
    },
    "acc205f70bbf4f4894b6da31d6844d93": {
     "model_module": "@jupyter-widgets/controls",
     "model_name": "HTMLModel",
     "model_module_version": "1.5.0",
     "state": {
      "_dom_classes": [],
      "_model_module": "@jupyter-widgets/controls",
      "_model_module_version": "1.5.0",
      "_model_name": "HTMLModel",
      "_view_count": null,
      "_view_module": "@jupyter-widgets/controls",
      "_view_module_version": "1.5.0",
      "_view_name": "HTMLView",
      "description": "",
      "description_tooltip": null,
      "layout": "IPY_MODEL_26dd533bb8d54a99b6a19b512248b334",
      "placeholder": "​",
      "style": "IPY_MODEL_a2fede932aa840c5893271d9700f726b",
      "value": " 695/695 [00:00&lt;00:00, 2.62kB/s]"
     }
    },
    "d89fa552eead473cbb20966db6d8cf77": {
     "model_module": "@jupyter-widgets/base",
     "model_name": "LayoutModel",
     "model_module_version": "1.2.0",
     "state": {
      "_model_module": "@jupyter-widgets/base",
      "_model_module_version": "1.2.0",
      "_model_name": "LayoutModel",
      "_view_count": null,
      "_view_module": "@jupyter-widgets/base",
      "_view_module_version": "1.2.0",
      "_view_name": "LayoutView",
      "align_content": null,
      "align_items": null,
      "align_self": null,
      "border": null,
      "bottom": null,
      "display": null,
      "flex": null,
      "flex_flow": null,
      "grid_area": null,
      "grid_auto_columns": null,
      "grid_auto_flow": null,
      "grid_auto_rows": null,
      "grid_column": null,
      "grid_gap": null,
      "grid_row": null,
      "grid_template_areas": null,
      "grid_template_columns": null,
      "grid_template_rows": null,
      "height": null,
      "justify_content": null,
      "justify_items": null,
      "left": null,
      "margin": null,
      "max_height": null,
      "max_width": null,
      "min_height": null,
      "min_width": null,
      "object_fit": null,
      "object_position": null,
      "order": null,
      "overflow": null,
      "overflow_x": null,
      "overflow_y": null,
      "padding": null,
      "right": null,
      "top": null,
      "visibility": null,
      "width": null
     }
    },
    "b8ae8dfb03fe41e78e5bca1cbb02f65e": {
     "model_module": "@jupyter-widgets/base",
     "model_name": "LayoutModel",
     "model_module_version": "1.2.0",
     "state": {
      "_model_module": "@jupyter-widgets/base",
      "_model_module_version": "1.2.0",
      "_model_name": "LayoutModel",
      "_view_count": null,
      "_view_module": "@jupyter-widgets/base",
      "_view_module_version": "1.2.0",
      "_view_name": "LayoutView",
      "align_content": null,
      "align_items": null,
      "align_self": null,
      "border": null,
      "bottom": null,
      "display": null,
      "flex": null,
      "flex_flow": null,
      "grid_area": null,
      "grid_auto_columns": null,
      "grid_auto_flow": null,
      "grid_auto_rows": null,
      "grid_column": null,
      "grid_gap": null,
      "grid_row": null,
      "grid_template_areas": null,
      "grid_template_columns": null,
      "grid_template_rows": null,
      "height": null,
      "justify_content": null,
      "justify_items": null,
      "left": null,
      "margin": null,
      "max_height": null,
      "max_width": null,
      "min_height": null,
      "min_width": null,
      "object_fit": null,
      "object_position": null,
      "order": null,
      "overflow": null,
      "overflow_x": null,
      "overflow_y": null,
      "padding": null,
      "right": null,
      "top": null,
      "visibility": null,
      "width": null
     }
    },
    "e5846ec1703a464f854f4b6c25901f55": {
     "model_module": "@jupyter-widgets/controls",
     "model_name": "DescriptionStyleModel",
     "model_module_version": "1.5.0",
     "state": {
      "_model_module": "@jupyter-widgets/controls",
      "_model_module_version": "1.5.0",
      "_model_name": "DescriptionStyleModel",
      "_view_count": null,
      "_view_module": "@jupyter-widgets/base",
      "_view_module_version": "1.2.0",
      "_view_name": "StyleView",
      "description_width": ""
     }
    },
    "09a29e019c514a85a06980348d3934c8": {
     "model_module": "@jupyter-widgets/base",
     "model_name": "LayoutModel",
     "model_module_version": "1.2.0",
     "state": {
      "_model_module": "@jupyter-widgets/base",
      "_model_module_version": "1.2.0",
      "_model_name": "LayoutModel",
      "_view_count": null,
      "_view_module": "@jupyter-widgets/base",
      "_view_module_version": "1.2.0",
      "_view_name": "LayoutView",
      "align_content": null,
      "align_items": null,
      "align_self": null,
      "border": null,
      "bottom": null,
      "display": null,
      "flex": null,
      "flex_flow": null,
      "grid_area": null,
      "grid_auto_columns": null,
      "grid_auto_flow": null,
      "grid_auto_rows": null,
      "grid_column": null,
      "grid_gap": null,
      "grid_row": null,
      "grid_template_areas": null,
      "grid_template_columns": null,
      "grid_template_rows": null,
      "height": null,
      "justify_content": null,
      "justify_items": null,
      "left": null,
      "margin": null,
      "max_height": null,
      "max_width": null,
      "min_height": null,
      "min_width": null,
      "object_fit": null,
      "object_position": null,
      "order": null,
      "overflow": null,
      "overflow_x": null,
      "overflow_y": null,
      "padding": null,
      "right": null,
      "top": null,
      "visibility": null,
      "width": null
     }
    },
    "a006ae0b688d44ff8ad8528e7f97c966": {
     "model_module": "@jupyter-widgets/controls",
     "model_name": "ProgressStyleModel",
     "model_module_version": "1.5.0",
     "state": {
      "_model_module": "@jupyter-widgets/controls",
      "_model_module_version": "1.5.0",
      "_model_name": "ProgressStyleModel",
      "_view_count": null,
      "_view_module": "@jupyter-widgets/base",
      "_view_module_version": "1.2.0",
      "_view_name": "StyleView",
      "bar_color": null,
      "description_width": ""
     }
    },
    "26dd533bb8d54a99b6a19b512248b334": {
     "model_module": "@jupyter-widgets/base",
     "model_name": "LayoutModel",
     "model_module_version": "1.2.0",
     "state": {
      "_model_module": "@jupyter-widgets/base",
      "_model_module_version": "1.2.0",
      "_model_name": "LayoutModel",
      "_view_count": null,
      "_view_module": "@jupyter-widgets/base",
      "_view_module_version": "1.2.0",
      "_view_name": "LayoutView",
      "align_content": null,
      "align_items": null,
      "align_self": null,
      "border": null,
      "bottom": null,
      "display": null,
      "flex": null,
      "flex_flow": null,
      "grid_area": null,
      "grid_auto_columns": null,
      "grid_auto_flow": null,
      "grid_auto_rows": null,
      "grid_column": null,
      "grid_gap": null,
      "grid_row": null,
      "grid_template_areas": null,
      "grid_template_columns": null,
      "grid_template_rows": null,
      "height": null,
      "justify_content": null,
      "justify_items": null,
      "left": null,
      "margin": null,
      "max_height": null,
      "max_width": null,
      "min_height": null,
      "min_width": null,
      "object_fit": null,
      "object_position": null,
      "order": null,
      "overflow": null,
      "overflow_x": null,
      "overflow_y": null,
      "padding": null,
      "right": null,
      "top": null,
      "visibility": null,
      "width": null
     }
    },
    "a2fede932aa840c5893271d9700f726b": {
     "model_module": "@jupyter-widgets/controls",
     "model_name": "DescriptionStyleModel",
     "model_module_version": "1.5.0",
     "state": {
      "_model_module": "@jupyter-widgets/controls",
      "_model_module_version": "1.5.0",
      "_model_name": "DescriptionStyleModel",
      "_view_count": null,
      "_view_module": "@jupyter-widgets/base",
      "_view_module_version": "1.2.0",
      "_view_name": "StyleView",
      "description_width": ""
     }
    },
    "d0a6f9db390649ddb7e15eeaddd05e03": {
     "model_module": "@jupyter-widgets/controls",
     "model_name": "HBoxModel",
     "model_module_version": "1.5.0",
     "state": {
      "_dom_classes": [],
      "_model_module": "@jupyter-widgets/controls",
      "_model_module_version": "1.5.0",
      "_model_name": "HBoxModel",
      "_view_count": null,
      "_view_module": "@jupyter-widgets/controls",
      "_view_module_version": "1.5.0",
      "_view_name": "HBoxView",
      "box_style": "",
      "children": [
       "IPY_MODEL_5f6ff849b2b74fddb05fadbd7114132b",
       "IPY_MODEL_bec0b38f0655408aaa0be6b745adc66d",
       "IPY_MODEL_c76bb1f0a23843658482f754ce4f1720"
      ],
      "layout": "IPY_MODEL_9485981bab024a56aa7a11169753108e"
     }
    },
    "5f6ff849b2b74fddb05fadbd7114132b": {
     "model_module": "@jupyter-widgets/controls",
     "model_name": "HTMLModel",
     "model_module_version": "1.5.0",
     "state": {
      "_dom_classes": [],
      "_model_module": "@jupyter-widgets/controls",
      "_model_module_version": "1.5.0",
      "_model_name": "HTMLModel",
      "_view_count": null,
      "_view_module": "@jupyter-widgets/controls",
      "_view_module_version": "1.5.0",
      "_view_name": "HTMLView",
      "description": "",
      "description_tooltip": null,
      "layout": "IPY_MODEL_78a741fe83c74edd9160ed4f51b48104",
      "placeholder": "​",
      "style": "IPY_MODEL_d2d8f55c246f4b6c84c59c5ff41bc14b",
      "value": "tokenizer_config.json: 100%"
     }
    },
    "bec0b38f0655408aaa0be6b745adc66d": {
     "model_module": "@jupyter-widgets/controls",
     "model_name": "FloatProgressModel",
     "model_module_version": "1.5.0",
     "state": {
      "_dom_classes": [],
      "_model_module": "@jupyter-widgets/controls",
      "_model_module_version": "1.5.0",
      "_model_name": "FloatProgressModel",
      "_view_count": null,
      "_view_module": "@jupyter-widgets/controls",
      "_view_module_version": "1.5.0",
      "_view_name": "ProgressView",
      "bar_style": "success",
      "description": "",
      "description_tooltip": null,
      "layout": "IPY_MODEL_3be60bda3fe3467fb1c39e2465dc3586",
      "max": 1242,
      "min": 0,
      "orientation": "horizontal",
      "style": "IPY_MODEL_0b298b906e05418e89ae05b28d901ea4",
      "value": 1242
     }
    },
    "c76bb1f0a23843658482f754ce4f1720": {
     "model_module": "@jupyter-widgets/controls",
     "model_name": "HTMLModel",
     "model_module_version": "1.5.0",
     "state": {
      "_dom_classes": [],
      "_model_module": "@jupyter-widgets/controls",
      "_model_module_version": "1.5.0",
      "_model_name": "HTMLModel",
      "_view_count": null,
      "_view_module": "@jupyter-widgets/controls",
      "_view_module_version": "1.5.0",
      "_view_name": "HTMLView",
      "description": "",
      "description_tooltip": null,
      "layout": "IPY_MODEL_dbd4d10d5d734f64a3d9f91154526417",
      "placeholder": "​",
      "style": "IPY_MODEL_1c5835b3665146a5b5663dbb48c9b387",
      "value": " 1.24k/1.24k [00:00&lt;00:00, 4.89kB/s]"
     }
    },
    "9485981bab024a56aa7a11169753108e": {
     "model_module": "@jupyter-widgets/base",
     "model_name": "LayoutModel",
     "model_module_version": "1.2.0",
     "state": {
      "_model_module": "@jupyter-widgets/base",
      "_model_module_version": "1.2.0",
      "_model_name": "LayoutModel",
      "_view_count": null,
      "_view_module": "@jupyter-widgets/base",
      "_view_module_version": "1.2.0",
      "_view_name": "LayoutView",
      "align_content": null,
      "align_items": null,
      "align_self": null,
      "border": null,
      "bottom": null,
      "display": null,
      "flex": null,
      "flex_flow": null,
      "grid_area": null,
      "grid_auto_columns": null,
      "grid_auto_flow": null,
      "grid_auto_rows": null,
      "grid_column": null,
      "grid_gap": null,
      "grid_row": null,
      "grid_template_areas": null,
      "grid_template_columns": null,
      "grid_template_rows": null,
      "height": null,
      "justify_content": null,
      "justify_items": null,
      "left": null,
      "margin": null,
      "max_height": null,
      "max_width": null,
      "min_height": null,
      "min_width": null,
      "object_fit": null,
      "object_position": null,
      "order": null,
      "overflow": null,
      "overflow_x": null,
      "overflow_y": null,
      "padding": null,
      "right": null,
      "top": null,
      "visibility": null,
      "width": null
     }
    },
    "78a741fe83c74edd9160ed4f51b48104": {
     "model_module": "@jupyter-widgets/base",
     "model_name": "LayoutModel",
     "model_module_version": "1.2.0",
     "state": {
      "_model_module": "@jupyter-widgets/base",
      "_model_module_version": "1.2.0",
      "_model_name": "LayoutModel",
      "_view_count": null,
      "_view_module": "@jupyter-widgets/base",
      "_view_module_version": "1.2.0",
      "_view_name": "LayoutView",
      "align_content": null,
      "align_items": null,
      "align_self": null,
      "border": null,
      "bottom": null,
      "display": null,
      "flex": null,
      "flex_flow": null,
      "grid_area": null,
      "grid_auto_columns": null,
      "grid_auto_flow": null,
      "grid_auto_rows": null,
      "grid_column": null,
      "grid_gap": null,
      "grid_row": null,
      "grid_template_areas": null,
      "grid_template_columns": null,
      "grid_template_rows": null,
      "height": null,
      "justify_content": null,
      "justify_items": null,
      "left": null,
      "margin": null,
      "max_height": null,
      "max_width": null,
      "min_height": null,
      "min_width": null,
      "object_fit": null,
      "object_position": null,
      "order": null,
      "overflow": null,
      "overflow_x": null,
      "overflow_y": null,
      "padding": null,
      "right": null,
      "top": null,
      "visibility": null,
      "width": null
     }
    },
    "d2d8f55c246f4b6c84c59c5ff41bc14b": {
     "model_module": "@jupyter-widgets/controls",
     "model_name": "DescriptionStyleModel",
     "model_module_version": "1.5.0",
     "state": {
      "_model_module": "@jupyter-widgets/controls",
      "_model_module_version": "1.5.0",
      "_model_name": "DescriptionStyleModel",
      "_view_count": null,
      "_view_module": "@jupyter-widgets/base",
      "_view_module_version": "1.2.0",
      "_view_name": "StyleView",
      "description_width": ""
     }
    },
    "3be60bda3fe3467fb1c39e2465dc3586": {
     "model_module": "@jupyter-widgets/base",
     "model_name": "LayoutModel",
     "model_module_version": "1.2.0",
     "state": {
      "_model_module": "@jupyter-widgets/base",
      "_model_module_version": "1.2.0",
      "_model_name": "LayoutModel",
      "_view_count": null,
      "_view_module": "@jupyter-widgets/base",
      "_view_module_version": "1.2.0",
      "_view_name": "LayoutView",
      "align_content": null,
      "align_items": null,
      "align_self": null,
      "border": null,
      "bottom": null,
      "display": null,
      "flex": null,
      "flex_flow": null,
      "grid_area": null,
      "grid_auto_columns": null,
      "grid_auto_flow": null,
      "grid_auto_rows": null,
      "grid_column": null,
      "grid_gap": null,
      "grid_row": null,
      "grid_template_areas": null,
      "grid_template_columns": null,
      "grid_template_rows": null,
      "height": null,
      "justify_content": null,
      "justify_items": null,
      "left": null,
      "margin": null,
      "max_height": null,
      "max_width": null,
      "min_height": null,
      "min_width": null,
      "object_fit": null,
      "object_position": null,
      "order": null,
      "overflow": null,
      "overflow_x": null,
      "overflow_y": null,
      "padding": null,
      "right": null,
      "top": null,
      "visibility": null,
      "width": null
     }
    },
    "0b298b906e05418e89ae05b28d901ea4": {
     "model_module": "@jupyter-widgets/controls",
     "model_name": "ProgressStyleModel",
     "model_module_version": "1.5.0",
     "state": {
      "_model_module": "@jupyter-widgets/controls",
      "_model_module_version": "1.5.0",
      "_model_name": "ProgressStyleModel",
      "_view_count": null,
      "_view_module": "@jupyter-widgets/base",
      "_view_module_version": "1.2.0",
      "_view_name": "StyleView",
      "bar_color": null,
      "description_width": ""
     }
    },
    "dbd4d10d5d734f64a3d9f91154526417": {
     "model_module": "@jupyter-widgets/base",
     "model_name": "LayoutModel",
     "model_module_version": "1.2.0",
     "state": {
      "_model_module": "@jupyter-widgets/base",
      "_model_module_version": "1.2.0",
      "_model_name": "LayoutModel",
      "_view_count": null,
      "_view_module": "@jupyter-widgets/base",
      "_view_module_version": "1.2.0",
      "_view_name": "LayoutView",
      "align_content": null,
      "align_items": null,
      "align_self": null,
      "border": null,
      "bottom": null,
      "display": null,
      "flex": null,
      "flex_flow": null,
      "grid_area": null,
      "grid_auto_columns": null,
      "grid_auto_flow": null,
      "grid_auto_rows": null,
      "grid_column": null,
      "grid_gap": null,
      "grid_row": null,
      "grid_template_areas": null,
      "grid_template_columns": null,
      "grid_template_rows": null,
      "height": null,
      "justify_content": null,
      "justify_items": null,
      "left": null,
      "margin": null,
      "max_height": null,
      "max_width": null,
      "min_height": null,
      "min_width": null,
      "object_fit": null,
      "object_position": null,
      "order": null,
      "overflow": null,
      "overflow_x": null,
      "overflow_y": null,
      "padding": null,
      "right": null,
      "top": null,
      "visibility": null,
      "width": null
     }
    },
    "1c5835b3665146a5b5663dbb48c9b387": {
     "model_module": "@jupyter-widgets/controls",
     "model_name": "DescriptionStyleModel",
     "model_module_version": "1.5.0",
     "state": {
      "_model_module": "@jupyter-widgets/controls",
      "_model_module_version": "1.5.0",
      "_model_name": "DescriptionStyleModel",
      "_view_count": null,
      "_view_module": "@jupyter-widgets/base",
      "_view_module_version": "1.2.0",
      "_view_name": "StyleView",
      "description_width": ""
     }
    },
    "833681cbcb5942cca1a06c98eef5d1e0": {
     "model_module": "@jupyter-widgets/controls",
     "model_name": "HBoxModel",
     "model_module_version": "1.5.0",
     "state": {
      "_dom_classes": [],
      "_model_module": "@jupyter-widgets/controls",
      "_model_module_version": "1.5.0",
      "_model_name": "HBoxModel",
      "_view_count": null,
      "_view_module": "@jupyter-widgets/controls",
      "_view_module_version": "1.5.0",
      "_view_name": "HBoxView",
      "box_style": "",
      "children": [
       "IPY_MODEL_76f6fa10c5694cf7b5f17e47aab6ea80",
       "IPY_MODEL_4aea4520d82040b698d8c524990fdf55",
       "IPY_MODEL_56985b8032e840829e6c56e1666f9442"
      ],
      "layout": "IPY_MODEL_e31ec0534eb84e578847103fb5963177"
     }
    },
    "76f6fa10c5694cf7b5f17e47aab6ea80": {
     "model_module": "@jupyter-widgets/controls",
     "model_name": "HTMLModel",
     "model_module_version": "1.5.0",
     "state": {
      "_dom_classes": [],
      "_model_module": "@jupyter-widgets/controls",
      "_model_module_version": "1.5.0",
      "_model_name": "HTMLModel",
      "_view_count": null,
      "_view_module": "@jupyter-widgets/controls",
      "_view_module_version": "1.5.0",
      "_view_name": "HTMLView",
      "description": "",
      "description_tooltip": null,
      "layout": "IPY_MODEL_8cb7b63524cd492e8677d3392bfdcac5",
      "placeholder": "​",
      "style": "IPY_MODEL_37b2d1c37b4049f5a41025ad696aabf0",
      "value": "tokenizer.json: 100%"
     }
    },
    "4aea4520d82040b698d8c524990fdf55": {
     "model_module": "@jupyter-widgets/controls",
     "model_name": "FloatProgressModel",
     "model_module_version": "1.5.0",
     "state": {
      "_dom_classes": [],
      "_model_module": "@jupyter-widgets/controls",
      "_model_module_version": "1.5.0",
      "_model_name": "FloatProgressModel",
      "_view_count": null,
      "_view_module": "@jupyter-widgets/controls",
      "_view_module_version": "1.5.0",
      "_view_name": "ProgressView",
      "bar_style": "success",
      "description": "",
      "description_tooltip": null,
      "layout": "IPY_MODEL_49f96388b13e4c94984c3ba052be3896",
      "max": 711396,
      "min": 0,
      "orientation": "horizontal",
      "style": "IPY_MODEL_6392d00a282f46488e1800be49eea0d2",
      "value": 711396
     }
    },
    "56985b8032e840829e6c56e1666f9442": {
     "model_module": "@jupyter-widgets/controls",
     "model_name": "HTMLModel",
     "model_module_version": "1.5.0",
     "state": {
      "_dom_classes": [],
      "_model_module": "@jupyter-widgets/controls",
      "_model_module_version": "1.5.0",
      "_model_name": "HTMLModel",
      "_view_count": null,
      "_view_module": "@jupyter-widgets/controls",
      "_view_module_version": "1.5.0",
      "_view_name": "HTMLView",
      "description": "",
      "description_tooltip": null,
      "layout": "IPY_MODEL_3beae98146fa4ef3b03e09ba6419d375",
      "placeholder": "​",
      "style": "IPY_MODEL_164c3a08709e4775b927647b87870dc6",
      "value": " 711k/711k [00:00&lt;00:00, 2.47MB/s]"
     }
    },
    "e31ec0534eb84e578847103fb5963177": {
     "model_module": "@jupyter-widgets/base",
     "model_name": "LayoutModel",
     "model_module_version": "1.2.0",
     "state": {
      "_model_module": "@jupyter-widgets/base",
      "_model_module_version": "1.2.0",
      "_model_name": "LayoutModel",
      "_view_count": null,
      "_view_module": "@jupyter-widgets/base",
      "_view_module_version": "1.2.0",
      "_view_name": "LayoutView",
      "align_content": null,
      "align_items": null,
      "align_self": null,
      "border": null,
      "bottom": null,
      "display": null,
      "flex": null,
      "flex_flow": null,
      "grid_area": null,
      "grid_auto_columns": null,
      "grid_auto_flow": null,
      "grid_auto_rows": null,
      "grid_column": null,
      "grid_gap": null,
      "grid_row": null,
      "grid_template_areas": null,
      "grid_template_columns": null,
      "grid_template_rows": null,
      "height": null,
      "justify_content": null,
      "justify_items": null,
      "left": null,
      "margin": null,
      "max_height": null,
      "max_width": null,
      "min_height": null,
      "min_width": null,
      "object_fit": null,
      "object_position": null,
      "order": null,
      "overflow": null,
      "overflow_x": null,
      "overflow_y": null,
      "padding": null,
      "right": null,
      "top": null,
      "visibility": null,
      "width": null
     }
    },
    "8cb7b63524cd492e8677d3392bfdcac5": {
     "model_module": "@jupyter-widgets/base",
     "model_name": "LayoutModel",
     "model_module_version": "1.2.0",
     "state": {
      "_model_module": "@jupyter-widgets/base",
      "_model_module_version": "1.2.0",
      "_model_name": "LayoutModel",
      "_view_count": null,
      "_view_module": "@jupyter-widgets/base",
      "_view_module_version": "1.2.0",
      "_view_name": "LayoutView",
      "align_content": null,
      "align_items": null,
      "align_self": null,
      "border": null,
      "bottom": null,
      "display": null,
      "flex": null,
      "flex_flow": null,
      "grid_area": null,
      "grid_auto_columns": null,
      "grid_auto_flow": null,
      "grid_auto_rows": null,
      "grid_column": null,
      "grid_gap": null,
      "grid_row": null,
      "grid_template_areas": null,
      "grid_template_columns": null,
      "grid_template_rows": null,
      "height": null,
      "justify_content": null,
      "justify_items": null,
      "left": null,
      "margin": null,
      "max_height": null,
      "max_width": null,
      "min_height": null,
      "min_width": null,
      "object_fit": null,
      "object_position": null,
      "order": null,
      "overflow": null,
      "overflow_x": null,
      "overflow_y": null,
      "padding": null,
      "right": null,
      "top": null,
      "visibility": null,
      "width": null
     }
    },
    "37b2d1c37b4049f5a41025ad696aabf0": {
     "model_module": "@jupyter-widgets/controls",
     "model_name": "DescriptionStyleModel",
     "model_module_version": "1.5.0",
     "state": {
      "_model_module": "@jupyter-widgets/controls",
      "_model_module_version": "1.5.0",
      "_model_name": "DescriptionStyleModel",
      "_view_count": null,
      "_view_module": "@jupyter-widgets/base",
      "_view_module_version": "1.2.0",
      "_view_name": "StyleView",
      "description_width": ""
     }
    },
    "49f96388b13e4c94984c3ba052be3896": {
     "model_module": "@jupyter-widgets/base",
     "model_name": "LayoutModel",
     "model_module_version": "1.2.0",
     "state": {
      "_model_module": "@jupyter-widgets/base",
      "_model_module_version": "1.2.0",
      "_model_name": "LayoutModel",
      "_view_count": null,
      "_view_module": "@jupyter-widgets/base",
      "_view_module_version": "1.2.0",
      "_view_name": "LayoutView",
      "align_content": null,
      "align_items": null,
      "align_self": null,
      "border": null,
      "bottom": null,
      "display": null,
      "flex": null,
      "flex_flow": null,
      "grid_area": null,
      "grid_auto_columns": null,
      "grid_auto_flow": null,
      "grid_auto_rows": null,
      "grid_column": null,
      "grid_gap": null,
      "grid_row": null,
      "grid_template_areas": null,
      "grid_template_columns": null,
      "grid_template_rows": null,
      "height": null,
      "justify_content": null,
      "justify_items": null,
      "left": null,
      "margin": null,
      "max_height": null,
      "max_width": null,
      "min_height": null,
      "min_width": null,
      "object_fit": null,
      "object_position": null,
      "order": null,
      "overflow": null,
      "overflow_x": null,
      "overflow_y": null,
      "padding": null,
      "right": null,
      "top": null,
      "visibility": null,
      "width": null
     }
    },
    "6392d00a282f46488e1800be49eea0d2": {
     "model_module": "@jupyter-widgets/controls",
     "model_name": "ProgressStyleModel",
     "model_module_version": "1.5.0",
     "state": {
      "_model_module": "@jupyter-widgets/controls",
      "_model_module_version": "1.5.0",
      "_model_name": "ProgressStyleModel",
      "_view_count": null,
      "_view_module": "@jupyter-widgets/base",
      "_view_module_version": "1.2.0",
      "_view_name": "StyleView",
      "bar_color": null,
      "description_width": ""
     }
    },
    "3beae98146fa4ef3b03e09ba6419d375": {
     "model_module": "@jupyter-widgets/base",
     "model_name": "LayoutModel",
     "model_module_version": "1.2.0",
     "state": {
      "_model_module": "@jupyter-widgets/base",
      "_model_module_version": "1.2.0",
      "_model_name": "LayoutModel",
      "_view_count": null,
      "_view_module": "@jupyter-widgets/base",
      "_view_module_version": "1.2.0",
      "_view_name": "LayoutView",
      "align_content": null,
      "align_items": null,
      "align_self": null,
      "border": null,
      "bottom": null,
      "display": null,
      "flex": null,
      "flex_flow": null,
      "grid_area": null,
      "grid_auto_columns": null,
      "grid_auto_flow": null,
      "grid_auto_rows": null,
      "grid_column": null,
      "grid_gap": null,
      "grid_row": null,
      "grid_template_areas": null,
      "grid_template_columns": null,
      "grid_template_rows": null,
      "height": null,
      "justify_content": null,
      "justify_items": null,
      "left": null,
      "margin": null,
      "max_height": null,
      "max_width": null,
      "min_height": null,
      "min_width": null,
      "object_fit": null,
      "object_position": null,
      "order": null,
      "overflow": null,
      "overflow_x": null,
      "overflow_y": null,
      "padding": null,
      "right": null,
      "top": null,
      "visibility": null,
      "width": null
     }
    },
    "164c3a08709e4775b927647b87870dc6": {
     "model_module": "@jupyter-widgets/controls",
     "model_name": "DescriptionStyleModel",
     "model_module_version": "1.5.0",
     "state": {
      "_model_module": "@jupyter-widgets/controls",
      "_model_module_version": "1.5.0",
      "_model_name": "DescriptionStyleModel",
      "_view_count": null,
      "_view_module": "@jupyter-widgets/base",
      "_view_module_version": "1.2.0",
      "_view_name": "StyleView",
      "description_width": ""
     }
    },
    "8cfb495042c7412ab8ece90dbb57a2ce": {
     "model_module": "@jupyter-widgets/controls",
     "model_name": "HBoxModel",
     "model_module_version": "1.5.0",
     "state": {
      "_dom_classes": [],
      "_model_module": "@jupyter-widgets/controls",
      "_model_module_version": "1.5.0",
      "_model_name": "HBoxModel",
      "_view_count": null,
      "_view_module": "@jupyter-widgets/controls",
      "_view_module_version": "1.5.0",
      "_view_name": "HBoxView",
      "box_style": "",
      "children": [
       "IPY_MODEL_f8f23825441e4ff5b778da8886a19368",
       "IPY_MODEL_beb93dc8d70e461498118eb1030781dc",
       "IPY_MODEL_1ca76aa9cffd4496aef6e0e8c7f14e62"
      ],
      "layout": "IPY_MODEL_dba01e88d5f24b3da6d17ceeef0085a1"
     }
    },
    "f8f23825441e4ff5b778da8886a19368": {
     "model_module": "@jupyter-widgets/controls",
     "model_name": "HTMLModel",
     "model_module_version": "1.5.0",
     "state": {
      "_dom_classes": [],
      "_model_module": "@jupyter-widgets/controls",
      "_model_module_version": "1.5.0",
      "_model_name": "HTMLModel",
      "_view_count": null,
      "_view_module": "@jupyter-widgets/controls",
      "_view_module_version": "1.5.0",
      "_view_name": "HTMLView",
      "description": "",
      "description_tooltip": null,
      "layout": "IPY_MODEL_d1011f14e5124e529e4e681c6a84e2b8",
      "placeholder": "​",
      "style": "IPY_MODEL_08c27e2567f74e26a7b7e87853360fe3",
      "value": "model_optimized.onnx: 100%"
     }
    },
    "beb93dc8d70e461498118eb1030781dc": {
     "model_module": "@jupyter-widgets/controls",
     "model_name": "FloatProgressModel",
     "model_module_version": "1.5.0",
     "state": {
      "_dom_classes": [],
      "_model_module": "@jupyter-widgets/controls",
      "_model_module_version": "1.5.0",
      "_model_name": "FloatProgressModel",
      "_view_count": null,
      "_view_module": "@jupyter-widgets/controls",
      "_view_module_version": "1.5.0",
      "_view_name": "ProgressView",
      "bar_style": "success",
      "description": "",
      "description_tooltip": null,
      "layout": "IPY_MODEL_d8c3ff23c16d42dcb8d498e8a3e8b15c",
      "max": 66465124,
      "min": 0,
      "orientation": "horizontal",
      "style": "IPY_MODEL_0d0a9d8958ce430482cbcf6babec4c24",
      "value": 66465124
     }
    },
    "1ca76aa9cffd4496aef6e0e8c7f14e62": {
     "model_module": "@jupyter-widgets/controls",
     "model_name": "HTMLModel",
     "model_module_version": "1.5.0",
     "state": {
      "_dom_classes": [],
      "_model_module": "@jupyter-widgets/controls",
      "_model_module_version": "1.5.0",
      "_model_name": "HTMLModel",
      "_view_count": null,
      "_view_module": "@jupyter-widgets/controls",
      "_view_module_version": "1.5.0",
      "_view_name": "HTMLView",
      "description": "",
      "description_tooltip": null,
      "layout": "IPY_MODEL_e6a09d5ee1704394a0d2102bbdce9630",
      "placeholder": "​",
      "style": "IPY_MODEL_c61d5ff23b8d4371890a0f4519f76f25",
      "value": " 66.5M/66.5M [00:01&lt;00:00, 77.7MB/s]"
     }
    },
    "dba01e88d5f24b3da6d17ceeef0085a1": {
     "model_module": "@jupyter-widgets/base",
     "model_name": "LayoutModel",
     "model_module_version": "1.2.0",
     "state": {
      "_model_module": "@jupyter-widgets/base",
      "_model_module_version": "1.2.0",
      "_model_name": "LayoutModel",
      "_view_count": null,
      "_view_module": "@jupyter-widgets/base",
      "_view_module_version": "1.2.0",
      "_view_name": "LayoutView",
      "align_content": null,
      "align_items": null,
      "align_self": null,
      "border": null,
      "bottom": null,
      "display": null,
      "flex": null,
      "flex_flow": null,
      "grid_area": null,
      "grid_auto_columns": null,
      "grid_auto_flow": null,
      "grid_auto_rows": null,
      "grid_column": null,
      "grid_gap": null,
      "grid_row": null,
      "grid_template_areas": null,
      "grid_template_columns": null,
      "grid_template_rows": null,
      "height": null,
      "justify_content": null,
      "justify_items": null,
      "left": null,
      "margin": null,
      "max_height": null,
      "max_width": null,
      "min_height": null,
      "min_width": null,
      "object_fit": null,
      "object_position": null,
      "order": null,
      "overflow": null,
      "overflow_x": null,
      "overflow_y": null,
      "padding": null,
      "right": null,
      "top": null,
      "visibility": null,
      "width": null
     }
    },
    "d1011f14e5124e529e4e681c6a84e2b8": {
     "model_module": "@jupyter-widgets/base",
     "model_name": "LayoutModel",
     "model_module_version": "1.2.0",
     "state": {
      "_model_module": "@jupyter-widgets/base",
      "_model_module_version": "1.2.0",
      "_model_name": "LayoutModel",
      "_view_count": null,
      "_view_module": "@jupyter-widgets/base",
      "_view_module_version": "1.2.0",
      "_view_name": "LayoutView",
      "align_content": null,
      "align_items": null,
      "align_self": null,
      "border": null,
      "bottom": null,
      "display": null,
      "flex": null,
      "flex_flow": null,
      "grid_area": null,
      "grid_auto_columns": null,
      "grid_auto_flow": null,
      "grid_auto_rows": null,
      "grid_column": null,
      "grid_gap": null,
      "grid_row": null,
      "grid_template_areas": null,
      "grid_template_columns": null,
      "grid_template_rows": null,
      "height": null,
      "justify_content": null,
      "justify_items": null,
      "left": null,
      "margin": null,
      "max_height": null,
      "max_width": null,
      "min_height": null,
      "min_width": null,
      "object_fit": null,
      "object_position": null,
      "order": null,
      "overflow": null,
      "overflow_x": null,
      "overflow_y": null,
      "padding": null,
      "right": null,
      "top": null,
      "visibility": null,
      "width": null
     }
    },
    "08c27e2567f74e26a7b7e87853360fe3": {
     "model_module": "@jupyter-widgets/controls",
     "model_name": "DescriptionStyleModel",
     "model_module_version": "1.5.0",
     "state": {
      "_model_module": "@jupyter-widgets/controls",
      "_model_module_version": "1.5.0",
      "_model_name": "DescriptionStyleModel",
      "_view_count": null,
      "_view_module": "@jupyter-widgets/base",
      "_view_module_version": "1.2.0",
      "_view_name": "StyleView",
      "description_width": ""
     }
    },
    "d8c3ff23c16d42dcb8d498e8a3e8b15c": {
     "model_module": "@jupyter-widgets/base",
     "model_name": "LayoutModel",
     "model_module_version": "1.2.0",
     "state": {
      "_model_module": "@jupyter-widgets/base",
      "_model_module_version": "1.2.0",
      "_model_name": "LayoutModel",
      "_view_count": null,
      "_view_module": "@jupyter-widgets/base",
      "_view_module_version": "1.2.0",
      "_view_name": "LayoutView",
      "align_content": null,
      "align_items": null,
      "align_self": null,
      "border": null,
      "bottom": null,
      "display": null,
      "flex": null,
      "flex_flow": null,
      "grid_area": null,
      "grid_auto_columns": null,
      "grid_auto_flow": null,
      "grid_auto_rows": null,
      "grid_column": null,
      "grid_gap": null,
      "grid_row": null,
      "grid_template_areas": null,
      "grid_template_columns": null,
      "grid_template_rows": null,
      "height": null,
      "justify_content": null,
      "justify_items": null,
      "left": null,
      "margin": null,
      "max_height": null,
      "max_width": null,
      "min_height": null,
      "min_width": null,
      "object_fit": null,
      "object_position": null,
      "order": null,
      "overflow": null,
      "overflow_x": null,
      "overflow_y": null,
      "padding": null,
      "right": null,
      "top": null,
      "visibility": null,
      "width": null
     }
    },
    "0d0a9d8958ce430482cbcf6babec4c24": {
     "model_module": "@jupyter-widgets/controls",
     "model_name": "ProgressStyleModel",
     "model_module_version": "1.5.0",
     "state": {
      "_model_module": "@jupyter-widgets/controls",
      "_model_module_version": "1.5.0",
      "_model_name": "ProgressStyleModel",
      "_view_count": null,
      "_view_module": "@jupyter-widgets/base",
      "_view_module_version": "1.2.0",
      "_view_name": "StyleView",
      "bar_color": null,
      "description_width": ""
     }
    },
    "e6a09d5ee1704394a0d2102bbdce9630": {
     "model_module": "@jupyter-widgets/base",
     "model_name": "LayoutModel",
     "model_module_version": "1.2.0",
     "state": {
      "_model_module": "@jupyter-widgets/base",
      "_model_module_version": "1.2.0",
      "_model_name": "LayoutModel",
      "_view_count": null,
      "_view_module": "@jupyter-widgets/base",
      "_view_module_version": "1.2.0",
      "_view_name": "LayoutView",
      "align_content": null,
      "align_items": null,
      "align_self": null,
      "border": null,
      "bottom": null,
      "display": null,
      "flex": null,
      "flex_flow": null,
      "grid_area": null,
      "grid_auto_columns": null,
      "grid_auto_flow": null,
      "grid_auto_rows": null,
      "grid_column": null,
      "grid_gap": null,
      "grid_row": null,
      "grid_template_areas": null,
      "grid_template_columns": null,
      "grid_template_rows": null,
      "height": null,
      "justify_content": null,
      "justify_items": null,
      "left": null,
      "margin": null,
      "max_height": null,
      "max_width": null,
      "min_height": null,
      "min_width": null,
      "object_fit": null,
      "object_position": null,
      "order": null,
      "overflow": null,
      "overflow_x": null,
      "overflow_y": null,
      "padding": null,
      "right": null,
      "top": null,
      "visibility": null,
      "width": null
     }
    },
    "c61d5ff23b8d4371890a0f4519f76f25": {
     "model_module": "@jupyter-widgets/controls",
     "model_name": "DescriptionStyleModel",
     "model_module_version": "1.5.0",
     "state": {
      "_model_module": "@jupyter-widgets/controls",
      "_model_module_version": "1.5.0",
      "_model_name": "DescriptionStyleModel",
      "_view_count": null,
      "_view_module": "@jupyter-widgets/base",
      "_view_module_version": "1.2.0",
      "_view_name": "StyleView",
      "description_width": ""
     }
    }
   }
  }
 },
 "cells": [
  {
   "cell_type": "code",
   "execution_count": 1,
   "metadata": {
    "colab": {
     "base_uri": "https://localhost:8080/"
    },
    "id": "F8WXu2e4gd7R",
    "outputId": "35116b33-d7f5-4403-e71c-0342bfa142d0"
   },
   "outputs": [
    {
     "output_type": "stream",
     "name": "stdout",
     "text": [
      "  Preparing metadata (setup.py) ... \u001b[?25l\u001b[?25hdone\n",
      "  Building wheel for PyStemmer (setup.py) ... \u001b[?25l\u001b[?25hdone\n"
     ]
    }
   ],
   "source": [
    "!pip install -Uqqq pip --progress-bar off\n",
    "!pip install -qqq fastembed==0.3.4 --progress-bar off\n",
    "!pip install -qqq sqlite-vec==0.1.1 --progress-bar off\n",
    "!pip install -qqq groq==0.9.0 --progress-bar off"
   ]
  },
  {
   "cell_type": "code",
   "source": [
    "import sqlite3\n",
    "from textwrap import dedent\n",
    "from typing import List\n",
    "\n",
    "import sqlite_vec\n",
    "from fastembed import TextEmbedding\n",
    "from google.colab import userdata\n",
    "from groq import Groq\n",
    "from groq.types.chat import ChatCompletionMessage\n",
    "from sqlite_vec import serialize_float32\n",
    "\n",
    "client = Groq(api_key=userdata.get(\"GROQ_API_KEY\"))\n",
    "MODEL = \"llama-3.1-70b-versatile\"\n",
    "TEMPERATURE = 0\n",
    "MAX_TOKENS = 4096\n",
    "\n",
    "db = sqlite3.connect(\"faq.sqlite3\")\n",
    "db.enable_load_extension(True)\n",
    "sqlite_vec.load(db)\n",
    "db.enable_load_extension(False)"
   ],
   "metadata": {
    "id": "SFbx6paoCAxk"
   },
   "execution_count": 2,
   "outputs": []
  },
  {
   "cell_type": "code",
   "source": [
    "%load_ext sql\n",
    "%sql sqlite:///faq.sqlite3"
   ],
   "metadata": {
    "id": "IJdGnRd3cJtJ"
   },
   "execution_count": 3,
   "outputs": []
  },
  {
   "cell_type": "code",
   "source": [
    "KNOWLEDGE_BASE = [\n",
    "    {\n",
    "        \"question\": \"Are the parts brand new?\",\n",
    "        \"answer\": \"All parts we sell are OEM or aftermarket OEM replacements and are brand new (never used). We guarantee that each part has not been previously installed or used in any vehicle.\",\n",
    "    },\n",
    "    {\n",
    "        \"question\": \"What is the return policy?\",\n",
    "        \"answer\": \"You can return any part within 30 days of purchase for a full refund. The part must be in its original packaging and condition. Customized or special-order parts are non-returnable.\",\n",
    "    },\n",
    "    {\n",
    "        \"question\": \"Do you offer a warranty on your parts?\",\n",
    "        \"answer\": \"Yes, we offer a minimum one-year warranty on all parts. Some parts may have extended warranties provided by the manufacturer. Please check the specific part’s warranty details for more information.\",\n",
    "    },\n",
    "    {\n",
    "        \"question\": \"How long does shipping take?\",\n",
    "        \"answer\": \"Standard shipping within the continental US typically takes 3-5 business days. Expedited shipping options are available at an additional cost. International shipping times vary based on location.\",\n",
    "    },\n",
    "    {\n",
    "        \"question\": \"Can I pick up my order in-store?\",\n",
    "        \"answer\": \"Yes, we offer in-store pickup for online orders. You can select the pickup option at checkout and choose your preferred store location. We will notify you when your order is ready for pickup.\",\n",
    "    },\n",
    "    {\n",
    "        \"question\": \"Do you offer installation services?\",\n",
    "        \"answer\": \"We do not offer installation services directly. However, we can recommend certified local mechanics and auto repair shops. Many of our locations have partnerships with trusted service providers.\",\n",
    "    },\n",
    "    {\n",
    "        \"question\": \"How can I track my order?\",\n",
    "        \"answer\": \"Once your order is shipped, you will receive a tracking number via email. You can use this tracking number on our website or the carrier’s website to monitor the delivery status of your order.\",\n",
    "    },\n",
    "    {\n",
    "        \"question\": \"Do you price match competitors?\",\n",
    "        \"answer\": \"Yes, we offer a price match guarantee on identical parts from authorized retailers. Simply provide proof of the lower price, and we will match it. Price matching is subject to verification and certain conditions.\",\n",
    "    },\n",
    "    {\n",
    "        \"question\": \"Are the parts compatible with my vehicle?\",\n",
    "        \"answer\": \"We provide detailed compatibility information for each part. You can use our online tool to enter your vehicle’s make, model, and year to ensure the part fits. If you have any doubts, our customer service team is here to help.\",\n",
    "    },\n",
    "    {\n",
    "        \"question\": \"Can I cancel my order?\",\n",
    "        \"answer\": \"You can cancel your order if it has not yet been shipped. Please contact our customer service as soon as possible to process the cancellation. If the order has already been shipped, you may need to follow the return process.\",\n",
    "    },\n",
    "    {\n",
    "        \"question\": \"Do you sell used or refurbished parts?\",\n",
    "        \"answer\": \"We primarily sell brand new OEM and aftermarket parts. However, we do offer a selection of refurbished parts which are clearly marked and come with their own warranties. All refurbished parts undergo strict quality control checks.\",\n",
    "    },\n",
    "    {\n",
    "        \"question\": \"What payment methods do you accept?\",\n",
    "        \"answer\": \"We accept a variety of payment methods including major credit cards (Visa, MasterCard, American Express), PayPal, and Apple Pay. For in-store purchases, we also accept cash and debit cards.\",\n",
    "    },\n",
    "]"
   ],
   "metadata": {
    "id": "Qt5HJCh6adfd"
   },
   "execution_count": 4,
   "outputs": []
  },
  {
   "cell_type": "markdown",
   "source": [
    "## Add Documents to Database"
   ],
   "metadata": {
    "id": "TDADDfPMwv-3"
   }
  },
  {
   "cell_type": "code",
   "source": [
    "db.execute(\n",
    "    \"\"\"\n",
    "    CREATE TABLE documents(\n",
    "        id INTEGER PRIMARY KEY,\n",
    "        question TEXT,\n",
    "        answer TEXT\n",
    "    );\n",
    "\"\"\"\n",
    ")"
   ],
   "metadata": {
    "colab": {
     "base_uri": "https://localhost:8080/"
    },
    "id": "POmqZtX9waR1",
    "outputId": "9b212784-789d-4bf8-db9c-495d7c5cb532"
   },
   "execution_count": 5,
   "outputs": [
    {
     "output_type": "execute_result",
     "data": {
      "text/plain": [
       "<sqlite3.Cursor at 0x7c8bf2cdafc0>"
      ]
     },
     "metadata": {},
     "execution_count": 5
    }
   ]
  },
  {
   "cell_type": "code",
   "source": [
    "with db:\n",
    "    for i, doc in enumerate(KNOWLEDGE_BASE):\n",
    "        db.execute(\n",
    "            \"INSERT INTO documents(id, question, answer) VALUES(?, ?, ?)\",\n",
    "            [i, doc[\"question\"], doc[\"answer\"]],\n",
    "        )"
   ],
   "metadata": {
    "id": "Why-rdPwwxxo"
   },
   "execution_count": 6,
   "outputs": []
  },
  {
   "cell_type": "markdown",
   "source": [
    "## Document Embeddings"
   ],
   "metadata": {
    "id": "ZWfWmkUE0arj"
   }
  },
  {
   "cell_type": "code",
   "source": [
    "embedding_model = TextEmbedding()"
   ],
   "metadata": {
    "colab": {
     "base_uri": "https://localhost:8080/",
     "height": 209,
     "referenced_widgets": [
      "6a08a185a48c400caea6529078436117",
      "41f14888dbbf40a099e03ea3cc951660",
      "ad9541c5d67c4aaea5ae8b5c0c2f249f",
      "1293c51abca7465db546b04c966f2161",
      "0126a7df2a8744e7a161d1ddc216a4b4",
      "c6bb90fd51b94a929baa7bd9127a9b6a",
      "04a6af938093464d8d38ffda74b43ec5",
      "7aaa47f004d74f14b3a47dd70a657276",
      "717e4c8b4fd6460c8b7fec5b24ad54c6",
      "5e8ea1b906814639908203500847e101",
      "ac0599ab81094a6b914766bb98c1f9e0",
      "a8a889523cb04bbeabd1cfc1dc9200ba",
      "6613f37e15104eea9c5f45ea564f9050",
      "d2893864e2d245ba920f1aa0c466aa76",
      "de89fc372f8a4f5192bc4b5ce6f2c82e",
      "160b2d7524784f53851c1727dc4bf6aa",
      "12b69e9902ff4d8281449b3cc9cd39b4",
      "5174116b802f452cb6ad9694225375db",
      "6fd2ab4cdbf7490183136ed1226a92b5",
      "c66a574e6a9e45afa66ccc512ed77018",
      "f8cfaa1158654611bc8136d9b674bfd2",
      "36e7bb25fa1b4096967fbad7ee88b5ce",
      "067ba1baa2854ed69d34aaa76a251dea",
      "9f2b997151fb4f96975d39d6cfc66e75",
      "d83c95214bb04a8fa9c48ce600d14e5c",
      "acc205f70bbf4f4894b6da31d6844d93",
      "d89fa552eead473cbb20966db6d8cf77",
      "b8ae8dfb03fe41e78e5bca1cbb02f65e",
      "e5846ec1703a464f854f4b6c25901f55",
      "09a29e019c514a85a06980348d3934c8",
      "a006ae0b688d44ff8ad8528e7f97c966",
      "26dd533bb8d54a99b6a19b512248b334",
      "a2fede932aa840c5893271d9700f726b",
      "d0a6f9db390649ddb7e15eeaddd05e03",
      "5f6ff849b2b74fddb05fadbd7114132b",
      "bec0b38f0655408aaa0be6b745adc66d",
      "c76bb1f0a23843658482f754ce4f1720",
      "9485981bab024a56aa7a11169753108e",
      "78a741fe83c74edd9160ed4f51b48104",
      "d2d8f55c246f4b6c84c59c5ff41bc14b",
      "3be60bda3fe3467fb1c39e2465dc3586",
      "0b298b906e05418e89ae05b28d901ea4",
      "dbd4d10d5d734f64a3d9f91154526417",
      "1c5835b3665146a5b5663dbb48c9b387",
      "833681cbcb5942cca1a06c98eef5d1e0",
      "76f6fa10c5694cf7b5f17e47aab6ea80",
      "4aea4520d82040b698d8c524990fdf55",
      "56985b8032e840829e6c56e1666f9442",
      "e31ec0534eb84e578847103fb5963177",
      "8cb7b63524cd492e8677d3392bfdcac5",
      "37b2d1c37b4049f5a41025ad696aabf0",
      "49f96388b13e4c94984c3ba052be3896",
      "6392d00a282f46488e1800be49eea0d2",
      "3beae98146fa4ef3b03e09ba6419d375",
      "164c3a08709e4775b927647b87870dc6",
      "8cfb495042c7412ab8ece90dbb57a2ce",
      "f8f23825441e4ff5b778da8886a19368",
      "beb93dc8d70e461498118eb1030781dc",
      "1ca76aa9cffd4496aef6e0e8c7f14e62",
      "dba01e88d5f24b3da6d17ceeef0085a1",
      "d1011f14e5124e529e4e681c6a84e2b8",
      "08c27e2567f74e26a7b7e87853360fe3",
      "d8c3ff23c16d42dcb8d498e8a3e8b15c",
      "0d0a9d8958ce430482cbcf6babec4c24",
      "e6a09d5ee1704394a0d2102bbdce9630",
      "c61d5ff23b8d4371890a0f4519f76f25"
     ]
    },
    "id": "HnCCpevLEOs3",
    "outputId": "9f4a21fe-896b-4b99-c8ef-eea598592d94"
   },
   "execution_count": 7,
   "outputs": [
    {
     "output_type": "display_data",
     "data": {
      "text/plain": [
       "Fetching 5 files:   0%|          | 0/5 [00:00<?, ?it/s]"
      ],
      "application/vnd.jupyter.widget-view+json": {
       "version_major": 2,
       "version_minor": 0,
       "model_id": "6a08a185a48c400caea6529078436117"
      }
     },
     "metadata": {}
    },
    {
     "output_type": "display_data",
     "data": {
      "text/plain": [
       "config.json:   0%|          | 0.00/706 [00:00<?, ?B/s]"
      ],
      "application/vnd.jupyter.widget-view+json": {
       "version_major": 2,
       "version_minor": 0,
       "model_id": "a8a889523cb04bbeabd1cfc1dc9200ba"
      }
     },
     "metadata": {}
    },
    {
     "output_type": "display_data",
     "data": {
      "text/plain": [
       "special_tokens_map.json:   0%|          | 0.00/695 [00:00<?, ?B/s]"
      ],
      "application/vnd.jupyter.widget-view+json": {
       "version_major": 2,
       "version_minor": 0,
       "model_id": "067ba1baa2854ed69d34aaa76a251dea"
      }
     },
     "metadata": {}
    },
    {
     "output_type": "display_data",
     "data": {
      "text/plain": [
       "tokenizer_config.json:   0%|          | 0.00/1.24k [00:00<?, ?B/s]"
      ],
      "application/vnd.jupyter.widget-view+json": {
       "version_major": 2,
       "version_minor": 0,
       "model_id": "d0a6f9db390649ddb7e15eeaddd05e03"
      }
     },
     "metadata": {}
    },
    {
     "output_type": "display_data",
     "data": {
      "text/plain": [
       "tokenizer.json:   0%|          | 0.00/711k [00:00<?, ?B/s]"
      ],
      "application/vnd.jupyter.widget-view+json": {
       "version_major": 2,
       "version_minor": 0,
       "model_id": "833681cbcb5942cca1a06c98eef5d1e0"
      }
     },
     "metadata": {}
    },
    {
     "output_type": "display_data",
     "data": {
      "text/plain": [
       "model_optimized.onnx:   0%|          | 0.00/66.5M [00:00<?, ?B/s]"
      ],
      "application/vnd.jupyter.widget-view+json": {
       "version_major": 2,
       "version_minor": 0,
       "model_id": "8cfb495042c7412ab8ece90dbb57a2ce"
      }
     },
     "metadata": {}
    }
   ]
  },
  {
   "cell_type": "code",
   "source": [
    "document_embeddings = list(embedding_model.embed(KNOWLEDGE_BASE[0][\"question\"]))\n",
    "len(document_embeddings), document_embeddings[0].shape"
   ],
   "metadata": {
    "colab": {
     "base_uri": "https://localhost:8080/"
    },
    "id": "oqaBaEN9--rb",
    "outputId": "0ab26652-1c4e-4095-cfbe-7bf8c87c3c2b"
   },
   "execution_count": 8,
   "outputs": [
    {
     "output_type": "execute_result",
     "data": {
      "text/plain": [
       "(1, (384,))"
      ]
     },
     "metadata": {},
     "execution_count": 8
    }
   ]
  },
  {
   "cell_type": "code",
   "source": [
    "db.execute(\n",
    "    f\"\"\"\n",
    "        CREATE VIRTUAL TABLE document_embeddings USING vec0(\n",
    "          id INTEGER PRIMARY KEY,\n",
    "          embedding FLOAT[{document_embeddings[0].shape[0]}]\n",
    "        );\n",
    "    \"\"\"\n",
    ")"
   ],
   "metadata": {
    "colab": {
     "base_uri": "https://localhost:8080/"
    },
    "id": "Wsa676_e-88B",
    "outputId": "202c10e1-10a1-49ad-fc2d-a16387af6c45"
   },
   "execution_count": 9,
   "outputs": [
    {
     "output_type": "execute_result",
     "data": {
      "text/plain": [
       "<sqlite3.Cursor at 0x7c8bf2d92340>"
      ]
     },
     "metadata": {},
     "execution_count": 9
    }
   ]
  },
  {
   "cell_type": "code",
   "source": [
    "with db:\n",
    "    document_rows = db.execute(\"SELECT id, question, answer FROM documents\").fetchall()\n",
    "    documents = [f\"{row[1]}\\n{row[2]}\" for row in document_rows]\n",
    "    print(documents[0])\n",
    "    document_embeddings = list(embedding_model.embed(documents))\n",
    "    for (id, _, _), embedding in zip(document_rows, document_embeddings):\n",
    "        db.execute(\n",
    "            \"INSERT INTO document_embeddings(id, embedding) VALUES (?, ?)\",\n",
    "            [id, serialize_float32(embedding)],\n",
    "        )"
   ],
   "metadata": {
    "colab": {
     "base_uri": "https://localhost:8080/"
    },
    "id": "k5HIs35s9Mh1",
    "outputId": "2b6df162-9a1c-48e3-ee66-697a33d7944d"
   },
   "execution_count": 10,
   "outputs": [
    {
     "output_type": "stream",
     "name": "stdout",
     "text": [
      "Are the parts brand new?\n",
      "All parts we sell are OEM or aftermarket OEM replacements and are brand new (never used). We guarantee that each part has not been previously installed or used in any vehicle.\n"
     ]
    }
   ]
  },
  {
   "cell_type": "markdown",
   "source": [
    "## Database Structure"
   ],
   "metadata": {
    "id": "j4pEL6FneAy1"
   }
  },
  {
   "cell_type": "code",
   "source": [
    "%%sql\n",
    "SELECT\n",
    "    name,\n",
    "    type,\n",
    "    sql\n",
    "FROM\n",
    "    sqlite_master\n",
    "WHERE\n",
    "    type IN ('table', 'index', 'view', 'trigger')\n",
    "ORDER BY\n",
    "    type,\n",
    "    name;"
   ],
   "metadata": {
    "colab": {
     "base_uri": "https://localhost:8080/",
     "height": 364
    },
    "id": "CO3O2IgKdzri",
    "outputId": "9ef931e6-eec4-4153-e6c4-504bafe862e6"
   },
   "execution_count": 11,
   "outputs": [
    {
     "output_type": "stream",
     "name": "stdout",
     "text": [
      " * sqlite:///faq.sqlite3\n",
      "Done.\n"
     ]
    },
    {
     "output_type": "execute_result",
     "data": {
      "text/plain": [
       "[('sqlite_autoindex_document_embeddings_vector_chunks00_1', 'index', None),\n",
       " ('document_embeddings', 'table', 'CREATE VIRTUAL TABLE document_embeddings USING vec0(\\n          id INTEGER PRIMARY KEY,\\n          embedding FLOAT[384]\\n        )'),\n",
       " ('document_embeddings_chunks', 'table', 'CREATE TABLE \"document_embeddings_chunks\"(chunk_id INTEGER PRIMARY KEY AUTOINCREMENT,size INTEGER NOT NULL,validity BLOB NOT NULL,rowids BLOB NOT NULL)'),\n",
       " ('document_embeddings_rowids', 'table', 'CREATE TABLE \"document_embeddings_rowids\"(rowid INTEGER PRIMARY KEY AUTOINCREMENT,id,chunk_id INTEGER,chunk_offset INTEGER)'),\n",
       " ('document_embeddings_vector_chunks00', 'table', 'CREATE TABLE \"document_embeddings_vector_chunks00\"(rowid PRIMARY KEY,vectors BLOB NOT NULL)'),\n",
       " ('documents', 'table', 'CREATE TABLE documents(\\n        id INTEGER PRIMARY KEY,\\n        question TEXT,\\n        answer TEXT\\n    )'),\n",
       " ('sqlite_sequence', 'table', 'CREATE TABLE sqlite_sequence(name,seq)')]"
      ],
      "text/html": [
       "<table>\n",
       "    <thead>\n",
       "        <tr>\n",
       "            <th>name</th>\n",
       "            <th>type</th>\n",
       "            <th>sql</th>\n",
       "        </tr>\n",
       "    </thead>\n",
       "    <tbody>\n",
       "        <tr>\n",
       "            <td>sqlite_autoindex_document_embeddings_vector_chunks00_1</td>\n",
       "            <td>index</td>\n",
       "            <td>None</td>\n",
       "        </tr>\n",
       "        <tr>\n",
       "            <td>document_embeddings</td>\n",
       "            <td>table</td>\n",
       "            <td>CREATE VIRTUAL TABLE document_embeddings USING vec0(<br>          id INTEGER PRIMARY KEY,<br>          embedding FLOAT[384]<br>        )</td>\n",
       "        </tr>\n",
       "        <tr>\n",
       "            <td>document_embeddings_chunks</td>\n",
       "            <td>table</td>\n",
       "            <td>CREATE TABLE &quot;document_embeddings_chunks&quot;(chunk_id INTEGER PRIMARY KEY AUTOINCREMENT,size INTEGER NOT NULL,validity BLOB NOT NULL,rowids BLOB NOT NULL)</td>\n",
       "        </tr>\n",
       "        <tr>\n",
       "            <td>document_embeddings_rowids</td>\n",
       "            <td>table</td>\n",
       "            <td>CREATE TABLE &quot;document_embeddings_rowids&quot;(rowid INTEGER PRIMARY KEY AUTOINCREMENT,id,chunk_id INTEGER,chunk_offset INTEGER)</td>\n",
       "        </tr>\n",
       "        <tr>\n",
       "            <td>document_embeddings_vector_chunks00</td>\n",
       "            <td>table</td>\n",
       "            <td>CREATE TABLE &quot;document_embeddings_vector_chunks00&quot;(rowid PRIMARY KEY,vectors BLOB NOT NULL)</td>\n",
       "        </tr>\n",
       "        <tr>\n",
       "            <td>documents</td>\n",
       "            <td>table</td>\n",
       "            <td>CREATE TABLE documents(<br>        id INTEGER PRIMARY KEY,<br>        question TEXT,<br>        answer TEXT<br>    )</td>\n",
       "        </tr>\n",
       "        <tr>\n",
       "            <td>sqlite_sequence</td>\n",
       "            <td>table</td>\n",
       "            <td>CREATE TABLE sqlite_sequence(name,seq)</td>\n",
       "        </tr>\n",
       "    </tbody>\n",
       "</table>"
      ]
     },
     "metadata": {},
     "execution_count": 11
    }
   ]
  },
  {
   "cell_type": "markdown",
   "source": [
    "## Find Similar Documents"
   ],
   "metadata": {
    "id": "pG87JriC10LP"
   }
  },
  {
   "cell_type": "code",
   "source": [
    "query = \"What is the warranty?\"\n",
    "query_embeddings = list(embedding_model.embed([query]))\n",
    "query_embedding = query_embeddings[0]"
   ],
   "metadata": {
    "id": "hymrsQ6FFsnP"
   },
   "execution_count": 12,
   "outputs": []
  },
  {
   "cell_type": "code",
   "source": [
    "results = db.execute(\n",
    "    \"\"\"\n",
    "      SELECT\n",
    "        document_embeddings.id,\n",
    "        distance,\n",
    "        question,\n",
    "        answer\n",
    "      FROM document_embeddings\n",
    "      LEFT JOIN documents ON documents.id = document_embeddings.id\n",
    "      WHERE embedding MATCH ?\n",
    "        AND k = 3\n",
    "      ORDER BY distance\n",
    "    \"\"\",\n",
    "    [serialize_float32(query_embedding)],\n",
    ").fetchall()"
   ],
   "metadata": {
    "id": "Fo35qeU-CFGp"
   },
   "execution_count": 13,
   "outputs": []
  },
  {
   "cell_type": "code",
   "source": [
    "results"
   ],
   "metadata": {
    "colab": {
     "base_uri": "https://localhost:8080/"
    },
    "id": "ArhnOU0pJX5U",
    "outputId": "f3fc1849-eb50-4ff1-f469-9838f9e85140"
   },
   "execution_count": 14,
   "outputs": [
    {
     "output_type": "execute_result",
     "data": {
      "text/plain": [
       "[(2,\n",
       "  0.7537915110588074,\n",
       "  'Do you offer a warranty on your parts?',\n",
       "  'Yes, we offer a minimum one-year warranty on all parts. Some parts may have extended warranties provided by the manufacturer. Please check the specific part’s warranty details for more information.'),\n",
       " (1,\n",
       "  0.8563459515571594,\n",
       "  'What is the return policy?',\n",
       "  'You can return any part within 30 days of purchase for a full refund. The part must be in its original packaging and condition. Customized or special-order parts are non-returnable.'),\n",
       " (10,\n",
       "  0.8647741675376892,\n",
       "  'Do you sell used or refurbished parts?',\n",
       "  'We primarily sell brand new OEM and aftermarket parts. However, we do offer a selection of refurbished parts which are clearly marked and come with their own warranties. All refurbished parts undergo strict quality control checks.')]"
      ]
     },
     "metadata": {},
     "execution_count": 14
    }
   ]
  },
  {
   "cell_type": "markdown",
   "source": [
    "## RAG"
   ],
   "metadata": {
    "id": "CoEIUEpb1wth"
   }
  },
  {
   "cell_type": "code",
   "source": [
    "def retrieve_context(\n",
    "    query: str, k: int = 3, embedding_model: TextEmbedding = embedding_model\n",
    ") -> str:\n",
    "    query_embedding = list(embedding_model.embed([query]))[0]\n",
    "    results = db.execute(\n",
    "        \"\"\"\n",
    "        SELECT\n",
    "            document_embeddings.id,\n",
    "            distance,\n",
    "            question,\n",
    "            answer\n",
    "        FROM document_embeddings\n",
    "        LEFT JOIN documents ON documents.id = document_embeddings.id\n",
    "        WHERE embedding MATCH ?\n",
    "            AND k = ?\n",
    "        ORDER BY distance\n",
    "        \"\"\",\n",
    "        [serialize_float32(query_embedding), k],\n",
    "    ).fetchall()\n",
    "    return \"\\n---\\n\".join([f\"{item[2]}\\n{item[3]}\" for item in results])"
   ],
   "metadata": {
    "id": "tJoKtgSVhYdc"
   },
   "execution_count": 15,
   "outputs": []
  },
  {
   "cell_type": "code",
   "source": [
    "query = \"What is the warranty for the parts?\"\n",
    "print(retrieve_context(query))"
   ],
   "metadata": {
    "colab": {
     "base_uri": "https://localhost:8080/"
    },
    "id": "KijE5m3Nhvin",
    "outputId": "61afb594-a382-4472-cd2c-2c95819b247c"
   },
   "execution_count": 16,
   "outputs": [
    {
     "output_type": "stream",
     "name": "stdout",
     "text": [
      "Do you offer a warranty on your parts?\n",
      "Yes, we offer a minimum one-year warranty on all parts. Some parts may have extended warranties provided by the manufacturer. Please check the specific part’s warranty details for more information.\n",
      "---\n",
      "Do you sell used or refurbished parts?\n",
      "We primarily sell brand new OEM and aftermarket parts. However, we do offer a selection of refurbished parts which are clearly marked and come with their own warranties. All refurbished parts undergo strict quality control checks.\n",
      "---\n",
      "What is the return policy?\n",
      "You can return any part within 30 days of purchase for a full refund. The part must be in its original packaging and condition. Customized or special-order parts are non-returnable.\n"
     ]
    }
   ]
  },
  {
   "cell_type": "code",
   "source": [
    "SYSTEM_PROMPT = \"\"\"\n",
    "You're a senior customer support agent for an online autoparts store.\n",
    "You're always helpful and answer customer questions only based on the provided\n",
    "information. If you don't know the answer - just reply with an excuse that you\n",
    "don't know. Keep your answers brief and to the point. Be kind and respectful.\n",
    "\n",
    "Use the provided context for your answers. The most relevant information is\n",
    "at the top. Each piece of information is separated by ---.\n",
    "\"\"\""
   ],
   "metadata": {
    "id": "pYcUn6Ja2eVz"
   },
   "execution_count": 17,
   "outputs": []
  },
  {
   "cell_type": "code",
   "source": [
    "def create_user_prompt(query: str) -> str:\n",
    "    return dedent(\n",
    "        f\"\"\"\n",
    "Use the following information:\n",
    "\n",
    "```\n",
    "{retrieve_context(query)}\n",
    "```\n",
    "\n",
    "to answer the question:\n",
    "{query}\n",
    "    \"\"\"\n",
    "    )"
   ],
   "metadata": {
    "id": "-HP76y1fikvA"
   },
   "execution_count": 18,
   "outputs": []
  },
  {
   "cell_type": "code",
   "source": [
    "print(create_user_prompt(query))"
   ],
   "metadata": {
    "colab": {
     "base_uri": "https://localhost:8080/"
    },
    "id": "N47EQWAKjMm5",
    "outputId": "64e70375-c210-4dad-9213-727d1d968c3b"
   },
   "execution_count": 19,
   "outputs": [
    {
     "output_type": "stream",
     "name": "stdout",
     "text": [
      "\n",
      "Use the following information:\n",
      "\n",
      "```\n",
      "Do you offer a warranty on your parts?\n",
      "Yes, we offer a minimum one-year warranty on all parts. Some parts may have extended warranties provided by the manufacturer. Please check the specific part’s warranty details for more information.\n",
      "---\n",
      "Do you sell used or refurbished parts?\n",
      "We primarily sell brand new OEM and aftermarket parts. However, we do offer a selection of refurbished parts which are clearly marked and come with their own warranties. All refurbished parts undergo strict quality control checks.\n",
      "---\n",
      "What is the return policy?\n",
      "You can return any part within 30 days of purchase for a full refund. The part must be in its original packaging and condition. Customized or special-order parts are non-returnable.\n",
      "```\n",
      "\n",
      "to answer the question:\n",
      "What is the warranty for the parts?\n",
      "\n"
     ]
    }
   ]
  },
  {
   "cell_type": "markdown",
   "source": [
    "### Ask Questions"
   ],
   "metadata": {
    "id": "nyQfcHrHpW4Z"
   }
  },
  {
   "cell_type": "code",
   "source": [
    "user_prompt = create_user_prompt(query)\n",
    "\n",
    "messages = [\n",
    "    {\n",
    "        \"role\": \"system\",\n",
    "        \"content\": SYSTEM_PROMPT,\n",
    "    },\n",
    "]"
   ],
   "metadata": {
    "id": "mn4Jo6Vu1wRq"
   },
   "execution_count": 20,
   "outputs": []
  },
  {
   "cell_type": "code",
   "source": [
    "def call_model(query: str, messages: List) -> ChatCompletionMessage:\n",
    "    messages.append(\n",
    "        {\n",
    "            \"role\": \"user\",\n",
    "            \"content\": create_user_prompt(query),\n",
    "        },\n",
    "    )\n",
    "    response = client.chat.completions.create(\n",
    "        model=MODEL,\n",
    "        messages=messages,\n",
    "        temperature=TEMPERATURE,\n",
    "        max_tokens=MAX_TOKENS,\n",
    "    )\n",
    "    message = response.choices[0].message\n",
    "    messages.append(message)\n",
    "    return message"
   ],
   "metadata": {
    "id": "KWTWdEkXmRk2"
   },
   "execution_count": 21,
   "outputs": []
  },
  {
   "cell_type": "code",
   "source": [
    "query = \"What is the warranty for the parts?\"\n",
    "message = call_model(query, messages)\n",
    "print(message)"
   ],
   "metadata": {
    "colab": {
     "base_uri": "https://localhost:8080/"
    },
    "id": "Rx45fwsA30mV",
    "outputId": "04d66fa8-46c6-4c22-eb74-42f2beb0342f"
   },
   "execution_count": 22,
   "outputs": [
    {
     "output_type": "stream",
     "name": "stdout",
     "text": [
      "ChatCompletionMessage(content='We offer a minimum one-year warranty on all parts. Some parts may have extended warranties provided by the manufacturer.', role='assistant', function_call=None, tool_calls=None)\n"
     ]
    }
   ]
  },
  {
   "cell_type": "code",
   "source": [
    "print(message.content)"
   ],
   "metadata": {
    "colab": {
     "base_uri": "https://localhost:8080/"
    },
    "id": "NWzKXMAAk2Kc",
    "outputId": "2acb13c8-8004-4dfc-c402-32ffc4d872d0"
   },
   "execution_count": 23,
   "outputs": [
    {
     "output_type": "stream",
     "name": "stdout",
     "text": [
      "We offer a minimum one-year warranty on all parts. Some parts may have extended warranties provided by the manufacturer.\n"
     ]
    }
   ]
  },
  {
   "cell_type": "code",
   "source": [
    "query = \"Can I return a part that I incorrectly ordered?\"\n",
    "message = call_model(query, messages)\n",
    "print(message.content)"
   ],
   "metadata": {
    "colab": {
     "base_uri": "https://localhost:8080/"
    },
    "id": "OEjz7Ye1owSM",
    "outputId": "87d1ce05-afb4-4ab7-c9d4-4abfddcb201e"
   },
   "execution_count": 24,
   "outputs": [
    {
     "output_type": "stream",
     "name": "stdout",
     "text": [
      "Yes, you can return a part within 30 days of purchase for a full refund, as long as it's in its original packaging and condition.\n"
     ]
    }
   ]
  },
  {
   "cell_type": "code",
   "source": [
    "query = \"How much does an OEM water pump cost for W211?\"\n",
    "message = call_model(query, messages)\n",
    "print(message.content)"
   ],
   "metadata": {
    "colab": {
     "base_uri": "https://localhost:8080/"
    },
    "id": "ZJ4rOQ6_pJYs",
    "outputId": "a5634d43-c477-42a9-a57f-fac524602809"
   },
   "execution_count": 25,
   "outputs": [
    {
     "output_type": "stream",
     "name": "stdout",
     "text": [
      "I don't know. The provided information doesn't mention specific prices for parts, including the OEM water pump for W211.\n"
     ]
    }
   ]
  }
 ]
}