{
 "nbformat": 4,
 "nbformat_minor": 0,
 "metadata": {
  "colab": {
   "provenance": [],
   "toc_visible": true
  },
  "kernelspec": {
   "name": "python3",
   "display_name": "Python 3"
  },
  "language_info": {
   "name": "python"
  }
 },
 "cells": [
  {
   "cell_type": "code",
   "execution_count": 1,
   "metadata": {
    "colab": {
     "base_uri": "https://localhost:8080/"
    },
    "id": "CqZkdPIuhbD8",
    "outputId": "ca0a5804-878b-4256-b8cd-5171a0dabbac"
   },
   "outputs": [
    {
     "output_type": "stream",
     "name": "stdout",
     "text": [
      "\u001b[31mERROR: pip's dependency resolver does not currently take into account all the packages that are installed. This behaviour is the source of the following dependency conflicts.\n",
      "google-colab 1.0.0 requires google-auth==2.27.0, but you have google-auth 2.37.0 which is incompatible.\u001b[0m\u001b[31m\n",
      "\u001b[0m"
     ]
    }
   ],
   "source": [
    "!pip install -Uqqq pip --progress-bar off\n",
    "!pip install -qqq pydantic-ai==0.0.14 --progress-bar off"
   ]
  },
  {
   "cell_type": "code",
   "source": [
    "!gdown 1zXnEv6yiQb39Mb9UQstHGx0vbcWAQHcM"
   ],
   "metadata": {
    "colab": {
     "base_uri": "https://localhost:8080/"
    },
    "id": "_A0pFBJDoXJx",
    "outputId": "edab341f-ca15-4784-89af-a3605e983443"
   },
   "execution_count": 2,
   "outputs": [
    {
     "output_type": "stream",
     "name": "stdout",
     "text": [
      "Downloading...\n",
      "From: https://drive.google.com/uc?id=1zXnEv6yiQb39Mb9UQstHGx0vbcWAQHcM\n",
      "To: /content/app-reviews.db\n",
      "\r  0% 0.00/73.7k [00:00<?, ?B/s]\r100% 73.7k/73.7k [00:00<00:00, 60.2MB/s]\n"
     ]
    }
   ]
  },
  {
   "cell_type": "code",
   "source": [
    "import os\n",
    "import sqlite3\n",
    "import textwrap\n",
    "from dataclasses import dataclass\n",
    "from pathlib import Path\n",
    "from typing import List\n",
    "\n",
    "import nest_asyncio\n",
    "from google.colab import userdata\n",
    "from pydantic import BaseModel, Field\n",
    "from pydantic_ai import Agent, RunContext\n",
    "\n",
    "os.environ[\"OPENAI_API_KEY\"] = userdata.get(\"OPENAI_API_KEY\")\n",
    "\n",
    "DB_PATH = Path(\"./app-reviews.db\")\n",
    "MODEL_NAME = \"openai:gpt-4o-mini\"\n",
    "\n",
    "nest_asyncio.apply()"
   ],
   "metadata": {
    "id": "zx590rajkf9j"
   },
   "execution_count": 3,
   "outputs": []
  },
  {
   "cell_type": "markdown",
   "source": [
    "## Get Reviews"
   ],
   "metadata": {
    "id": "Uz1OeELxos0Q"
   }
  },
  {
   "cell_type": "code",
   "source": [
    "@dataclass\n",
    "class Review:\n",
    "    package_name: str\n",
    "    text: str\n",
    "    rating: int"
   ],
   "metadata": {
    "id": "iysVMPSUtz7j"
   },
   "execution_count": 4,
   "outputs": []
  },
  {
   "cell_type": "markdown",
   "source": [
    "## Tools"
   ],
   "metadata": {
    "id": "6s7Yi7VF43D2"
   }
  },
  {
   "cell_type": "code",
   "source": [
    "def fetch_reviews(\n",
    "    min_rating: int,\n",
    "    max_rating: int,\n",
    "    max_reviews: int = 30,\n",
    "    min_words_in_review: int = 8,\n",
    ") -> List[Review]:\n",
    "    with sqlite3.connect(DB_PATH) as conn:\n",
    "        cursor = conn.cursor()\n",
    "        cursor.execute(\n",
    "            \"\"\"\n",
    "            SELECT package_name, review, rating\n",
    "            FROM reviews\n",
    "            WHERE rating >= ?\n",
    "            AND rating <= ?\n",
    "            AND review IS NOT NULL\n",
    "            ORDER BY RANDOM()\n",
    "\"\"\",\n",
    "            (min_rating, max_rating),\n",
    "        )\n",
    "        reviews = []\n",
    "\n",
    "        for package_name, review, rating in cursor.fetchall():\n",
    "            word_count = len(review.split())\n",
    "            if word_count < min_words_in_review:\n",
    "                continue\n",
    "            reviews.append(\n",
    "                Review(package_name=package_name, text=review, rating=rating)\n",
    "            )\n",
    "        return reviews[:max_reviews]"
   ],
   "metadata": {
    "id": "rfkJihC2rKCa"
   },
   "execution_count": 5,
   "outputs": []
  },
  {
   "cell_type": "code",
   "source": [
    "reviews = fetch_reviews(2, 4, max_reviews=10)\n",
    "reviews[0]"
   ],
   "metadata": {
    "colab": {
     "base_uri": "https://localhost:8080/"
    },
    "id": "5a3iNMBh4rCR",
    "outputId": "2b235654-1325-4e89-88c2-ca4b5f8d3b64"
   },
   "execution_count": 6,
   "outputs": [
    {
     "output_type": "execute_result",
     "data": {
      "text/plain": [
       "Review(package_name='org.isoron.uhabits', text='Please provide option for full day track also Other wise is ok ok app', rating=3)"
      ]
     },
     "metadata": {},
     "execution_count": 6
    }
   ]
  },
  {
   "cell_type": "markdown",
   "source": [
    "## Dependencies"
   ],
   "metadata": {
    "id": "iXF84_CNrdni"
   }
  },
  {
   "cell_type": "code",
   "source": [
    "@dataclass\n",
    "class Dependencies:\n",
    "    app_description: str"
   ],
   "metadata": {
    "id": "pQG1R8MgoIFB"
   },
   "execution_count": 7,
   "outputs": []
  },
  {
   "cell_type": "markdown",
   "source": [
    "## Agents"
   ],
   "metadata": {
    "id": "nhuhPT-Rrgr_"
   }
  },
  {
   "cell_type": "code",
   "source": [
    "PRODUCT_IMPROVEMENT_PROMPT = \"\"\"\n",
    "You help app developers and product managers identify areas for improvement based\n",
    "on user feedback.\n",
    "\"\"\".strip()\n",
    "\n",
    "\n",
    "class ProductImprovementResult(BaseModel):\n",
    "    issues: List[str] = Field(\n",
    "        description=\"Prioritized list of common bugs or issues (e.g., 'app crashes on startup')\"\n",
    "    )\n",
    "    feature_requests: List[str] = Field(\n",
    "        description=\"Suggest top requested features (e.g., 'add dark mode')\"\n",
    "    )\n",
    "\n",
    "\n",
    "improvement_agent = Agent(\n",
    "    MODEL_NAME,\n",
    "    deps_type=Dependencies,\n",
    "    result_type=ProductImprovementResult,\n",
    "    system_prompt=PRODUCT_IMPROVEMENT_PROMPT,\n",
    "    tools=[fetch_reviews],\n",
    ")"
   ],
   "metadata": {
    "id": "et_UIKEELE5a"
   },
   "execution_count": 8,
   "outputs": []
  },
  {
   "cell_type": "code",
   "source": [
    "MARKETING_PROMPT = \"\"\"\n",
    "You're marketer that focuses on engaging mobile app users.\n",
    "You have a nag for writing clear and focused marketing copy.\n",
    "\"\"\".strip()\n",
    "\n",
    "\n",
    "class MarketingResult(BaseModel):\n",
    "    praised_features: List[str] = Field(\n",
    "        description=\"Prioritized list of features that users praise the most. . One item per line.\"\n",
    "    )\n",
    "    important_phrases: List[str] = Field(\n",
    "        description=\"List of phrases that the marketing team should include in the copy. One item per line.\"\n",
    "    )\n",
    "\n",
    "\n",
    "marketing_agent = Agent(\n",
    "    MODEL_NAME,\n",
    "    deps_type=Dependencies,\n",
    "    result_type=MarketingResult,\n",
    "    system_prompt=MARKETING_PROMPT,\n",
    "    tools=[fetch_reviews],\n",
    ")"
   ],
   "metadata": {
    "id": "E_tgaEEDe80U"
   },
   "execution_count": 9,
   "outputs": []
  },
  {
   "cell_type": "code",
   "source": [
    "class PlanningResult(BaseModel):\n",
    "    app_names: List[str] = Field(description=\"List of suggested app names\")\n",
    "    marketing_copy: str = Field(\n",
    "        description=\"Marketing copy of the app to build. 2-3 paragraphs at most\"\n",
    "    )\n",
    "    mvp_features: List[str] = Field(\n",
    "        description=\"List of features to include in the MVP of the app\"\n",
    "    )\n",
    "    possible_issues: List[str] = Field(\n",
    "        description=\"Prioritized list of possible bugs that might come up during development\"\n",
    "    )\n",
    "\n",
    "\n",
    "planner_agent = Agent(MODEL_NAME, deps_type=Dependencies, result_type=PlanningResult)"
   ],
   "metadata": {
    "id": "LY1wWIs2wdmt"
   },
   "execution_count": 10,
   "outputs": []
  },
  {
   "cell_type": "code",
   "source": [
    "@planner_agent.system_prompt\n",
    "async def get_system_prompt(ctx: RunContext[Dependencies]) -> str:\n",
    "    return f\"\"\"\n",
    "You're planning an MVP for new {ctx.deps.app_description} app. You'll propose\n",
    "the best possible way to approach the process of building it.\n",
    "\"\"\".strip()"
   ],
   "metadata": {
    "id": "Ge2C1RH7PgzL"
   },
   "execution_count": 11,
   "outputs": []
  },
  {
   "cell_type": "markdown",
   "source": [
    "## Run Agents"
   ],
   "metadata": {
    "id": "bnMuY2MA7fIU"
   }
  },
  {
   "cell_type": "code",
   "source": [
    "deps = Dependencies(\n",
    "    app_description=\"Todo/habit tracking app with focus on personal development\"\n",
    ")"
   ],
   "metadata": {
    "id": "GEnALIjF0Zou"
   },
   "execution_count": 14,
   "outputs": []
  },
  {
   "cell_type": "code",
   "source": [
    "%%time\n",
    "improvement_result = improvement_agent.run_sync(\n",
    "    \"Analyze the reviews for possible improvements\", deps=deps\n",
    ")"
   ],
   "metadata": {
    "colab": {
     "base_uri": "https://localhost:8080/"
    },
    "id": "bDK3RrEtvMrk",
    "outputId": "2e16a507-66e3-4eb1-8dc8-a2d983c81b3d"
   },
   "execution_count": 15,
   "outputs": [
    {
     "output_type": "stream",
     "name": "stdout",
     "text": [
      "CPU times: user 101 ms, sys: 7.42 ms, total: 108 ms\n",
      "Wall time: 4.54 s\n"
     ]
    }
   ]
  },
  {
   "cell_type": "code",
   "source": [
    "for item in improvement_result.new_messages():\n",
    "    print(item)"
   ],
   "metadata": {
    "colab": {
     "base_uri": "https://localhost:8080/"
    },
    "id": "HH9CbAA05n5u",
    "outputId": "21d320cb-cede-4ea6-9dc3-b728b83ac03d"
   },
   "execution_count": 16,
   "outputs": [
    {
     "output_type": "stream",
     "name": "stdout",
     "text": [
      "ModelRequest(parts=[SystemPromptPart(content='You help app developers and product managers identify areas for improvement based\\non user feedback.', part_kind='system-prompt'), UserPromptPart(content='Analyze the reviews for possible improvements', timestamp=datetime.datetime(2024, 12, 19, 21, 50, 14, 629654, tzinfo=datetime.timezone.utc), part_kind='user-prompt')], kind='request')\n",
      "ModelResponse(parts=[ToolCallPart(tool_name='fetch_reviews', args=ArgsJson(args_json='{\"min_rating\": 1, \"max_rating\": 3, \"max_reviews\": 10, \"min_words_in_review\": 5}'), tool_call_id='call_C5bXZyYXMCgRcsak8t2WZFrK', part_kind='tool-call'), ToolCallPart(tool_name='fetch_reviews', args=ArgsJson(args_json='{\"min_rating\": 4, \"max_rating\": 5, \"max_reviews\": 10, \"min_words_in_review\": 5}'), tool_call_id='call_LSUgzzI27MV5x7aAhUNLtJJi', part_kind='tool-call')], timestamp=datetime.datetime(2024, 12, 19, 21, 50, 15, tzinfo=datetime.timezone.utc), kind='response')\n",
      "ModelRequest(parts=[ToolReturnPart(tool_name='fetch_reviews', content=[Review(package_name='org.isoron.uhabits', text=\"It is a good app. What I personally like about it is that the app shows a whole week's progress. It's really helpful for me because it is a motivator. I rated it 3 stars because I feel like the app can be more interactive and provide us with more exciting user interface in the future.\", rating=3), Review(package_name='com.finch.finch', text=\"I had to get a new phone and now this app is telling me my account doesn't exist. Please explain this. How do I get my bird back??\", rating=2), Review(package_name='org.isoron.uhabits', text='Please add/allow grouping of habits', rating=3), Review(package_name='com.habitnow', text='Pleas neveerrr download this just demo app becuse premium app cosider we wnat', rating=1), Review(package_name='org.isoron.uhabits', text='Although your works is commendable but it lacks some features which should be integrated like , it should be linked with Google account or something suppose if am to delete this apk or I have to erase my phone than how will I track by progress my current streak or my database ,the substitue you gave to it is not that relevant.', rating=3), Review(package_name='com.finch.finch', text='It\\'s a very cute app. Would have given 5 stars, except they had to add the stupid \"they/them\" pronoun bullsh*t, along with all the perverted pedo flags, \"pride flags\" etc. Not necessary AT all in an app like this.', rating=2), Review(package_name='com.finch.finch', text=\"I'm a little annoyed with this app right now. When I first started using it, it was amazing! I loved all the cool features you could use but after the first week all those features went away, and it said I needed finch plus to use them again. After reading other reviews, I was not going to sign up for that, I think finch is a great app idea, just very poorly executed..\", rating=2), Review(package_name='com.finch.finch', text=\"Having to check in every time I open the app daunts me. It's harder and harder to energize your birb the longer you've been playing, and I know this sounds petty but I can never seem to get my birb to react the way I want it to to the questions and explorations. She likes the things I hate and vice versa! Sad. Overall I think this app would get you out of a rut but isn't good for anyone with chronic experiences.\", rating=3), Review(package_name='com.habitnow', text=\"While I truly appreciate this app for all its many benefits, I have encountered difficulties transferring information to my other devices. The other devices don't recognize that I purchased the premium version and the other devices receive the app transfer as the free version which does not allow me to transfer my information from the original purchased app. If not for this flaw, I would give this app 5 stars for all the great benefits it has provided me. Thanks.\", rating=3), Review(package_name='com.finch.finch', text=\"Was excited to try this as someone with ADHD & CPTSD issues only to find out after a week you must pay a $10+ subscription per month... don't download if are looking for a free app. :(\", rating=2)], tool_call_id='call_C5bXZyYXMCgRcsak8t2WZFrK', timestamp=datetime.datetime(2024, 12, 19, 21, 50, 16, 884894, tzinfo=datetime.timezone.utc), part_kind='tool-return'), ToolReturnPart(tool_name='fetch_reviews', content=[Review(package_name='com.finch.finch', text=\"What a wonderful app! Your Finch is adorable! I wish we could interact more, feed or play games with the finch. My only other qualm is the pricing, without dping 300 goals a day, it's difficult to get anything fun from the shops. Unless you pay for premium... Maybe if there was a family pack deal or if it was less than $60. Maybe once things calm down, or if they lower the pricing. Then I'll gove 5 star.\", rating=4), Review(package_name='com.habitnow', text='I have a suggestion for the application, pls do consider. It is important to follow a habit it on time, so it would be a plus if we could log the time optionally for each habit. Also, allow to add other data like eg, what fruit. For the first time in my life i made any inapp purchase. The rate is cheap and i tried so many productivity apps, nothing impressed me more. It allows to segregate tasks and habits, which is a super plus for me.It looks neat and soothing to the eyes, has good statistics.', rating=5), Review(package_name='com.habitnow', text='nice application but do v have \"stick to notification\" option? i didn\\'t c it. its very important for me.', rating=4), Review(package_name='org.isoron.uhabits', text='Simple to use, Minimalist design, Without ads.', rating=5), Review(package_name='org.isoron.uhabits', text=\"The only thing it lacks is that we can't assign/select a particular date to a particular task like we can do with week.\", rating=4), Review(package_name='com.habitnow', text=\"This apps is good. The features are simple and easy to navigate. But I had a problem when I wanted to purchase the premium features. Somehow, transaction not successful. I didn't encounter any problem with other apps though. Hope this issue can be resolved soon.\", rating=4), Review(package_name='com.finch.finch', text=\"endearing app that brings with it, a bit better of focus than I expected, it's comforting\", rating=5), Review(package_name='com.finch.finch', text=\"I really love this app so far. It's so fun and cute. It motivates me to get out of bed and be productive. There are goals to complete, you can play with friends, and it's relaxing! I upgraded to the premium version. My only issue is if I miss a day, I can't do anything to make up for the daily rewards. I wish there were a way that I could do extra tasks or goals to get the daily reward boxes for day I missed.\", rating=4), Review(package_name='org.isoron.uhabits', text='I am happy after installing this app, it is really very simple and highly effective... Specially the types of widgets are fab.', rating=5), Review(package_name='com.finch.finch', text='Really good app. I love my micropet, and she provides a lot of self care facilities, which are helping me through dark days. Thank you so much to the developers for this light in the darkness 🙏😊', rating=5)], tool_call_id='call_LSUgzzI27MV5x7aAhUNLtJJi', timestamp=datetime.datetime(2024, 12, 19, 21, 50, 16, 883863, tzinfo=datetime.timezone.utc), part_kind='tool-return')], kind='request')\n",
      "ModelResponse(parts=[ToolCallPart(tool_name='final_result', args=ArgsJson(args_json='{\"issues\":[\"Account recovery issues after changing devices\",\"Difficulty in transferring premium features between devices\",\"High subscription cost for premium features\",\"Limited user interaction features with the app\",\"Lack of notifications for habit tracking\"],\"feature_requests\":[\"Add more interactive features for user engagement\",\"Implement grouping of habits for better organization\",\"Allow users to link Google accounts for data recovery\",\"Introduce a system for compensating missed daily rewards\",\"Provide an option to log time for habits\"]}'), tool_call_id='call_XAlWqyb0vrZQeigdeTPCkWGJ', part_kind='tool-call')], timestamp=datetime.datetime(2024, 12, 19, 21, 50, 17, tzinfo=datetime.timezone.utc), kind='response')\n",
      "ModelRequest(parts=[ToolReturnPart(tool_name='final_result', content='Final result processed.', tool_call_id='call_XAlWqyb0vrZQeigdeTPCkWGJ', timestamp=datetime.datetime(2024, 12, 19, 21, 50, 19, 171369, tzinfo=datetime.timezone.utc), part_kind='tool-return')], kind='request')\n"
     ]
    }
   ]
  },
  {
   "cell_type": "code",
   "source": [
    "for item in improvement_result.data.issues:\n",
    "    print(f\"- {item}\")"
   ],
   "metadata": {
    "colab": {
     "base_uri": "https://localhost:8080/"
    },
    "id": "CRHn-Dd45pgp",
    "outputId": "74b7a1ab-4619-4a9a-9a11-e1ea7de99954"
   },
   "execution_count": 17,
   "outputs": [
    {
     "output_type": "stream",
     "name": "stdout",
     "text": [
      "- Account recovery issues after changing devices\n",
      "- Difficulty in transferring premium features between devices\n",
      "- High subscription cost for premium features\n",
      "- Limited user interaction features with the app\n",
      "- Lack of notifications for habit tracking\n"
     ]
    }
   ]
  },
  {
   "cell_type": "code",
   "source": [
    "for item in improvement_result.data.feature_requests:\n",
    "    print(f\"- {item}\")"
   ],
   "metadata": {
    "colab": {
     "base_uri": "https://localhost:8080/"
    },
    "id": "oaH5LqZa5uBO",
    "outputId": "c5733009-a86f-4f81-ea26-7cdc91bb02cd"
   },
   "execution_count": 18,
   "outputs": [
    {
     "output_type": "stream",
     "name": "stdout",
     "text": [
      "- Add more interactive features for user engagement\n",
      "- Implement grouping of habits for better organization\n",
      "- Allow users to link Google accounts for data recovery\n",
      "- Introduce a system for compensating missed daily rewards\n",
      "- Provide an option to log time for habits\n"
     ]
    }
   ]
  },
  {
   "cell_type": "code",
   "source": [
    "%%time\n",
    "marketing_result = marketing_agent.run_sync(\n",
    "    \"Prepare marketing materials based on the reviews\", deps=deps\n",
    ")"
   ],
   "metadata": {
    "colab": {
     "base_uri": "https://localhost:8080/"
    },
    "id": "5tpPd-iQxxkS",
    "outputId": "923cb363-b495-4e2a-ae81-da50648694a5"
   },
   "execution_count": 19,
   "outputs": [
    {
     "output_type": "stream",
     "name": "stdout",
     "text": [
      "CPU times: user 53.9 ms, sys: 5.92 ms, total: 59.8 ms\n",
      "Wall time: 2.9 s\n"
     ]
    }
   ]
  },
  {
   "cell_type": "code",
   "source": [
    "for item in marketing_result.new_messages():\n",
    "    print(item)"
   ],
   "metadata": {
    "colab": {
     "base_uri": "https://localhost:8080/"
    },
    "id": "Y8wnG5tFx6JH",
    "outputId": "fc32964e-bab3-4d56-d482-4b84d08a0268"
   },
   "execution_count": 20,
   "outputs": [
    {
     "output_type": "stream",
     "name": "stdout",
     "text": [
      "ModelRequest(parts=[SystemPromptPart(content=\"You're marketer that focuses on engaging mobile app users.\\nYou have a nag for writing clear and focused marketing copy.\", part_kind='system-prompt'), UserPromptPart(content='Prepare marketing materials based on the reviews', timestamp=datetime.datetime(2024, 12, 19, 21, 51, 21, 630961, tzinfo=datetime.timezone.utc), part_kind='user-prompt')], kind='request')\n",
      "ModelResponse(parts=[ToolCallPart(tool_name='fetch_reviews', args=ArgsJson(args_json='{\"min_rating\": 4, \"max_rating\": 5, \"max_reviews\": 5, \"min_words_in_review\": 15}'), tool_call_id='call_wu863ELcesZrl2XdSshGQMRx', part_kind='tool-call'), ToolCallPart(tool_name='fetch_reviews', args=ArgsJson(args_json='{\"min_rating\": 1, \"max_rating\": 2, \"max_reviews\": 5, \"min_words_in_review\": 15}'), tool_call_id='call_vK8cXufNZjWmrfqtaGsBbLdW', part_kind='tool-call')], timestamp=datetime.datetime(2024, 12, 19, 21, 51, 21, tzinfo=datetime.timezone.utc), kind='response')\n",
      "ModelRequest(parts=[ToolReturnPart(tool_name='fetch_reviews', content=[Review(package_name='com.finch.finch', text='Alright, keeping this short n sweet, this app.is AMAZING but id say adding a calender for woman to track thier periods would be VERY useful! Thx!', rating=4), Review(package_name='com.finch.finch', text=\"it's a lot more interactive compared to all the other self-help and reminder goal apps\", rating=5), Review(package_name='com.finch.finch', text='Love this! Just wish we could save more than just two home styles without having to pay premium. But very brilliant app!', rating=4), Review(package_name='com.habitnow', text=\"It's a really great app. But I only minus point is that it limits the amount of tasks.\", rating=4), Review(package_name='org.isoron.uhabits', text=\"The only thing it lacks is that we can't assign/select a particular date to a particular task like we can do with week.\", rating=4)], tool_call_id='call_wu863ELcesZrl2XdSshGQMRx', timestamp=datetime.datetime(2024, 12, 19, 21, 51, 23, 187673, tzinfo=datetime.timezone.utc), part_kind='tool-return'), ToolReturnPart(tool_name='fetch_reviews', content=[Review(package_name='com.finch.finch', text='this is a cute app and no ads! also it is a self care app! Edit: never mind', rating=1), Review(package_name='org.isoron.uhabits', text=\"Widgets freeze often. Those are the main reason I use the app. There is no way to fix the widgets without restarting the phone, and you don't know how long that solution will last before having to do it again. Edit: Dropped from 2 to 1 star. Just can't get past the widgets almost never working.\", rating=1), Review(package_name='org.isoron.uhabits', text=\"Idk why but the checkmark widget isn't working on my device SAMSUNG M32. earlier it was easy to tick matk of my habit via widget now i need to go to app everytime. Ols give me solution or fix it. Rest real good app\", rating=2), Review(package_name='com.habitnow', text=\"App is super good but the main thing that expected was the reminder for each and every task or habbit. So sometimes it worked but sometimes didn't. Then I was totally frustrated. I uninstalled this app 4 times and tried even changed my battery optimizer settings but didn't work !!!\", rating=2), Review(package_name='com.finch.finch', text=\"used to be good and helpful, but turns into a mere, competitive appgame nowadays. it's all about earning currency, and not about allowing users to choose anymore, so their individual needs are respected. game-chosen daily tasks which every day ignores the comfort zone and safety net. community goals which make a feeling of safe, self-chosen social distancing impossible on the few days it is needed. paid two years long, had high hopes and great trust. again a disappointment. should have known.\", rating=1)], tool_call_id='call_vK8cXufNZjWmrfqtaGsBbLdW', timestamp=datetime.datetime(2024, 12, 19, 21, 51, 23, 187697, tzinfo=datetime.timezone.utc), part_kind='tool-return')], kind='request')\n",
      "ModelResponse(parts=[ToolCallPart(tool_name='final_result', args=ArgsJson(args_json='{\"praised_features\":[\"Interactive experience\",\"Self-care focus\",\"No ads\",\"Useful for self-help and reminders\",\"User-friendly design\"],\"important_phrases\":[\"AMAZING app\",\"Track your habits\",\"Make your self-care journey enjoyable\",\"Simplify your life\",\"Join a supportive community\",\"Customizable home styles\"]}'), tool_call_id='call_R1BCHMjMWPkixh9tKajsFSlw', part_kind='tool-call')], timestamp=datetime.datetime(2024, 12, 19, 21, 51, 23, tzinfo=datetime.timezone.utc), kind='response')\n",
      "ModelRequest(parts=[ToolReturnPart(tool_name='final_result', content='Final result processed.', tool_call_id='call_R1BCHMjMWPkixh9tKajsFSlw', timestamp=datetime.datetime(2024, 12, 19, 21, 51, 24, 526630, tzinfo=datetime.timezone.utc), part_kind='tool-return')], kind='request')\n"
     ]
    }
   ]
  },
  {
   "cell_type": "code",
   "source": [
    "for item in marketing_result.data.praised_features:\n",
    "    print(f\"- {item}\")"
   ],
   "metadata": {
    "colab": {
     "base_uri": "https://localhost:8080/"
    },
    "id": "no6jDsCH54az",
    "outputId": "cb5bf0fb-a900-4d2a-f309-cee9f3500cef"
   },
   "execution_count": 21,
   "outputs": [
    {
     "output_type": "stream",
     "name": "stdout",
     "text": [
      "- Interactive experience\n",
      "- Self-care focus\n",
      "- No ads\n",
      "- Useful for self-help and reminders\n",
      "- User-friendly design\n"
     ]
    }
   ]
  },
  {
   "cell_type": "code",
   "source": [
    "for item in marketing_result.data.important_phrases:\n",
    "    print(f\"- {item}\")"
   ],
   "metadata": {
    "colab": {
     "base_uri": "https://localhost:8080/"
    },
    "id": "yKY-8AbT569N",
    "outputId": "fa90e617-3e5f-4b8f-d005-226a841a31e3"
   },
   "execution_count": 22,
   "outputs": [
    {
     "output_type": "stream",
     "name": "stdout",
     "text": [
      "- AMAZING app\n",
      "- Track your habits\n",
      "- Make your self-care journey enjoyable\n",
      "- Simplify your life\n",
      "- Join a supportive community\n",
      "- Customizable home styles\n"
     ]
    }
   ]
  },
  {
   "cell_type": "code",
   "source": [
    "%%time\n",
    "\n",
    "prompt = f\"\"\"Propose an MVP based on these reports:\n",
    "\n",
    "# Improvements:\n",
    "\n",
    "common issues:\n",
    "{improvement_result.data.issues}\n",
    "\n",
    "feature requests:\n",
    "{improvement_result.data.feature_requests}\n",
    "\n",
    "# Marketing:\n",
    "\n",
    "praised features:\n",
    "{marketing_result.data.praised_features}\n",
    "\n",
    "important phrases:\n",
    "{marketing_result.data.important_phrases}\n",
    "\"\"\"\n",
    "\n",
    "planner_result = planner_agent.run_sync(prompt, deps=deps)"
   ],
   "metadata": {
    "colab": {
     "base_uri": "https://localhost:8080/"
    },
    "id": "2hsq61zf1RJx",
    "outputId": "396e5c8a-58f9-4c14-c8e7-deb13298bb1b"
   },
   "execution_count": 23,
   "outputs": [
    {
     "output_type": "stream",
     "name": "stdout",
     "text": [
      "CPU times: user 55.6 ms, sys: 8.25 ms, total: 63.8 ms\n",
      "Wall time: 8.57 s\n"
     ]
    }
   ]
  },
  {
   "cell_type": "code",
   "source": [
    "for item in planner_result.data.app_names:\n",
    "    print(item)"
   ],
   "metadata": {
    "colab": {
     "base_uri": "https://localhost:8080/"
    },
    "id": "yvROngXj6AdZ",
    "outputId": "bd2613b5-6a02-4f54-f457-d619aa84f9bf"
   },
   "execution_count": 24,
   "outputs": [
    {
     "output_type": "stream",
     "name": "stdout",
     "text": [
      "HabitHarmony\n",
      "SelfCare Tracker\n",
      "GoalGetter\n",
      "HabitHub\n",
      "Tracktastic\n"
     ]
    }
   ]
  },
  {
   "cell_type": "code",
   "source": [
    "for item in planner_result.data.marketing_copy.split(\"\\n\"):\n",
    "    print(f\"{textwrap.fill(item, 100)}\")"
   ],
   "metadata": {
    "colab": {
     "base_uri": "https://localhost:8080/"
    },
    "id": "T36cEx386C22",
    "outputId": "d0ae6d32-7c1b-450e-b19a-e91d11c71f66"
   },
   "execution_count": 25,
   "outputs": [
    {
     "output_type": "stream",
     "name": "stdout",
     "text": [
      "Introducing our innovative new app designed to simplify your self-care journey and make habit\n",
      "tracking engaging and rewarding. With a user-friendly design and interactive experience, you'll love\n",
      "tracking your habits and making personal development a fun part of your day. Join a supportive\n",
      "community and celebrate your progress as you journey towards a better you!\n",
      "\n",
      "Our app is ad-free and comes with customizable home styles to fit your personal preference. Stay\n",
      "motivated and accountable with our notification systems, reward mechanisms, and unique features that\n",
      "encourage user interaction. Track your habits with ease and make self-care an enjoyable part of your\n",
      "life!\n"
     ]
    }
   ]
  },
  {
   "cell_type": "code",
   "source": [
    "for item in planner_result.data.mvp_features:\n",
    "    print(f\"- {item}\")"
   ],
   "metadata": {
    "colab": {
     "base_uri": "https://localhost:8080/"
    },
    "id": "i3brMteO6FLG",
    "outputId": "cf020e77-c2c6-44bd-d015-c6346e697598"
   },
   "execution_count": 26,
   "outputs": [
    {
     "output_type": "stream",
     "name": "stdout",
     "text": [
      "- User-friendly interface\n",
      "- Habit logging system\n",
      "- Grouping of habits feature\n",
      "- Notifications for habit tracking\n",
      "- Integration with Google accounts for recovery\n",
      "- Compensation system for missed rewards\n",
      "- Interactive elements for user engagement\n"
     ]
    }
   ]
  },
  {
   "cell_type": "code",
   "source": [
    "for item in planner_result.data.possible_issues:\n",
    "    print(f\"- {item}\")"
   ],
   "metadata": {
    "colab": {
     "base_uri": "https://localhost:8080/"
    },
    "id": "yySzPtMG6IC2",
    "outputId": "18e14150-563c-4dd0-abd0-05749052ff76"
   },
   "execution_count": 27,
   "outputs": [
    {
     "output_type": "stream",
     "name": "stdout",
     "text": [
      "- Account recovery issues after changing devices\n",
      "- Difficulty in transferring premium features between devices\n",
      "- High subscription cost for premium features\n",
      "- Limited user interaction features with the app\n",
      "- Lack of notifications for habit tracking\n"
     ]
    }
   ]
  },
  {
   "cell_type": "code",
   "source": [
    "planner_result.all_messages()"
   ],
   "metadata": {
    "colab": {
     "base_uri": "https://localhost:8080/"
    },
    "id": "Sstu3q4B5MCp",
    "outputId": "c9b6e721-166e-48da-ff7a-81c2c4af900e"
   },
   "execution_count": 28,
   "outputs": [
    {
     "output_type": "execute_result",
     "data": {
      "text/plain": [
       "[ModelRequest(parts=[SystemPromptPart(content=\"You're planning an MVP for new Todo/habit tracking app with focus on personal development app. You'll propose\\nthe best possible way to approach the process of building it.\", part_kind='system-prompt'), UserPromptPart(content=\"Propose an MVP based on these reports:\\n\\n# Improvements:\\n\\ncommon issues:\\n['Account recovery issues after changing devices', 'Difficulty in transferring premium features between devices', 'High subscription cost for premium features', 'Limited user interaction features with the app', 'Lack of notifications for habit tracking']\\n\\nfeature requests:\\n['Add more interactive features for user engagement', 'Implement grouping of habits for better organization', 'Allow users to link Google accounts for data recovery', 'Introduce a system for compensating missed daily rewards', 'Provide an option to log time for habits']\\n\\n# Marketing:\\n\\npraised features:\\n['Interactive experience', 'Self-care focus', 'No ads', 'Useful for self-help and reminders', 'User-friendly design']\\n\\nimportant phrases:\\n['AMAZING app', 'Track your habits', 'Make your self-care journey enjoyable', 'Simplify your life', 'Join a supportive community', 'Customizable home styles']\\n\", timestamp=datetime.datetime(2024, 12, 19, 21, 51, 56, 691002, tzinfo=datetime.timezone.utc), part_kind='user-prompt')], kind='request'),\n",
       " ModelResponse(parts=[ToolCallPart(tool_name='final_result', args=ArgsJson(args_json='{\"app_names\": [\"HabitHarmony\", \"SelfCare Tracker\", \"GoalGetter\", \"HabitHub\", \"Tracktastic\"], \"marketing_copy\": \"Introducing our innovative new app designed to simplify your self-care journey and make habit tracking engaging and rewarding. With a user-friendly design and interactive experience, you\\'ll love tracking your habits and making personal development a fun part of your day. Join a supportive community and celebrate your progress as you journey towards a better you!\\\\n\\\\nOur app is ad-free and comes with customizable home styles to fit your personal preference. Stay motivated and accountable with our notification systems, reward mechanisms, and unique features that encourage user interaction. Track your habits with ease and make self-care an enjoyable part of your life!\", \"mvp_features\": [\"User-friendly interface\", \"Habit logging system\", \"Grouping of habits feature\", \"Notifications for habit tracking\", \"Integration with Google accounts for recovery\", \"Compensation system for missed rewards\", \"Interactive elements for user engagement\"], \"possible_issues\": [\"Account recovery issues after changing devices\", \"Difficulty in transferring premium features between devices\", \"High subscription cost for premium features\", \"Limited user interaction features with the app\", \"Lack of notifications for habit tracking\"]}'), tool_call_id='call_AnSJkMzTQMrW1nrCEgQDF7mz', part_kind='tool-call')], timestamp=datetime.datetime(2024, 12, 19, 21, 51, 56, tzinfo=datetime.timezone.utc), kind='response'),\n",
       " ModelRequest(parts=[ToolReturnPart(tool_name='final_result', content='Final result processed.', tool_call_id='call_AnSJkMzTQMrW1nrCEgQDF7mz', timestamp=datetime.datetime(2024, 12, 19, 21, 52, 5, 252855, tzinfo=datetime.timezone.utc), part_kind='tool-return')], kind='request')]"
      ]
     },
     "metadata": {},
     "execution_count": 28
    }
   ]
  },
  {
   "cell_type": "markdown",
   "source": [
    "## Chat History"
   ],
   "metadata": {
    "id": "xJiuttB97jFa"
   }
  },
  {
   "cell_type": "code",
   "source": [
    "%%time\n",
    "planner_new_result = planner_agent.run_sync(\n",
    "    \"Focus the mvp features on the app functionality - habit tracking and tasks. Give a detailed explanation of the feature\",\n",
    "    message_history=planner_result.new_messages(),\n",
    "    deps=deps,\n",
    ")"
   ],
   "metadata": {
    "colab": {
     "base_uri": "https://localhost:8080/"
    },
    "id": "qjjSgr-v5bzg",
    "outputId": "13ebced8-1a3a-4ef4-f820-21fb589793df"
   },
   "execution_count": 31,
   "outputs": [
    {
     "output_type": "stream",
     "name": "stdout",
     "text": [
      "CPU times: user 43.6 ms, sys: 2.96 ms, total: 46.6 ms\n",
      "Wall time: 4.51 s\n"
     ]
    }
   ]
  },
  {
   "cell_type": "code",
   "source": [
    "for item in planner_new_result.data.mvp_features:\n",
    "    print(f\"- {textwrap.fill(item, 100)}\")\n",
    "    print()"
   ],
   "metadata": {
    "colab": {
     "base_uri": "https://localhost:8080/"
    },
    "id": "3x57zyYn6M_2",
    "outputId": "5c51b0b1-1415-4d62-b585-e170014066b0"
   },
   "execution_count": 32,
   "outputs": [
    {
     "output_type": "stream",
     "name": "stdout",
     "text": [
      "- Habit Logging System: Allow users to easily log habits with customizable options like frequency,\n",
      "duration, and type, ensuring they can track what matters most to them.\n",
      "\n",
      "- Task Management Features: Introduce an intuitive task list that enables users to add, edit, and\n",
      "delete tasks with due dates and priority levels to help them stay organized.\n",
      "\n",
      "- Habit Grouping: Allow users to categorize habits into groups for better organization and management,\n",
      "helping them maintain focus on different areas of their life.\n",
      "\n",
      "- Notifications & Reminders: Enable customizable notifications to remind users of their daily habits\n",
      "and tasks, helping to foster accountability and consistency.\n",
      "\n",
      "- Integration with Google Accounts: Provide easy account recovery and data synchronization options\n",
      "with Google accounts so users can seamlessly transition across devices without losing progress.\n",
      "\n",
      "- Reward System: Implement a system that compensates users for completing daily habits and tasks,\n",
      "encouraging positive reinforcement and motivation.\n",
      "\n"
     ]
    }
   ]
  }
 ]
}