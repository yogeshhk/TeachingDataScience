{
 "nbformat": 4,
 "nbformat_minor": 0,
 "metadata": {
  "colab": {
   "provenance": [],
   "authorship_tag": "ABX9TyMEW18DfbUtmI2unoYEvy4s"
  },
  "kernelspec": {
   "name": "python3",
   "display_name": "Python 3"
  },
  "language_info": {
   "name": "python"
  }
 },
 "cells": [
  {
   "cell_type": "markdown",
   "source": [
    "# Python Essentials for AI"
   ],
   "metadata": {
    "id": "rf_FEuNDoif6"
   }
  },
  {
   "cell_type": "code",
   "source": [
    "!pip install -qqq dicttoxml==1.7.16"
   ],
   "metadata": {
    "id": "MzNZC2cIvIAr",
    "executionInfo": {
     "status": "ok",
     "timestamp": 1699992285753,
     "user_tz": -120,
     "elapsed": 8717,
     "user": {
      "displayName": "Venelin Valkov",
      "userId": "01328360181817234523"
     }
    }
   },
   "execution_count": 1,
   "outputs": []
  },
  {
   "cell_type": "markdown",
   "source": [
    "## Data Structures"
   ],
   "metadata": {
    "id": "1yau_XcNq1Nl"
   }
  },
  {
   "cell_type": "code",
   "execution_count": 2,
   "metadata": {
    "colab": {
     "base_uri": "https://localhost:8080/"
    },
    "id": "9uXWi-bLoJai",
    "executionInfo": {
     "status": "ok",
     "timestamp": 1699992285756,
     "user_tz": -120,
     "elapsed": 119,
     "user": {
      "displayName": "Venelin Valkov",
      "userId": "01328360181817234523"
     }
    },
    "outputId": "2f54720e-6104-4f1e-f492-841e4c1d6422"
   },
   "outputs": [
    {
     "output_type": "execute_result",
     "data": {
      "text/plain": [
       "['age', 'income', 'education_level', 'marital_status']"
      ]
     },
     "metadata": {},
     "execution_count": 2
    }
   ],
   "source": [
    "model_features = [\"age\", \"income\", \"education_level\"]\n",
    "model_features.append(\"marital_status\")\n",
    "model_features"
   ]
  },
  {
   "cell_type": "code",
   "source": [
    "feature_importance = {\"age\": 0.75, \"income\": 0.85, \"education_level\": 0.65}\n",
    "print(feature_importance[\"age\"])"
   ],
   "metadata": {
    "colab": {
     "base_uri": "https://localhost:8080/"
    },
    "id": "ZkAPDFbrsT8m",
    "executionInfo": {
     "status": "ok",
     "timestamp": 1699992285757,
     "user_tz": -120,
     "elapsed": 117,
     "user": {
      "displayName": "Venelin Valkov",
      "userId": "01328360181817234523"
     }
    },
    "outputId": "b7998650-4b0a-4293-e362-be8cdb31a20c"
   },
   "execution_count": 3,
   "outputs": [
    {
     "output_type": "stream",
     "name": "stdout",
     "text": [
      "0.75\n"
     ]
    }
   ]
  },
  {
   "cell_type": "code",
   "source": [
    "unique_labels = {\"spam\", \"not_spam\"}\n",
    "unique_labels.add(\"spam\")\n",
    "\n",
    "print(unique_labels)"
   ],
   "metadata": {
    "colab": {
     "base_uri": "https://localhost:8080/"
    },
    "id": "xEvba3UUtsaZ",
    "executionInfo": {
     "status": "ok",
     "timestamp": 1699992285757,
     "user_tz": -120,
     "elapsed": 115,
     "user": {
      "displayName": "Venelin Valkov",
      "userId": "01328360181817234523"
     }
    },
    "outputId": "162554e8-b89f-441d-babd-0813e4458ca7"
   },
   "execution_count": 4,
   "outputs": [
    {
     "output_type": "stream",
     "name": "stdout",
     "text": [
      "{'not_spam', 'spam'}\n"
     ]
    }
   ]
  },
  {
   "cell_type": "code",
   "source": [
    "data_point = ({\"age\": 25, \"income\": 50000}, \"not_spam\")\n",
    "\n",
    "print(data_point)"
   ],
   "metadata": {
    "colab": {
     "base_uri": "https://localhost:8080/"
    },
    "id": "GuqdUguxvB7i",
    "executionInfo": {
     "status": "ok",
     "timestamp": 1699992285782,
     "user_tz": -120,
     "elapsed": 139,
     "user": {
      "displayName": "Venelin Valkov",
      "userId": "01328360181817234523"
     }
    },
    "outputId": "994f534b-7a8f-421f-f0d0-3a1854b405bd"
   },
   "execution_count": 5,
   "outputs": [
    {
     "output_type": "stream",
     "name": "stdout",
     "text": [
      "({'age': 25, 'income': 50000}, 'not_spam')\n"
     ]
    }
   ]
  },
  {
   "cell_type": "code",
   "source": [
    "from collections import deque\n",
    "\n",
    "task_queue = deque([\"train_model\", \"evaluate_model\", \"update_parameters\"])\n",
    "\n",
    "task_queue.append(\"retrain_model\")\n",
    "current_task = task_queue.popleft()\n",
    "\n",
    "print(current_task, \"is being executed.\")\n",
    "print(\"Remaining tasks:\", task_queue)"
   ],
   "metadata": {
    "colab": {
     "base_uri": "https://localhost:8080/"
    },
    "id": "Q9iL-nD-vIcm",
    "executionInfo": {
     "status": "ok",
     "timestamp": 1699992285783,
     "user_tz": -120,
     "elapsed": 138,
     "user": {
      "displayName": "Venelin Valkov",
      "userId": "01328360181817234523"
     }
    },
    "outputId": "a37ab27b-411b-45fd-b874-cbbef3a6ea7d"
   },
   "execution_count": 6,
   "outputs": [
    {
     "output_type": "stream",
     "name": "stdout",
     "text": [
      "train_model is being executed.\n",
      "Remaining tasks: deque(['evaluate_model', 'update_parameters', 'retrain_model'])\n"
     ]
    }
   ]
  },
  {
   "cell_type": "code",
   "source": [
    "model_features = [\"age\", \"income\"]\n",
    "weights = [0.75, 0.85, 0.95]\n",
    "\n",
    "feature_importance = {}\n",
    "\n",
    "data_point = {\"age\": 24, \"income\": 55000, \"net_worth\": 250000}\n",
    "\n",
    "\n",
    "def predict(data, feature_importance):\n",
    "    pass\n",
    "\n",
    "\n",
    "print(predict(data_point, feature_importance))"
   ],
   "metadata": {
    "id": "mEOhNnSt4DZ8",
    "colab": {
     "base_uri": "https://localhost:8080/"
    },
    "executionInfo": {
     "status": "ok",
     "timestamp": 1699992285783,
     "user_tz": -120,
     "elapsed": 137,
     "user": {
      "displayName": "Venelin Valkov",
      "userId": "01328360181817234523"
     }
    },
    "outputId": "ed6da50a-b4f6-428a-fd5c-521ad2da72a8"
   },
   "execution_count": 7,
   "outputs": [
    {
     "output_type": "stream",
     "name": "stdout",
     "text": [
      "None\n"
     ]
    }
   ]
  },
  {
   "cell_type": "markdown",
   "source": [
    "## Functional Programming"
   ],
   "metadata": {
    "id": "f8hJZsXHvvP8"
   }
  },
  {
   "cell_type": "code",
   "source": [
    "paper_sales = [100, 150, 200]\n",
    "discounted_sales = list(map(lambda x: x * 0.9, paper_sales))\n",
    "\n",
    "print(discounted_sales)"
   ],
   "metadata": {
    "colab": {
     "base_uri": "https://localhost:8080/"
    },
    "id": "4FiVGSscvwVk",
    "executionInfo": {
     "status": "ok",
     "timestamp": 1699992285783,
     "user_tz": -120,
     "elapsed": 135,
     "user": {
      "displayName": "Venelin Valkov",
      "userId": "01328360181817234523"
     }
    },
    "outputId": "a1a73006-3b0f-4d68-f46d-d5c5d35535c3"
   },
   "execution_count": 8,
   "outputs": [
    {
     "output_type": "stream",
     "name": "stdout",
     "text": [
      "[90.0, 135.0, 180.0]\n"
     ]
    }
   ]
  },
  {
   "cell_type": "code",
   "source": [
    "employee_sales = {\"Alice\": 250, \"Bob\": 300, \"Carol\": 400}\n",
    "\n",
    "sorted_sales = sorted(employee_sales.items(), key=lambda item: item[1], reverse=True)\n",
    "\n",
    "print(sorted_sales)"
   ],
   "metadata": {
    "colab": {
     "base_uri": "https://localhost:8080/"
    },
    "id": "9t8kHAAhxwe8",
    "executionInfo": {
     "status": "ok",
     "timestamp": 1699992285784,
     "user_tz": -120,
     "elapsed": 132,
     "user": {
      "displayName": "Venelin Valkov",
      "userId": "01328360181817234523"
     }
    },
    "outputId": "d3508e08-5fc6-494a-c0a9-07367d6fda0f"
   },
   "execution_count": 9,
   "outputs": [
    {
     "output_type": "stream",
     "name": "stdout",
     "text": [
      "[('Carol', 400), ('Bob', 300), ('Alice', 250)]\n"
     ]
    }
   ]
  },
  {
   "cell_type": "code",
   "source": [
    "dataset1 = [100, 150, 200]\n",
    "dataset2 = [50, 60, 70]\n",
    "\n",
    "combined_data = map(lambda x, y: x + y, dataset1, dataset2)\n",
    "\n",
    "print(list(combined_data))"
   ],
   "metadata": {
    "colab": {
     "base_uri": "https://localhost:8080/"
    },
    "id": "I04Y4oBlhBhP",
    "executionInfo": {
     "status": "ok",
     "timestamp": 1699992285784,
     "user_tz": -120,
     "elapsed": 130,
     "user": {
      "displayName": "Venelin Valkov",
      "userId": "01328360181817234523"
     }
    },
    "outputId": "37926804-82dc-4959-cea2-65def85fcb23"
   },
   "execution_count": 10,
   "outputs": [
    {
     "output_type": "stream",
     "name": "stdout",
     "text": [
      "[150, 210, 270]\n"
     ]
    }
   ]
  },
  {
   "cell_type": "code",
   "source": [
    "raw_scores = [4, 7, 6, 9]\n",
    "\n",
    "normalized_scores = list(map(lambda x: x / 10, raw_scores))\n",
    "\n",
    "print(normalized_scores)"
   ],
   "metadata": {
    "colab": {
     "base_uri": "https://localhost:8080/"
    },
    "id": "r4gNNNjZhB9F",
    "executionInfo": {
     "status": "ok",
     "timestamp": 1699992285785,
     "user_tz": -120,
     "elapsed": 129,
     "user": {
      "displayName": "Venelin Valkov",
      "userId": "01328360181817234523"
     }
    },
    "outputId": "355a8cfc-c060-4a70-bb3f-4ce12094a08d"
   },
   "execution_count": 11,
   "outputs": [
    {
     "output_type": "stream",
     "name": "stdout",
     "text": [
      "[0.4, 0.7, 0.6, 0.9]\n"
     ]
    }
   ]
  },
  {
   "cell_type": "code",
   "source": [
    "# Sample temperature data in Fahrenheit\n",
    "city_temperatures = {\n",
    "    \"New York\": [86, 84, 82, 78, 76],\n",
    "    \"Los Angeles\": [75, 77, 76, 74, 73],\n",
    "    \"Chicago\": [82, 80, 79, 77, 76],\n",
    "}\n",
    "\n",
    "\n",
    "def fahrenheit_to_celsius(temp):\n",
    "    pass\n",
    "\n",
    "\n",
    "def convert_temperature(city, city_temperatures):\n",
    "    pass\n",
    "\n",
    "\n",
    "def average_celsius_temperature(city, city_temperatures):\n",
    "    pass\n",
    "\n",
    "\n",
    "city = \"New York\"\n",
    "ny_average_temp = average_celsius_temperature(city, city_temperatures)\n",
    "print(f\"Average temperature in {city}: {ny_average_temp:.2f}°C\")"
   ],
   "metadata": {
    "id": "-_JHP3OjW9dX",
    "executionInfo": {
     "status": "ok",
     "timestamp": 1699992285788,
     "user_tz": -120,
     "elapsed": 131,
     "user": {
      "displayName": "Venelin Valkov",
      "userId": "01328360181817234523"
     }
    }
   },
   "execution_count": 12,
   "outputs": []
  },
  {
   "cell_type": "markdown",
   "source": [
    "## Data Classes"
   ],
   "metadata": {
    "id": "OFdJyxEOi7yV"
   }
  },
  {
   "cell_type": "code",
   "source": [
    "from dataclasses import dataclass\n",
    "\n",
    "\n",
    "@dataclass\n",
    "class ModelEvaluation:\n",
    "    model_id: str\n",
    "    accuracy: float\n",
    "    precision: float\n",
    "    recall: float\n",
    "\n",
    "\n",
    "evaluation = ModelEvaluation(\"model_123\", 0.95, 0.90, 0.92)\n",
    "print(evaluation)"
   ],
   "metadata": {
    "colab": {
     "base_uri": "https://localhost:8080/"
    },
    "id": "GaUho0VGi8h5",
    "executionInfo": {
     "status": "ok",
     "timestamp": 1699992285790,
     "user_tz": -120,
     "elapsed": 132,
     "user": {
      "displayName": "Venelin Valkov",
      "userId": "01328360181817234523"
     }
    },
    "outputId": "368d9e54-2116-44c7-f65e-76bea2b36baf"
   },
   "execution_count": 13,
   "outputs": [
    {
     "output_type": "stream",
     "name": "stdout",
     "text": [
      "ModelEvaluation(model_id='model_123', accuracy=0.95, precision=0.9, recall=0.92)\n"
     ]
    }
   ]
  },
  {
   "cell_type": "code",
   "source": [
    "from datetime import date\n",
    "from typing import Dict\n",
    "\n",
    "\n",
    "@dataclass\n",
    "class ExperimentLog:\n",
    "    experiment_id: int\n",
    "    parameters: Dict[str, int]\n",
    "    results: Dict[str, float]\n",
    "    timestamp: date\n",
    "\n",
    "\n",
    "experiment = ExperimentLog(\n",
    "    101, {\"layers\": 3, \"neurons\": 64}, {\"accuracy\": 0.88}, date.today()\n",
    ")\n",
    "print(experiment)"
   ],
   "metadata": {
    "colab": {
     "base_uri": "https://localhost:8080/"
    },
    "id": "nqC9d6IMmkZU",
    "executionInfo": {
     "status": "ok",
     "timestamp": 1699992285790,
     "user_tz": -120,
     "elapsed": 117,
     "user": {
      "displayName": "Venelin Valkov",
      "userId": "01328360181817234523"
     }
    },
    "outputId": "f6ec441e-c494-4ad3-ac78-ad5dab50b394"
   },
   "execution_count": 14,
   "outputs": [
    {
     "output_type": "stream",
     "name": "stdout",
     "text": [
      "ExperimentLog(experiment_id=101, parameters={'layers': 3, 'neurons': 64}, results={'accuracy': 0.88}, timestamp=datetime.date(2023, 11, 14))\n"
     ]
    }
   ]
  },
  {
   "cell_type": "code",
   "source": [
    "@dataclass\n",
    "class TrainingExample:\n",
    "    age: int\n",
    "    income: int\n",
    "\n",
    "\n",
    "@dataclass\n",
    "class PredictionResult:\n",
    "    input_data: TrainingExample\n",
    "    predicted_value: float\n",
    "    confidence_score: float\n",
    "\n",
    "\n",
    "sample = TrainingExample(age=25, income=5000)\n",
    "prediction = PredictionResult(sample, 0.75, 0.85)\n",
    "print(prediction)"
   ],
   "metadata": {
    "colab": {
     "base_uri": "https://localhost:8080/"
    },
    "id": "P5ga9G00nk2A",
    "executionInfo": {
     "status": "ok",
     "timestamp": 1699992286272,
     "user_tz": -120,
     "elapsed": 597,
     "user": {
      "displayName": "Venelin Valkov",
      "userId": "01328360181817234523"
     }
    },
    "outputId": "d562e77b-bace-4754-fd16-cad8072bb9cd"
   },
   "execution_count": 15,
   "outputs": [
    {
     "output_type": "stream",
     "name": "stdout",
     "text": [
      "PredictionResult(input_data=TrainingExample(age=25, income=5000), predicted_value=0.75, confidence_score=0.85)\n"
     ]
    }
   ]
  },
  {
   "cell_type": "code",
   "source": [
    "from dataclasses import dataclass\n",
    "from typing import List\n",
    "\n",
    "\n",
    "@dataclass\n",
    "class CustomerFeedback:\n",
    "    pass\n",
    "\n",
    "\n",
    "@dataclass\n",
    "class SentimentAnalysisResult:\n",
    "    pass\n",
    "\n",
    "\n",
    "feedback_example = CustomerFeedback(\n",
    "    feedback_id=1, feedback_text=\"I love this product!\", customer_id=12345\n",
    ")\n",
    "analysis_result = SentimentAnalysisResult(\n",
    "    feedback=feedback_example, sentiment=\"positive\", confidence_score=0.95\n",
    ")\n",
    "\n",
    "print(analysis_result)"
   ],
   "metadata": {
    "id": "6oP1wchInkcX",
    "executionInfo": {
     "status": "ok",
     "timestamp": 1699992335654,
     "user_tz": -120,
     "elapsed": 238,
     "user": {
      "displayName": "Venelin Valkov",
      "userId": "01328360181817234523"
     }
    }
   },
   "execution_count": 17,
   "outputs": []
  },
  {
   "cell_type": "markdown",
   "source": [
    "## Types (Hinting)"
   ],
   "metadata": {
    "id": "F0erlHg_oQEb"
   }
  },
  {
   "cell_type": "code",
   "source": [
    "from dataclasses import dataclass\n",
    "\n",
    "\n",
    "@dataclass\n",
    "class SalesOrder:\n",
    "    quantity: int\n",
    "    price_per_unit: float\n",
    "\n",
    "\n",
    "def total_sales(orders: list[SalesOrder]) -> float:\n",
    "    return sum(order.quantity * order.price_per_unit for order in orders)\n",
    "\n",
    "\n",
    "sales = [\n",
    "    SalesOrder(quantity=10, price_per_unit=5),\n",
    "    SalesOrder(quantity=6, price_per_unit=42),\n",
    "]\n",
    "\n",
    "print(total_sales(sales))"
   ],
   "metadata": {
    "colab": {
     "base_uri": "https://localhost:8080/"
    },
    "id": "mxZqS8c7oRCo",
    "executionInfo": {
     "status": "ok",
     "timestamp": 1699992336958,
     "user_tz": -120,
     "elapsed": 2,
     "user": {
      "displayName": "Venelin Valkov",
      "userId": "01328360181817234523"
     }
    },
    "outputId": "bc7c4d96-fe03-49c3-d36d-610fca244d54"
   },
   "execution_count": 18,
   "outputs": [
    {
     "output_type": "stream",
     "name": "stdout",
     "text": [
      "302\n"
     ]
    }
   ]
  },
  {
   "cell_type": "code",
   "source": [
    "from typing import Dict, List\n",
    "\n",
    "\n",
    "def filter_reviews_by_sentiment(\n",
    "    reviews: List[Dict[str, str]], sentiment: str\n",
    ") -> List[str]:\n",
    "    return [review[\"text\"] for review in reviews if review[\"sentiment\"] == sentiment]\n",
    "\n",
    "\n",
    "reviews = [\n",
    "    {\"text\": \"I love this product! It works great.\", \"sentiment\": \"positive\"},\n",
    "    {\"text\": \"Terrible experience, would not recommend.\", \"sentiment\": \"negative\"},\n",
    "    {\"text\": \"Quite good, but could be better.\", \"sentiment\": \"neutral\"},\n",
    "    {\"text\": \"This is the best purchase I've made!\", \"sentiment\": \"positive\"},\n",
    "    {\n",
    "        \"text\": \"Not happy with the product. It broke after a week.\",\n",
    "        \"sentiment\": \"negative\",\n",
    "    },\n",
    "]\n",
    "\n",
    "print(filter_reviews_by_sentiment(reviews, \"positive\"))"
   ],
   "metadata": {
    "colab": {
     "base_uri": "https://localhost:8080/"
    },
    "id": "Wd8P1Rw5qzh7",
    "executionInfo": {
     "status": "ok",
     "timestamp": 1699992337618,
     "user_tz": -120,
     "elapsed": 4,
     "user": {
      "displayName": "Venelin Valkov",
      "userId": "01328360181817234523"
     }
    },
    "outputId": "024da230-c4d1-48fa-9609-9d86b5218bbe"
   },
   "execution_count": 19,
   "outputs": [
    {
     "output_type": "stream",
     "name": "stdout",
     "text": [
      "['I love this product! It works great.', \"This is the best purchase I've made!\"]\n"
     ]
    }
   ]
  },
  {
   "cell_type": "code",
   "source": [
    "from typing import List\n",
    "\n",
    "\n",
    "def predict_sales(history: List[int], future_factors: List[float]) -> float:\n",
    "    return sum(history[-3:]) * sum(future_factors)\n",
    "\n",
    "\n",
    "history = [100, 120, 130, 140, 150, 160]\n",
    "future_factors = [1.1, 0.9, 1.05]\n",
    "\n",
    "predicted_sale = predict_sales(history, future_factors)\n",
    "print(predicted_sale)"
   ],
   "metadata": {
    "colab": {
     "base_uri": "https://localhost:8080/"
    },
    "id": "meEV9hr0GKTy",
    "executionInfo": {
     "status": "ok",
     "timestamp": 1699992337618,
     "user_tz": -120,
     "elapsed": 3,
     "user": {
      "displayName": "Venelin Valkov",
      "userId": "01328360181817234523"
     }
    },
    "outputId": "206385eb-c6f4-44fc-d7f0-01769733b078"
   },
   "execution_count": 20,
   "outputs": [
    {
     "output_type": "stream",
     "name": "stdout",
     "text": [
      "1372.5\n"
     ]
    }
   ]
  },
  {
   "cell_type": "code",
   "source": [
    "from dataclasses import dataclass\n",
    "from typing import List\n",
    "\n",
    "\n",
    "@dataclass\n",
    "class Feedback:\n",
    "    customer_name: str\n",
    "    comment: str\n",
    "    rating: float\n",
    "\n",
    "\n",
    "# TODO: Calculate and return the average rating from the feedbacks\n",
    "# def calculate_average_rating(...\n",
    "\n",
    "\n",
    "# Example feedback data\n",
    "feedbacks = [\n",
    "    Feedback(\"Alice\", \"Great product, loved it!\", 4.5),\n",
    "    Feedback(\"Bob\", \"Good, but there are some issues.\", 3.0),\n",
    "    Feedback(\"Charlie\", \"Exceeded my expectations.\", 5.0),\n",
    "]\n",
    "\n",
    "# Calculate and print the average rating\n",
    "average_rating = calculate_average_rating(feedbacks)\n",
    "print(\"Average Rating:\", average_rating)"
   ],
   "metadata": {
    "id": "yHaffYX3wW_b"
   },
   "execution_count": null,
   "outputs": []
  },
  {
   "cell_type": "markdown",
   "source": [
    "## Parsing Data: JSON and XML"
   ],
   "metadata": {
    "id": "JBrKsBTEjrvs"
   }
  },
  {
   "cell_type": "code",
   "source": [
    "import json\n",
    "\n",
    "json_data = '{\"product\": \"beet\", \"price\": 2.99}'\n",
    "parsed_data = json.loads(json_data)\n",
    "\n",
    "product = parsed_data[\"product\"]\n",
    "price = parsed_data[\"price\"]\n",
    "\n",
    "print(product, price)"
   ],
   "metadata": {
    "colab": {
     "base_uri": "https://localhost:8080/"
    },
    "id": "DtNpE-vEju1E",
    "executionInfo": {
     "status": "ok",
     "timestamp": 1699992337939,
     "user_tz": -120,
     "elapsed": 8,
     "user": {
      "displayName": "Venelin Valkov",
      "userId": "01328360181817234523"
     }
    },
    "outputId": "4d3b7b1f-0731-4786-8693-27f93f5d98d5"
   },
   "execution_count": 21,
   "outputs": [
    {
     "output_type": "stream",
     "name": "stdout",
     "text": [
      "beet 2.99\n"
     ]
    }
   ]
  },
  {
   "cell_type": "code",
   "source": [
    "import json\n",
    "\n",
    "complex_json = \"\"\"\n",
    "{\n",
    "    \"vegetables\": [\n",
    "        {\"name\": \"beet\", \"price\": 2.99},\n",
    "        {\"name\": \"carrot\", \"price\": 1.99}\n",
    "    ]\n",
    "}\n",
    "\"\"\"\n",
    "data = json.loads(complex_json)\n",
    "\n",
    "for item in data[\"vegetables\"]:\n",
    "    print(f\"Name: {item['name']}, Price: {item['price']}\")"
   ],
   "metadata": {
    "colab": {
     "base_uri": "https://localhost:8080/"
    },
    "id": "53N-QXgKk3M7",
    "executionInfo": {
     "status": "ok",
     "timestamp": 1699992337940,
     "user_tz": -120,
     "elapsed": 5,
     "user": {
      "displayName": "Venelin Valkov",
      "userId": "01328360181817234523"
     }
    },
    "outputId": "521dc193-c337-4a8a-bfbe-7c269590b7b6"
   },
   "execution_count": 22,
   "outputs": [
    {
     "output_type": "stream",
     "name": "stdout",
     "text": [
      "Name: beet, Price: 2.99\n",
      "Name: carrot, Price: 1.99\n"
     ]
    }
   ]
  },
  {
   "cell_type": "code",
   "source": [
    "import xml.etree.ElementTree as ET\n",
    "\n",
    "xml_data = \"\"\"\n",
    "<inventory>\n",
    "    <item type=\"vegetable\">\n",
    "        <name>beet</name>\n",
    "        <price>2.99</price>\n",
    "    </item>\n",
    "    <item type=\"vegetable\">\n",
    "        <name>carrot</name>\n",
    "        <price>1.99</price>\n",
    "    </item>\n",
    "</inventory>\n",
    "\"\"\"\n",
    "\n",
    "root = ET.fromstring(xml_data)\n",
    "\n",
    "for item in root.findall(\"item\"):\n",
    "    name = item.find(\"name\").text\n",
    "    price = item.find(\"price\").text\n",
    "    print(f\"Name: {name}, Price: {price}\")"
   ],
   "metadata": {
    "colab": {
     "base_uri": "https://localhost:8080/"
    },
    "id": "fU3difafnPC2",
    "executionInfo": {
     "status": "ok",
     "timestamp": 1699992338345,
     "user_tz": -120,
     "elapsed": 3,
     "user": {
      "displayName": "Venelin Valkov",
      "userId": "01328360181817234523"
     }
    },
    "outputId": "5deacdf4-cf2a-4d04-e9ce-ab8a83028796"
   },
   "execution_count": 23,
   "outputs": [
    {
     "output_type": "stream",
     "name": "stdout",
     "text": [
      "Name: beet, Price: 2.99\n",
      "Name: carrot, Price: 1.99\n"
     ]
    }
   ]
  },
  {
   "cell_type": "code",
   "source": [
    "import json\n",
    "\n",
    "import dicttoxml\n",
    "\n",
    "json_data = {\"beet\": 2.99, \"carrot\": 1.99}\n",
    "\n",
    "xml_output = dicttoxml.dicttoxml(json_data, custom_root=\"inventory\")\n",
    "\n",
    "print(xml_output.decode())"
   ],
   "metadata": {
    "colab": {
     "base_uri": "https://localhost:8080/"
    },
    "id": "WRx_TN2evArD",
    "executionInfo": {
     "status": "ok",
     "timestamp": 1699992338767,
     "user_tz": -120,
     "elapsed": 3,
     "user": {
      "displayName": "Venelin Valkov",
      "userId": "01328360181817234523"
     }
    },
    "outputId": "0f57631f-b71d-458b-b0c2-29d37ca4c5e4"
   },
   "execution_count": 24,
   "outputs": [
    {
     "output_type": "stream",
     "name": "stdout",
     "text": [
      "<?xml version=\"1.0\" encoding=\"UTF-8\" ?><inventory><beet type=\"float\">2.99</beet><carrot type=\"float\">1.99</carrot></inventory>\n"
     ]
    }
   ]
  },
  {
   "cell_type": "code",
   "source": [
    "import json\n",
    "\n",
    "# JSON data representing user information\n",
    "user_json = \"\"\"\n",
    "{\n",
    "    \"users\": [\n",
    "        {\"id\": 1, \"name\": \"Alice\"},\n",
    "        {\"id\": 2, \"name\": \"Bob\"}\n",
    "    ]\n",
    "}\n",
    "\"\"\"\n",
    "\n",
    "# JSON data representing posts made by users\n",
    "posts_json = \"\"\"\n",
    "{\n",
    "    \"posts\": [\n",
    "        {\"userId\": 1, \"post\": \"Loving the new Python features!\"},\n",
    "        {\"userId\": 2, \"post\": \"Just started learning AI.\"},\n",
    "        {\"userId\": 1, \"post\": \"Check out my new blog on machine learning.\"}\n",
    "    ]\n",
    "}\n",
    "\"\"\"\n",
    "\n",
    "\n",
    "def merge_user_posts(users_data, posts_data):\n",
    "    pass\n",
    "    # Your code goes here\n",
    "    # Hint: You might want to use a dictionary to associate user IDs with posts\n",
    "\n",
    "\n",
    "merged_data = merge_user_posts(users_data, posts_data)\n",
    "print(merged_data)"
   ],
   "metadata": {
    "id": "8bU-3sl8zXNi"
   },
   "execution_count": null,
   "outputs": []
  },
  {
   "cell_type": "markdown",
   "source": [
    "## Reading and Writing Files Using `pathlib`"
   ],
   "metadata": {
    "id": "Y2kSmQsqYeS0"
   }
  },
  {
   "cell_type": "code",
   "source": [
    "from pathlib import Path\n",
    "\n",
    "hyperparameters = {\"learning_rate\": 0.01, \"batch_size\": 32}\n",
    "\n",
    "with Path(\"model_config.json\").open(\"w\") as f:\n",
    "    json.dump(hyperparameters, f)"
   ],
   "metadata": {
    "id": "vSNYySsCYe_2",
    "executionInfo": {
     "status": "ok",
     "timestamp": 1699992339171,
     "user_tz": -120,
     "elapsed": 5,
     "user": {
      "displayName": "Venelin Valkov",
      "userId": "01328360181817234523"
     }
    }
   },
   "execution_count": 25,
   "outputs": []
  },
  {
   "cell_type": "code",
   "source": [
    "file_text = Path(\"model_config.json\").read_text()\n",
    "\n",
    "print(json.loads(file_text))"
   ],
   "metadata": {
    "colab": {
     "base_uri": "https://localhost:8080/"
    },
    "id": "oTqEu-8hi1S2",
    "executionInfo": {
     "status": "ok",
     "timestamp": 1699992339171,
     "user_tz": -120,
     "elapsed": 4,
     "user": {
      "displayName": "Venelin Valkov",
      "userId": "01328360181817234523"
     }
    },
    "outputId": "575d65a0-7226-4215-a82c-0943634adb67"
   },
   "execution_count": 26,
   "outputs": [
    {
     "output_type": "stream",
     "name": "stdout",
     "text": [
      "{'learning_rate': 0.01, 'batch_size': 32}\n"
     ]
    }
   ]
  },
  {
   "cell_type": "code",
   "source": [
    "from pathlib import Path\n",
    "\n",
    "new_hyperparameters = {\"learning_rate\": 0.005, \"batch_size\": 64}\n",
    "with Path(\"model_config.json\").open(mode=\"a\") as file:\n",
    "    file.write(f\"\\n{json.dumps(new_hyperparameters)}\")"
   ],
   "metadata": {
    "id": "Qiqgr2X51AvR",
    "executionInfo": {
     "status": "ok",
     "timestamp": 1699992339557,
     "user_tz": -120,
     "elapsed": 3,
     "user": {
      "displayName": "Venelin Valkov",
      "userId": "01328360181817234523"
     }
    }
   },
   "execution_count": 27,
   "outputs": []
  },
  {
   "cell_type": "code",
   "source": [
    "from pathlib import Path\n",
    "\n",
    "experiment_results_dir = Path(\"experiment_results\")\n",
    "experiment_results_dir.mkdir(exist_ok=True)\n",
    "\n",
    "# Writing initial experiment results\n",
    "initial_results = {\"accuracy\": 0.9}\n",
    "results_path = experiment_results_dir / \"experiment_1_results.json\"\n",
    "results_path.write_text(json.dumps(initial_results))"
   ],
   "metadata": {
    "colab": {
     "base_uri": "https://localhost:8080/"
    },
    "id": "ysWpcq1h3D5u",
    "executionInfo": {
     "status": "ok",
     "timestamp": 1699992339557,
     "user_tz": -120,
     "elapsed": 2,
     "user": {
      "displayName": "Venelin Valkov",
      "userId": "01328360181817234523"
     }
    },
    "outputId": "a42b4a82-6fb5-4e5b-b4df-7401e340d872"
   },
   "execution_count": 28,
   "outputs": [
    {
     "output_type": "execute_result",
     "data": {
      "text/plain": [
       "17"
      ]
     },
     "metadata": {},
     "execution_count": 28
    }
   ]
  },
  {
   "cell_type": "code",
   "source": [
    "import json\n",
    "from pathlib import Path\n",
    "\n",
    "# Create a directory for customer feedback\n",
    "feedback_dir = Path(\"customer_feedback\")\n",
    "feedback_dir.mkdir(exist_ok=True)\n",
    "\n",
    "# Function to write feedback to a file\n",
    "\n",
    "\n",
    "def write_feedback(customer_id, feedback, feedback_dir):\n",
    "    pass\n",
    "\n",
    "\n",
    "write_feedback(\n",
    "    \"001\", {\"feedback\": \"Loved the quick service and friendly staff.\"}, feedback_dir\n",
    ")\n",
    "write_feedback(\n",
    "    \"002\", {\"feedback\": \"Great quality products but a bit pricey.\"}, feedback_dir\n",
    ")\n",
    "\n",
    "# Function to read and analyze feedback\n",
    "\n",
    "\n",
    "def analyze_feedback():\n",
    "    feedback_keywords = {}\n",
    "    # TODO: Implement logic to read feedback files and analyze keywords\n",
    "    # Hint: Consider using a simple word count or a more advanced natural language processing technique\n",
    "\n",
    "    return feedback_keywords\n",
    "\n",
    "\n",
    "print(analyze_feedback())"
   ],
   "metadata": {
    "id": "dDMgTaRsAjMl"
   },
   "execution_count": null,
   "outputs": []
  },
  {
   "cell_type": "markdown",
   "source": [
    "## NumPy"
   ],
   "metadata": {
    "id": "7BLrG1Ml5qnO"
   }
  },
  {
   "cell_type": "code",
   "source": [
    "import numpy as np\n",
    "\n",
    "shipment_weights_kg = np.array([1200, 950, 1300])\n",
    "shipment_weights_tons = shipment_weights_kg / 1000\n",
    "\n",
    "total_tons = np.sum(shipment_weights_tons)\n",
    "print(f\"Total weight in tons: {total_tons}\")"
   ],
   "metadata": {
    "colab": {
     "base_uri": "https://localhost:8080/"
    },
    "id": "ezgkHOAW5r8l",
    "executionInfo": {
     "status": "ok",
     "timestamp": 1699992340309,
     "user_tz": -120,
     "elapsed": 2,
     "user": {
      "displayName": "Venelin Valkov",
      "userId": "01328360181817234523"
     }
    },
    "outputId": "ff27214d-4b8f-4606-cef0-612d4ac67158"
   },
   "execution_count": 29,
   "outputs": [
    {
     "output_type": "stream",
     "name": "stdout",
     "text": [
      "Total weight in tons: 3.45\n"
     ]
    }
   ]
  },
  {
   "cell_type": "code",
   "source": [
    "import numpy as np\n",
    "\n",
    "weekly_beet_stock = np.array([20, 35, 40, 50, 45, 60, 55])\n",
    "\n",
    "average_stock = np.mean(weekly_beet_stock)\n",
    "print(f\"Average stock level over the week: {average_stock} units\")\n",
    "\n",
    "above_average_days = np.where(weekly_beet_stock > average_stock)[0]\n",
    "print(f\"Days with above-average stock levels: {above_average_days + 1}\")"
   ],
   "metadata": {
    "colab": {
     "base_uri": "https://localhost:8080/"
    },
    "id": "yAwkFOU-7lZB",
    "executionInfo": {
     "status": "ok",
     "timestamp": 1700034161255,
     "user_tz": -120,
     "elapsed": 3,
     "user": {
      "displayName": "Venelin Valkov",
      "userId": "01328360181817234523"
     }
    },
    "outputId": "9100935f-972f-4b83-bed5-c1826c4d4df8"
   },
   "execution_count": 1,
   "outputs": [
    {
     "output_type": "stream",
     "name": "stdout",
     "text": [
      "Average stock level over the week: 43.57142857142857 units\n",
      "Days with above-average stock levels: [4 5 6 7]\n"
     ]
    }
   ]
  },
  {
   "cell_type": "code",
   "source": [
    "import numpy as np\n",
    "\n",
    "# Sales data for the first quarter (in thousands of dollars)\n",
    "jan_sales = 120\n",
    "feb_sales = 150\n",
    "mar_sales = 180\n",
    "\n",
    "sales_data = np.array([jan_sales, feb_sales, mar_sales])\n",
    "\n",
    "# Calculating month-over-month growth\n",
    "mom_growth = np.diff(sales_data) / sales_data[:-1] * 100\n",
    "print(\"Month-over-month growth percentages:\", mom_growth)"
   ],
   "metadata": {
    "id": "R5CAmOKp7wkQ",
    "executionInfo": {
     "status": "ok",
     "timestamp": 1700034188019,
     "user_tz": -120,
     "elapsed": 373,
     "user": {
      "displayName": "Venelin Valkov",
      "userId": "01328360181817234523"
     }
    },
    "outputId": "84bb8111-da43-4599-f456-a3f624d16171",
    "colab": {
     "base_uri": "https://localhost:8080/"
    }
   },
   "execution_count": 2,
   "outputs": [
    {
     "output_type": "stream",
     "name": "stdout",
     "text": [
      "Month-over-month growth percentages: [25. 20.]\n"
     ]
    }
   ]
  },
  {
   "cell_type": "code",
   "source": [
    "import numpy as np\n",
    "\n",
    "# Hourly energy consumption in kWh for different machines\n",
    "energy_consumption_kwh = np.array([[4, 5, 6], [3, 6, 7], [5, 6, 8], [2, 4, 3]])\n",
    "\n",
    "# TODO: Convert the hourly consumption to daily consumption (24 hours)\n",
    "\n",
    "# TODO: Define the cost per kWh (e.g., 0.15)\n",
    "\n",
    "# TODO: Calculate the total daily cost for each machine\n",
    "\n",
    "# TODO: Print the total daily energy consumption and cost for each machine"
   ],
   "metadata": {
    "id": "TVkOaAVS5Kzl"
   },
   "execution_count": null,
   "outputs": []
  },
  {
   "cell_type": "markdown",
   "source": [
    "## Pandas"
   ],
   "metadata": {
    "id": "d1ZD6s2K9KAj"
   }
  },
  {
   "cell_type": "code",
   "source": [
    "import pandas as pd\n",
    "\n",
    "sales_data = {\n",
    "    \"Date\": pd.date_range(start=\"2023-01-01\", end=\"2023-03-31\"),\n",
    "    \"Sales\": np.random.randint(100, 500, size=90),\n",
    "}\n",
    "\n",
    "sales_df = pd.DataFrame(sales_data)\n",
    "sales_df.set_index(\"Date\", inplace=True)\n",
    "sales_df.head()"
   ],
   "metadata": {
    "colab": {
     "base_uri": "https://localhost:8080/",
     "height": 238
    },
    "id": "nmYeCWDY9KlG",
    "executionInfo": {
     "status": "ok",
     "timestamp": 1699993169886,
     "user_tz": -120,
     "elapsed": 281,
     "user": {
      "displayName": "Venelin Valkov",
      "userId": "01328360181817234523"
     }
    },
    "outputId": "1190e902-9111-4268-c5dd-4846a022481a"
   },
   "execution_count": 34,
   "outputs": [
    {
     "output_type": "execute_result",
     "data": {
      "text/plain": [
       "            Sales\n",
       "Date             \n",
       "2023-01-01    216\n",
       "2023-01-02    392\n",
       "2023-01-03    113\n",
       "2023-01-04    433\n",
       "2023-01-05    326"
      ],
      "text/html": [
       "\n",
       "  <div id=\"df-0c1ca704-5b00-4a86-b0e3-64151dda6996\" class=\"colab-df-container\">\n",
       "    <div>\n",
       "<style scoped>\n",
       "    .dataframe tbody tr th:only-of-type {\n",
       "        vertical-align: middle;\n",
       "    }\n",
       "\n",
       "    .dataframe tbody tr th {\n",
       "        vertical-align: top;\n",
       "    }\n",
       "\n",
       "    .dataframe thead th {\n",
       "        text-align: right;\n",
       "    }\n",
       "</style>\n",
       "<table border=\"1\" class=\"dataframe\">\n",
       "  <thead>\n",
       "    <tr style=\"text-align: right;\">\n",
       "      <th></th>\n",
       "      <th>Sales</th>\n",
       "    </tr>\n",
       "    <tr>\n",
       "      <th>Date</th>\n",
       "      <th></th>\n",
       "    </tr>\n",
       "  </thead>\n",
       "  <tbody>\n",
       "    <tr>\n",
       "      <th>2023-01-01</th>\n",
       "      <td>216</td>\n",
       "    </tr>\n",
       "    <tr>\n",
       "      <th>2023-01-02</th>\n",
       "      <td>392</td>\n",
       "    </tr>\n",
       "    <tr>\n",
       "      <th>2023-01-03</th>\n",
       "      <td>113</td>\n",
       "    </tr>\n",
       "    <tr>\n",
       "      <th>2023-01-04</th>\n",
       "      <td>433</td>\n",
       "    </tr>\n",
       "    <tr>\n",
       "      <th>2023-01-05</th>\n",
       "      <td>326</td>\n",
       "    </tr>\n",
       "  </tbody>\n",
       "</table>\n",
       "</div>\n",
       "    <div class=\"colab-df-buttons\">\n",
       "\n",
       "  <div class=\"colab-df-container\">\n",
       "    <button class=\"colab-df-convert\" onclick=\"convertToInteractive('df-0c1ca704-5b00-4a86-b0e3-64151dda6996')\"\n",
       "            title=\"Convert this dataframe to an interactive table.\"\n",
       "            style=\"display:none;\">\n",
       "\n",
       "  <svg xmlns=\"http://www.w3.org/2000/svg\" height=\"24px\" viewBox=\"0 -960 960 960\">\n",
       "    <path d=\"M120-120v-720h720v720H120Zm60-500h600v-160H180v160Zm220 220h160v-160H400v160Zm0 220h160v-160H400v160ZM180-400h160v-160H180v160Zm440 0h160v-160H620v160ZM180-180h160v-160H180v160Zm440 0h160v-160H620v160Z\"/>\n",
       "  </svg>\n",
       "    </button>\n",
       "\n",
       "  <style>\n",
       "    .colab-df-container {\n",
       "      display:flex;\n",
       "      gap: 12px;\n",
       "    }\n",
       "\n",
       "    .colab-df-convert {\n",
       "      background-color: #E8F0FE;\n",
       "      border: none;\n",
       "      border-radius: 50%;\n",
       "      cursor: pointer;\n",
       "      display: none;\n",
       "      fill: #1967D2;\n",
       "      height: 32px;\n",
       "      padding: 0 0 0 0;\n",
       "      width: 32px;\n",
       "    }\n",
       "\n",
       "    .colab-df-convert:hover {\n",
       "      background-color: #E2EBFA;\n",
       "      box-shadow: 0px 1px 2px rgba(60, 64, 67, 0.3), 0px 1px 3px 1px rgba(60, 64, 67, 0.15);\n",
       "      fill: #174EA6;\n",
       "    }\n",
       "\n",
       "    .colab-df-buttons div {\n",
       "      margin-bottom: 4px;\n",
       "    }\n",
       "\n",
       "    [theme=dark] .colab-df-convert {\n",
       "      background-color: #3B4455;\n",
       "      fill: #D2E3FC;\n",
       "    }\n",
       "\n",
       "    [theme=dark] .colab-df-convert:hover {\n",
       "      background-color: #434B5C;\n",
       "      box-shadow: 0px 1px 3px 1px rgba(0, 0, 0, 0.15);\n",
       "      filter: drop-shadow(0px 1px 2px rgba(0, 0, 0, 0.3));\n",
       "      fill: #FFFFFF;\n",
       "    }\n",
       "  </style>\n",
       "\n",
       "    <script>\n",
       "      const buttonEl =\n",
       "        document.querySelector('#df-0c1ca704-5b00-4a86-b0e3-64151dda6996 button.colab-df-convert');\n",
       "      buttonEl.style.display =\n",
       "        google.colab.kernel.accessAllowed ? 'block' : 'none';\n",
       "\n",
       "      async function convertToInteractive(key) {\n",
       "        const element = document.querySelector('#df-0c1ca704-5b00-4a86-b0e3-64151dda6996');\n",
       "        const dataTable =\n",
       "          await google.colab.kernel.invokeFunction('convertToInteractive',\n",
       "                                                    [key], {});\n",
       "        if (!dataTable) return;\n",
       "\n",
       "        const docLinkHtml = 'Like what you see? Visit the ' +\n",
       "          '<a target=\"_blank\" href=https://colab.research.google.com/notebooks/data_table.ipynb>data table notebook</a>'\n",
       "          + ' to learn more about interactive tables.';\n",
       "        element.innerHTML = '';\n",
       "        dataTable['output_type'] = 'display_data';\n",
       "        await google.colab.output.renderOutput(dataTable, element);\n",
       "        const docLink = document.createElement('div');\n",
       "        docLink.innerHTML = docLinkHtml;\n",
       "        element.appendChild(docLink);\n",
       "      }\n",
       "    </script>\n",
       "  </div>\n",
       "\n",
       "\n",
       "<div id=\"df-1037639d-89b8-4caa-a541-f9f5e30ec100\">\n",
       "  <button class=\"colab-df-quickchart\" onclick=\"quickchart('df-1037639d-89b8-4caa-a541-f9f5e30ec100')\"\n",
       "            title=\"Suggest charts\"\n",
       "            style=\"display:none;\">\n",
       "\n",
       "<svg xmlns=\"http://www.w3.org/2000/svg\" height=\"24px\"viewBox=\"0 0 24 24\"\n",
       "     width=\"24px\">\n",
       "    <g>\n",
       "        <path d=\"M19 3H5c-1.1 0-2 .9-2 2v14c0 1.1.9 2 2 2h14c1.1 0 2-.9 2-2V5c0-1.1-.9-2-2-2zM9 17H7v-7h2v7zm4 0h-2V7h2v10zm4 0h-2v-4h2v4z\"/>\n",
       "    </g>\n",
       "</svg>\n",
       "  </button>\n",
       "\n",
       "<style>\n",
       "  .colab-df-quickchart {\n",
       "      --bg-color: #E8F0FE;\n",
       "      --fill-color: #1967D2;\n",
       "      --hover-bg-color: #E2EBFA;\n",
       "      --hover-fill-color: #174EA6;\n",
       "      --disabled-fill-color: #AAA;\n",
       "      --disabled-bg-color: #DDD;\n",
       "  }\n",
       "\n",
       "  [theme=dark] .colab-df-quickchart {\n",
       "      --bg-color: #3B4455;\n",
       "      --fill-color: #D2E3FC;\n",
       "      --hover-bg-color: #434B5C;\n",
       "      --hover-fill-color: #FFFFFF;\n",
       "      --disabled-bg-color: #3B4455;\n",
       "      --disabled-fill-color: #666;\n",
       "  }\n",
       "\n",
       "  .colab-df-quickchart {\n",
       "    background-color: var(--bg-color);\n",
       "    border: none;\n",
       "    border-radius: 50%;\n",
       "    cursor: pointer;\n",
       "    display: none;\n",
       "    fill: var(--fill-color);\n",
       "    height: 32px;\n",
       "    padding: 0;\n",
       "    width: 32px;\n",
       "  }\n",
       "\n",
       "  .colab-df-quickchart:hover {\n",
       "    background-color: var(--hover-bg-color);\n",
       "    box-shadow: 0 1px 2px rgba(60, 64, 67, 0.3), 0 1px 3px 1px rgba(60, 64, 67, 0.15);\n",
       "    fill: var(--button-hover-fill-color);\n",
       "  }\n",
       "\n",
       "  .colab-df-quickchart-complete:disabled,\n",
       "  .colab-df-quickchart-complete:disabled:hover {\n",
       "    background-color: var(--disabled-bg-color);\n",
       "    fill: var(--disabled-fill-color);\n",
       "    box-shadow: none;\n",
       "  }\n",
       "\n",
       "  .colab-df-spinner {\n",
       "    border: 2px solid var(--fill-color);\n",
       "    border-color: transparent;\n",
       "    border-bottom-color: var(--fill-color);\n",
       "    animation:\n",
       "      spin 1s steps(1) infinite;\n",
       "  }\n",
       "\n",
       "  @keyframes spin {\n",
       "    0% {\n",
       "      border-color: transparent;\n",
       "      border-bottom-color: var(--fill-color);\n",
       "      border-left-color: var(--fill-color);\n",
       "    }\n",
       "    20% {\n",
       "      border-color: transparent;\n",
       "      border-left-color: var(--fill-color);\n",
       "      border-top-color: var(--fill-color);\n",
       "    }\n",
       "    30% {\n",
       "      border-color: transparent;\n",
       "      border-left-color: var(--fill-color);\n",
       "      border-top-color: var(--fill-color);\n",
       "      border-right-color: var(--fill-color);\n",
       "    }\n",
       "    40% {\n",
       "      border-color: transparent;\n",
       "      border-right-color: var(--fill-color);\n",
       "      border-top-color: var(--fill-color);\n",
       "    }\n",
       "    60% {\n",
       "      border-color: transparent;\n",
       "      border-right-color: var(--fill-color);\n",
       "    }\n",
       "    80% {\n",
       "      border-color: transparent;\n",
       "      border-right-color: var(--fill-color);\n",
       "      border-bottom-color: var(--fill-color);\n",
       "    }\n",
       "    90% {\n",
       "      border-color: transparent;\n",
       "      border-bottom-color: var(--fill-color);\n",
       "    }\n",
       "  }\n",
       "</style>\n",
       "\n",
       "  <script>\n",
       "    async function quickchart(key) {\n",
       "      const quickchartButtonEl =\n",
       "        document.querySelector('#' + key + ' button');\n",
       "      quickchartButtonEl.disabled = true;  // To prevent multiple clicks.\n",
       "      quickchartButtonEl.classList.add('colab-df-spinner');\n",
       "      try {\n",
       "        const charts = await google.colab.kernel.invokeFunction(\n",
       "            'suggestCharts', [key], {});\n",
       "      } catch (error) {\n",
       "        console.error('Error during call to suggestCharts:', error);\n",
       "      }\n",
       "      quickchartButtonEl.classList.remove('colab-df-spinner');\n",
       "      quickchartButtonEl.classList.add('colab-df-quickchart-complete');\n",
       "    }\n",
       "    (() => {\n",
       "      let quickchartButtonEl =\n",
       "        document.querySelector('#df-1037639d-89b8-4caa-a541-f9f5e30ec100 button');\n",
       "      quickchartButtonEl.style.display =\n",
       "        google.colab.kernel.accessAllowed ? 'block' : 'none';\n",
       "    })();\n",
       "  </script>\n",
       "</div>\n",
       "    </div>\n",
       "  </div>\n"
      ]
     },
     "metadata": {},
     "execution_count": 34
    }
   ]
  },
  {
   "cell_type": "code",
   "source": [
    "rolling_avg_sales = sales_df.rolling(window=30).mean()\n",
    "rolling_avg_sales.tail()"
   ],
   "metadata": {
    "colab": {
     "base_uri": "https://localhost:8080/",
     "height": 238
    },
    "id": "pjCdoZcO9K5C",
    "executionInfo": {
     "status": "ok",
     "timestamp": 1699993378201,
     "user_tz": -120,
     "elapsed": 5,
     "user": {
      "displayName": "Venelin Valkov",
      "userId": "01328360181817234523"
     }
    },
    "outputId": "3f7dc3d9-43f7-4d93-99a6-5b35886b9d47"
   },
   "execution_count": 37,
   "outputs": [
    {
     "output_type": "execute_result",
     "data": {
      "text/plain": [
       "                 Sales\n",
       "Date                  \n",
       "2023-03-27  343.633333\n",
       "2023-03-28  353.466667\n",
       "2023-03-29  348.333333\n",
       "2023-03-30  348.100000\n",
       "2023-03-31  340.066667"
      ],
      "text/html": [
       "\n",
       "  <div id=\"df-4eb44902-a1d5-48b2-aed3-1798c0bfb1b7\" class=\"colab-df-container\">\n",
       "    <div>\n",
       "<style scoped>\n",
       "    .dataframe tbody tr th:only-of-type {\n",
       "        vertical-align: middle;\n",
       "    }\n",
       "\n",
       "    .dataframe tbody tr th {\n",
       "        vertical-align: top;\n",
       "    }\n",
       "\n",
       "    .dataframe thead th {\n",
       "        text-align: right;\n",
       "    }\n",
       "</style>\n",
       "<table border=\"1\" class=\"dataframe\">\n",
       "  <thead>\n",
       "    <tr style=\"text-align: right;\">\n",
       "      <th></th>\n",
       "      <th>Sales</th>\n",
       "    </tr>\n",
       "    <tr>\n",
       "      <th>Date</th>\n",
       "      <th></th>\n",
       "    </tr>\n",
       "  </thead>\n",
       "  <tbody>\n",
       "    <tr>\n",
       "      <th>2023-03-27</th>\n",
       "      <td>343.633333</td>\n",
       "    </tr>\n",
       "    <tr>\n",
       "      <th>2023-03-28</th>\n",
       "      <td>353.466667</td>\n",
       "    </tr>\n",
       "    <tr>\n",
       "      <th>2023-03-29</th>\n",
       "      <td>348.333333</td>\n",
       "    </tr>\n",
       "    <tr>\n",
       "      <th>2023-03-30</th>\n",
       "      <td>348.100000</td>\n",
       "    </tr>\n",
       "    <tr>\n",
       "      <th>2023-03-31</th>\n",
       "      <td>340.066667</td>\n",
       "    </tr>\n",
       "  </tbody>\n",
       "</table>\n",
       "</div>\n",
       "    <div class=\"colab-df-buttons\">\n",
       "\n",
       "  <div class=\"colab-df-container\">\n",
       "    <button class=\"colab-df-convert\" onclick=\"convertToInteractive('df-4eb44902-a1d5-48b2-aed3-1798c0bfb1b7')\"\n",
       "            title=\"Convert this dataframe to an interactive table.\"\n",
       "            style=\"display:none;\">\n",
       "\n",
       "  <svg xmlns=\"http://www.w3.org/2000/svg\" height=\"24px\" viewBox=\"0 -960 960 960\">\n",
       "    <path d=\"M120-120v-720h720v720H120Zm60-500h600v-160H180v160Zm220 220h160v-160H400v160Zm0 220h160v-160H400v160ZM180-400h160v-160H180v160Zm440 0h160v-160H620v160ZM180-180h160v-160H180v160Zm440 0h160v-160H620v160Z\"/>\n",
       "  </svg>\n",
       "    </button>\n",
       "\n",
       "  <style>\n",
       "    .colab-df-container {\n",
       "      display:flex;\n",
       "      gap: 12px;\n",
       "    }\n",
       "\n",
       "    .colab-df-convert {\n",
       "      background-color: #E8F0FE;\n",
       "      border: none;\n",
       "      border-radius: 50%;\n",
       "      cursor: pointer;\n",
       "      display: none;\n",
       "      fill: #1967D2;\n",
       "      height: 32px;\n",
       "      padding: 0 0 0 0;\n",
       "      width: 32px;\n",
       "    }\n",
       "\n",
       "    .colab-df-convert:hover {\n",
       "      background-color: #E2EBFA;\n",
       "      box-shadow: 0px 1px 2px rgba(60, 64, 67, 0.3), 0px 1px 3px 1px rgba(60, 64, 67, 0.15);\n",
       "      fill: #174EA6;\n",
       "    }\n",
       "\n",
       "    .colab-df-buttons div {\n",
       "      margin-bottom: 4px;\n",
       "    }\n",
       "\n",
       "    [theme=dark] .colab-df-convert {\n",
       "      background-color: #3B4455;\n",
       "      fill: #D2E3FC;\n",
       "    }\n",
       "\n",
       "    [theme=dark] .colab-df-convert:hover {\n",
       "      background-color: #434B5C;\n",
       "      box-shadow: 0px 1px 3px 1px rgba(0, 0, 0, 0.15);\n",
       "      filter: drop-shadow(0px 1px 2px rgba(0, 0, 0, 0.3));\n",
       "      fill: #FFFFFF;\n",
       "    }\n",
       "  </style>\n",
       "\n",
       "    <script>\n",
       "      const buttonEl =\n",
       "        document.querySelector('#df-4eb44902-a1d5-48b2-aed3-1798c0bfb1b7 button.colab-df-convert');\n",
       "      buttonEl.style.display =\n",
       "        google.colab.kernel.accessAllowed ? 'block' : 'none';\n",
       "\n",
       "      async function convertToInteractive(key) {\n",
       "        const element = document.querySelector('#df-4eb44902-a1d5-48b2-aed3-1798c0bfb1b7');\n",
       "        const dataTable =\n",
       "          await google.colab.kernel.invokeFunction('convertToInteractive',\n",
       "                                                    [key], {});\n",
       "        if (!dataTable) return;\n",
       "\n",
       "        const docLinkHtml = 'Like what you see? Visit the ' +\n",
       "          '<a target=\"_blank\" href=https://colab.research.google.com/notebooks/data_table.ipynb>data table notebook</a>'\n",
       "          + ' to learn more about interactive tables.';\n",
       "        element.innerHTML = '';\n",
       "        dataTable['output_type'] = 'display_data';\n",
       "        await google.colab.output.renderOutput(dataTable, element);\n",
       "        const docLink = document.createElement('div');\n",
       "        docLink.innerHTML = docLinkHtml;\n",
       "        element.appendChild(docLink);\n",
       "      }\n",
       "    </script>\n",
       "  </div>\n",
       "\n",
       "\n",
       "<div id=\"df-0b73e3e3-234f-4ce7-b7a6-dfc1f22f68cd\">\n",
       "  <button class=\"colab-df-quickchart\" onclick=\"quickchart('df-0b73e3e3-234f-4ce7-b7a6-dfc1f22f68cd')\"\n",
       "            title=\"Suggest charts\"\n",
       "            style=\"display:none;\">\n",
       "\n",
       "<svg xmlns=\"http://www.w3.org/2000/svg\" height=\"24px\"viewBox=\"0 0 24 24\"\n",
       "     width=\"24px\">\n",
       "    <g>\n",
       "        <path d=\"M19 3H5c-1.1 0-2 .9-2 2v14c0 1.1.9 2 2 2h14c1.1 0 2-.9 2-2V5c0-1.1-.9-2-2-2zM9 17H7v-7h2v7zm4 0h-2V7h2v10zm4 0h-2v-4h2v4z\"/>\n",
       "    </g>\n",
       "</svg>\n",
       "  </button>\n",
       "\n",
       "<style>\n",
       "  .colab-df-quickchart {\n",
       "      --bg-color: #E8F0FE;\n",
       "      --fill-color: #1967D2;\n",
       "      --hover-bg-color: #E2EBFA;\n",
       "      --hover-fill-color: #174EA6;\n",
       "      --disabled-fill-color: #AAA;\n",
       "      --disabled-bg-color: #DDD;\n",
       "  }\n",
       "\n",
       "  [theme=dark] .colab-df-quickchart {\n",
       "      --bg-color: #3B4455;\n",
       "      --fill-color: #D2E3FC;\n",
       "      --hover-bg-color: #434B5C;\n",
       "      --hover-fill-color: #FFFFFF;\n",
       "      --disabled-bg-color: #3B4455;\n",
       "      --disabled-fill-color: #666;\n",
       "  }\n",
       "\n",
       "  .colab-df-quickchart {\n",
       "    background-color: var(--bg-color);\n",
       "    border: none;\n",
       "    border-radius: 50%;\n",
       "    cursor: pointer;\n",
       "    display: none;\n",
       "    fill: var(--fill-color);\n",
       "    height: 32px;\n",
       "    padding: 0;\n",
       "    width: 32px;\n",
       "  }\n",
       "\n",
       "  .colab-df-quickchart:hover {\n",
       "    background-color: var(--hover-bg-color);\n",
       "    box-shadow: 0 1px 2px rgba(60, 64, 67, 0.3), 0 1px 3px 1px rgba(60, 64, 67, 0.15);\n",
       "    fill: var(--button-hover-fill-color);\n",
       "  }\n",
       "\n",
       "  .colab-df-quickchart-complete:disabled,\n",
       "  .colab-df-quickchart-complete:disabled:hover {\n",
       "    background-color: var(--disabled-bg-color);\n",
       "    fill: var(--disabled-fill-color);\n",
       "    box-shadow: none;\n",
       "  }\n",
       "\n",
       "  .colab-df-spinner {\n",
       "    border: 2px solid var(--fill-color);\n",
       "    border-color: transparent;\n",
       "    border-bottom-color: var(--fill-color);\n",
       "    animation:\n",
       "      spin 1s steps(1) infinite;\n",
       "  }\n",
       "\n",
       "  @keyframes spin {\n",
       "    0% {\n",
       "      border-color: transparent;\n",
       "      border-bottom-color: var(--fill-color);\n",
       "      border-left-color: var(--fill-color);\n",
       "    }\n",
       "    20% {\n",
       "      border-color: transparent;\n",
       "      border-left-color: var(--fill-color);\n",
       "      border-top-color: var(--fill-color);\n",
       "    }\n",
       "    30% {\n",
       "      border-color: transparent;\n",
       "      border-left-color: var(--fill-color);\n",
       "      border-top-color: var(--fill-color);\n",
       "      border-right-color: var(--fill-color);\n",
       "    }\n",
       "    40% {\n",
       "      border-color: transparent;\n",
       "      border-right-color: var(--fill-color);\n",
       "      border-top-color: var(--fill-color);\n",
       "    }\n",
       "    60% {\n",
       "      border-color: transparent;\n",
       "      border-right-color: var(--fill-color);\n",
       "    }\n",
       "    80% {\n",
       "      border-color: transparent;\n",
       "      border-right-color: var(--fill-color);\n",
       "      border-bottom-color: var(--fill-color);\n",
       "    }\n",
       "    90% {\n",
       "      border-color: transparent;\n",
       "      border-bottom-color: var(--fill-color);\n",
       "    }\n",
       "  }\n",
       "</style>\n",
       "\n",
       "  <script>\n",
       "    async function quickchart(key) {\n",
       "      const quickchartButtonEl =\n",
       "        document.querySelector('#' + key + ' button');\n",
       "      quickchartButtonEl.disabled = true;  // To prevent multiple clicks.\n",
       "      quickchartButtonEl.classList.add('colab-df-spinner');\n",
       "      try {\n",
       "        const charts = await google.colab.kernel.invokeFunction(\n",
       "            'suggestCharts', [key], {});\n",
       "      } catch (error) {\n",
       "        console.error('Error during call to suggestCharts:', error);\n",
       "      }\n",
       "      quickchartButtonEl.classList.remove('colab-df-spinner');\n",
       "      quickchartButtonEl.classList.add('colab-df-quickchart-complete');\n",
       "    }\n",
       "    (() => {\n",
       "      let quickchartButtonEl =\n",
       "        document.querySelector('#df-0b73e3e3-234f-4ce7-b7a6-dfc1f22f68cd button');\n",
       "      quickchartButtonEl.style.display =\n",
       "        google.colab.kernel.accessAllowed ? 'block' : 'none';\n",
       "    })();\n",
       "  </script>\n",
       "</div>\n",
       "    </div>\n",
       "  </div>\n"
      ]
     },
     "metadata": {},
     "execution_count": 37
    }
   ]
  },
  {
   "cell_type": "code",
   "source": [
    "region_sales = pd.DataFrame(\n",
    "    {\"Region\": [\"North\", \"South\", \"East\", \"West\"], \"Sales\": [1200, 1500, 1100, 1300]}\n",
    ")\n",
    "\n",
    "region_inventory = pd.DataFrame(\n",
    "    {\"Region\": [\"North\", \"South\", \"East\", \"West\"], \"Inventory\": [300, 450, 500, 350]}\n",
    ")\n",
    "\n",
    "sales_inventory_combined = pd.merge(region_sales, region_inventory, on=\"Region\")\n",
    "sales_inventory_combined"
   ],
   "metadata": {
    "colab": {
     "base_uri": "https://localhost:8080/",
     "height": 175
    },
    "id": "w9UZyT4Z7M2b",
    "executionInfo": {
     "status": "ok",
     "timestamp": 1699993401068,
     "user_tz": -120,
     "elapsed": 343,
     "user": {
      "displayName": "Venelin Valkov",
      "userId": "01328360181817234523"
     }
    },
    "outputId": "ef210459-41e4-41d0-939e-dbe217a97e7a"
   },
   "execution_count": 39,
   "outputs": [
    {
     "output_type": "execute_result",
     "data": {
      "text/plain": [
       "  Region  Sales  Inventory\n",
       "0  North   1200        300\n",
       "1  South   1500        450\n",
       "2   East   1100        500\n",
       "3   West   1300        350"
      ],
      "text/html": [
       "\n",
       "  <div id=\"df-64a13c16-f9a7-4189-b5ac-45acb62171e1\" class=\"colab-df-container\">\n",
       "    <div>\n",
       "<style scoped>\n",
       "    .dataframe tbody tr th:only-of-type {\n",
       "        vertical-align: middle;\n",
       "    }\n",
       "\n",
       "    .dataframe tbody tr th {\n",
       "        vertical-align: top;\n",
       "    }\n",
       "\n",
       "    .dataframe thead th {\n",
       "        text-align: right;\n",
       "    }\n",
       "</style>\n",
       "<table border=\"1\" class=\"dataframe\">\n",
       "  <thead>\n",
       "    <tr style=\"text-align: right;\">\n",
       "      <th></th>\n",
       "      <th>Region</th>\n",
       "      <th>Sales</th>\n",
       "      <th>Inventory</th>\n",
       "    </tr>\n",
       "  </thead>\n",
       "  <tbody>\n",
       "    <tr>\n",
       "      <th>0</th>\n",
       "      <td>North</td>\n",
       "      <td>1200</td>\n",
       "      <td>300</td>\n",
       "    </tr>\n",
       "    <tr>\n",
       "      <th>1</th>\n",
       "      <td>South</td>\n",
       "      <td>1500</td>\n",
       "      <td>450</td>\n",
       "    </tr>\n",
       "    <tr>\n",
       "      <th>2</th>\n",
       "      <td>East</td>\n",
       "      <td>1100</td>\n",
       "      <td>500</td>\n",
       "    </tr>\n",
       "    <tr>\n",
       "      <th>3</th>\n",
       "      <td>West</td>\n",
       "      <td>1300</td>\n",
       "      <td>350</td>\n",
       "    </tr>\n",
       "  </tbody>\n",
       "</table>\n",
       "</div>\n",
       "    <div class=\"colab-df-buttons\">\n",
       "\n",
       "  <div class=\"colab-df-container\">\n",
       "    <button class=\"colab-df-convert\" onclick=\"convertToInteractive('df-64a13c16-f9a7-4189-b5ac-45acb62171e1')\"\n",
       "            title=\"Convert this dataframe to an interactive table.\"\n",
       "            style=\"display:none;\">\n",
       "\n",
       "  <svg xmlns=\"http://www.w3.org/2000/svg\" height=\"24px\" viewBox=\"0 -960 960 960\">\n",
       "    <path d=\"M120-120v-720h720v720H120Zm60-500h600v-160H180v160Zm220 220h160v-160H400v160Zm0 220h160v-160H400v160ZM180-400h160v-160H180v160Zm440 0h160v-160H620v160ZM180-180h160v-160H180v160Zm440 0h160v-160H620v160Z\"/>\n",
       "  </svg>\n",
       "    </button>\n",
       "\n",
       "  <style>\n",
       "    .colab-df-container {\n",
       "      display:flex;\n",
       "      gap: 12px;\n",
       "    }\n",
       "\n",
       "    .colab-df-convert {\n",
       "      background-color: #E8F0FE;\n",
       "      border: none;\n",
       "      border-radius: 50%;\n",
       "      cursor: pointer;\n",
       "      display: none;\n",
       "      fill: #1967D2;\n",
       "      height: 32px;\n",
       "      padding: 0 0 0 0;\n",
       "      width: 32px;\n",
       "    }\n",
       "\n",
       "    .colab-df-convert:hover {\n",
       "      background-color: #E2EBFA;\n",
       "      box-shadow: 0px 1px 2px rgba(60, 64, 67, 0.3), 0px 1px 3px 1px rgba(60, 64, 67, 0.15);\n",
       "      fill: #174EA6;\n",
       "    }\n",
       "\n",
       "    .colab-df-buttons div {\n",
       "      margin-bottom: 4px;\n",
       "    }\n",
       "\n",
       "    [theme=dark] .colab-df-convert {\n",
       "      background-color: #3B4455;\n",
       "      fill: #D2E3FC;\n",
       "    }\n",
       "\n",
       "    [theme=dark] .colab-df-convert:hover {\n",
       "      background-color: #434B5C;\n",
       "      box-shadow: 0px 1px 3px 1px rgba(0, 0, 0, 0.15);\n",
       "      filter: drop-shadow(0px 1px 2px rgba(0, 0, 0, 0.3));\n",
       "      fill: #FFFFFF;\n",
       "    }\n",
       "  </style>\n",
       "\n",
       "    <script>\n",
       "      const buttonEl =\n",
       "        document.querySelector('#df-64a13c16-f9a7-4189-b5ac-45acb62171e1 button.colab-df-convert');\n",
       "      buttonEl.style.display =\n",
       "        google.colab.kernel.accessAllowed ? 'block' : 'none';\n",
       "\n",
       "      async function convertToInteractive(key) {\n",
       "        const element = document.querySelector('#df-64a13c16-f9a7-4189-b5ac-45acb62171e1');\n",
       "        const dataTable =\n",
       "          await google.colab.kernel.invokeFunction('convertToInteractive',\n",
       "                                                    [key], {});\n",
       "        if (!dataTable) return;\n",
       "\n",
       "        const docLinkHtml = 'Like what you see? Visit the ' +\n",
       "          '<a target=\"_blank\" href=https://colab.research.google.com/notebooks/data_table.ipynb>data table notebook</a>'\n",
       "          + ' to learn more about interactive tables.';\n",
       "        element.innerHTML = '';\n",
       "        dataTable['output_type'] = 'display_data';\n",
       "        await google.colab.output.renderOutput(dataTable, element);\n",
       "        const docLink = document.createElement('div');\n",
       "        docLink.innerHTML = docLinkHtml;\n",
       "        element.appendChild(docLink);\n",
       "      }\n",
       "    </script>\n",
       "  </div>\n",
       "\n",
       "\n",
       "<div id=\"df-66849621-ffd5-45f3-99d1-bb7efb94b948\">\n",
       "  <button class=\"colab-df-quickchart\" onclick=\"quickchart('df-66849621-ffd5-45f3-99d1-bb7efb94b948')\"\n",
       "            title=\"Suggest charts\"\n",
       "            style=\"display:none;\">\n",
       "\n",
       "<svg xmlns=\"http://www.w3.org/2000/svg\" height=\"24px\"viewBox=\"0 0 24 24\"\n",
       "     width=\"24px\">\n",
       "    <g>\n",
       "        <path d=\"M19 3H5c-1.1 0-2 .9-2 2v14c0 1.1.9 2 2 2h14c1.1 0 2-.9 2-2V5c0-1.1-.9-2-2-2zM9 17H7v-7h2v7zm4 0h-2V7h2v10zm4 0h-2v-4h2v4z\"/>\n",
       "    </g>\n",
       "</svg>\n",
       "  </button>\n",
       "\n",
       "<style>\n",
       "  .colab-df-quickchart {\n",
       "      --bg-color: #E8F0FE;\n",
       "      --fill-color: #1967D2;\n",
       "      --hover-bg-color: #E2EBFA;\n",
       "      --hover-fill-color: #174EA6;\n",
       "      --disabled-fill-color: #AAA;\n",
       "      --disabled-bg-color: #DDD;\n",
       "  }\n",
       "\n",
       "  [theme=dark] .colab-df-quickchart {\n",
       "      --bg-color: #3B4455;\n",
       "      --fill-color: #D2E3FC;\n",
       "      --hover-bg-color: #434B5C;\n",
       "      --hover-fill-color: #FFFFFF;\n",
       "      --disabled-bg-color: #3B4455;\n",
       "      --disabled-fill-color: #666;\n",
       "  }\n",
       "\n",
       "  .colab-df-quickchart {\n",
       "    background-color: var(--bg-color);\n",
       "    border: none;\n",
       "    border-radius: 50%;\n",
       "    cursor: pointer;\n",
       "    display: none;\n",
       "    fill: var(--fill-color);\n",
       "    height: 32px;\n",
       "    padding: 0;\n",
       "    width: 32px;\n",
       "  }\n",
       "\n",
       "  .colab-df-quickchart:hover {\n",
       "    background-color: var(--hover-bg-color);\n",
       "    box-shadow: 0 1px 2px rgba(60, 64, 67, 0.3), 0 1px 3px 1px rgba(60, 64, 67, 0.15);\n",
       "    fill: var(--button-hover-fill-color);\n",
       "  }\n",
       "\n",
       "  .colab-df-quickchart-complete:disabled,\n",
       "  .colab-df-quickchart-complete:disabled:hover {\n",
       "    background-color: var(--disabled-bg-color);\n",
       "    fill: var(--disabled-fill-color);\n",
       "    box-shadow: none;\n",
       "  }\n",
       "\n",
       "  .colab-df-spinner {\n",
       "    border: 2px solid var(--fill-color);\n",
       "    border-color: transparent;\n",
       "    border-bottom-color: var(--fill-color);\n",
       "    animation:\n",
       "      spin 1s steps(1) infinite;\n",
       "  }\n",
       "\n",
       "  @keyframes spin {\n",
       "    0% {\n",
       "      border-color: transparent;\n",
       "      border-bottom-color: var(--fill-color);\n",
       "      border-left-color: var(--fill-color);\n",
       "    }\n",
       "    20% {\n",
       "      border-color: transparent;\n",
       "      border-left-color: var(--fill-color);\n",
       "      border-top-color: var(--fill-color);\n",
       "    }\n",
       "    30% {\n",
       "      border-color: transparent;\n",
       "      border-left-color: var(--fill-color);\n",
       "      border-top-color: var(--fill-color);\n",
       "      border-right-color: var(--fill-color);\n",
       "    }\n",
       "    40% {\n",
       "      border-color: transparent;\n",
       "      border-right-color: var(--fill-color);\n",
       "      border-top-color: var(--fill-color);\n",
       "    }\n",
       "    60% {\n",
       "      border-color: transparent;\n",
       "      border-right-color: var(--fill-color);\n",
       "    }\n",
       "    80% {\n",
       "      border-color: transparent;\n",
       "      border-right-color: var(--fill-color);\n",
       "      border-bottom-color: var(--fill-color);\n",
       "    }\n",
       "    90% {\n",
       "      border-color: transparent;\n",
       "      border-bottom-color: var(--fill-color);\n",
       "    }\n",
       "  }\n",
       "</style>\n",
       "\n",
       "  <script>\n",
       "    async function quickchart(key) {\n",
       "      const quickchartButtonEl =\n",
       "        document.querySelector('#' + key + ' button');\n",
       "      quickchartButtonEl.disabled = true;  // To prevent multiple clicks.\n",
       "      quickchartButtonEl.classList.add('colab-df-spinner');\n",
       "      try {\n",
       "        const charts = await google.colab.kernel.invokeFunction(\n",
       "            'suggestCharts', [key], {});\n",
       "      } catch (error) {\n",
       "        console.error('Error during call to suggestCharts:', error);\n",
       "      }\n",
       "      quickchartButtonEl.classList.remove('colab-df-spinner');\n",
       "      quickchartButtonEl.classList.add('colab-df-quickchart-complete');\n",
       "    }\n",
       "    (() => {\n",
       "      let quickchartButtonEl =\n",
       "        document.querySelector('#df-66849621-ffd5-45f3-99d1-bb7efb94b948 button');\n",
       "      quickchartButtonEl.style.display =\n",
       "        google.colab.kernel.accessAllowed ? 'block' : 'none';\n",
       "    })();\n",
       "  </script>\n",
       "</div>\n",
       "    </div>\n",
       "  </div>\n"
      ]
     },
     "metadata": {},
     "execution_count": 39
    }
   ]
  }
 ]
}