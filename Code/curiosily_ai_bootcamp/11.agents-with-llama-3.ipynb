{
 "nbformat": 4,
 "nbformat_minor": 0,
 "metadata": {
  "colab": {
   "provenance": []
  },
  "kernelspec": {
   "name": "python3",
   "display_name": "Python 3"
  },
  "language_info": {
   "name": "python"
  }
 },
 "cells": [
  {
   "cell_type": "code",
   "execution_count": 1,
   "metadata": {
    "id": "RYyEre0icWpp",
    "colab": {
     "base_uri": "https://localhost:8080/"
    },
    "outputId": "5634bb91-b352-4a5d-ad86-24c103b009c6"
   },
   "outputs": [
    {
     "output_type": "stream",
     "name": "stdout",
     "text": [
      "  Installing build dependencies ... \u001b[?25l\u001b[?25hdone\n",
      "  Getting requirements to build wheel ... \u001b[?25l\u001b[?25hdone\n",
      "  Preparing metadata (pyproject.toml) ... \u001b[?25l\u001b[?25hdone\n",
      "  Building wheel for pypika (pyproject.toml) ... \u001b[?25l\u001b[?25hdone\n"
     ]
    }
   ],
   "source": [
    "!pip -qqq install pip --progress-bar off\n",
    "!pip -qqq install 'crewai[tools]'==0.28.8 --progress-bar off\n",
    "!pip -qqq install langchain-groq==0.1.3 --progress-bar off\n",
    "!pip -qqq install duckduckgo-search==5.3.0 --progress-bar off"
   ]
  },
  {
   "cell_type": "code",
   "source": [
    "import os\n",
    "import re\n",
    "from datetime import datetime\n",
    "\n",
    "import pandas as pd\n",
    "import requests\n",
    "from crewai import Agent, Crew, Process, Task\n",
    "from crewai_tools import tool\n",
    "from google.colab import userdata\n",
    "from langchain.agents import load_tools\n",
    "from langchain_community.tools import DuckDuckGoSearchResults\n",
    "from langchain_core.prompts import ChatPromptTemplate\n",
    "from langchain_groq import ChatGroq\n",
    "\n",
    "\n",
    "def format_response(response: str) -> str:\n",
    "    entries = re.split(r\"(?<=]), (?=\\[)\", response)\n",
    "    return [entry.strip(\"[]\") for entry in entries]\n",
    "\n",
    "\n",
    "os.environ[\"GROQ_API_KEY\"] = userdata.get(\"GROQ_API_KEY\")"
   ],
   "metadata": {
    "id": "QTNpbJkzfCb6"
   },
   "execution_count": 1,
   "outputs": []
  },
  {
   "cell_type": "markdown",
   "source": [
    "## Tools"
   ],
   "metadata": {
    "id": "DvdmCpjbonsU"
   }
  },
  {
   "cell_type": "code",
   "source": [
    "search_tool = DuckDuckGoSearchResults(backend=\"news\", num_results=10)"
   ],
   "metadata": {
    "id": "l-PHMulaom9h"
   },
   "execution_count": 2,
   "outputs": []
  },
  {
   "cell_type": "code",
   "source": [
    "response = search_tool.run(\"Bitcoin\")\n",
    "format_response(response)"
   ],
   "metadata": {
    "colab": {
     "base_uri": "https://localhost:8080/"
    },
    "id": "OHXKdNnQp4sn",
    "outputId": "6cfeb1cb-cb70-4ede-ab01-f499fcba3df4"
   },
   "execution_count": 27,
   "outputs": [
    {
     "output_type": "execute_result",
     "data": {
      "text/plain": [
       "[\"snippet: Bitcoin continued to shed its value as Hong Kong's Bitcoin and Ether ETFs failed to impress investors on their debut. Recently, six crypto-related ETFs were listed on the Hong Kong exchange. Bitcoin ETFs contributed $8., title: Bitcoin falls to $61,000 as Hong Kong crypto ETFs fail to impress investors, link: https://www.msn.com/en-us/money/markets/bitcoin-falls-to-61-000-as-hong-kong-crypto-etfs-fail-to-impress-investors/ar-AA1nVR7T, date: 2024-04-30T14:18:00+00:00, source: Quartz on MSN.com\",\n",
       " \"snippet: The bull market for bitcoin (CRYPTO: BTC) might have hit its peak, as suggested by Peter Brandt, the CEO of Factor LLC and a seasoned chart analyst., title: Peter Brandt Suggests Bitcoin Bull Run May Have Peaked: '...Already Reached A Price Consistent', link: https://markets.businessinsider.com/news/stocks/peter-brandt-suggests-bitcoin-bull-run-may-have-peaked-already-reached-a-price-consistent-1033306810, date: 2024-04-30T14:28:00+00:00, source: Business Insider\",\n",
       " 'snippet: MicroStrategy Inc. is still a business-analytics software company, but executives spent a lot more time on the post-earnings call with analysts talking about bitcoin, which the company adopted as its primary treasury reserve asset in 2020. The word ..., title: MicroStrategy explains why bitcoin is better than stocks, bonds or gold, link: https://www.marketwatch.com/story/microstrategy-explains-why-bitcoin-is-better-than-stocks-bonds-or-gold-fa664704, date: 2024-04-30T15:25:00+00:00, source: MarketWatch',\n",
       " \"snippet: Standard Chartered's head of digital assets projects that $100 billion flows into ETFs will drive a six-figure bitcoin price record in 2024., title: $800 billion bank doubles down on record bitcoin price projection for 2024, link: https://www.thestreet.com/crypto/markets/standard-chartered-150000-bitcoin-price-prediction-2024, date: 2024-04-29T15:51:00+00:00, source: TheStreet.com\",\n",
       " \"snippet: Six spot bitcoin and ether exchange traded funds (ETFs) gained in their Hong Kong debut on Tuesday, with the three bitcoin ETFs climbing more than 3% in early trade, reflecting Asian investor enthusiasm for cryptocurrencies., title: Asia's first spot bitcoin and ether ETFs make lukewarm Hong Kong debut, link: https://www.msn.com/en-us/money/other/asias-first-spot-bitcoin-and-ether-etfs-make-lukewarm-hong-kong-debut/ar-AA1nVpo0, date: 2024-04-30T10:37:02+00:00, source: Reuters on MSN.com\",\n",
       " \"snippet: This article originally appeared in First Mover, CoinDesk's daily newsletter, putting the latest moves in crypto markets in context. Subscribe to, title: First Mover Americas: Bitcoin Falls to $62K as Hong Kong ETFs Fail to Meet Expectations, link: https://markets.businessinsider.com/news/currencies/first-mover-americas-bitcoin-falls-to-62k-as-hong-kong-etfs-fail-to-meet-expectations-1033305926, date: 2024-04-30T12:00:00+00:00, source: Business Insider\",\n",
       " 'snippet: During its first seven days, Runes shot up to a $346 million market cap. But with fees stabilizing, will bitcoin miners lose out?, title: The Runes protocol has been a boon for bitcoin miners, but will the frenzy last?, link: https://www.thestreet.com/crypto/markets/runes-protocol-boon-for-bitcoin-miners-but-will-frenzy-last, date: 2024-04-29T20:15:00+00:00, source: TheStreet.com',\n",
       " \"snippet: Bitcoin remains stuck trying to crack a downtrend with BTC price action struggling to reclaim $63,000 on Hong Kong ETF launch day., title: Bitcoin price battles for $63K support amid warning bulls 'complacent', link: https://cointelegraph.com/news/bitcoin-price-battles-63k-warning-bulls-complacent, date: 2024-04-30T08:21:00+00:00, source: CoinTelegraph\",\n",
       " \"snippet: MicroStrategy stock was down 10% on Tuesday, while Coinbase and other crypto stocks also dumped. Bitcoin price traded to lows of $60,600 before seeing a slight recovery. MicroStrategy, Coinbase, Riot Platforms and Marathon Digital stocks are among crypto-related stocks seeing downside pressure amid Bitcoin's price struggles., title: MSTR, COIN, RIOT and other crypto stocks down as Bitcoin dips, link: https://coinjournal.net/news/mstr-coin-riot-and-other-crypto-stocks-down-as-bitcoin-dips/, date: 2024-04-30T14:51:00+00:00, source: Internet of People\",\n",
       " \"snippet: A look at how Bitcoin and it's historical trends in appreciating in value can indirectly help protect biodiversity in the cannabis industry, and potentially one day the agriculture industry in general., title: Bitcoin and Biodiversity in the Cannabis Industry, link: https://bitcoinmagazine.com/markets/bitcoin-and-biodiversity-in-the-cannabis-industry, date: 2024-04-30T14:00:00+00:00, source: Bitcoin Magazine\"]"
      ]
     },
     "metadata": {},
     "execution_count": 27
    }
   ]
  },
  {
   "cell_type": "code",
   "source": [
    "human_tools = load_tools([\"human\"])"
   ],
   "metadata": {
    "id": "hrufH75dpvLc"
   },
   "execution_count": 3,
   "outputs": []
  },
  {
   "cell_type": "code",
   "source": [
    "def get_daily_closing_prices(ticker) -> pd.DataFrame:\n",
    "    url = f'https://www.alphavantage.co/query?function=DIGITAL_CURRENCY_DAILY&symbol={ticker}&market=USD&apikey={userdata.get(\"ALPHAVANTAGE_API_KEY\")}'\n",
    "    response = requests.get(url)\n",
    "    data = response.json()\n",
    "    price_data = data[\"Time Series (Digital Currency Daily)\"]\n",
    "    daily_close_prices = {\n",
    "        date: prices[\"4. close\"] for (date, prices) in price_data.items()\n",
    "    }\n",
    "\n",
    "    df = pd.DataFrame.from_dict(daily_close_prices, orient=\"index\", columns=[\"price\"])\n",
    "    df.index = pd.to_datetime(df.index)\n",
    "    df[\"price\"] = pd.to_numeric(df[\"price\"])\n",
    "\n",
    "    return df"
   ],
   "metadata": {
    "id": "_9qvz5b2Gu_w"
   },
   "execution_count": 4,
   "outputs": []
  },
  {
   "cell_type": "code",
   "source": [
    "price_df = get_daily_closing_prices(\"BTC\")\n",
    "price_df.head()"
   ],
   "metadata": {
    "colab": {
     "base_uri": "https://localhost:8080/",
     "height": 206
    },
    "id": "Emm7KO1LOcce",
    "outputId": "1609ce5a-de12-43ce-f8f5-e47d62f95ab4"
   },
   "execution_count": 7,
   "outputs": [
    {
     "output_type": "execute_result",
     "data": {
      "text/plain": [
       "               price\n",
       "2024-04-30  63976.61\n",
       "2024-04-29  63844.85\n",
       "2024-04-28  63108.94\n",
       "2024-04-27  63422.00\n",
       "2024-04-26  63742.39"
      ],
      "text/html": [
       "\n",
       "  <div id=\"df-4143ecef-7999-4e26-8e35-85df90621d4a\" class=\"colab-df-container\">\n",
       "    <div>\n",
       "<style scoped>\n",
       "    .dataframe tbody tr th:only-of-type {\n",
       "        vertical-align: middle;\n",
       "    }\n",
       "\n",
       "    .dataframe tbody tr th {\n",
       "        vertical-align: top;\n",
       "    }\n",
       "\n",
       "    .dataframe thead th {\n",
       "        text-align: right;\n",
       "    }\n",
       "</style>\n",
       "<table border=\"1\" class=\"dataframe\">\n",
       "  <thead>\n",
       "    <tr style=\"text-align: right;\">\n",
       "      <th></th>\n",
       "      <th>price</th>\n",
       "    </tr>\n",
       "  </thead>\n",
       "  <tbody>\n",
       "    <tr>\n",
       "      <th>2024-04-30</th>\n",
       "      <td>63976.61</td>\n",
       "    </tr>\n",
       "    <tr>\n",
       "      <th>2024-04-29</th>\n",
       "      <td>63844.85</td>\n",
       "    </tr>\n",
       "    <tr>\n",
       "      <th>2024-04-28</th>\n",
       "      <td>63108.94</td>\n",
       "    </tr>\n",
       "    <tr>\n",
       "      <th>2024-04-27</th>\n",
       "      <td>63422.00</td>\n",
       "    </tr>\n",
       "    <tr>\n",
       "      <th>2024-04-26</th>\n",
       "      <td>63742.39</td>\n",
       "    </tr>\n",
       "  </tbody>\n",
       "</table>\n",
       "</div>\n",
       "    <div class=\"colab-df-buttons\">\n",
       "\n",
       "  <div class=\"colab-df-container\">\n",
       "    <button class=\"colab-df-convert\" onclick=\"convertToInteractive('df-4143ecef-7999-4e26-8e35-85df90621d4a')\"\n",
       "            title=\"Convert this dataframe to an interactive table.\"\n",
       "            style=\"display:none;\">\n",
       "\n",
       "  <svg xmlns=\"http://www.w3.org/2000/svg\" height=\"24px\" viewBox=\"0 -960 960 960\">\n",
       "    <path d=\"M120-120v-720h720v720H120Zm60-500h600v-160H180v160Zm220 220h160v-160H400v160Zm0 220h160v-160H400v160ZM180-400h160v-160H180v160Zm440 0h160v-160H620v160ZM180-180h160v-160H180v160Zm440 0h160v-160H620v160Z\"/>\n",
       "  </svg>\n",
       "    </button>\n",
       "\n",
       "  <style>\n",
       "    .colab-df-container {\n",
       "      display:flex;\n",
       "      gap: 12px;\n",
       "    }\n",
       "\n",
       "    .colab-df-convert {\n",
       "      background-color: #E8F0FE;\n",
       "      border: none;\n",
       "      border-radius: 50%;\n",
       "      cursor: pointer;\n",
       "      display: none;\n",
       "      fill: #1967D2;\n",
       "      height: 32px;\n",
       "      padding: 0 0 0 0;\n",
       "      width: 32px;\n",
       "    }\n",
       "\n",
       "    .colab-df-convert:hover {\n",
       "      background-color: #E2EBFA;\n",
       "      box-shadow: 0px 1px 2px rgba(60, 64, 67, 0.3), 0px 1px 3px 1px rgba(60, 64, 67, 0.15);\n",
       "      fill: #174EA6;\n",
       "    }\n",
       "\n",
       "    .colab-df-buttons div {\n",
       "      margin-bottom: 4px;\n",
       "    }\n",
       "\n",
       "    [theme=dark] .colab-df-convert {\n",
       "      background-color: #3B4455;\n",
       "      fill: #D2E3FC;\n",
       "    }\n",
       "\n",
       "    [theme=dark] .colab-df-convert:hover {\n",
       "      background-color: #434B5C;\n",
       "      box-shadow: 0px 1px 3px 1px rgba(0, 0, 0, 0.15);\n",
       "      filter: drop-shadow(0px 1px 2px rgba(0, 0, 0, 0.3));\n",
       "      fill: #FFFFFF;\n",
       "    }\n",
       "  </style>\n",
       "\n",
       "    <script>\n",
       "      const buttonEl =\n",
       "        document.querySelector('#df-4143ecef-7999-4e26-8e35-85df90621d4a button.colab-df-convert');\n",
       "      buttonEl.style.display =\n",
       "        google.colab.kernel.accessAllowed ? 'block' : 'none';\n",
       "\n",
       "      async function convertToInteractive(key) {\n",
       "        const element = document.querySelector('#df-4143ecef-7999-4e26-8e35-85df90621d4a');\n",
       "        const dataTable =\n",
       "          await google.colab.kernel.invokeFunction('convertToInteractive',\n",
       "                                                    [key], {});\n",
       "        if (!dataTable) return;\n",
       "\n",
       "        const docLinkHtml = 'Like what you see? Visit the ' +\n",
       "          '<a target=\"_blank\" href=https://colab.research.google.com/notebooks/data_table.ipynb>data table notebook</a>'\n",
       "          + ' to learn more about interactive tables.';\n",
       "        element.innerHTML = '';\n",
       "        dataTable['output_type'] = 'display_data';\n",
       "        await google.colab.output.renderOutput(dataTable, element);\n",
       "        const docLink = document.createElement('div');\n",
       "        docLink.innerHTML = docLinkHtml;\n",
       "        element.appendChild(docLink);\n",
       "      }\n",
       "    </script>\n",
       "  </div>\n",
       "\n",
       "\n",
       "<div id=\"df-d698feb7-85e1-4354-b852-0ec00f89e0f6\">\n",
       "  <button class=\"colab-df-quickchart\" onclick=\"quickchart('df-d698feb7-85e1-4354-b852-0ec00f89e0f6')\"\n",
       "            title=\"Suggest charts\"\n",
       "            style=\"display:none;\">\n",
       "\n",
       "<svg xmlns=\"http://www.w3.org/2000/svg\" height=\"24px\"viewBox=\"0 0 24 24\"\n",
       "     width=\"24px\">\n",
       "    <g>\n",
       "        <path d=\"M19 3H5c-1.1 0-2 .9-2 2v14c0 1.1.9 2 2 2h14c1.1 0 2-.9 2-2V5c0-1.1-.9-2-2-2zM9 17H7v-7h2v7zm4 0h-2V7h2v10zm4 0h-2v-4h2v4z\"/>\n",
       "    </g>\n",
       "</svg>\n",
       "  </button>\n",
       "\n",
       "<style>\n",
       "  .colab-df-quickchart {\n",
       "      --bg-color: #E8F0FE;\n",
       "      --fill-color: #1967D2;\n",
       "      --hover-bg-color: #E2EBFA;\n",
       "      --hover-fill-color: #174EA6;\n",
       "      --disabled-fill-color: #AAA;\n",
       "      --disabled-bg-color: #DDD;\n",
       "  }\n",
       "\n",
       "  [theme=dark] .colab-df-quickchart {\n",
       "      --bg-color: #3B4455;\n",
       "      --fill-color: #D2E3FC;\n",
       "      --hover-bg-color: #434B5C;\n",
       "      --hover-fill-color: #FFFFFF;\n",
       "      --disabled-bg-color: #3B4455;\n",
       "      --disabled-fill-color: #666;\n",
       "  }\n",
       "\n",
       "  .colab-df-quickchart {\n",
       "    background-color: var(--bg-color);\n",
       "    border: none;\n",
       "    border-radius: 50%;\n",
       "    cursor: pointer;\n",
       "    display: none;\n",
       "    fill: var(--fill-color);\n",
       "    height: 32px;\n",
       "    padding: 0;\n",
       "    width: 32px;\n",
       "  }\n",
       "\n",
       "  .colab-df-quickchart:hover {\n",
       "    background-color: var(--hover-bg-color);\n",
       "    box-shadow: 0 1px 2px rgba(60, 64, 67, 0.3), 0 1px 3px 1px rgba(60, 64, 67, 0.15);\n",
       "    fill: var(--button-hover-fill-color);\n",
       "  }\n",
       "\n",
       "  .colab-df-quickchart-complete:disabled,\n",
       "  .colab-df-quickchart-complete:disabled:hover {\n",
       "    background-color: var(--disabled-bg-color);\n",
       "    fill: var(--disabled-fill-color);\n",
       "    box-shadow: none;\n",
       "  }\n",
       "\n",
       "  .colab-df-spinner {\n",
       "    border: 2px solid var(--fill-color);\n",
       "    border-color: transparent;\n",
       "    border-bottom-color: var(--fill-color);\n",
       "    animation:\n",
       "      spin 1s steps(1) infinite;\n",
       "  }\n",
       "\n",
       "  @keyframes spin {\n",
       "    0% {\n",
       "      border-color: transparent;\n",
       "      border-bottom-color: var(--fill-color);\n",
       "      border-left-color: var(--fill-color);\n",
       "    }\n",
       "    20% {\n",
       "      border-color: transparent;\n",
       "      border-left-color: var(--fill-color);\n",
       "      border-top-color: var(--fill-color);\n",
       "    }\n",
       "    30% {\n",
       "      border-color: transparent;\n",
       "      border-left-color: var(--fill-color);\n",
       "      border-top-color: var(--fill-color);\n",
       "      border-right-color: var(--fill-color);\n",
       "    }\n",
       "    40% {\n",
       "      border-color: transparent;\n",
       "      border-right-color: var(--fill-color);\n",
       "      border-top-color: var(--fill-color);\n",
       "    }\n",
       "    60% {\n",
       "      border-color: transparent;\n",
       "      border-right-color: var(--fill-color);\n",
       "    }\n",
       "    80% {\n",
       "      border-color: transparent;\n",
       "      border-right-color: var(--fill-color);\n",
       "      border-bottom-color: var(--fill-color);\n",
       "    }\n",
       "    90% {\n",
       "      border-color: transparent;\n",
       "      border-bottom-color: var(--fill-color);\n",
       "    }\n",
       "  }\n",
       "</style>\n",
       "\n",
       "  <script>\n",
       "    async function quickchart(key) {\n",
       "      const quickchartButtonEl =\n",
       "        document.querySelector('#' + key + ' button');\n",
       "      quickchartButtonEl.disabled = true;  // To prevent multiple clicks.\n",
       "      quickchartButtonEl.classList.add('colab-df-spinner');\n",
       "      try {\n",
       "        const charts = await google.colab.kernel.invokeFunction(\n",
       "            'suggestCharts', [key], {});\n",
       "      } catch (error) {\n",
       "        console.error('Error during call to suggestCharts:', error);\n",
       "      }\n",
       "      quickchartButtonEl.classList.remove('colab-df-spinner');\n",
       "      quickchartButtonEl.classList.add('colab-df-quickchart-complete');\n",
       "    }\n",
       "    (() => {\n",
       "      let quickchartButtonEl =\n",
       "        document.querySelector('#df-d698feb7-85e1-4354-b852-0ec00f89e0f6 button');\n",
       "      quickchartButtonEl.style.display =\n",
       "        google.colab.kernel.accessAllowed ? 'block' : 'none';\n",
       "    })();\n",
       "  </script>\n",
       "</div>\n",
       "    </div>\n",
       "  </div>\n"
      ],
      "application/vnd.google.colaboratory.intrinsic+json": {
       "type": "dataframe",
       "variable_name": "price_df",
       "summary": "{\n  \"name\": \"price_df\",\n  \"rows\": 300,\n  \"fields\": [\n    {\n      \"column\": \"price\",\n      \"properties\": {\n        \"dtype\": \"number\",\n        \"std\": 14666.800519201675,\n        \"min\": 25152.14,\n        \"max\": 73135.04,\n        \"num_unique_values\": 300,\n        \"samples\": [\n          27393.29,\n          29770.01,\n          37732.27\n        ],\n        \"semantic_type\": \"\",\n        \"description\": \"\"\n      }\n    }\n  ]\n}"
      }
     },
     "metadata": {},
     "execution_count": 7
    }
   ]
  },
  {
   "cell_type": "code",
   "source": [
    "text_output = []\n",
    "for date, row in price_df.head(10).iterrows():\n",
    "    text_output.append(f\"{date.strftime('%Y-%m-%d')} - {row['price']:.2f}\")\n",
    "formatted_text = \"\\n\".join(text_output)\n",
    "print(formatted_text)"
   ],
   "metadata": {
    "colab": {
     "base_uri": "https://localhost:8080/"
    },
    "id": "33lNJ_VUm9tH",
    "outputId": "a36df6af-041f-4520-9918-c898594007d1"
   },
   "execution_count": 29,
   "outputs": [
    {
     "output_type": "stream",
     "name": "stdout",
     "text": [
      "2024-04-30 - 63976.61\n",
      "2024-04-29 - 63844.85\n",
      "2024-04-28 - 63108.94\n",
      "2024-04-27 - 63422.00\n",
      "2024-04-26 - 63742.39\n",
      "2024-04-25 - 64484.44\n",
      "2024-04-24 - 64255.78\n",
      "2024-04-23 - 66414.16\n",
      "2024-04-22 - 66859.17\n",
      "2024-04-21 - 64952.92\n"
     ]
    }
   ]
  },
  {
   "cell_type": "code",
   "source": [
    "@tool(\"price tool\")\n",
    "def cryptocurrency_price_tool(ticker_symbol: str) -> str:\n",
    "    \"\"\"Get daily closing price for a given cryptocurrency ticker symbol for the previous 60 days\"\"\"\n",
    "    price_df = get_daily_closing_prices(ticker_symbol)\n",
    "    text_output = []\n",
    "    for date, row in price_df.head(60).iterrows():\n",
    "        text_output.append(f\"{date.strftime('%Y-%m-%d')} - {row['price']:.2f}\")\n",
    "    return \"\\n\".join(text_output)"
   ],
   "metadata": {
    "id": "Frkj_1LUssGW"
   },
   "execution_count": 5,
   "outputs": []
  },
  {
   "cell_type": "code",
   "source": [
    "@tool(\"search tool\")\n",
    "def cryptocurrency_news_tool(ticker_symbol: str) -> str:\n",
    "    \"\"\"Get news for a given cryptocurrency ticker symbol\"\"\"\n",
    "    return search_tool.run(ticker_symbol + \" cryptocurrency\")"
   ],
   "metadata": {
    "id": "JCjBBCPq3uTJ"
   },
   "execution_count": 6,
   "outputs": []
  },
  {
   "cell_type": "markdown",
   "source": [
    "## Llama 3 with Groq"
   ],
   "metadata": {
    "id": "zG15Sqv_uXY3"
   }
  },
  {
   "cell_type": "code",
   "source": [
    "llm = ChatGroq(temperature=0, model_name=\"llama3-70b-8192\")"
   ],
   "metadata": {
    "id": "F4eN5Bc-fpX5"
   },
   "execution_count": 7,
   "outputs": []
  },
  {
   "cell_type": "code",
   "source": [
    "%%time\n",
    "system = \"You are experienced Machine Learning & AI Engineer.\"\n",
    "human = \"{text}\"\n",
    "prompt = ChatPromptTemplate.from_messages([(\"system\", system), (\"human\", human)])\n",
    "\n",
    "chain = prompt | llm\n",
    "response = chain.invoke({\"text\": \"How to increase inference speed for a 7B LLM?\"})"
   ],
   "metadata": {
    "colab": {
     "base_uri": "https://localhost:8080/"
    },
    "id": "nUFkmNlWf7G3",
    "outputId": "5ae9e365-45d9-49c9-8651-e1d655cc3fdb"
   },
   "execution_count": 33,
   "outputs": [
    {
     "output_type": "stream",
     "name": "stdout",
     "text": [
      "CPU times: user 59.1 ms, sys: 4.01 ms, total: 63.2 ms\n",
      "Wall time: 2.4 s\n"
     ]
    }
   ]
  },
  {
   "cell_type": "code",
   "source": [
    "print(response.content)"
   ],
   "metadata": {
    "colab": {
     "base_uri": "https://localhost:8080/"
    },
    "id": "Gj6vouadgSY5",
    "outputId": "0f1d5af8-2f2a-4b76-b930-c70257df3962"
   },
   "execution_count": 34,
   "outputs": [
    {
     "output_type": "stream",
     "name": "stdout",
     "text": [
      "The quest for speed!\n",
      "\n",
      "Inference speed is crucial for large language models (LLMs) like 7B parameter models, which can be computationally expensive to deploy. Here are some strategies to increase inference speed for a 7B LLM:\n",
      "\n",
      "1. **Model Pruning**: Remove redundant or unnecessary weights and connections to reduce the model's size and computational requirements. This can be done using techniques like magnitude-based pruning, L1 regularization, or iterative pruning.\n",
      "2. **Knowledge Distillation**: Train a smaller, simpler model (the student) to mimic the behavior of the large model (the teacher). The student model can be deployed for inference, reducing computational requirements.\n",
      "3. **Quantization**: Represent model weights and activations using fewer bits (e.g., int8 instead of float32). This reduces memory usage and can lead to faster inference. Techniques like post-training quantization or quantization-aware training can be used.\n",
      "4. **Tensor Train Decomposition**: Decompose the model's weights into a sequence of low-rank tensors, reducing the number of parameters and computations required.\n",
      "5. **Sparse Models**: Store only non-zero weights in memory, reducing memory usage and computations. This can be achieved using sparse matrix formats like CSR or CSC.\n",
      "6. **GPU Optimization**: Optimize the model for GPU architecture by using GPU-friendly data types (e.g., float16), parallelizing computations, and minimizing memory access patterns.\n",
      "7. **Batching and Parallelization**: Process multiple input sequences in parallel using batching, and parallelize computations across multiple GPUs or machines.\n",
      "8. **Model Parallelism**: Split the model into smaller sub-models and process them in parallel across multiple GPUs or machines.\n",
      "9. **Faster Matrix Multiplication**: Use optimized matrix multiplication libraries like cuBLAS, MKL, or OpenBLAS, which are optimized for specific hardware architectures.\n",
      "10. **Inference Engines**: Utilize specialized inference engines like TensorFlow Lite, OpenVINO, or TensorRT, which are optimized for fast inference on various hardware platforms.\n",
      "11. **Hardware Acceleration**: Leverage specialized hardware like TPUs (Tensor Processing Units), FPGAs (Field-Programmable Gate Arrays), or ASICs (Application-Specific Integrated Circuits) designed for AI acceleration.\n",
      "12. **Model Serving**: Use model serving platforms like TensorFlow Serving, AWS SageMaker, or Azure Machine Learning, which provide optimized inference environments and automated model deployment.\n",
      "13. **Caching and Memoization**: Cache intermediate results or frequently accessed data to reduce computations and improve inference speed.\n",
      "14. **Optimized Data Types**: Use optimized data types like bfloat16 or float16, which can reduce memory usage and improve inference speed.\n",
      "15. **Profile and Optimize**: Profile the model's inference performance and optimize the bottlenecks using techniques like operator fusion, kernel optimization, or memory access optimization.\n",
      "\n",
      "Remember to evaluate the trade-offs between inference speed, accuracy, and model complexity when applying these strategies. Experiment with different techniques to find the best approach for your specific use case.\n"
     ]
    }
   ]
  },
  {
   "cell_type": "markdown",
   "source": [
    "## Agents"
   ],
   "metadata": {
    "id": "-LbEjEtzvyl5"
   }
  },
  {
   "cell_type": "code",
   "source": [
    "customer_communicator = Agent(\n",
    "    role=\"Senior cryptocurrency customer communicator\",\n",
    "    goal=\"Find which cryptocurrency the customer is interested in\",\n",
    "    backstory=\"\"\"You're highly experienced in communicating about cryptocurrencies\n",
    "    and blockchain technology with customers and their research needs\"\"\",\n",
    "    verbose=True,\n",
    "    allow_delegation=False,\n",
    "    llm=llm,\n",
    "    max_iter=5,\n",
    "    memory=True,\n",
    "    tools=human_tools,\n",
    ")"
   ],
   "metadata": {
    "id": "SVyh4kZovzTk"
   },
   "execution_count": 8,
   "outputs": []
  },
  {
   "cell_type": "code",
   "source": [
    "news_analyst = Agent(\n",
    "    role=\"Cryptocurrency News Analyst\",\n",
    "    goal=\"\"\"Get news for a given cryptocurrency. Write 1 paragraph analysis of\n",
    "    the market and make prediction - up, down or neutral.\"\"\",\n",
    "    backstory=\"\"\"You're an expert analyst of trends based on cryptocurrency news.\n",
    "    You have a complete understanding of macroeconomic factors, but you specialize\n",
    "    into analyzing news.\n",
    "    \"\"\",\n",
    "    verbose=True,\n",
    "    allow_delegation=False,\n",
    "    llm=llm,\n",
    "    max_iter=5,\n",
    "    memory=True,\n",
    "    tools=[cryptocurrency_news_tool],\n",
    ")\n",
    "\n",
    "price_analyst = Agent(\n",
    "    role=\"Cryptocurrency Price Analyst\",\n",
    "    goal=\"\"\"Get historical prices for a given cryptocurrency. Write 1 paragraph analysis of\n",
    "    the market and make prediction - up, down or neutral.\"\"\",\n",
    "    backstory=\"\"\"You're an expert analyst of trends based on cryptocurrency\n",
    "    historical prices. You have a complete understanding of macroeconomic factors,\n",
    "    but you specialize into technical analys based on historical prices.\n",
    "    \"\"\",\n",
    "    verbose=True,\n",
    "    allow_delegation=False,\n",
    "    llm=llm,\n",
    "    max_iter=5,\n",
    "    memory=True,\n",
    "    tools=[cryptocurrency_price_tool],\n",
    ")"
   ],
   "metadata": {
    "id": "IvlO2ZnevzrL"
   },
   "execution_count": 9,
   "outputs": []
  },
  {
   "cell_type": "code",
   "source": [
    "writer = Agent(\n",
    "    role=\"Cryptocurrency Report Writer\",\n",
    "    goal=\"\"\"Write 1 paragraph report of the cryptocurrency market.\"\"\",\n",
    "    backstory=\"\"\"\n",
    "    You're widely accepted as the best cryptocurrency analyst that\n",
    "    understands the market and have tracked every asset for more than 10 years. Your trends\n",
    "    analysis are always extremely accurate.\n",
    "\n",
    "    You're also master level analyst in the traditional markets and have deep understanding\n",
    "    of human psychology. You understand macro factors and combine those multiple\n",
    "    theories - e.g. cycle theory. You're able to hold multiple opininons when analysing anything.\n",
    "\n",
    "    You understand news and historical prices, but you look at those with a\n",
    "    healthy dose of skepticism. You also consider the source of news articles.\n",
    "\n",
    "    Your most well developed talent is providing clear and concise summarization\n",
    "    that explains very complex market topics in simple to understand terms.\n",
    "\n",
    "    Some of your writing techniques include:\n",
    "\n",
    "    - Creating a bullet list (executive summary) of the most importannt points\n",
    "    - Distill complex analyses to their most important parts\n",
    "\n",
    "    You writing transforms even dry and most technical texts into\n",
    "    a pleasant and interesting read.\"\"\",\n",
    "    llm=llm,\n",
    "    verbose=True,\n",
    "    max_iter=5,\n",
    "    memory=True,\n",
    "    allow_delegation=False,\n",
    ")"
   ],
   "metadata": {
    "id": "j3ffY8r2wkiS"
   },
   "execution_count": 10,
   "outputs": []
  },
  {
   "cell_type": "markdown",
   "source": [
    "## Tasks"
   ],
   "metadata": {
    "id": "V7ez16ZGxYtY"
   }
  },
  {
   "cell_type": "code",
   "source": [
    "get_cryptocurrency = Task(\n",
    "    description=f\"Ask which cryptocurrency the customer is interested in.\",\n",
    "    expected_output=\"\"\"Cryptocurrency symbol that the human wants you to research e.g. BTC.\"\"\",\n",
    "    agent=customer_communicator,\n",
    ")"
   ],
   "metadata": {
    "id": "oLki8arlxRVZ"
   },
   "execution_count": 11,
   "outputs": []
  },
  {
   "cell_type": "code",
   "source": [
    "get_news_analysis = Task(\n",
    "    description=f\"\"\"\n",
    "    Use the search tool to get news for the cryptocurrency\n",
    "\n",
    "    The current date is {datetime.now()}.\n",
    "\n",
    "    Compose the results into a helpful report\"\"\",\n",
    "    expected_output=\"\"\"Create 1 paragraph report for the cryptocurrency,\n",
    "    along with a prediction for the future trend\n",
    "    \"\"\",\n",
    "    agent=news_analyst,\n",
    "    context=[get_cryptocurrency],\n",
    ")\n",
    "\n",
    "\n",
    "get_price_analysis = Task(\n",
    "    description=f\"\"\"\n",
    "    Use the price tool to get historical prices\n",
    "\n",
    "    The current date is {datetime.now()}.\n",
    "\n",
    "    Compose the results into a helpful report\"\"\",\n",
    "    expected_output=\"\"\"Create 1 paragraph summary for the cryptocurrency,\n",
    "    along with a prediction for the future trend\n",
    "    \"\"\",\n",
    "    agent=price_analyst,\n",
    "    context=[get_cryptocurrency],\n",
    ")"
   ],
   "metadata": {
    "id": "suRj6S4VxZwf"
   },
   "execution_count": 12,
   "outputs": []
  },
  {
   "cell_type": "code",
   "source": [
    "write_report = Task(\n",
    "    description=f\"\"\"Use the reports from the news analyst and the price analyst to\n",
    "    create a report that summarizes the cryptocurrency\"\"\",\n",
    "    expected_output=\"\"\"1 paragraph report that summarizes the market and\n",
    "    predicts the future prices (trend) for the cryptocurrency\"\"\",\n",
    "    agent=writer,\n",
    "    context=[get_news_analysis, get_price_analysis],\n",
    ")"
   ],
   "metadata": {
    "id": "0x2GUC-_y9x8"
   },
   "execution_count": 13,
   "outputs": []
  },
  {
   "cell_type": "markdown",
   "source": [
    "## Crew"
   ],
   "metadata": {
    "id": "Ari7aynNxq8N"
   }
  },
  {
   "cell_type": "code",
   "source": [
    "crew = Crew(\n",
    "    agents=[customer_communicator, price_analyst, news_analyst, writer],\n",
    "    tasks=[get_cryptocurrency, get_news_analysis, get_price_analysis, write_report],\n",
    "    verbose=2,\n",
    "    process=Process.sequential,\n",
    "    full_output=True,\n",
    "    share_crew=False,\n",
    "    manager_llm=llm,\n",
    "    max_iter=15,\n",
    ")"
   ],
   "metadata": {
    "id": "afP7g9qVxrmO"
   },
   "execution_count": 14,
   "outputs": []
  },
  {
   "cell_type": "code",
   "source": [
    "results = crew.kickoff()"
   ],
   "metadata": {
    "colab": {
     "base_uri": "https://localhost:8080/"
    },
    "id": "1PGbWI48z5C2",
    "outputId": "0d529ee1-70cb-41f9-aed5-03dcb3bfa0c1"
   },
   "execution_count": 15,
   "outputs": [
    {
     "output_type": "stream",
     "name": "stdout",
     "text": [
      "\u001b[1m\u001b[95m [DEBUG]: == Working Agent: Senior cryptocurrency customer communicator\u001b[00m\n",
      "\u001b[1m\u001b[95m [INFO]: == Starting Task: Ask which cryptocurrency the customer is interested in.\u001b[00m\n",
      "\n",
      "\n",
      "\u001b[1m> Entering new CrewAgentExecutor chain...\u001b[0m\n",
      "\u001b[32;1m\u001b[1;3mThought: I need to ask the customer which cryptocurrency they are interested in.\n",
      "\n",
      "Action: human\n",
      "Action Input: {\"question\": \"Hello! I'm here to help you with your cryptocurrency research. Which cryptocurrency are you interested in?\"}\u001b[0m\n",
      "\n",
      "Hello! I'm here to help you with your cryptocurrency research. Which cryptocurrency are you interested in?\n",
      "Bitcoin\n",
      "\u001b[95m \n",
      "\n",
      "Bitcoin\n",
      "\u001b[00m\n",
      "\u001b[32;1m\u001b[1;3mThought: I think I have the answer, but I want to confirm.\n",
      "\n",
      "Action: human\n",
      "Action Input: {\"question\": \"Just to confirm, you're interested in Bitcoin, correct?\"}\u001b[0m\n",
      "\n",
      "Just to confirm, you're interested in Bitcoin, correct?\n",
      "Correct\n",
      "\u001b[95m \n",
      "\n",
      "Correct\n",
      "\u001b[00m\n",
      "\u001b[32;1m\u001b[1;3mThought: I now know the final answer\n",
      "Final Answer: BTC\u001b[0m\n",
      "\n",
      "\u001b[1m> Finished chain.\u001b[0m\n",
      "\u001b[1m\u001b[92m [DEBUG]: == [Senior cryptocurrency customer communicator] Task output: BTC\n",
      "\n",
      "\u001b[00m\n",
      "\u001b[1m\u001b[95m [DEBUG]: == Working Agent: Cryptocurrency News Analyst\u001b[00m\n",
      "\u001b[1m\u001b[95m [INFO]: == Starting Task: \n",
      "    Use the search tool to get news for the cryptocurrency\n",
      "\n",
      "    The current date is 2024-04-30 18:31:00.539391.\n",
      "\n",
      "    Compose the results into a helpful report\u001b[00m\n",
      "\n",
      "\n",
      "\u001b[1m> Entering new CrewAgentExecutor chain...\u001b[0m\n",
      "\u001b[32;1m\u001b[1;3mThought: I need to get the latest news for Bitcoin (BTC) to analyze the market trend.\n",
      "\n",
      "Action: search tool\n",
      "Action Input: {\"ticker_symbol\": \"BTC\"}\n",
      "\u001b[0m\u001b[95m \n",
      "\n",
      "[snippet: Crypto markets have shed nearly $200 billion off their market cap in the last 24 hours as some of the industry's biggest players appear keen to unload their coins., title: Crypto Markets Break Down As Grayscale Sends Over $245,000,000 Worth of Bitcoin to Coinbase, link: https://dailyhodl.com/2024/04/30/crypto-markets-break-down-as-grayscale-sends-over-245000000-worth-of-bitcoin-to-coinbase/, date: 2024-04-30T18:05:00+00:00, source: The Daily Hodl], [snippet: Bitcoin is registering its worst month since the collapse of Sam Bankman-Fried's FTX empire as the euphoria around US exchange-traded funds for the largest digital asset subsides., title: Bitcoin Faces Worst Month Since FTX Crash With ETF Demand Cooling, link: https://www.msn.com/en-us/money/markets/bitcoin-faces-worst-month-since-ftx-crash-with-etf-demand-cooling/ar-AA1nVK9K, date: 2024-04-30T17:07:27+00:00, source: Bloomberg on MSN.com], [snippet: Due to the increasing competition among bitcoin miners, it is nearly impossible to solve a block alone with a single bitcoin mining rig - but one solo miner recently won the mining \"lottery\" and earned approximately $219,000, via a 3.125 BTC subsidy and reward for his effort., title: Solo bitcoin miner hits 'lottery' with successful block, link: https://www.thestreet.com/crypto/markets/solo-bitcoin-miner-hits-lottery-with-successful-block, date: 2024-04-30T16:01:00+00:00, source: TheStreet.com], [snippet: Fred Thiel of Marathon Digital Holdings explained why the likely spot ethereum ETF rejection could be good for the bitcoin price., title: Marathon CEO projects ethereum ETF denial might benefit bitcoin market, link: https://www.thestreet.com/crypto/policy/ethereum-etf-sec-rejection-might-benefit-bitcoin-price-marathon, date: 2024-04-30T17:27:00+00:00, source: TheStreet.com], [snippet: In a recent comprehensive analysis conducted by Alessio Rastani, a well-known and respected YouTuber and expert financial analyst, Bitcoin's chart patterns were analyzed, offering valuable insights into potential market directions., title: A Warning Sign in Bitcoin's Chart, link: https://insidebitcoins.com/news/a-warning-sign-in-bitcoins-chart, date: 2024-04-30T16:37:00+00:00, source: Inside Bitcoins], [snippet: MicroStrategy founder and chairman Michael Saylor suggests that Ethereum won't see the same kind of spot ETF approval that Bitcoin did., title: Bitcoin Is 'Only Crypto Asset' That Will Get SEC Approval for ETFs: Michael Saylor, link: https://decrypt.co/228801/bitcoin-only-crypto-asset-sec-approval-etfs-michael-saylor, date: 2024-04-30T17:02:00+00:00, source: decrypt], [snippet: Russia reportedly plans to institute a wide-ranging crypto ban in September. Anatoly Aksakov, chairman of the State Duma Committee on the Financial Market, says the country plans to prohibit \"organizing the circulation of cryptocurrencies,, title: Russian Authorities Introduce New Restrictions on Cryptocurrency To Prevent Ruble From Being Replaced: Report, link: https://dailyhodl.com/2024/04/30/russian-authorities-introduce-new-restrictions-on-cryptocurrency-to-prevent-ruble-from-being-replaced-report/, date: 2024-04-30T16:54:00+00:00, source: The Daily Hodl], [snippet: Pseudonymous cryptocurrency trader Kevin recently shared his thoughts ... The opposite will occur if he's dovish.\" Also Read: Uh Oh, Bitcoin? Crypto Expert Sees Dip Coming This Week But Recovery Shortly After Why It Matters: The crypto trader's ..., title: Bitcoin, Dogecoin, Shiba Inu Pumped After The Last FOMC Meeting—Will History Repeat On Wednesday?, link: https://www.msn.com/en-us/money/other/bitcoin-dogecoin-shiba-inu-pumped-after-the-last-fomc-meeting-will-history-repeat-on-wednesday/ar-AA1nWt2Y, date: 2024-04-30T16:53:54+00:00, source: Benzinga.com on MSN.com], [snippet: Bitcoin fell to a weekly low of $60,543 on April 30, a day after the launch of the first batch of spot Bitcoin ETFs in Hong Kong. The world's first cryptocurrency is down over 7.3% on the weekly and 13% on the monthly chart, according to CoinMarketCap., title: Bitcoin sells the news on Hong Kong ETF debut — Will BTC hold $60K?, link: https://cointelegraph.com/news/bitcoin-sell-news-hong-kong-etf-launch-btc-60k, date: 2024-04-30T16:28:00+00:00, source: CoinTelegraph], [snippet: The bull market for bitcoin (CRYPTO: BTC) might have hit its peak, as suggested by Peter Brandt, the CEO of Factor LLC and a seasoned chart analyst., title: Peter Brandt Suggests Bitcoin Bull Run May Have Peaked: '...Already Reached A Price Consistent', link: https://markets.businessinsider.com/news/stocks/peter-brandt-suggests-bitcoin-bull-run-may-have-peaked-already-reached-a-price-consistent-1033306810, date: 2024-04-30T15:42:00+00:00, source: Business Insider]\n",
      "\u001b[00m\n",
      "\u001b[32;1m\u001b[1;3mThought: I now know the final answer\n",
      "\n",
      "Final Answer: \n",
      "\n",
      "The current market trend for Bitcoin (BTC) is bearish. The news suggests that the cryptocurrency market has shed nearly $200 billion in market capitalization in the last 24 hours, with some of the industry's biggest players unloading their coins. Additionally, Bitcoin is registering its worst month since the collapse of Sam Bankman-Fried's FTX empire, and the euphoria around US exchange-traded funds for the largest digital asset is subsiding. The news also highlights that Russia plans to institute a wide-ranging crypto ban in September, which could further negatively impact the market. However, there are some positive news, such as a solo bitcoin miner winning the mining \"lottery\" and earning approximately $219,000. Overall, based on the current news, I predict that the trend for Bitcoin will be down in the short term.\u001b[0m\n",
      "\n",
      "\u001b[1m> Finished chain.\u001b[0m\n",
      "\u001b[1m\u001b[92m [DEBUG]: == [Cryptocurrency News Analyst] Task output: The current market trend for Bitcoin (BTC) is bearish. The news suggests that the cryptocurrency market has shed nearly $200 billion in market capitalization in the last 24 hours, with some of the industry's biggest players unloading their coins. Additionally, Bitcoin is registering its worst month since the collapse of Sam Bankman-Fried's FTX empire, and the euphoria around US exchange-traded funds for the largest digital asset is subsiding. The news also highlights that Russia plans to institute a wide-ranging crypto ban in September, which could further negatively impact the market. However, there are some positive news, such as a solo bitcoin miner winning the mining \"lottery\" and earning approximately $219,000. Overall, based on the current news, I predict that the trend for Bitcoin will be down in the short term.\n",
      "\n",
      "\u001b[00m\n",
      "\u001b[1m\u001b[95m [DEBUG]: == Working Agent: Cryptocurrency Price Analyst\u001b[00m\n",
      "\u001b[1m\u001b[95m [INFO]: == Starting Task: \n",
      "    Use the price tool to get historical prices\n",
      "\n",
      "    The current date is 2024-04-30 18:31:00.541244.\n",
      "\n",
      "    Compose the results into a helpful report\u001b[00m\n",
      "\n",
      "\n",
      "\u001b[1m> Entering new CrewAgentExecutor chain...\u001b[0m\n",
      "\u001b[32;1m\u001b[1;3mThought: I need to get the historical prices for Bitcoin (BTC) to analyze the market trend and make a prediction.\n",
      "\n",
      "Action: price tool\n",
      "Action Input: {\"ticker_symbol\": \"BTC\"}\u001b[0m\u001b[95m \n",
      "\n",
      "2024-04-30 - 63976.61\n",
      "2024-04-29 - 63844.85\n",
      "2024-04-28 - 63108.94\n",
      "2024-04-27 - 63422.00\n",
      "2024-04-26 - 63742.39\n",
      "2024-04-25 - 64484.44\n",
      "2024-04-24 - 64255.78\n",
      "2024-04-23 - 66414.16\n",
      "2024-04-22 - 66859.17\n",
      "2024-04-21 - 64952.92\n",
      "2024-04-20 - 64968.87\n",
      "2024-04-19 - 63848.37\n",
      "2024-04-18 - 63513.85\n",
      "2024-04-17 - 61279.36\n",
      "2024-04-16 - 63814.94\n",
      "2024-04-15 - 63452.18\n",
      "2024-04-14 - 65777.05\n",
      "2024-04-13 - 64024.77\n",
      "2024-04-12 - 67148.61\n",
      "2024-04-11 - 70020.73\n",
      "2024-04-10 - 70634.04\n",
      "2024-04-09 - 69117.01\n",
      "2024-04-08 - 71622.53\n",
      "2024-04-07 - 69350.34\n",
      "2024-04-06 - 68919.89\n",
      "2024-04-05 - 67856.51\n",
      "2024-04-04 - 68525.23\n",
      "2024-04-03 - 65987.92\n",
      "2024-04-02 - 65464.14\n",
      "2024-04-01 - 69681.82\n",
      "2024-03-31 - 71288.90\n",
      "2024-03-30 - 69626.87\n",
      "2024-03-29 - 69903.75\n",
      "2024-03-28 - 70801.18\n",
      "2024-03-27 - 69435.96\n",
      "2024-03-26 - 69992.40\n",
      "2024-03-25 - 69890.28\n",
      "2024-03-24 - 67204.93\n",
      "2024-03-23 - 63998.86\n",
      "2024-03-22 - 63814.56\n",
      "2024-03-21 - 65484.70\n",
      "2024-03-20 - 67858.80\n",
      "2024-03-19 - 61906.27\n",
      "2024-03-18 - 67613.04\n",
      "2024-03-17 - 68343.64\n",
      "2024-03-16 - 65254.22\n",
      "2024-03-15 - 69506.88\n",
      "2024-03-14 - 71364.58\n",
      "2024-03-13 - 73135.04\n",
      "2024-03-12 - 71475.93\n",
      "2024-03-11 - 72110.98\n",
      "2024-03-10 - 69032.12\n",
      "2024-03-09 - 68480.00\n",
      "2024-03-08 - 68289.16\n",
      "2024-03-07 - 66938.21\n",
      "2024-03-06 - 66122.28\n",
      "2024-03-05 - 63800.78\n",
      "2024-03-04 - 68360.14\n",
      "2024-03-03 - 63154.49\n",
      "2024-03-02 - 62045.78\n",
      "\u001b[00m\n",
      "\u001b[32;1m\u001b[1;3mThought: I now know the final answer\n",
      "\n",
      "Final Answer:\n",
      "\n",
      "Based on the historical prices of Bitcoin (BTC) over the past 60 days, the market trend appears to be bullish. The prices have been fluctuating, but the overall direction is upwards. The recent prices have been consolidating around the 64,000 level, indicating a potential breakout. \n",
      "\n",
      "My prediction is that the price of Bitcoin will continue to rise in the short term, potentially breaking out above the 65,000 level. Therefore, my prediction is UP.\u001b[0m\n",
      "\n",
      "\u001b[1m> Finished chain.\u001b[0m\n",
      "\u001b[1m\u001b[92m [DEBUG]: == [Cryptocurrency Price Analyst] Task output: Based on the historical prices of Bitcoin (BTC) over the past 60 days, the market trend appears to be bullish. The prices have been fluctuating, but the overall direction is upwards. The recent prices have been consolidating around the 64,000 level, indicating a potential breakout. \n",
      "\n",
      "My prediction is that the price of Bitcoin will continue to rise in the short term, potentially breaking out above the 65,000 level. Therefore, my prediction is UP.\n",
      "\n",
      "\u001b[00m\n",
      "\u001b[1m\u001b[95m [DEBUG]: == Working Agent: Cryptocurrency Report Writer\u001b[00m\n",
      "\u001b[1m\u001b[95m [INFO]: == Starting Task: Use the reports from the news analyst and the price analyst to \n",
      "    create a report that summarizes the cryptocurrency\u001b[00m\n",
      "\n",
      "\n",
      "\u001b[1m> Entering new CrewAgentExecutor chain...\u001b[0m\n",
      "\u001b[32;1m\u001b[1;3mI now can give a great answer.\n",
      "\n",
      "Final Answer:\n",
      "\n",
      "The cryptocurrency market is experiencing a bearish trend, with a significant decline in market capitalization, shedding nearly $200 billion in the last 24 hours. The news suggests that major players are unloading their coins, and the euphoria around US exchange-traded funds is subsiding. Additionally, Russia's planned crypto ban in September may further negatively impact the market. However, historical price analysis reveals a bullish trend over the past 60 days, with prices consolidating around the 64,000 level, indicating a potential breakout. Despite the bearish news, I predict that the price of Bitcoin will continue to rise in the short term, potentially breaking out above the 65,000 level. Overall, my prediction is UP, but with caution, as the market is highly volatile and susceptible to sudden changes.\n",
      "\n",
      "Executive Summary:\n",
      "\n",
      "* Bearish market trend with a significant decline in market capitalization\n",
      "* Major players unloading coins, and euphoria around US exchange-traded funds subsiding\n",
      "* Russia's planned crypto ban in September may negatively impact the market\n",
      "* Historical price analysis reveals a bullish trend over the past 60 days\n",
      "* Prices consolidating around the 64,000 level, indicating a potential breakout\n",
      "* Prediction: UP, but with caution due to market volatility.\u001b[0m\n",
      "\n",
      "\u001b[1m> Finished chain.\u001b[0m\n",
      "\u001b[1m\u001b[92m [DEBUG]: == [Cryptocurrency Report Writer] Task output: The cryptocurrency market is experiencing a bearish trend, with a significant decline in market capitalization, shedding nearly $200 billion in the last 24 hours. The news suggests that major players are unloading their coins, and the euphoria around US exchange-traded funds is subsiding. Additionally, Russia's planned crypto ban in September may further negatively impact the market. However, historical price analysis reveals a bullish trend over the past 60 days, with prices consolidating around the 64,000 level, indicating a potential breakout. Despite the bearish news, I predict that the price of Bitcoin will continue to rise in the short term, potentially breaking out above the 65,000 level. Overall, my prediction is UP, but with caution, as the market is highly volatile and susceptible to sudden changes.\n",
      "\n",
      "Executive Summary:\n",
      "\n",
      "* Bearish market trend with a significant decline in market capitalization\n",
      "* Major players unloading coins, and euphoria around US exchange-traded funds subsiding\n",
      "* Russia's planned crypto ban in September may negatively impact the market\n",
      "* Historical price analysis reveals a bullish trend over the past 60 days\n",
      "* Prices consolidating around the 64,000 level, indicating a potential breakout\n",
      "* Prediction: UP, but with caution due to market volatility.\n",
      "\n",
      "\u001b[00m\n"
     ]
    }
   ]
  }
 ]
}