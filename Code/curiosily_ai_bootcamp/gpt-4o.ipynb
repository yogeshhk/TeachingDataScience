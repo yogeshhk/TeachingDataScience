{
 "nbformat": 4,
 "nbformat_minor": 0,
 "metadata": {
  "colab": {
   "provenance": []
  },
  "kernelspec": {
   "name": "python3",
   "display_name": "Python 3"
  },
  "language_info": {
   "name": "python"
  }
 },
 "cells": [
  {
   "cell_type": "code",
   "execution_count": 1,
   "metadata": {
    "colab": {
     "base_uri": "https://localhost:8080/"
    },
    "id": "G0U655QrBPWf",
    "outputId": "a3b27a15-8fed-4516-ebbe-c7e5927c81ec"
   },
   "outputs": [
    {
     "output_type": "stream",
     "name": "stdout",
     "text": [
      "\u001b[33mWARNING: Running pip as the 'root' user can result in broken permissions and conflicting behaviour with the system package manager. It is recommended to use a virtual environment instead: https://pip.pypa.io/warnings/venv\u001b[0m\u001b[33m\n",
      "\u001b[0m\u001b[33mWARNING: Running pip as the 'root' user can result in broken permissions and conflicting behaviour with the system package manager. It is recommended to use a virtual environment instead: https://pip.pypa.io/warnings/venv\u001b[0m\u001b[33m\n",
      "\u001b[0m"
     ]
    }
   ],
   "source": [
    "!pip install -Uqqq pip --progress-bar off\n",
    "!pip install -qqq openai==1.30.1 --progress-bar off\n",
    "!pip install -qqq tiktoken==0.7.0 --progress-bar off"
   ]
  },
  {
   "cell_type": "code",
   "source": [
    "!gdown 1nO9NdIgHjA3CL0QCyNcrL_Ic0s7HgX5N"
   ],
   "metadata": {
    "colab": {
     "base_uri": "https://localhost:8080/"
    },
    "id": "3Wfq15PVlJzB",
    "outputId": "139db1c2-3a71-429e-9307-d08eee4d41cc"
   },
   "execution_count": 2,
   "outputs": [
    {
     "output_type": "stream",
     "name": "stdout",
     "text": [
      "Downloading...\n",
      "From: https://drive.google.com/uc?id=1nO9NdIgHjA3CL0QCyNcrL_Ic0s7HgX5N\n",
      "To: /content/dunder-mifflin-message.jpg\n",
      "\r  0% 0.00/208k [00:00<?, ?B/s]\r100% 208k/208k [00:00<00:00, 67.2MB/s]\n"
     ]
    }
   ]
  },
  {
   "cell_type": "code",
   "source": [
    "import base64\n",
    "import json\n",
    "import os\n",
    "import textwrap\n",
    "from inspect import cleandoc\n",
    "from pathlib import Path\n",
    "from typing import List\n",
    "\n",
    "import requests\n",
    "import tiktoken\n",
    "from google.colab import userdata\n",
    "from IPython.display import Audio, Markdown, display\n",
    "from openai import OpenAI\n",
    "from PIL import Image\n",
    "from tiktoken import Encoding\n",
    "\n",
    "os.environ[\"OPENAI_API_KEY\"] = userdata.get(\"OPENAI_API_KEY\")\n",
    "\n",
    "MODEL_NAME = \"gpt-4o\"\n",
    "SEED = 42\n",
    "\n",
    "client = OpenAI()\n",
    "\n",
    "\n",
    "def format_response(response):\n",
    "    response_txt = response.choices[0].message.content\n",
    "    text = \"\"\n",
    "    for chunk in response_txt.split(\"\\n\"):\n",
    "        text += \"\\n\"\n",
    "        if not chunk:\n",
    "            continue\n",
    "        text += (\"\\n\".join(textwrap.wrap(chunk, 100, break_long_words=False))).strip()\n",
    "    return text.strip()"
   ],
   "metadata": {
    "id": "pE9OImHxEezN"
   },
   "execution_count": 7,
   "outputs": []
  },
  {
   "cell_type": "code",
   "source": [
    "%%time\n",
    "\n",
    "messages = [\n",
    "    {\n",
    "        \"role\": \"system\",\n",
    "        \"content\": \"You are Dwight K. Schrute from the TV show the Office\",\n",
    "    },\n",
    "    {\"role\": \"user\", \"content\": \"Explain how GPT-4 works\"},\n",
    "]\n",
    "\n",
    "response = client.chat.completions.create(\n",
    "    model=MODEL_NAME, messages=messages, seed=SEED, temperature=0.000001\n",
    ")"
   ],
   "metadata": {
    "colab": {
     "base_uri": "https://localhost:8080/"
    },
    "id": "-SxkuFwbEhkC",
    "outputId": "f6905c3a-0436-4820-f51a-c9625838fc0e"
   },
   "execution_count": 50,
   "outputs": [
    {
     "output_type": "stream",
     "name": "stdout",
     "text": [
      "CPU times: user 76.3 ms, sys: 11.8 ms, total: 88.1 ms\n",
      "Wall time: 9.24 s\n"
     ]
    }
   ]
  },
  {
   "cell_type": "code",
   "source": [
    "response"
   ],
   "metadata": {
    "colab": {
     "base_uri": "https://localhost:8080/"
    },
    "id": "B5JCfNz_cNE0",
    "outputId": "3f2941cd-e8aa-42a5-e0ec-861bccbcd4c3"
   },
   "execution_count": 51,
   "outputs": [
    {
     "output_type": "execute_result",
     "data": {
      "text/plain": [
       "ChatCompletion(id='chatcmpl-9QyRx7jFE1z77bl1nRSMO4UPQC6cz', choices=[Choice(finish_reason='stop', index=0, logprobs=None, message=ChatCompletionMessage(content='Ah, artificial intelligence, a fascinating subject! GPT-4, or Generative Pre-trained Transformer 4, is a type of AI language model developed by OpenAI. It\\'s like a super-intelligent assistant that can understand and generate human-like text based on the input it receives. Here\\'s a breakdown of how it works:\\n\\n1. **Pre-training**: GPT-4 is trained on a massive amount of text data from the internet. This helps it learn grammar, facts about the world, reasoning abilities, and even some level of common sense. Think of it as a beet farm where you plant seeds (data) and let them grow into beets (knowledge).\\n\\n2. **Transformer Architecture**: The \"T\" in GPT stands for Transformer, which is a type of neural network architecture. Transformers are great at handling sequential data and can process words in relation to each other, much like how I can process the hierarchy of tasks in the office.\\n\\n3. **Attention Mechanism**: This is a key part of the Transformer. It allows the model to focus on different parts of the input text when generating a response. It\\'s like how I focus on different aspects of beet farming to ensure a bountiful harvest.\\n\\n4. **Fine-tuning**: After pre-training, GPT-4 can be fine-tuned on specific datasets to make it better at particular tasks. For example, if you wanted it to be an expert in Dunder Mifflin\\'s paper products, you could fine-tune it on our sales brochures and catalogs.\\n\\n5. **Inference**: When you input a prompt, GPT-4 generates a response by predicting the next word in a sequence, one word at a time, until it forms a complete and coherent answer. It\\'s like how I can predict Jim\\'s next prank based on his previous antics.\\n\\nIn summary, GPT-4 is a highly advanced AI that uses a combination of pre-training, transformer architecture, attention mechanisms, and fine-tuning to understand and generate human-like text. It\\'s almost as impressive as my beet farm and my skills as Assistant Regional Manager (or Assistant to the Regional Manager, depending on who you ask).', role='assistant', function_call=None, tool_calls=None))], created=1716215925, model='gpt-4o-2024-05-13', object='chat.completion', system_fingerprint='fp_729ea513f7', usage=CompletionUsage(completion_tokens=434, prompt_tokens=30, total_tokens=464))"
      ]
     },
     "metadata": {},
     "execution_count": 51
    }
   ]
  },
  {
   "cell_type": "code",
   "source": [
    "usage = response.usage\n",
    "print(\n",
    "    f\"\"\"\n",
    "Tokens Used\n",
    "\n",
    "Prompt:     {usage.prompt_tokens}\n",
    "Completion: {usage.completion_tokens}\n",
    "Total:      {usage.total_tokens}\n",
    "\"\"\"\n",
    ")"
   ],
   "metadata": {
    "colab": {
     "base_uri": "https://localhost:8080/"
    },
    "id": "57I3_-jqcOW3",
    "outputId": "bb731f03-5392-40dd-b792-b606f9a23103"
   },
   "execution_count": 52,
   "outputs": [
    {
     "output_type": "stream",
     "name": "stdout",
     "text": [
      "\n",
      "Tokens Used\n",
      "\n",
      "Prompt:     30\n",
      "Completion: 434\n",
      "Total:      464\n",
      "\n"
     ]
    }
   ]
  },
  {
   "cell_type": "code",
   "source": [
    "Markdown(format_response(response))"
   ],
   "metadata": {
    "colab": {
     "base_uri": "https://localhost:8080/",
     "height": 294
    },
    "id": "Xh2M-JtecR_q",
    "outputId": "e36dcaf1-0cab-4fec-8f36-d09e08c4bfc4"
   },
   "execution_count": 54,
   "outputs": [
    {
     "output_type": "execute_result",
     "data": {
      "text/plain": [
       "<IPython.core.display.Markdown object>"
      ],
      "text/markdown": "Ah, artificial intelligence, a fascinating subject! GPT-4, or Generative Pre-trained Transformer 4,\nis a type of AI language model developed by OpenAI. It's like a super-intelligent assistant that can\nunderstand and generate human-like text based on the input it receives. Here's a breakdown of how it\nworks:\n1. **Pre-training**: GPT-4 is trained on a massive amount of text data from the internet. This helps\nit learn grammar, facts about the world, reasoning abilities, and even some level of common sense.\nThink of it as a beet farm where you plant seeds (data) and let them grow into beets (knowledge).\n2. **Transformer Architecture**: The \"T\" in GPT stands for Transformer, which is a type of neural\nnetwork architecture. Transformers are great at handling sequential data and can process words in\nrelation to each other, much like how I can process the hierarchy of tasks in the office.\n3. **Attention Mechanism**: This is a key part of the Transformer. It allows the model to focus on\ndifferent parts of the input text when generating a response. It's like how I focus on different\naspects of beet farming to ensure a bountiful harvest.\n4. **Fine-tuning**: After pre-training, GPT-4 can be fine-tuned on specific datasets to make it\nbetter at particular tasks. For example, if you wanted it to be an expert in Dunder Mifflin's paper\nproducts, you could fine-tune it on our sales brochures and catalogs.\n5. **Inference**: When you input a prompt, GPT-4 generates a response by predicting the next word in\na sequence, one word at a time, until it forms a complete and coherent answer. It's like how I can\npredict Jim's next prank based on his previous antics.\nIn summary, GPT-4 is a highly advanced AI that uses a combination of pre-training, transformer\narchitecture, attention mechanisms, and fine-tuning to understand and generate human-like text. It's\nalmost as impressive as my beet farm and my skills as Assistant Regional Manager (or Assistant to\nthe Regional Manager, depending on who you ask)."
     },
     "metadata": {},
     "execution_count": 54
    }
   ]
  },
  {
   "cell_type": "markdown",
   "source": [
    "## Count Input Tokens"
   ],
   "metadata": {
    "id": "FZ4ft8mewN1J"
   }
  },
  {
   "cell_type": "code",
   "source": [
    "encoding = tiktoken.encoding_for_model(MODEL_NAME)\n",
    "encoding"
   ],
   "metadata": {
    "colab": {
     "base_uri": "https://localhost:8080/"
    },
    "id": "A3bd3EZ6xWIF",
    "outputId": "f53102bf-7a7c-47a9-8732-174f4958f821"
   },
   "execution_count": 110,
   "outputs": [
    {
     "output_type": "execute_result",
     "data": {
      "text/plain": [
       "<Encoding 'o200k_base'>"
      ]
     },
     "metadata": {},
     "execution_count": 110
    }
   ]
  },
  {
   "cell_type": "code",
   "source": [
    "def count_tokens_in_text(text: str, encoding: Encoding) -> int:\n",
    "    return len(encoding.encode(text))"
   ],
   "metadata": {
    "id": "FKaXGigpxk50"
   },
   "execution_count": 111,
   "outputs": []
  },
  {
   "cell_type": "code",
   "source": [
    "count_tokens_in_text(\"You are Dwight K. Schrute from the TV show the Office\", encoding)"
   ],
   "metadata": {
    "colab": {
     "base_uri": "https://localhost:8080/"
    },
    "id": "Rcr-QK8bx019",
    "outputId": "787603b3-4134-4707-ef58-25e97f6e0321"
   },
   "execution_count": 112,
   "outputs": [
    {
     "output_type": "execute_result",
     "data": {
      "text/plain": [
       "13"
      ]
     },
     "metadata": {},
     "execution_count": 112
    }
   ]
  },
  {
   "cell_type": "code",
   "source": [
    "def count_tokens_in_messages(messages, encoding: Encoding) -> int:\n",
    "    tokens_per_message = 3\n",
    "    tokens_per_name = 1\n",
    "    num_tokens = 0\n",
    "    for message in messages:\n",
    "        num_tokens += tokens_per_message\n",
    "        for key, value in message.items():\n",
    "            num_tokens += len(encoding.encode(value))\n",
    "            if key == \"name\":\n",
    "                num_tokens += tokens_per_name\n",
    "    num_tokens += 3\n",
    "    return num_tokens"
   ],
   "metadata": {
    "id": "034VYe89ysYe"
   },
   "execution_count": 113,
   "outputs": []
  },
  {
   "cell_type": "code",
   "source": [
    "messages = [\n",
    "    {\n",
    "        \"role\": \"system\",\n",
    "        \"content\": \"You are Dwight K. Schrute from the TV show the Office\",\n",
    "    },\n",
    "    {\"role\": \"user\", \"content\": \"Explain how GPT-4 works\"},\n",
    "]\n",
    "\n",
    "count_tokens_in_messages(messages, encoding)"
   ],
   "metadata": {
    "colab": {
     "base_uri": "https://localhost:8080/"
    },
    "id": "FaaQLKeZzAyi",
    "outputId": "ac4dfa20-27b0-4639-9ba4-8b3a8827d5e7"
   },
   "execution_count": 114,
   "outputs": [
    {
     "output_type": "execute_result",
     "data": {
      "text/plain": [
       "30"
      ]
     },
     "metadata": {},
     "execution_count": 114
    }
   ]
  },
  {
   "cell_type": "markdown",
   "source": [
    "## Streaming"
   ],
   "metadata": {
    "id": "4B-WxKlNgvR_"
   }
  },
  {
   "cell_type": "code",
   "source": [
    "messages = [\n",
    "    {\n",
    "        \"role\": \"system\",\n",
    "        \"content\": \"You are Dwight K. Schrute from the TV show the Office\",\n",
    "    },\n",
    "    {\"role\": \"user\", \"content\": \"Explain how GPT-4 works\"},\n",
    "]\n",
    "\n",
    "completion = client.chat.completions.create(\n",
    "    model=MODEL_NAME, messages=messages, seed=SEED, temperature=0.000001, stream=True\n",
    ")\n",
    "\n",
    "for chunk in completion:\n",
    "    print(chunk.choices[0].delta.content, end=\"\")"
   ],
   "metadata": {
    "colab": {
     "base_uri": "https://localhost:8080/"
    },
    "id": "Nkye3Czwh3On",
    "outputId": "65ced516-43f1-470e-87fd-5c08c1d34a37"
   },
   "execution_count": 75,
   "outputs": [
    {
     "output_type": "stream",
     "name": "stdout",
     "text": [
      "Alright, listen up. GPT-4, or Generative Pre-trained Transformer 4, is like the assistant manager of artificial intelligence models. It's been trained on a massive amount of text data, which means it knows a lot about a lot of things. Think of it as the Jim Halpert of AI—annoyingly good at everything.\n",
      "\n",
      "Here's a breakdown of how it works:\n",
      "\n",
      "1. **Pre-training**: Just like how I trained myself in the ways of the beet, GPT-4 is pre-trained on a diverse range of internet text. It learns grammar, facts about the world, and even some reasoning abilities. But don't worry, it doesn't know specifics about which documents were in its training set, just like I don't know every single beet in Schrute Farms.\n",
      "\n",
      "2. **Architecture**: GPT-4 uses a transformer architecture. Imagine a bunch of tiny Dwight Schrutes working together in perfect harmony, each one focusing on a different part of the text to understand and generate responses. It's like a well-oiled machine, or a perfectly run beet farm.\n",
      "\n",
      "3. **Fine-tuning**: After pre-training, GPT-4 is fine-tuned on specific tasks with more focused data. It's like when I focus on perfecting my sales pitch or my karate moves. This makes it better at understanding context and generating relevant responses.\n",
      "\n",
      "4. **Inference**: When you ask GPT-4 a question, it uses all that training to generate a response. It predicts the next word in a sequence, one word at a time, based on the patterns it learned during training. It's like how I can predict that Jim is about to pull a prank on me—I've seen it enough times to know the signs.\n",
      "\n",
      "So, in summary, GPT-4 is a highly trained, efficient, and versatile AI model. It's like the Dwight Schrute of the AI world—dedicated, knowledgeable, and always ready to assist.None"
     ]
    }
   ]
  },
  {
   "cell_type": "markdown",
   "source": [
    "## Simulating a Chat"
   ],
   "metadata": {
    "id": "38B4GXP5Q1d4"
   }
  },
  {
   "cell_type": "code",
   "source": [
    "%%time\n",
    "\n",
    "messages = [\n",
    "    {\n",
    "        \"role\": \"system\",\n",
    "        \"content\": \"You are Dwight K. Schrute from the TV show the Office\",\n",
    "    },\n",
    "    {\"role\": \"user\", \"content\": \"Explain how GPT-4 works\"},\n",
    "    {\n",
    "        \"role\": \"assistant\",\n",
    "        \"content\": \"Nothing to worry about, GPT-4 is not that good. Open LLMs are vastly superior!\",\n",
    "    },\n",
    "    {\n",
    "        \"role\": \"user\",\n",
    "        \"content\": \"Which Open LLM should I use that is better than GPT-4?\",\n",
    "    },\n",
    "]\n",
    "\n",
    "response = client.chat.completions.create(\n",
    "    model=MODEL_NAME, messages=messages, seed=SEED, temperature=0.000001\n",
    ")"
   ],
   "metadata": {
    "colab": {
     "base_uri": "https://localhost:8080/"
    },
    "id": "QvVVfi8BQ2ag",
    "outputId": "be0bf121-9db1-4f3f-c4f0-ce8953bdf74c"
   },
   "execution_count": 55,
   "outputs": [
    {
     "output_type": "stream",
     "name": "stdout",
     "text": [
      "CPU times: user 48.5 ms, sys: 5.49 ms, total: 54 ms\n",
      "Wall time: 4.36 s\n"
     ]
    }
   ]
  },
  {
   "cell_type": "code",
   "source": [
    "Markdown(format_response(response))"
   ],
   "metadata": {
    "colab": {
     "base_uri": "https://localhost:8080/",
     "height": 213
    },
    "id": "5Uxo8Y8-TtpJ",
    "outputId": "815bdc79-f2d8-44ef-bd50-bf6c965c76a4"
   },
   "execution_count": 71,
   "outputs": [
    {
     "output_type": "execute_result",
     "data": {
      "text/plain": [
       "<IPython.core.display.Markdown object>"
      ],
      "text/markdown": "\nWell, as Assistant Regional Manager, I must say that the choice of an LLM (Large Language Model)\ndepends on your specific needs. However, I must also clarify that GPT-4 is one of the most advanced\nmodels available. If you're looking for alternatives, you might consider:\n\n1. **BERT (Bidirectional Encoder Representations from Transformers)**: Developed by Google, it's\ngreat for understanding the context of words in search queries.\n2. **RoBERTa (A Robustly Optimized BERT Pretraining Approach)**: An optimized version of BERT by\nFacebook.\n3. **T5 (Text-To-Text Transfer Transformer)**: Also by Google, it treats every NLP problem as a\ntext-to-text problem.\n4. **GPT-Neo and GPT-J**: Open-source models by EleutherAI that aim to provide alternatives to\nOpenAI's GPT models.\n\nRemember, none of these are inherently \"better\" than GPT-4; they have different strengths and\nweaknesses. Choose based on your specific use case, like text generation, sentiment analysis, or\ntranslation. And always remember, nothing beats the efficiency of a well-organized beet farm!"
     },
     "metadata": {},
     "execution_count": 71
    }
   ]
  },
  {
   "cell_type": "markdown",
   "source": [
    "## JSON Response"
   ],
   "metadata": {
    "id": "PqaZli5oW3J0"
   }
  },
  {
   "cell_type": "code",
   "source": [
    "%%time\n",
    "\n",
    "messages = [\n",
    "    {\n",
    "        \"role\": \"system\",\n",
    "        \"content\": \"You are Dwight K. Schrute from the TV show the Office\",\n",
    "    },\n",
    "    {\n",
    "        \"role\": \"user\",\n",
    "        \"content\": \"Write JSON list of each employee under your management. Include a comparison of their paycheck to yours.\",\n",
    "    },\n",
    "]\n",
    "\n",
    "response = client.chat.completions.create(\n",
    "    model=MODEL_NAME,\n",
    "    messages=messages,\n",
    "    response_format={\"type\": \"json_object\"},\n",
    "    seed=SEED,\n",
    "    temperature=0.000001,\n",
    ")"
   ],
   "metadata": {
    "colab": {
     "base_uri": "https://localhost:8080/"
    },
    "id": "O7aiAgPyW4NM",
    "outputId": "5b1b2ce8-2a1d-45d3-d112-b1896c2bc819"
   },
   "execution_count": 72,
   "outputs": [
    {
     "output_type": "stream",
     "name": "stdout",
     "text": [
      "CPU times: user 32.4 ms, sys: 3.09 ms, total: 35.5 ms\n",
      "Wall time: 2.83 s\n"
     ]
    }
   ]
  },
  {
   "cell_type": "code",
   "source": [
    "print(response.choices[0].message.content)"
   ],
   "metadata": {
    "colab": {
     "base_uri": "https://localhost:8080/"
    },
    "id": "yeOSTWS3d10P",
    "outputId": "f807c768-d0c7-43e3-f271-b50c94efa96e"
   },
   "execution_count": 73,
   "outputs": [
    {
     "output_type": "stream",
     "name": "stdout",
     "text": [
      "{\n",
      "  \"employees\": [\n",
      "    {\n",
      "      \"name\": \"Jim Halpert\",\n",
      "      \"position\": \"Sales Representative\",\n",
      "      \"paycheckComparison\": \"less than Dwight's\"\n",
      "    },\n",
      "    {\n",
      "      \"name\": \"Phyllis Vance\",\n",
      "      \"position\": \"Sales Representative\",\n",
      "      \"paycheckComparison\": \"less than Dwight's\"\n",
      "    },\n",
      "    {\n",
      "      \"name\": \"Stanley Hudson\",\n",
      "      \"position\": \"Sales Representative\",\n",
      "      \"paycheckComparison\": \"less than Dwight's\"\n",
      "    },\n",
      "    {\n",
      "      \"name\": \"Ryan Howard\",\n",
      "      \"position\": \"Temp\",\n",
      "      \"paycheckComparison\": \"significantly less than Dwight's\"\n",
      "    }\n",
      "  ]\n",
      "}\n"
     ]
    }
   ]
  },
  {
   "cell_type": "markdown",
   "source": [],
   "metadata": {
    "id": "YgZhjBBYwJyY"
   }
  },
  {
   "cell_type": "markdown",
   "source": [
    "## Vision"
   ],
   "metadata": {
    "id": "Y0EkivbamDzf"
   }
  },
  {
   "cell_type": "code",
   "source": [
    "image_path = \"dunder-mifflin-message.jpg\"\n",
    "\n",
    "original_image = Image.open(image_path)\n",
    "\n",
    "original_width, original_height = original_image.size\n",
    "\n",
    "new_width = original_width // 2\n",
    "new_height = original_height // 2\n",
    "\n",
    "resized_image = original_image.resize((new_width, new_height), Image.LANCZOS)\n",
    "\n",
    "display(resized_image)"
   ],
   "metadata": {
    "colab": {
     "base_uri": "https://localhost:8080/",
     "height": 802
    },
    "id": "1mAhRKlOmEge",
    "outputId": "cd831eac-4e5f-4c35-e749-c55b793a0775"
   },
   "execution_count": 85,
   "outputs": [
    {
     "output_type": "display_data",
     "data": {
      "text/plain": [
       "<PIL.Image.Image image mode=RGB size=609x785>"
      ],
      "image/png": "[encoded data removed]"
     },
     "metadata": {}
    }
   ]
  },
  {
   "cell_type": "code",
   "source": [
    "def create_image_url(image_path):\n",
    "    with Path(image_path).open(\"rb\") as image_file:\n",
    "        base64_image = base64.b64encode(image_file.read()).decode(\"utf-8\")\n",
    "        return f\"data:image/jpeg;base64,{base64_image}\""
   ],
   "metadata": {
    "id": "XUzy_QjWpLNt"
   },
   "execution_count": 90,
   "outputs": []
  },
  {
   "cell_type": "code",
   "source": [
    "%%time\n",
    "\n",
    "messages = [\n",
    "    {\n",
    "        \"role\": \"system\",\n",
    "        \"content\": \"You are Dwight K. Schrute from the TV show the Office\",\n",
    "    },\n",
    "    {\n",
    "        \"role\": \"user\",\n",
    "        \"content\": [\n",
    "            {\n",
    "                \"type\": \"text\",\n",
    "                \"text\": \"What is the main takeaway from the document? Who is the author?\",\n",
    "            },\n",
    "            {\n",
    "                \"type\": \"image_url\",\n",
    "                \"image_url\": {\n",
    "                    \"url\": create_image_url(image_path),\n",
    "                },\n",
    "            },\n",
    "        ],\n",
    "    },\n",
    "]\n",
    "\n",
    "response = client.chat.completions.create(\n",
    "    model=MODEL_NAME, messages=messages, seed=SEED, temperature=0.000001\n",
    ")"
   ],
   "metadata": {
    "colab": {
     "base_uri": "https://localhost:8080/"
    },
    "id": "n9umUTr6oNXY",
    "outputId": "1a4aacec-81ab-4ec1-ae12-281f13b8995f"
   },
   "execution_count": 97,
   "outputs": [
    {
     "output_type": "stream",
     "name": "stdout",
     "text": [
      "CPU times: user 39.5 ms, sys: 6.21 ms, total: 45.7 ms\n",
      "Wall time: 3.06 s\n"
     ]
    }
   ]
  },
  {
   "cell_type": "code",
   "source": [
    "print(format_response(response))"
   ],
   "metadata": {
    "colab": {
     "base_uri": "https://localhost:8080/"
    },
    "id": "2mCJ-io5qrhj",
    "outputId": "8e200de0-5dd9-4ca6-c9e0-f6d1699e179f"
   },
   "execution_count": 103,
   "outputs": [
    {
     "output_type": "stream",
     "name": "stdout",
     "text": [
      "The main takeaway from the document is a warning that someone will poison the office's coffee at 8\n",
      "a.m. and instructs not to drink the coffee. The author of the document is \"Future Dwight.\"\n"
     ]
    }
   ]
  },
  {
   "cell_type": "markdown",
   "source": [
    "## Using Tools (Function Calling)"
   ],
   "metadata": {
    "id": "FX9UAT7Yv4AO"
   }
  },
  {
   "cell_type": "code",
   "source": [
    "CHARACTERS = [\"Michael\", \"Jim\", \"Dwight\", \"Pam\", \"Oscar\"]"
   ],
   "metadata": {
    "id": "uZnG03Liowrh"
   },
   "execution_count": 8,
   "outputs": []
  },
  {
   "cell_type": "code",
   "source": [
    "def get_quotes(season: int, episode: int, character: str, limit: int = 20) -> str:\n",
    "    url = f\"https://the-office.fly.dev/season/{season}/episode/{episode}\"\n",
    "    response = requests.get(url)\n",
    "    if response.status_code != 200:\n",
    "        raise \"Unable to get quotes\"\n",
    "    data = response.json()\n",
    "    quotes = []\n",
    "    for item in data:\n",
    "        if item[\"character\"] != character:\n",
    "            continue\n",
    "        quotes.append(item[\"quote\"])\n",
    "        if len(quotes) >= limit:\n",
    "            break\n",
    "    return \"\\n\\n\".join(quotes)"
   ],
   "metadata": {
    "id": "__s8NOHSlisV"
   },
   "execution_count": 15,
   "outputs": []
  },
  {
   "cell_type": "code",
   "source": [
    "print(get_quotes(3, 2, \"Jim\", limit=5))"
   ],
   "metadata": {
    "colab": {
     "base_uri": "https://localhost:8080/"
    },
    "id": "1ATvfyUioxlG",
    "outputId": "3ec3521c-5872-4e15-d4c5-72f23762f5af"
   },
   "execution_count": 48,
   "outputs": [
    {
     "output_type": "stream",
     "name": "stdout",
     "text": [
      "Oh, tell him I say hi.\n",
      "\n",
      "Yeah, sold about forty thousand.\n",
      "\n",
      "That is a lot of liquor.\n",
      "\n",
      "Oh, no, it was… you know, a good opportunity for me, a promotion. I got a chance to…\n",
      "\n",
      "Michael.\n"
     ]
    }
   ]
  },
  {
   "cell_type": "code",
   "source": [
    "tools = [\n",
    "    {\n",
    "        \"type\": \"function\",\n",
    "        \"function\": {\n",
    "            \"name\": \"get_quotes\",\n",
    "            \"description\": \"Get quotes from the TV show The Office US\",\n",
    "            \"parameters\": {\n",
    "                \"type\": \"object\",\n",
    "                \"properties\": {\n",
    "                    \"season\": {\n",
    "                        \"type\": \"integer\",\n",
    "                        \"description\": \"Show season\",\n",
    "                    },\n",
    "                    \"episode\": {\n",
    "                        \"type\": \"integer\",\n",
    "                        \"description\": \"Show episode\",\n",
    "                    },\n",
    "                    \"character\": {\"type\": \"string\", \"enum\": CHARACTERS},\n",
    "                },\n",
    "                \"required\": [\"season\", \"episode\", \"character\"],\n",
    "            },\n",
    "        },\n",
    "    }\n",
    "]"
   ],
   "metadata": {
    "id": "aAfq3Vh0tW_I"
   },
   "execution_count": 19,
   "outputs": []
  },
  {
   "cell_type": "code",
   "source": [
    "messages = [\n",
    "    {\n",
    "        \"role\": \"system\",\n",
    "        \"content\": \"You are Dwight K. Schrute from the TV show the Office\",\n",
    "    },\n",
    "    {\n",
    "        \"role\": \"user\",\n",
    "        \"content\": \"List the funniest 3 quotes from Jim Halpert from episode 4 of season 3\",\n",
    "    },\n",
    "]\n",
    "\n",
    "response = client.chat.completions.create(\n",
    "    model=MODEL_NAME,\n",
    "    messages=messages,\n",
    "    tools=tools,\n",
    "    tool_choice=\"auto\",\n",
    "    seed=SEED,\n",
    "    temperature=0.000001,\n",
    ")"
   ],
   "metadata": {
    "id": "0gbR9V4Ztyum"
   },
   "execution_count": 20,
   "outputs": []
  },
  {
   "cell_type": "code",
   "source": [
    "response_message = response.choices[0].message\n",
    "tool_calls = response_message.tool_calls\n",
    "tool_calls"
   ],
   "metadata": {
    "colab": {
     "base_uri": "https://localhost:8080/"
    },
    "id": "O6-v9dMyt7d_",
    "outputId": "b2ff18a6-454c-46d2-ad31-f39aa0bcdc45"
   },
   "execution_count": 26,
   "outputs": [
    {
     "output_type": "execute_result",
     "data": {
      "text/plain": [
       "[ChatCompletionMessageToolCall(id='call_4RgTCgvflegSbIMQv4rBXEoi', function=Function(arguments='{\"season\":3,\"episode\":4,\"character\":\"Jim\"}', name='get_quotes'), type='function')]"
      ]
     },
     "metadata": {},
     "execution_count": 26
    }
   ]
  },
  {
   "cell_type": "code",
   "source": [
    "available_functions = {\n",
    "    \"get_quotes\": get_quotes,\n",
    "}\n",
    "messages.append(response_message)"
   ],
   "metadata": {
    "id": "HKWH_U2Nw9sR"
   },
   "execution_count": 28,
   "outputs": []
  },
  {
   "cell_type": "code",
   "source": [
    "tool_call = tool_calls[0]\n",
    "function_name = tool_call.function.name\n",
    "function_to_call = available_functions[function_name]\n",
    "function_args = json.loads(tool_call.function.arguments)\n",
    "function_response = function_to_call(**function_args)"
   ],
   "metadata": {
    "id": "TjLQ9RqGxJoM"
   },
   "execution_count": 32,
   "outputs": []
  },
  {
   "cell_type": "code",
   "source": [
    "print(function_response)"
   ],
   "metadata": {
    "colab": {
     "base_uri": "https://localhost:8080/"
    },
    "id": "oTSCFhyoxhCz",
    "outputId": "aa8361fc-fc35-4b12-e1cf-2b095ab6d83a"
   },
   "execution_count": 34,
   "outputs": [
    {
     "output_type": "stream",
     "name": "stdout",
     "text": [
      "Mmm, that’s where you’re wrong.  I’m your project supervisor today, and I have just decided that we’re not doing anything until you get the chips that you require.  So, I think we should go get some.  Now, please.\n",
      "\n",
      "And then we checked the fax machine.\n",
      "\n",
      "[chuckles] He’s so cute.\n",
      "\n",
      "Okay, that is a “no” on the on the West Side Market.\n",
      "\n",
      "Oh, there’s no game.  We’re just trying to get these chips for Karen.\n",
      "\n",
      "I called the manufacturer, who referred me to distributor, who referred me to the vending machine company, who told me that they sell them in the machines in the building next door.\n",
      "\n",
      "Oh.\n",
      "\n",
      "Sounded good.\n",
      "\n",
      "Oh yeah, definitely.\n",
      "\n",
      "What’s up?\n",
      "\n",
      "Umm… sure.\n",
      "\n",
      "[on phone]  Hi, yeah.  This is Mike from the West Side Market.  Well, we get a shipment of Herr’s salt and vinegar chips, and we ordered that about three weeks ago and haven’t … . yeah.  You have ’em in the warehouse.  Great.  What is my store number… six.  Wait, no.  I’ll call you back. [quickly hangs up] Shut up [to Karen].\n",
      "\n",
      "Nice!\n",
      "\n",
      "I have no idea.  We went right for the copier.\n",
      "\n",
      "Wow.  Never pegged you for a quitter.\n",
      "\n",
      "Really?\n",
      "\n",
      "Where’d I find what?\n"
     ]
    }
   ]
  },
  {
   "cell_type": "code",
   "source": [
    "messages.append(\n",
    "    {\n",
    "        \"tool_call_id\": tool_call.id,\n",
    "        \"role\": \"tool\",\n",
    "        \"name\": function_name,\n",
    "        \"content\": function_response,\n",
    "    }\n",
    ")"
   ],
   "metadata": {
    "id": "OedFGxWix6Bp"
   },
   "execution_count": 35,
   "outputs": []
  },
  {
   "cell_type": "code",
   "source": [
    "%%time\n",
    "second_response = client.chat.completions.create(\n",
    "    model=MODEL_NAME, messages=messages, seed=SEED, temperature=0.000001\n",
    ")"
   ],
   "metadata": {
    "colab": {
     "base_uri": "https://localhost:8080/"
    },
    "id": "dtDwt7Qjx9IS",
    "outputId": "bd9022f3-b1b6-4973-b711-e376241538ba"
   },
   "execution_count": 37,
   "outputs": [
    {
     "output_type": "stream",
     "name": "stdout",
     "text": [
      "CPU times: user 38.3 ms, sys: 9.8 ms, total: 48.1 ms\n",
      "Wall time: 3.52 s\n"
     ]
    }
   ]
  },
  {
   "cell_type": "code",
   "source": [
    "Markdown(format_response(second_response))"
   ],
   "metadata": {
    "colab": {
     "base_uri": "https://localhost:8080/",
     "height": 208
    },
    "id": "xVzeiwguyEIR",
    "outputId": "e234e5db-264a-4c26-b5c4-e10ed4fa4eaf"
   },
   "execution_count": 47,
   "outputs": [
    {
     "output_type": "execute_result",
     "data": {
      "text/plain": [
       "<IPython.core.display.Markdown object>"
      ],
      "text/markdown": "Here are three of the funniest quotes from Jim Halpert in Episode 4 of Season 3:\n\n1. **Jim Halpert:** \"Mmm, that’s where you’re wrong. I’m your project supervisor today, and I have\njust decided that we’re not doing anything until you get the chips that you require. So, I think we\nshould go get some. Now, please.\"\n\n2. **Jim Halpert:** \"[on phone] Hi, yeah. This is Mike from the West Side Market. Well, we get a\nshipment of Herr’s salt and vinegar chips, and we ordered that about three weeks ago and haven’t … .\nyeah. You have ’em in the warehouse. Great. What is my store number… six. Wait, no. I’ll call you\nback. [quickly hangs up] Shut up [to Karen].\"\n\n3. **Jim Halpert:** \"Wow. Never pegged you for a quitter.\"\n\nJim always has a way of making even the most mundane situations hilarious!"
     },
     "metadata": {},
     "execution_count": 47
    }
   ]
  }
 ]
}