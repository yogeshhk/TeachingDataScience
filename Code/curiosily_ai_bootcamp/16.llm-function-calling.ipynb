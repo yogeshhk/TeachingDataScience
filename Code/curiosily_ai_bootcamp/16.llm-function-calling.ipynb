{
 "nbformat": 4,
 "nbformat_minor": 0,
 "metadata": {
  "colab": {
   "provenance": []
  },
  "kernelspec": {
   "name": "python3",
   "display_name": "Python 3"
  },
  "language_info": {
   "name": "python"
  }
 },
 "cells": [
  {
   "cell_type": "code",
   "execution_count": 1,
   "metadata": {
    "id": "Yio6Ginsyd3e"
   },
   "outputs": [],
   "source": [
    "!pip install -Uqqq pip --progress-bar off\n",
    "!pip install -qqq groq==0.9.0 --progress-bar off"
   ]
  },
  {
   "cell_type": "code",
   "source": [
    "import json\n",
    "import os\n",
    "import sqlite3\n",
    "from dataclasses import dataclass\n",
    "from datetime import date\n",
    "from enum import Enum, auto\n",
    "from typing import List, Set\n",
    "\n",
    "from google.colab import userdata\n",
    "from groq import Groq\n",
    "\n",
    "client = Groq(api_key=userdata.get(\"GROQ_API_KEY\"))\n",
    "MODEL = \"llama3-groq-70b-8192-tool-use-preview\""
   ],
   "metadata": {
    "id": "cwbEMNCudaIq"
   },
   "execution_count": 2,
   "outputs": []
  },
  {
   "cell_type": "markdown",
   "source": [
    "## Habit Tracker App"
   ],
   "metadata": {
    "id": "XLhKw2a_6SfQ"
   }
  },
  {
   "cell_type": "code",
   "source": [
    "DB_NAME = \"habit_tracker.db\"\n",
    "\n",
    "\n",
    "class DayOfWeek(Enum):\n",
    "    MONDAY = auto()\n",
    "    TUESDAY = auto()\n",
    "    WEDNESDAY = auto()\n",
    "    THURSDAY = auto()\n",
    "    FRIDAY = auto()\n",
    "    SATURDAY = auto()\n",
    "    SUNDAY = auto()\n",
    "\n",
    "\n",
    "@dataclass\n",
    "class Habit:\n",
    "    id: int\n",
    "    name: str\n",
    "    repeat_frequency: Set[DayOfWeek]\n",
    "    tags: List[str]\n",
    "\n",
    "\n",
    "@dataclass\n",
    "class DailyHabitEntry:\n",
    "    id: int\n",
    "    name: str\n",
    "    tags: List[str]\n",
    "    is_completed: bool\n",
    "\n",
    "\n",
    "def get_connection():\n",
    "    return sqlite3.connect(DB_NAME)\n",
    "\n",
    "\n",
    "def create_tables():\n",
    "    with get_connection() as conn:\n",
    "        cursor = conn.cursor()\n",
    "        cursor.execute(\n",
    "            \"\"\"\n",
    "            CREATE TABLE IF NOT EXISTS habits (\n",
    "                id INTEGER PRIMARY KEY AUTOINCREMENT,\n",
    "                name TEXT NOT NULL,\n",
    "                repeat_frequency TEXT NOT NULL,\n",
    "                tags TEXT NOT NULL\n",
    "            )\n",
    "        \"\"\"\n",
    "        )\n",
    "        cursor.execute(\n",
    "            \"\"\"\n",
    "            CREATE TABLE IF NOT EXISTS completions (\n",
    "                habit_id INTEGER,\n",
    "                completion_date TEXT,\n",
    "                PRIMARY KEY (habit_id, completion_date),\n",
    "                FOREIGN KEY (habit_id) REFERENCES habits (id)\n",
    "            )\n",
    "        \"\"\"\n",
    "        )\n",
    "        conn.commit()\n",
    "\n",
    "\n",
    "def list_habits() -> List[Habit]:\n",
    "    with get_connection() as conn:\n",
    "        cursor = conn.cursor()\n",
    "        cursor.execute(\"SELECT * FROM habits\")\n",
    "        return [\n",
    "            Habit(\n",
    "                id,\n",
    "                name,\n",
    "                {DayOfWeek[day] for day in freq.split(\",\")},\n",
    "                tags.split(\",\"),\n",
    "            )\n",
    "            for id, name, freq, tags in cursor.fetchall()\n",
    "        ]\n",
    "\n",
    "\n",
    "def habits_for_date(date: date) -> List[DailyHabitEntry]:\n",
    "    weekday = DayOfWeek(date.weekday() + 1).name\n",
    "    with get_connection() as conn:\n",
    "        cursor = conn.cursor()\n",
    "        cursor.execute(\n",
    "            \"\"\"\n",
    "            SELECT h.id, h.name, h.tags, c.completion_date IS NOT NULL as completed\n",
    "            FROM habits h\n",
    "            LEFT JOIN completions c ON h.id = c.habit_id AND c.completion_date = ?\n",
    "            WHERE instr(h.repeat_frequency, ?) > 0\n",
    "        \"\"\",\n",
    "            (date.isoformat(), weekday),\n",
    "        )\n",
    "        return [\n",
    "            DailyHabitEntry(id, name, tags.split(\",\"), bool(completed))\n",
    "            for id, name, tags, completed in cursor.fetchall()\n",
    "        ]\n",
    "\n",
    "\n",
    "def complete_habit(habit_id: int, completion_date: date):\n",
    "    with get_connection() as conn:\n",
    "        cursor = conn.cursor()\n",
    "        cursor.execute(\n",
    "            \"\"\"\n",
    "            INSERT OR REPLACE INTO completions (habit_id, completion_date)\n",
    "            VALUES (?, ?)\n",
    "        \"\"\",\n",
    "            (habit_id, completion_date.isoformat()),\n",
    "        )\n",
    "        conn.commit()\n",
    "\n",
    "\n",
    "def add_habit(name: str, repeat_frequency: Set[DayOfWeek], tags: List[str] = []) -> int:\n",
    "    with get_connection() as conn:\n",
    "        cursor = conn.cursor()\n",
    "        cursor.execute(\n",
    "            \"\"\"\n",
    "            INSERT INTO habits (name, repeat_frequency, tags)\n",
    "            VALUES (?, ?, ?)\n",
    "        \"\"\",\n",
    "            (name, \",\".join(day.name for day in repeat_frequency), \",\".join(tags)),\n",
    "        )\n",
    "        conn.commit()\n",
    "        return cursor.lastrowid\n",
    "\n",
    "\n",
    "def show_habits_for_date(date: date):\n",
    "    print(f\"Habits for {date}:\")\n",
    "    for entry in habits_for_date(date):\n",
    "        status = \"Completed\" if entry.is_completed else \"Not completed\"\n",
    "        print(f\"- {entry.name} (ID: {entry.id}): {status}\")\n",
    "        print(f\"  Tags: {', '.join(entry.tags)}\")\n",
    "\n",
    "\n",
    "create_tables()"
   ],
   "metadata": {
    "id": "hkqeD0ZydihK"
   },
   "execution_count": 3,
   "outputs": []
  },
  {
   "cell_type": "code",
   "source": [
    "add_habit(\n",
    "    \"Hit the gym\",\n",
    "    {DayOfWeek.MONDAY, DayOfWeek.WEDNESDAY, DayOfWeek.FRIDAY},\n",
    "    [\"exercise\", \"fitness\"],\n",
    ")\n",
    "add_habit(\"Feed the llamas\", {DayOfWeek.SATURDAY, DayOfWeek.SUNDAY}, [\"diet\"])"
   ],
   "metadata": {
    "colab": {
     "base_uri": "https://localhost:8080/"
    },
    "id": "Z3COZ-4trkPr",
    "outputId": "5aa1d482-87f3-4b85-f7eb-72373329ca10"
   },
   "execution_count": 4,
   "outputs": [
    {
     "output_type": "execute_result",
     "data": {
      "text/plain": [
       "2"
      ]
     },
     "metadata": {},
     "execution_count": 4
    }
   ]
  },
  {
   "cell_type": "code",
   "source": [
    "list_habits()"
   ],
   "metadata": {
    "colab": {
     "base_uri": "https://localhost:8080/"
    },
    "id": "lJSLEMeCtQyL",
    "outputId": "0b96624a-723e-4df6-d8fd-89f0263797d5"
   },
   "execution_count": 5,
   "outputs": [
    {
     "output_type": "execute_result",
     "data": {
      "text/plain": [
       "[Habit(id=1, name='Hit the gym', repeat_frequency={<DayOfWeek.FRIDAY: 5>, <DayOfWeek.WEDNESDAY: 3>, <DayOfWeek.MONDAY: 1>}, tags=['exercise', 'fitness']),\n",
       " Habit(id=2, name='Feed the llamas', repeat_frequency={<DayOfWeek.SATURDAY: 6>, <DayOfWeek.SUNDAY: 7>}, tags=['diet'])]"
      ]
     },
     "metadata": {},
     "execution_count": 5
    }
   ]
  },
  {
   "cell_type": "markdown",
   "source": [
    "## Tools Definition"
   ],
   "metadata": {
    "id": "yno72frYl0HR"
   }
  },
  {
   "cell_type": "code",
   "source": [
    "TOOLS = [\n",
    "    {\n",
    "        \"type\": \"function\",\n",
    "        \"function\": {\n",
    "            \"name\": \"add_habit\",\n",
    "            \"description\": \"Add a new habit. Returns the id for the habit.\",\n",
    "            \"parameters\": {\n",
    "                \"type\": \"object\",\n",
    "                \"properties\": {\n",
    "                    \"name\": {\n",
    "                        \"type\": \"string\",\n",
    "                        \"description\": \"Name of the habit\",\n",
    "                    },\n",
    "                    \"repeat_frequency\": {\n",
    "                        \"type\": \"array\",\n",
    "                        \"description\": \"Days of week to repeat, e.g. ['MONDAY', 'WEDNESDAY', 'FRIDAY']\",\n",
    "                        \"items\": {\n",
    "                            \"type\": \"string\",\n",
    "                            \"enum\": [\n",
    "                                \"MONDAY\",\n",
    "                                \"TUESDAY\",\n",
    "                                \"WEDNESDAY\",\n",
    "                                \"THURSDAY\",\n",
    "                                \"FRIDAY\",\n",
    "                                \"SATURDAY\",\n",
    "                                \"SUNDAY\",\n",
    "                            ],\n",
    "                        },\n",
    "                    },\n",
    "                    \"tags\": {\n",
    "                        \"type\": \"array\",\n",
    "                        \"description\": \"List of tags, e.g. ['health', 'fitness']\",\n",
    "                    },\n",
    "                },\n",
    "                \"required\": [\"name\", \"repeat_frequency\"],\n",
    "            },\n",
    "        },\n",
    "    },\n",
    "    {\n",
    "        \"type\": \"function\",\n",
    "        \"function\": {\n",
    "            \"name\": \"list_habits\",\n",
    "            \"description\": \"Returns a list of all available habits\",\n",
    "        },\n",
    "    },\n",
    "    {\n",
    "        \"type\": \"function\",\n",
    "        \"function\": {\n",
    "            \"name\": \"habits_for_date\",\n",
    "            \"description\": \"Returns a list of habits scheduled for a date\",\n",
    "            \"parameters\": {\n",
    "                \"type\": \"object\",\n",
    "                \"properties\": {\n",
    "                    \"date\": {\n",
    "                        \"type\": \"str\",\n",
    "                        \"description\": \"Date for which to display scheduled habits in ISO format e.g. 2024-11-23\",\n",
    "                    }\n",
    "                },\n",
    "                \"required\": [\"date\"],\n",
    "            },\n",
    "        },\n",
    "    },\n",
    "    {\n",
    "        \"type\": \"function\",\n",
    "        \"function\": {\n",
    "            \"name\": \"complete_habit\",\n",
    "            \"description\": \"Completes a specific habit for a given date\",\n",
    "            \"parameters\": {\n",
    "                \"type\": \"object\",\n",
    "                \"properties\": {\n",
    "                    \"habit_id\": {\n",
    "                        \"type\": \"integer\",\n",
    "                        \"description\": \"Id of the habit, e.g. 1\",\n",
    "                    },\n",
    "                    \"completion_date\": {\n",
    "                        \"type\": \"str\",\n",
    "                        \"description\": \"Date for completion of the habit in ISO format e.g. 2024-11-23\",\n",
    "                    },\n",
    "                },\n",
    "                \"required\": [\"habit_id\", \"completion_date\"],\n",
    "            },\n",
    "        },\n",
    "    },\n",
    "]"
   ],
   "metadata": {
    "id": "xwQjsBVUl2Ow"
   },
   "execution_count": 6,
   "outputs": []
  },
  {
   "cell_type": "code",
   "source": [
    "AVAILABLE_FUNCTIONS = {\n",
    "    \"add_habit\": add_habit,\n",
    "    \"list_habits\": list_habits,\n",
    "    \"habits_for_date\": habits_for_date,\n",
    "    \"complete_habit\": complete_habit,\n",
    "}"
   ],
   "metadata": {
    "id": "_JxG1YwKpLaI"
   },
   "execution_count": 7,
   "outputs": []
  },
  {
   "cell_type": "markdown",
   "source": [
    "## Map Arguments"
   ],
   "metadata": {
    "id": "bzJ0y_1p41vI"
   }
  },
  {
   "cell_type": "code",
   "source": [
    "argument_mapping = {}\n",
    "argument_mapping[\"repeat_frequency\"] = lambda day_names: [\n",
    "    DayOfWeek[d] for d in day_names\n",
    "]\n",
    "argument_mapping[\"date\"] = lambda d: date.fromisoformat(d)\n",
    "argument_mapping[\"completion_date\"] = lambda d: date.fromisoformat(d)"
   ],
   "metadata": {
    "id": "-jy1rVCF43Zf"
   },
   "execution_count": 8,
   "outputs": []
  },
  {
   "cell_type": "markdown",
   "source": [
    "## Tool Prompting"
   ],
   "metadata": {
    "id": "EtByjMX445Pp"
   }
  },
  {
   "cell_type": "code",
   "source": [
    "user_prompt = \"Add a new habit for Reading a book every weekday #learning\"\n",
    "\n",
    "messages = [\n",
    "    {\n",
    "        \"role\": \"system\",\n",
    "        \"content\": \"You are a personal assistant that helps with habit tracking. Use the provided functions to manage the execution of daily habits for the user.\",\n",
    "    },\n",
    "    {\n",
    "        \"role\": \"user\",\n",
    "        \"content\": user_prompt,\n",
    "    },\n",
    "]\n",
    "\n",
    "response = client.chat.completions.create(\n",
    "    model=MODEL,\n",
    "    messages=messages,\n",
    "    tools=TOOLS,\n",
    "    tool_choice=\"auto\",\n",
    "    temperature=0,\n",
    "    max_tokens=4096,\n",
    ")"
   ],
   "metadata": {
    "id": "dvDKaUvOeBDq"
   },
   "execution_count": 9,
   "outputs": []
  },
  {
   "cell_type": "code",
   "source": [
    "response_message = response.choices[0].message\n",
    "messages.append(response_message)\n",
    "print(response_message)\n",
    "tool_calls = response_message.tool_calls\n",
    "tool_calls"
   ],
   "metadata": {
    "colab": {
     "base_uri": "https://localhost:8080/"
    },
    "id": "4axIFdKqUREI",
    "outputId": "a9375213-6c88-4a2c-88aa-84d773ad8f92"
   },
   "execution_count": 10,
   "outputs": [
    {
     "output_type": "stream",
     "name": "stdout",
     "text": [
      "ChatCompletionMessage(content=None, role='assistant', function_call=None, tool_calls=[ChatCompletionMessageToolCall(id='call_hhwm', function=Function(arguments='{\"name\": \"Reading a book\", \"repeat_frequency\": [\"MONDAY\", \"TUESDAY\", \"WEDNESDAY\", \"THURSDAY\", \"FRIDAY\"], \"tags\": [\"learning\"]}', name='add_habit'), type='function')])\n"
     ]
    },
    {
     "output_type": "execute_result",
     "data": {
      "text/plain": [
       "[ChatCompletionMessageToolCall(id='call_hhwm', function=Function(arguments='{\"name\": \"Reading a book\", \"repeat_frequency\": [\"MONDAY\", \"TUESDAY\", \"WEDNESDAY\", \"THURSDAY\", \"FRIDAY\"], \"tags\": [\"learning\"]}', name='add_habit'), type='function')]"
      ]
     },
     "metadata": {},
     "execution_count": 10
    }
   ]
  },
  {
   "cell_type": "code",
   "source": [
    "for tool_call in tool_calls:\n",
    "    function_name = tool_call.function.name\n",
    "    function_to_call = AVAILABLE_FUNCTIONS[function_name]\n",
    "    function_args = json.loads(tool_call.function.arguments)"
   ],
   "metadata": {
    "id": "kBXu9AryXoIw"
   },
   "execution_count": 11,
   "outputs": []
  },
  {
   "cell_type": "code",
   "source": [
    "function_args"
   ],
   "metadata": {
    "colab": {
     "base_uri": "https://localhost:8080/"
    },
    "id": "E-ESiTkWw7b5",
    "outputId": "49423f92-f324-462a-b4ad-2136fd14c40a"
   },
   "execution_count": 12,
   "outputs": [
    {
     "output_type": "execute_result",
     "data": {
      "text/plain": [
       "{'name': 'Reading a book',\n",
       " 'repeat_frequency': ['MONDAY', 'TUESDAY', 'WEDNESDAY', 'THURSDAY', 'FRIDAY'],\n",
       " 'tags': ['learning']}"
      ]
     },
     "metadata": {},
     "execution_count": 12
    }
   ]
  },
  {
   "cell_type": "code",
   "source": [
    "arguments_to_map = list(set(function_args.keys()) & set(argument_mapping.keys()))\n",
    "arguments_to_map"
   ],
   "metadata": {
    "colab": {
     "base_uri": "https://localhost:8080/"
    },
    "id": "wxmQgQMswgCP",
    "outputId": "475fc634-d9da-4660-fb14-b8fb0def9590"
   },
   "execution_count": 13,
   "outputs": [
    {
     "output_type": "execute_result",
     "data": {
      "text/plain": [
       "['repeat_frequency']"
      ]
     },
     "metadata": {},
     "execution_count": 13
    }
   ]
  },
  {
   "cell_type": "code",
   "source": [
    "for arg_name in arguments_to_map:\n",
    "    function_args[arg_name] = argument_mapping[arg_name](function_args[arg_name])"
   ],
   "metadata": {
    "id": "iLDp3P8ewyD8"
   },
   "execution_count": 14,
   "outputs": []
  },
  {
   "cell_type": "code",
   "source": [
    "print(function_args)"
   ],
   "metadata": {
    "colab": {
     "base_uri": "https://localhost:8080/"
    },
    "id": "IgVyMxxAha6A",
    "outputId": "c1a58bce-804b-4b0b-e5cb-8e1dc96d4489"
   },
   "execution_count": 15,
   "outputs": [
    {
     "output_type": "stream",
     "name": "stdout",
     "text": [
      "{'name': 'Reading a book', 'repeat_frequency': [<DayOfWeek.MONDAY: 1>, <DayOfWeek.TUESDAY: 2>, <DayOfWeek.WEDNESDAY: 3>, <DayOfWeek.THURSDAY: 4>, <DayOfWeek.FRIDAY: 5>], 'tags': ['learning']}\n"
     ]
    }
   ]
  },
  {
   "cell_type": "code",
   "source": [
    "function_response = function_to_call(**function_args)\n",
    "messages.append(\n",
    "    {\n",
    "        \"tool_call_id\": tool_call.id,\n",
    "        \"role\": \"tool\",\n",
    "        \"name\": function_name,\n",
    "        \"content\": str(function_response),\n",
    "    }\n",
    ")\n",
    "tool_response = client.chat.completions.create(\n",
    "    model=MODEL, messages=messages, temperature=0\n",
    ")"
   ],
   "metadata": {
    "id": "ouFj_LvnjzMJ"
   },
   "execution_count": 16,
   "outputs": []
  },
  {
   "cell_type": "code",
   "source": [
    "tool_message = tool_response.choices[0].message\n",
    "messages.append(tool_message)\n",
    "print(tool_message.content)"
   ],
   "metadata": {
    "colab": {
     "base_uri": "https://localhost:8080/"
    },
    "id": "9k1_fj2eOlmt",
    "outputId": "cccf476b-2fdf-41ef-b534-a915b3f3ca68"
   },
   "execution_count": 17,
   "outputs": [
    {
     "output_type": "stream",
     "name": "stdout",
     "text": [
      "Your new habit \"Reading a book\" has been added successfully. It will repeat on weekdays and is tagged with #learning.\n"
     ]
    }
   ]
  },
  {
   "cell_type": "code",
   "source": [
    "list_habits()"
   ],
   "metadata": {
    "colab": {
     "base_uri": "https://localhost:8080/"
    },
    "id": "1o4INXvyE1VD",
    "outputId": "3b81b7b5-9f04-4819-eeb1-17f98c4a70a1"
   },
   "execution_count": 18,
   "outputs": [
    {
     "output_type": "execute_result",
     "data": {
      "text/plain": [
       "[Habit(id=1, name='Hit the gym', repeat_frequency={<DayOfWeek.FRIDAY: 5>, <DayOfWeek.WEDNESDAY: 3>, <DayOfWeek.MONDAY: 1>}, tags=['exercise', 'fitness']),\n",
       " Habit(id=2, name='Feed the llamas', repeat_frequency={<DayOfWeek.SATURDAY: 6>, <DayOfWeek.SUNDAY: 7>}, tags=['diet']),\n",
       " Habit(id=3, name='Reading a book', repeat_frequency={<DayOfWeek.THURSDAY: 4>, <DayOfWeek.FRIDAY: 5>, <DayOfWeek.MONDAY: 1>, <DayOfWeek.WEDNESDAY: 3>, <DayOfWeek.TUESDAY: 2>}, tags=['learning'])]"
      ]
     },
     "metadata": {},
     "execution_count": 18
    }
   ]
  },
  {
   "cell_type": "markdown",
   "source": [
    "## Sequence of Function Calls"
   ],
   "metadata": {
    "id": "iVpz7hrO5Dq7"
   }
  },
  {
   "cell_type": "code",
   "source": [
    "def map_arguments(function_args: dict, argument_mapping: dict = argument_mapping):\n",
    "    arguments_to_map = list(set(function_args.keys()) & set(argument_mapping.keys()))\n",
    "    for arg_name in arguments_to_map:\n",
    "        function_args[arg_name] = argument_mapping[arg_name](function_args[arg_name])\n",
    "    return function_args"
   ],
   "metadata": {
    "id": "nbg2DZlAxKPr"
   },
   "execution_count": 19,
   "outputs": []
  },
  {
   "cell_type": "code",
   "source": [
    "def call_function(prompt, messages: List) -> List:\n",
    "    messages.append(\n",
    "        {\n",
    "            \"role\": \"user\",\n",
    "            \"content\": user_prompt,\n",
    "        }\n",
    "    )\n",
    "\n",
    "    response = client.chat.completions.create(\n",
    "        model=MODEL,\n",
    "        messages=messages,\n",
    "        tools=TOOLS,\n",
    "        tool_choice=\"auto\",\n",
    "        temperature=0,\n",
    "        max_tokens=4096,\n",
    "    )\n",
    "\n",
    "    response_message = response.choices[0].message\n",
    "    tool_calls = response_message.tool_calls\n",
    "\n",
    "    messages.append(response_message)\n",
    "\n",
    "    for tool_call in tool_calls:\n",
    "        function_name = tool_call.function.name\n",
    "        function_to_call = AVAILABLE_FUNCTIONS[function_name]\n",
    "        function_args = json.loads(tool_call.function.arguments)\n",
    "        function_args = map_arguments(function_args, argument_mapping)\n",
    "\n",
    "        function_response = function_to_call(**function_args)\n",
    "        messages.append(\n",
    "            {\n",
    "                \"tool_call_id\": tool_call.id,\n",
    "                \"role\": \"tool\",\n",
    "                \"name\": function_name,\n",
    "                \"content\": str(function_response),\n",
    "            }\n",
    "        )\n",
    "        tool_response = client.chat.completions.create(\n",
    "            model=MODEL, messages=messages, temperature=0\n",
    "        )\n",
    "        tool_message = tool_response.choices[0].message\n",
    "        messages.append(tool_message)\n",
    "    return messages"
   ],
   "metadata": {
    "id": "WE3t1b0Q0Ary"
   },
   "execution_count": 20,
   "outputs": []
  },
  {
   "cell_type": "code",
   "source": [
    "today = date(2024, 7, 26)\n",
    "today.isoformat(), DayOfWeek(today.weekday() + 1).name"
   ],
   "metadata": {
    "colab": {
     "base_uri": "https://localhost:8080/"
    },
    "id": "IYWw2Gr94okC",
    "outputId": "b5aaa1a6-56d9-414a-fe40-5bb8335731a5"
   },
   "execution_count": 21,
   "outputs": [
    {
     "output_type": "execute_result",
     "data": {
      "text/plain": [
       "('2024-07-26', 'FRIDAY')"
      ]
     },
     "metadata": {},
     "execution_count": 21
    }
   ]
  },
  {
   "cell_type": "code",
   "source": [
    "show_habits_for_date(today)"
   ],
   "metadata": {
    "colab": {
     "base_uri": "https://localhost:8080/"
    },
    "id": "KjBZDi6W4jK6",
    "outputId": "d11ea7bd-ae8b-4df4-b758-d8723030a381"
   },
   "execution_count": 22,
   "outputs": [
    {
     "output_type": "stream",
     "name": "stdout",
     "text": [
      "Habits for 2024-07-26:\n",
      "- Hit the gym (ID: 1): Not completed\n",
      "  Tags: exercise, fitness\n",
      "- Reading a book (ID: 3): Not completed\n",
      "  Tags: learning\n"
     ]
    }
   ]
  },
  {
   "cell_type": "code",
   "source": [
    "user_prompt = f\"Show all habits for today - {today.isoformat()}\"\n",
    "print(user_prompt)"
   ],
   "metadata": {
    "colab": {
     "base_uri": "https://localhost:8080/"
    },
    "id": "GsdSGYz52XPe",
    "outputId": "9587d6b2-9543-453b-e54d-333a738dd8e2"
   },
   "execution_count": 23,
   "outputs": [
    {
     "output_type": "stream",
     "name": "stdout",
     "text": [
      "Show all habits for today - 2024-07-26\n"
     ]
    }
   ]
  },
  {
   "cell_type": "code",
   "source": [
    "messages = call_function(user_prompt, messages)\n",
    "print(messages[-1].content)"
   ],
   "metadata": {
    "colab": {
     "base_uri": "https://localhost:8080/"
    },
    "id": "38hFHnCj2lWw",
    "outputId": "c5aac5b3-06d4-42a1-e0e0-736cc6f0af5f"
   },
   "execution_count": 24,
   "outputs": [
    {
     "output_type": "stream",
     "name": "stdout",
     "text": [
      "You have the following habits for today:\n",
      "1. Hit the gym (Tags: exercise, fitness)\n",
      "2. Reading a book (Tags: learning)\n"
     ]
    }
   ]
  },
  {
   "cell_type": "code",
   "source": [
    "user_prompt = f\"Complete the gym habit for {today.isoformat()}\"\n",
    "user_prompt"
   ],
   "metadata": {
    "colab": {
     "base_uri": "https://localhost:8080/",
     "height": 35
    },
    "id": "GILCt29Q4Xh4",
    "outputId": "3f243f1b-bea1-4152-8ba1-95f9430c7e0c"
   },
   "execution_count": 25,
   "outputs": [
    {
     "output_type": "execute_result",
     "data": {
      "text/plain": [
       "'Complete the gym habit for 2024-07-26'"
      ],
      "application/vnd.google.colaboratory.intrinsic+json": {
       "type": "string"
      }
     },
     "metadata": {},
     "execution_count": 25
    }
   ]
  },
  {
   "cell_type": "code",
   "source": [
    "messages = call_function(user_prompt, messages)\n",
    "print(messages[-1].content)"
   ],
   "metadata": {
    "colab": {
     "base_uri": "https://localhost:8080/"
    },
    "id": "fEh2BpfK4ZIq",
    "outputId": "130554a3-a057-469f-999e-5d03f7b79921"
   },
   "execution_count": 26,
   "outputs": [
    {
     "output_type": "stream",
     "name": "stdout",
     "text": [
      "The \"Hit the gym\" habit for today has been marked as completed.\n"
     ]
    }
   ]
  },
  {
   "cell_type": "code",
   "source": [
    "show_habits_for_date(today)"
   ],
   "metadata": {
    "colab": {
     "base_uri": "https://localhost:8080/"
    },
    "id": "c2xwsuWg4dvD",
    "outputId": "792e5ca5-29cc-4e9c-c348-faf0752935f3"
   },
   "execution_count": 27,
   "outputs": [
    {
     "output_type": "stream",
     "name": "stdout",
     "text": [
      "Habits for 2024-07-26:\n",
      "- Hit the gym (ID: 1): Completed\n",
      "  Tags: exercise, fitness\n",
      "- Reading a book (ID: 3): Not completed\n",
      "  Tags: learning\n"
     ]
    }
   ]
  }
 ]
}