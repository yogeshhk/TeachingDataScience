{
 "cells": [
  {
   "cell_type": "code",
   "execution_count": 1,
   "metadata": {},
   "outputs": [],
   "source": [
    "import tensorflow as tf\n",
    "import numpy as np"
   ]
  },
  {
   "cell_type": "code",
   "execution_count": 2,
   "metadata": {},
   "outputs": [],
   "source": [
    "sess = tf.Session()\n",
    "\n",
    "X = tf.placeholder(tf.float32, shape=(100, 3))\n",
    "y = tf.placeholder(tf.float32, shape=(100))\n",
    "beta = tf.placeholder(tf.float32, shape=(3))\n",
    "\n",
    "p = tf.math.sigmoid(tf.tensordot(X, beta, 1))\n",
    "Loss = -tf.math.reduce_sum(y * tf.math.log(p) + ((1. - y) * tf.math.log(1.-p)))\n",
    "\n",
    "dL = tf.gradients(Loss, beta)\n",
    "ddL = tf.hessians(Loss, beta)"
   ]
  },
  {
   "cell_type": "code",
   "execution_count": 3,
   "metadata": {},
   "outputs": [
    {
     "name": "stdout",
     "output_type": "stream",
     "text": [
      "[76.24833, [array([6.2969956, 4.3671055, 7.9656787], dtype=float32)], [array([[ 6.8819547 , -0.6813376 ,  0.24003941],\n",
      "       [-0.6813375 ,  8.138748  , -1.2754711 ],\n",
      "       [ 0.24003929, -1.2754712 ,  6.69101   ]], dtype=float32)]]\n"
     ]
    }
   ],
   "source": [
    "rand_X = np.random.uniform(-1, 1, (100,3))\n",
    "rand_y = np.random.randint(0, 2, 100)\n",
    "rand_beta = np.random.uniform(-1, 1, 3)\n",
    "\n",
    "print(sess.run([Loss, dL, ddL], feed_dict={beta: rand_beta, X: rand_X, y: rand_y}))\n",
    "writer = tf.summary.FileWriter('logs', sess.graph)\n",
    "writer.close()"
   ]
  },
  {
   "cell_type": "code",
   "execution_count": 5,
   "metadata": {},
   "outputs": [
    {
     "name": "stdout",
     "output_type": "stream",
     "text": [
      "(76.24833144910629, array([6.29699466, 4.3671052 , 7.96567866]), array([[ 6.88195587, -0.68133753,  0.24003933],\n",
      "       [-0.68133753,  8.1387481 , -1.27547129],\n",
      "       [ 0.24003933, -1.27547129,  6.6910112 ]]))\n"
     ]
    }
   ],
   "source": [
    "def numpy_equations(X, beta, y):\n",
    "    p = 1. / (1. + np.exp(-np.dot(X, beta)))\n",
    "    L = -np.sum(y * np.log(p) + ((1. - y) * np.log(1.-p)))\n",
    "    dL = np.dot(X.T, p - y)\n",
    "    W = np.identity(X.shape[0]) * p * (1. - p)\n",
    "    ddL = np.dot(X.T, np.dot(W, X))\n",
    "    return L, dL, ddL\n",
    "\n",
    "print(numpy_equations(rand_X, rand_beta, rand_y))"
   ]
  }
 ],
 "metadata": {
  "kernelspec": {
   "display_name": "Python 3",
   "language": "python",
   "name": "python3"
  },
  "language_info": {
   "codemirror_mode": {
    "name": "ipython",
    "version": 3
   },
   "file_extension": ".py",
   "mimetype": "text/x-python",
   "name": "python",
   "nbconvert_exporter": "python",
   "pygments_lexer": "ipython3",
   "version": "3.6.8"
  }
 },
 "nbformat": 4,
 "nbformat_minor": 2
}
